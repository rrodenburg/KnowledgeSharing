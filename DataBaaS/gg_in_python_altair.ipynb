{
 "cells": [
  {
   "cell_type": "markdown",
   "id": "5f85da1f-af39-48eb-9e16-cd15e7ca7a51",
   "metadata": {
    "tags": []
   },
   "source": [
    "# Grammar of graphics in python: datavisualizatie met Altair\n",
    "\n",
    "- Python heeft veel visualizatie mogelijkheden\n",
    "- Voor data exploratie belangijk dat het snel mogelijk is om data te visualizeren en het liefst interactief.\n",
    "- Veel packages geprobeerd met wisselende resulaten (onder andere Bokeh, Plotly, Matplotlib en Seaborn). \n",
    "- Blog is geen uitgebreidde vergelijking van alle mogelijke plot libraries in python.\n",
    "- Persoonlijke favoriet is Altair.\n",
    "- Blog uitleggen waarom Altair ik heb meest efficient plots kan maken in Altair.\n",
    "\n",
    "# Grammar-of-graphics\n",
    "- Het heeft een tijd geduurd voordat ik erachter kwam waarom ik Altair zou verkiezen boven de andere plot libraries die ik in getest hebt. Natuurlijk zijn de opmaak van de grafieken, en het gemak om interactieve grafieken hier belangrijk in. Maar het is voornamelijk de API waarmee de code geschreven wordt die het maken van plots intuitief maakt. \n",
    "- Grammar of Graphics. \n",
    "- Manier van visualizaties definieren en opbouwen (raad eens waar  GG van het bekenste plot package van R ggplot voor staat).\n",
    "- Python nog ander grammer of graphics package, namelijk plotnine. Hier heb ik geen ervaring mee.\n",
    "- Blog opbouwen intuitie van grammar of graphics en waarom persoonlijk efficienter ten opzichte van matplotlib en seaborn.\n",
    "\n",
    "# Vergelijking API van matplotlib, seaborn en altair.\n",
    "- Matplotlib low level, maar alles is mogelijk. Bevat ook highlevel functies. Door veel verschillende mogelijkheden moet ik altijd de syntax googlen.\n",
    "- Seaborn high level, vaak hacks nodig. Goede integratie met pandas dataframes.\n",
    "- Seaborn ook werkt aan grammar-of-graphics.\n",
    "- Ik ben geen expert in deze packages, dus zou kunnen dat voorbeelden simpeler kunnen.\n",
    "\n",
    "\n",
    "Blog gedeeltelijk gebaseerd op youtube vide van Jake VanderPlas.\n",
    "https://www.youtube.com/watch?v=FytuB8nFHPQ\n",
    "\n",
    "## Package backends\n",
    "\n",
    "- Matplotlib backend\n",
    "    \n",
    "- Javascript backend\n",
    "    Interactief, werkt goed in combinatie met jupyter, vereist javascript.\n",
    "    \n",
    "## High level, low level.\n",
    "    \n"
   ]
  },
  {
   "cell_type": "markdown",
   "id": "7b8f5fde-7f56-41dc-b1b3-7f5fb71f1ca1",
   "metadata": {},
   "source": [
    "## Tidy dataset"
   ]
  },
  {
   "cell_type": "code",
   "execution_count": 1,
   "id": "60b8ffd7-883a-4347-a85d-ae6aa416ac0e",
   "metadata": {},
   "outputs": [
    {
     "data": {
      "text/html": [
       "<div>\n",
       "<style scoped>\n",
       "    .dataframe tbody tr th:only-of-type {\n",
       "        vertical-align: middle;\n",
       "    }\n",
       "\n",
       "    .dataframe tbody tr th {\n",
       "        vertical-align: top;\n",
       "    }\n",
       "\n",
       "    .dataframe thead th {\n",
       "        text-align: right;\n",
       "    }\n",
       "</style>\n",
       "<table border=\"1\" class=\"dataframe\">\n",
       "  <thead>\n",
       "    <tr style=\"text-align: right;\">\n",
       "      <th></th>\n",
       "      <th>sepalLength</th>\n",
       "      <th>sepalWidth</th>\n",
       "      <th>petalLength</th>\n",
       "      <th>petalWidth</th>\n",
       "      <th>species</th>\n",
       "    </tr>\n",
       "  </thead>\n",
       "  <tbody>\n",
       "    <tr>\n",
       "      <th>0</th>\n",
       "      <td>5.1</td>\n",
       "      <td>3.5</td>\n",
       "      <td>1.4</td>\n",
       "      <td>0.2</td>\n",
       "      <td>setosa</td>\n",
       "    </tr>\n",
       "    <tr>\n",
       "      <th>1</th>\n",
       "      <td>4.9</td>\n",
       "      <td>3.0</td>\n",
       "      <td>1.4</td>\n",
       "      <td>0.2</td>\n",
       "      <td>setosa</td>\n",
       "    </tr>\n",
       "    <tr>\n",
       "      <th>2</th>\n",
       "      <td>4.7</td>\n",
       "      <td>3.2</td>\n",
       "      <td>1.3</td>\n",
       "      <td>0.2</td>\n",
       "      <td>setosa</td>\n",
       "    </tr>\n",
       "    <tr>\n",
       "      <th>3</th>\n",
       "      <td>4.6</td>\n",
       "      <td>3.1</td>\n",
       "      <td>1.5</td>\n",
       "      <td>0.2</td>\n",
       "      <td>setosa</td>\n",
       "    </tr>\n",
       "    <tr>\n",
       "      <th>4</th>\n",
       "      <td>5.0</td>\n",
       "      <td>3.6</td>\n",
       "      <td>1.4</td>\n",
       "      <td>0.2</td>\n",
       "      <td>setosa</td>\n",
       "    </tr>\n",
       "  </tbody>\n",
       "</table>\n",
       "</div>"
      ],
      "text/plain": [
       "   sepalLength  sepalWidth  petalLength  petalWidth species\n",
       "0          5.1         3.5          1.4         0.2  setosa\n",
       "1          4.9         3.0          1.4         0.2  setosa\n",
       "2          4.7         3.2          1.3         0.2  setosa\n",
       "3          4.6         3.1          1.5         0.2  setosa\n",
       "4          5.0         3.6          1.4         0.2  setosa"
      ]
     },
     "execution_count": 1,
     "metadata": {},
     "output_type": "execute_result"
    }
   ],
   "source": [
    "import altair as alt\n",
    "from vega_datasets import data\n",
    "\n",
    "alt.renderers.enable(\"mimetype\");\n",
    "\n",
    "df = data.iris()\n",
    "df.head(5)"
   ]
  },
  {
   "cell_type": "markdown",
   "id": "0abf3e6c-6692-4553-b2ba-51ee2fc8379d",
   "metadata": {},
   "source": [
    "## Matplotlib\n",
    "\n",
    "Ter illustaratie kies ik een voorbeeld waar de grammar-of-graphics goed tot uiting komt, namelijk een kolom met 3 scatterplots van de 3 verschillende species in de iris dataset. Daarnaast wil ik de as limieten handmatig configureren.\n",
    "\n",
    "Zoals het code voorbeeld laat zien is het in matplotlib bewerkelijk om het figuur op te bouwen. Er moet namelijk:\n",
    "1) Een leeg canvas gecreerd worden met de 3 subplots\n",
    "2) Ieder subplot moet individueel gevuld met de juiste data en opgemaakt worden met aslimiten, aslabels en subplottitels."
   ]
  },
  {
   "cell_type": "code",
   "execution_count": 2,
   "id": "a2e85686-e0d0-49ae-a522-0a7303365e8c",
   "metadata": {},
   "outputs": [
    {
     "data": {
      "image/png": "[encoded data removed]",
      "text/plain": [
       "<Figure size 1800x432 with 3 Axes>"
      ]
     },
     "metadata": {
      "needs_background": "light"
     },
     "output_type": "display_data"
    }
   ],
   "source": [
    "import matplotlib.pyplot as plt\n",
    "\n",
    "species = df[\"species\"].unique()\n",
    "\n",
    "fig, axs = plt.subplots(nrows=1, ncols=3, figsize=(25, 6), sharex=True, sharey=True)\n",
    "for idx, specie in enumerate(species):\n",
    "    # Aanmaken van de scatterplot\n",
    "    _df = df.query(\"species==@specie\")\n",
    "    axs[idx].scatter(x=_df[\"sepalLength\"], y=_df[\"sepalWidth\"])\n",
    "    \n",
    "    # Laten we direct het figuur op maken als we toch loopen\n",
    "    axs[idx].set_ylim(0,4.5)\n",
    "    axs[idx].set_xlim(0,8)\n",
    "    \n",
    "    axs[idx].set_title(specie)\n",
    "    axs[idx].set_xlabel(\"sepalLength\")\n",
    "    axs[idx].set_ylabel(\"sepalLength\")"
   ]
  },
  {
   "cell_type": "markdown",
   "id": "2c4f4331-022c-404c-93b4-2c50b4f07bd0",
   "metadata": {},
   "source": [
    "## Seaborn\n",
    "\n",
    "De API van seaborn bevat verschillende high-level functies voor voornamelijk statische weergaves van data. Bijvoorbeeld `sns.scatterplot` en `sns.boxplot`. Hierdoor is het met seaborn heel makkelijk om snel standaard statistische grafieken te maken. Doordat seaborn goede Pandas integratie heeft, zijn de figuren en assen automatisch gelabeld.\n",
    "\n",
    "Echter, doordat Seaborn een high level interface heeft, schiet het in mijn ervaring snel tekort. Om het figuur met facet van het voorbeel te plotten voldoet `sns.scatterplot` niet meer. Er wordt aangeraden om `sns.relplot` te gebruiken. Deze functie gebruikt `sns.FacetGrid` om het facet te bouwen. Ik moet kwargs voor `sns.FacetGrid` meegeven om as-limieten in te stellen. In mijn ervaring is het ook vaak nodig om het onderliggende matplotlib object aan te passen, zodat de layout wordt zoals ik wil."
   ]
  },
  {
   "cell_type": "code",
   "execution_count": 3,
   "id": "f82726a6-68d8-4f16-a664-cc235784bc0b",
   "metadata": {},
   "outputs": [
    {
     "data": {
      "image/png": "[encoded data removed]",
      "text/plain": [
       "<Figure size 1080x360 with 3 Axes>"
      ]
     },
     "metadata": {
      "needs_background": "light"
     },
     "output_type": "display_data"
    }
   ],
   "source": [
    "import seaborn as sns\n",
    "\n",
    "# Let op: ik kan geen sns.scatterplot gebruiken om facet van 3 kolommen te genereren.\n",
    "# Daarnaast moeten xlim en ylim meegegeven als kwargs sns.Facetplot die gebruikt wordt de facet te creeren.\n",
    "facet_kws = {\n",
    "    \"sharey\":True, \n",
    "    \"xlim\":(0,8), \n",
    "    \"ylim\":(0,4.5)\n",
    "}\n",
    "sns.relplot(\n",
    "    data=df, \n",
    "    x=df[\"sepalLength\"], \n",
    "    y=df[\"sepalWidth\"], \n",
    "    kind=\"scatter\", \n",
    "    col=\"species\", \n",
    "    facet_kws=facet_kws);"
   ]
  },
  {
   "cell_type": "markdown",
   "id": "e0134769-d670-4c30-bf08-a4566365bbda",
   "metadata": {},
   "source": [
    "## Altair\n",
    "\n",
    "In altair wordt een figuur op een logische manier opgebouwd door het chainen van Altair objecten. Hier zie je dat we \n",
    "1) Een Chart object initializeren met de data.\n",
    "2) We specificeren de data voor de assen, en direct ook dat de `species` kolom gebruikt wordt om het figuur in 3 subplots op te delen\n",
    "3) Vervolgens specificeren we dat we de data als `points` willen visualizeren, via `mark_point()`."
   ]
  },
  {
   "cell_type": "code",
   "execution_count": 4,
   "id": "890d3d45-487e-4ce1-a13c-50a6568f3260",
   "metadata": {},
   "outputs": [
    {
     "data": {
      "application/vnd.vegalite.v4+json": {
       "$schema": "https://vega.github.io/schema/vega-lite/v4.17.0.json",
       "config": {
        "view": {
         "continuousHeight": 300,
         "continuousWidth": 400
        }
       },
       "data": {
        "name": "data-a264acbd6e539a8b3afc0cb5f240fb57"
       },
       "datasets": {
        "data-a264acbd6e539a8b3afc0cb5f240fb57": [
         {
          "petalLength": 1.4,
          "petalWidth": 0.2,
          "sepalLength": 5.1,
          "sepalWidth": 3.5,
          "species": "setosa"
         },
         {
          "petalLength": 1.4,
          "petalWidth": 0.2,
          "sepalLength": 4.9,
          "sepalWidth": 3,
          "species": "setosa"
         },
         {
          "petalLength": 1.3,
          "petalWidth": 0.2,
          "sepalLength": 4.7,
          "sepalWidth": 3.2,
          "species": "setosa"
         },
         {
          "petalLength": 1.5,
          "petalWidth": 0.2,
          "sepalLength": 4.6,
          "sepalWidth": 3.1,
          "species": "setosa"
         },
         {
          "petalLength": 1.4,
          "petalWidth": 0.2,
          "sepalLength": 5,
          "sepalWidth": 3.6,
          "species": "setosa"
         },
         {
          "petalLength": 1.7000000000000002,
          "petalWidth": 0.4,
          "sepalLength": 5.4,
          "sepalWidth": 3.9,
          "species": "setosa"
         },
         {
          "petalLength": 1.4,
          "petalWidth": 0.30000000000000004,
          "sepalLength": 4.6,
          "sepalWidth": 3.4,
          "species": "setosa"
         },
         {
          "petalLength": 1.5,
          "petalWidth": 0.2,
          "sepalLength": 5,
          "sepalWidth": 3.4,
          "species": "setosa"
         },
         {
          "petalLength": 1.4,
          "petalWidth": 0.2,
          "sepalLength": 4.4,
          "sepalWidth": 2.9,
          "species": "setosa"
         },
         {
          "petalLength": 1.5,
          "petalWidth": 0.1,
          "sepalLength": 4.9,
          "sepalWidth": 3.1,
          "species": "setosa"
         },
         {
          "petalLength": 1.5,
          "petalWidth": 0.2,
          "sepalLength": 5.4,
          "sepalWidth": 3.7,
          "species": "setosa"
         },
         {
          "petalLength": 1.6,
          "petalWidth": 0.2,
          "sepalLength": 4.8,
          "sepalWidth": 3.4,
          "species": "setosa"
         },
         {
          "petalLength": 1.4,
          "petalWidth": 0.1,
          "sepalLength": 4.8,
          "sepalWidth": 3,
          "species": "setosa"
         },
         {
          "petalLength": 1.1,
          "petalWidth": 0.1,
          "sepalLength": 4.3,
          "sepalWidth": 3,
          "species": "setosa"
         },
         {
          "petalLength": 1.2,
          "petalWidth": 0.2,
          "sepalLength": 5.8,
          "sepalWidth": 4,
          "species": "setosa"
         },
         {
          "petalLength": 1.5,
          "petalWidth": 0.4,
          "sepalLength": 5.7,
          "sepalWidth": 4.4,
          "species": "setosa"
         },
         {
          "petalLength": 1.3,
          "petalWidth": 0.4,
          "sepalLength": 5.4,
          "sepalWidth": 3.9,
          "species": "setosa"
         },
         {
          "petalLength": 1.4,
          "petalWidth": 0.30000000000000004,
          "sepalLength": 5.1,
          "sepalWidth": 3.5,
          "species": "setosa"
         },
         {
          "petalLength": 1.7000000000000002,
          "petalWidth": 0.30000000000000004,
          "sepalLength": 5.7,
          "sepalWidth": 3.8,
          "species": "setosa"
         },
         {
          "petalLength": 1.5,
          "petalWidth": 0.30000000000000004,
          "sepalLength": 5.1,
          "sepalWidth": 3.8,
          "species": "setosa"
         },
         {
          "petalLength": 1.7000000000000002,
          "petalWidth": 0.2,
          "sepalLength": 5.4,
          "sepalWidth": 3.4,
          "species": "setosa"
         },
         {
          "petalLength": 1.5,
          "petalWidth": 0.4,
          "sepalLength": 5.1,
          "sepalWidth": 3.7,
          "species": "setosa"
         },
         {
          "petalLength": 1,
          "petalWidth": 0.2,
          "sepalLength": 4.6,
          "sepalWidth": 3.6,
          "species": "setosa"
         },
         {
          "petalLength": 1.7000000000000002,
          "petalWidth": 0.5,
          "sepalLength": 5.1,
          "sepalWidth": 3.3,
          "species": "setosa"
         },
         {
          "petalLength": 1.9,
          "petalWidth": 0.2,
          "sepalLength": 4.8,
          "sepalWidth": 3.4,
          "species": "setosa"
         },
         {
          "petalLength": 1.6,
          "petalWidth": 0.2,
          "sepalLength": 5,
          "sepalWidth": 3,
          "species": "setosa"
         },
         {
          "petalLength": 1.6,
          "petalWidth": 0.4,
          "sepalLength": 5,
          "sepalWidth": 3.4,
          "species": "setosa"
         },
         {
          "petalLength": 1.5,
          "petalWidth": 0.2,
          "sepalLength": 5.2,
          "sepalWidth": 3.5,
          "species": "setosa"
         },
         {
          "petalLength": 1.4,
          "petalWidth": 0.2,
          "sepalLength": 5.2,
          "sepalWidth": 3.4,
          "species": "setosa"
         },
         {
          "petalLength": 1.6,
          "petalWidth": 0.2,
          "sepalLength": 4.7,
          "sepalWidth": 3.2,
          "species": "setosa"
         },
         {
          "petalLength": 1.6,
          "petalWidth": 0.2,
          "sepalLength": 4.8,
          "sepalWidth": 3.1,
          "species": "setosa"
         },
         {
          "petalLength": 1.5,
          "petalWidth": 0.4,
          "sepalLength": 5.4,
          "sepalWidth": 3.4,
          "species": "setosa"
         },
         {
          "petalLength": 1.5,
          "petalWidth": 0.1,
          "sepalLength": 5.2,
          "sepalWidth": 4.1,
          "species": "setosa"
         },
         {
          "petalLength": 1.4,
          "petalWidth": 0.2,
          "sepalLength": 5.5,
          "sepalWidth": 4.2,
          "species": "setosa"
         },
         {
          "petalLength": 1.5,
          "petalWidth": 0.2,
          "sepalLength": 4.9,
          "sepalWidth": 3.1,
          "species": "setosa"
         },
         {
          "petalLength": 1.2,
          "petalWidth": 0.2,
          "sepalLength": 5,
          "sepalWidth": 3.2,
          "species": "setosa"
         },
         {
          "petalLength": 1.3,
          "petalWidth": 0.2,
          "sepalLength": 5.5,
          "sepalWidth": 3.5,
          "species": "setosa"
         },
         {
          "petalLength": 1.4,
          "petalWidth": 0.1,
          "sepalLength": 4.9,
          "sepalWidth": 3.6,
          "species": "setosa"
         },
         {
          "petalLength": 1.3,
          "petalWidth": 0.2,
          "sepalLength": 4.4,
          "sepalWidth": 3,
          "species": "setosa"
         },
         {
          "petalLength": 1.5,
          "petalWidth": 0.2,
          "sepalLength": 5.1,
          "sepalWidth": 3.4,
          "species": "setosa"
         },
         {
          "petalLength": 1.3,
          "petalWidth": 0.30000000000000004,
          "sepalLength": 5,
          "sepalWidth": 3.5,
          "species": "setosa"
         },
         {
          "petalLength": 1.3,
          "petalWidth": 0.30000000000000004,
          "sepalLength": 4.5,
          "sepalWidth": 2.3,
          "species": "setosa"
         },
         {
          "petalLength": 1.3,
          "petalWidth": 0.2,
          "sepalLength": 4.4,
          "sepalWidth": 3.2,
          "species": "setosa"
         },
         {
          "petalLength": 1.6,
          "petalWidth": 0.6000000000000001,
          "sepalLength": 5,
          "sepalWidth": 3.5,
          "species": "setosa"
         },
         {
          "petalLength": 1.9,
          "petalWidth": 0.4,
          "sepalLength": 5.1,
          "sepalWidth": 3.8,
          "species": "setosa"
         },
         {
          "petalLength": 1.4,
          "petalWidth": 0.30000000000000004,
          "sepalLength": 4.8,
          "sepalWidth": 3,
          "species": "setosa"
         },
         {
          "petalLength": 1.6,
          "petalWidth": 0.2,
          "sepalLength": 5.1,
          "sepalWidth": 3.8,
          "species": "setosa"
         },
         {
          "petalLength": 1.4,
          "petalWidth": 0.2,
          "sepalLength": 4.6,
          "sepalWidth": 3.2,
          "species": "setosa"
         },
         {
          "petalLength": 1.5,
          "petalWidth": 0.2,
          "sepalLength": 5.3,
          "sepalWidth": 3.7,
          "species": "setosa"
         },
         {
          "petalLength": 1.4,
          "petalWidth": 0.2,
          "sepalLength": 5,
          "sepalWidth": 3.3,
          "species": "setosa"
         },
         {
          "petalLength": 4.7,
          "petalWidth": 1.4,
          "sepalLength": 7,
          "sepalWidth": 3.2,
          "species": "versicolor"
         },
         {
          "petalLength": 4.5,
          "petalWidth": 1.5,
          "sepalLength": 6.4,
          "sepalWidth": 3.2,
          "species": "versicolor"
         },
         {
          "petalLength": 4.9,
          "petalWidth": 1.5,
          "sepalLength": 6.9,
          "sepalWidth": 3.1,
          "species": "versicolor"
         },
         {
          "petalLength": 4,
          "petalWidth": 1.3,
          "sepalLength": 5.5,
          "sepalWidth": 2.3,
          "species": "versicolor"
         },
         {
          "petalLength": 4.6,
          "petalWidth": 1.5,
          "sepalLength": 6.5,
          "sepalWidth": 2.8,
          "species": "versicolor"
         },
         {
          "petalLength": 4.5,
          "petalWidth": 1.3,
          "sepalLength": 5.7,
          "sepalWidth": 2.8,
          "species": "versicolor"
         },
         {
          "petalLength": 4.7,
          "petalWidth": 1.6,
          "sepalLength": 6.3,
          "sepalWidth": 3.3,
          "species": "versicolor"
         },
         {
          "petalLength": 3.3,
          "petalWidth": 1,
          "sepalLength": 4.9,
          "sepalWidth": 2.4,
          "species": "versicolor"
         },
         {
          "petalLength": 4.6,
          "petalWidth": 1.3,
          "sepalLength": 6.6,
          "sepalWidth": 2.9,
          "species": "versicolor"
         },
         {
          "petalLength": 3.9,
          "petalWidth": 1.4,
          "sepalLength": 5.2,
          "sepalWidth": 2.7,
          "species": "versicolor"
         },
         {
          "petalLength": 3.5,
          "petalWidth": 1,
          "sepalLength": 5,
          "sepalWidth": 2,
          "species": "versicolor"
         },
         {
          "petalLength": 4.2,
          "petalWidth": 1.5,
          "sepalLength": 5.9,
          "sepalWidth": 3,
          "species": "versicolor"
         },
         {
          "petalLength": 4,
          "petalWidth": 1,
          "sepalLength": 6,
          "sepalWidth": 2.2,
          "species": "versicolor"
         },
         {
          "petalLength": 4.7,
          "petalWidth": 1.4,
          "sepalLength": 6.1,
          "sepalWidth": 2.9,
          "species": "versicolor"
         },
         {
          "petalLength": 3.6,
          "petalWidth": 1.3,
          "sepalLength": 5.6,
          "sepalWidth": 2.9,
          "species": "versicolor"
         },
         {
          "petalLength": 4.4,
          "petalWidth": 1.4,
          "sepalLength": 6.7,
          "sepalWidth": 3.1,
          "species": "versicolor"
         },
         {
          "petalLength": 4.5,
          "petalWidth": 1.5,
          "sepalLength": 5.6,
          "sepalWidth": 3,
          "species": "versicolor"
         },
         {
          "petalLength": 4.1,
          "petalWidth": 1,
          "sepalLength": 5.8,
          "sepalWidth": 2.7,
          "species": "versicolor"
         },
         {
          "petalLength": 4.5,
          "petalWidth": 1.5,
          "sepalLength": 6.2,
          "sepalWidth": 2.2,
          "species": "versicolor"
         },
         {
          "petalLength": 3.9,
          "petalWidth": 1.1,
          "sepalLength": 5.6,
          "sepalWidth": 2.5,
          "species": "versicolor"
         },
         {
          "petalLength": 4.8,
          "petalWidth": 1.8,
          "sepalLength": 5.9,
          "sepalWidth": 3.2,
          "species": "versicolor"
         },
         {
          "petalLength": 4,
          "petalWidth": 1.3,
          "sepalLength": 6.1,
          "sepalWidth": 2.8,
          "species": "versicolor"
         },
         {
          "petalLength": 4.9,
          "petalWidth": 1.5,
          "sepalLength": 6.3,
          "sepalWidth": 2.5,
          "species": "versicolor"
         },
         {
          "petalLength": 4.7,
          "petalWidth": 1.2,
          "sepalLength": 6.1,
          "sepalWidth": 2.8,
          "species": "versicolor"
         },
         {
          "petalLength": 4.3,
          "petalWidth": 1.3,
          "sepalLength": 6.4,
          "sepalWidth": 2.9,
          "species": "versicolor"
         },
         {
          "petalLength": 4.4,
          "petalWidth": 1.4,
          "sepalLength": 6.6,
          "sepalWidth": 3,
          "species": "versicolor"
         },
         {
          "petalLength": 4.8,
          "petalWidth": 1.4,
          "sepalLength": 6.8,
          "sepalWidth": 2.8,
          "species": "versicolor"
         },
         {
          "petalLength": 5,
          "petalWidth": 1.7000000000000002,
          "sepalLength": 6.7,
          "sepalWidth": 3,
          "species": "versicolor"
         },
         {
          "petalLength": 4.5,
          "petalWidth": 1.5,
          "sepalLength": 6,
          "sepalWidth": 2.9,
          "species": "versicolor"
         },
         {
          "petalLength": 3.5,
          "petalWidth": 1,
          "sepalLength": 5.7,
          "sepalWidth": 2.6,
          "species": "versicolor"
         },
         {
          "petalLength": 3.8,
          "petalWidth": 1.1,
          "sepalLength": 5.5,
          "sepalWidth": 2.4,
          "species": "versicolor"
         },
         {
          "petalLength": 3.7,
          "petalWidth": 1,
          "sepalLength": 5.5,
          "sepalWidth": 2.4,
          "species": "versicolor"
         },
         {
          "petalLength": 3.9,
          "petalWidth": 1.2,
          "sepalLength": 5.8,
          "sepalWidth": 2.7,
          "species": "versicolor"
         },
         {
          "petalLength": 5.1,
          "petalWidth": 1.6,
          "sepalLength": 6,
          "sepalWidth": 2.7,
          "species": "versicolor"
         },
         {
          "petalLength": 4.5,
          "petalWidth": 1.5,
          "sepalLength": 5.4,
          "sepalWidth": 3,
          "species": "versicolor"
         },
         {
          "petalLength": 4.5,
          "petalWidth": 1.6,
          "sepalLength": 6,
          "sepalWidth": 3.4,
          "species": "versicolor"
         },
         {
          "petalLength": 4.7,
          "petalWidth": 1.5,
          "sepalLength": 6.7,
          "sepalWidth": 3.1,
          "species": "versicolor"
         },
         {
          "petalLength": 4.4,
          "petalWidth": 1.3,
          "sepalLength": 6.3,
          "sepalWidth": 2.3,
          "species": "versicolor"
         },
         {
          "petalLength": 4.1,
          "petalWidth": 1.3,
          "sepalLength": 5.6,
          "sepalWidth": 3,
          "species": "versicolor"
         },
         {
          "petalLength": 4,
          "petalWidth": 1.3,
          "sepalLength": 5.5,
          "sepalWidth": 2.5,
          "species": "versicolor"
         },
         {
          "petalLength": 4.4,
          "petalWidth": 1.2,
          "sepalLength": 5.5,
          "sepalWidth": 2.6,
          "species": "versicolor"
         },
         {
          "petalLength": 4.6,
          "petalWidth": 1.4,
          "sepalLength": 6.1,
          "sepalWidth": 3,
          "species": "versicolor"
         },
         {
          "petalLength": 4,
          "petalWidth": 1.2,
          "sepalLength": 5.8,
          "sepalWidth": 2.6,
          "species": "versicolor"
         },
         {
          "petalLength": 3.3,
          "petalWidth": 1,
          "sepalLength": 5,
          "sepalWidth": 2.3,
          "species": "versicolor"
         },
         {
          "petalLength": 4.2,
          "petalWidth": 1.3,
          "sepalLength": 5.6,
          "sepalWidth": 2.7,
          "species": "versicolor"
         },
         {
          "petalLength": 4.2,
          "petalWidth": 1.2,
          "sepalLength": 5.7,
          "sepalWidth": 3,
          "species": "versicolor"
         },
         {
          "petalLength": 4.2,
          "petalWidth": 1.3,
          "sepalLength": 5.7,
          "sepalWidth": 2.9,
          "species": "versicolor"
         },
         {
          "petalLength": 4.3,
          "petalWidth": 1.3,
          "sepalLength": 6.2,
          "sepalWidth": 2.9,
          "species": "versicolor"
         },
         {
          "petalLength": 3,
          "petalWidth": 1.1,
          "sepalLength": 5.1,
          "sepalWidth": 2.5,
          "species": "versicolor"
         },
         {
          "petalLength": 4.1,
          "petalWidth": 1.3,
          "sepalLength": 5.7,
          "sepalWidth": 2.8,
          "species": "versicolor"
         },
         {
          "petalLength": 6,
          "petalWidth": 2.5,
          "sepalLength": 6.3,
          "sepalWidth": 3.3,
          "species": "virginica"
         },
         {
          "petalLength": 5.1,
          "petalWidth": 1.9,
          "sepalLength": 5.8,
          "sepalWidth": 2.7,
          "species": "virginica"
         },
         {
          "petalLength": 5.9,
          "petalWidth": 2.1,
          "sepalLength": 7.1,
          "sepalWidth": 3,
          "species": "virginica"
         },
         {
          "petalLength": 5.6,
          "petalWidth": 1.8,
          "sepalLength": 6.3,
          "sepalWidth": 2.9,
          "species": "virginica"
         },
         {
          "petalLength": 5.8,
          "petalWidth": 2.2,
          "sepalLength": 6.5,
          "sepalWidth": 3,
          "species": "virginica"
         },
         {
          "petalLength": 6.6,
          "petalWidth": 2.1,
          "sepalLength": 7.6,
          "sepalWidth": 3,
          "species": "virginica"
         },
         {
          "petalLength": 4.5,
          "petalWidth": 1.7000000000000002,
          "sepalLength": 4.9,
          "sepalWidth": 2.5,
          "species": "virginica"
         },
         {
          "petalLength": 6.3,
          "petalWidth": 1.8,
          "sepalLength": 7.3,
          "sepalWidth": 2.9,
          "species": "virginica"
         },
         {
          "petalLength": 5.8,
          "petalWidth": 1.8,
          "sepalLength": 6.7,
          "sepalWidth": 2.5,
          "species": "virginica"
         },
         {
          "petalLength": 6.1,
          "petalWidth": 2.5,
          "sepalLength": 7.2,
          "sepalWidth": 3.6,
          "species": "virginica"
         },
         {
          "petalLength": 5.1,
          "petalWidth": 2,
          "sepalLength": 6.5,
          "sepalWidth": 3.2,
          "species": "virginica"
         },
         {
          "petalLength": 5.3,
          "petalWidth": 1.9,
          "sepalLength": 6.4,
          "sepalWidth": 2.7,
          "species": "virginica"
         },
         {
          "petalLength": 5.5,
          "petalWidth": 2.1,
          "sepalLength": 6.8,
          "sepalWidth": 3,
          "species": "virginica"
         },
         {
          "petalLength": 5,
          "petalWidth": 2,
          "sepalLength": 5.7,
          "sepalWidth": 2.5,
          "species": "virginica"
         },
         {
          "petalLength": 5.1,
          "petalWidth": 2.4,
          "sepalLength": 5.8,
          "sepalWidth": 2.8,
          "species": "virginica"
         },
         {
          "petalLength": 5.3,
          "petalWidth": 2.3,
          "sepalLength": 6.4,
          "sepalWidth": 3.2,
          "species": "virginica"
         },
         {
          "petalLength": 5.5,
          "petalWidth": 1.8,
          "sepalLength": 6.5,
          "sepalWidth": 3,
          "species": "virginica"
         },
         {
          "petalLength": 6.7,
          "petalWidth": 2.2,
          "sepalLength": 7.7,
          "sepalWidth": 3.8,
          "species": "virginica"
         },
         {
          "petalLength": 6.9,
          "petalWidth": 2.3,
          "sepalLength": 7.7,
          "sepalWidth": 2.6,
          "species": "virginica"
         },
         {
          "petalLength": 5,
          "petalWidth": 1.5,
          "sepalLength": 6,
          "sepalWidth": 2.2,
          "species": "virginica"
         },
         {
          "petalLength": 5.7,
          "petalWidth": 2.3,
          "sepalLength": 6.9,
          "sepalWidth": 3.2,
          "species": "virginica"
         },
         {
          "petalLength": 4.9,
          "petalWidth": 2,
          "sepalLength": 5.6,
          "sepalWidth": 2.8,
          "species": "virginica"
         },
         {
          "petalLength": 6.7,
          "petalWidth": 2,
          "sepalLength": 7.7,
          "sepalWidth": 2.8,
          "species": "virginica"
         },
         {
          "petalLength": 4.9,
          "petalWidth": 1.8,
          "sepalLength": 6.3,
          "sepalWidth": 2.7,
          "species": "virginica"
         },
         {
          "petalLength": 5.7,
          "petalWidth": 2.1,
          "sepalLength": 6.7,
          "sepalWidth": 3.3,
          "species": "virginica"
         },
         {
          "petalLength": 6,
          "petalWidth": 1.8,
          "sepalLength": 7.2,
          "sepalWidth": 3.2,
          "species": "virginica"
         },
         {
          "petalLength": 4.8,
          "petalWidth": 1.8,
          "sepalLength": 6.2,
          "sepalWidth": 2.8,
          "species": "virginica"
         },
         {
          "petalLength": 4.9,
          "petalWidth": 1.8,
          "sepalLength": 6.1,
          "sepalWidth": 3,
          "species": "virginica"
         },
         {
          "petalLength": 5.6,
          "petalWidth": 2.1,
          "sepalLength": 6.4,
          "sepalWidth": 2.8,
          "species": "virginica"
         },
         {
          "petalLength": 5.8,
          "petalWidth": 1.6,
          "sepalLength": 7.2,
          "sepalWidth": 3,
          "species": "virginica"
         },
         {
          "petalLength": 6.1,
          "petalWidth": 1.9,
          "sepalLength": 7.4,
          "sepalWidth": 2.8,
          "species": "virginica"
         },
         {
          "petalLength": 6.4,
          "petalWidth": 2,
          "sepalLength": 7.9,
          "sepalWidth": 3.8,
          "species": "virginica"
         },
         {
          "petalLength": 5.6,
          "petalWidth": 2.2,
          "sepalLength": 6.4,
          "sepalWidth": 2.8,
          "species": "virginica"
         },
         {
          "petalLength": 5.1,
          "petalWidth": 1.5,
          "sepalLength": 6.3,
          "sepalWidth": 2.8,
          "species": "virginica"
         },
         {
          "petalLength": 5.6,
          "petalWidth": 1.4,
          "sepalLength": 6.1,
          "sepalWidth": 2.6,
          "species": "virginica"
         },
         {
          "petalLength": 6.1,
          "petalWidth": 2.3,
          "sepalLength": 7.7,
          "sepalWidth": 3,
          "species": "virginica"
         },
         {
          "petalLength": 5.6,
          "petalWidth": 2.4,
          "sepalLength": 6.3,
          "sepalWidth": 3.4,
          "species": "virginica"
         },
         {
          "petalLength": 5.5,
          "petalWidth": 1.8,
          "sepalLength": 6.4,
          "sepalWidth": 3.1,
          "species": "virginica"
         },
         {
          "petalLength": 4.8,
          "petalWidth": 1.8,
          "sepalLength": 6,
          "sepalWidth": 3,
          "species": "virginica"
         },
         {
          "petalLength": 5.4,
          "petalWidth": 2.1,
          "sepalLength": 6.9,
          "sepalWidth": 3.1,
          "species": "virginica"
         },
         {
          "petalLength": 5.6,
          "petalWidth": 2.4,
          "sepalLength": 6.7,
          "sepalWidth": 3.1,
          "species": "virginica"
         },
         {
          "petalLength": 5.1,
          "petalWidth": 2.3,
          "sepalLength": 6.9,
          "sepalWidth": 3.1,
          "species": "virginica"
         },
         {
          "petalLength": 5.1,
          "petalWidth": 1.9,
          "sepalLength": 5.8,
          "sepalWidth": 2.7,
          "species": "virginica"
         },
         {
          "petalLength": 5.9,
          "petalWidth": 2.3,
          "sepalLength": 6.8,
          "sepalWidth": 3.2,
          "species": "virginica"
         },
         {
          "petalLength": 5.7,
          "petalWidth": 2.5,
          "sepalLength": 6.7,
          "sepalWidth": 3.3,
          "species": "virginica"
         },
         {
          "petalLength": 5.2,
          "petalWidth": 2.3,
          "sepalLength": 6.7,
          "sepalWidth": 3,
          "species": "virginica"
         },
         {
          "petalLength": 5,
          "petalWidth": 1.9,
          "sepalLength": 6.3,
          "sepalWidth": 2.5,
          "species": "virginica"
         },
         {
          "petalLength": 5.2,
          "petalWidth": 2,
          "sepalLength": 6.5,
          "sepalWidth": 3,
          "species": "virginica"
         },
         {
          "petalLength": 5.4,
          "petalWidth": 2.3,
          "sepalLength": 6.2,
          "sepalWidth": 3.4,
          "species": "virginica"
         },
         {
          "petalLength": 5.1,
          "petalWidth": 1.8,
          "sepalLength": 5.9,
          "sepalWidth": 3,
          "species": "virginica"
         }
        ]
       },
       "encoding": {
        "column": {
         "field": "species",
         "type": "nominal"
        },
        "x": {
         "field": "sepalLength",
         "scale": {
          "domain": [
           0,
           8
          ]
         },
         "type": "quantitative"
        },
        "y": {
         "field": "sepalWidth",
         "scale": {
          "domain": [
           0,
           4.5
          ]
         },
         "type": "quantitative"
        }
       },
       "mark": "point"
      },
      "image/png": "[encoded data removed]",
      "text/plain": [
       "<VegaLite 4 object>\n",
       "\n",
       "If you see this message, it means the renderer has not been properly enabled\n",
       "for the frontend that you are using. For more information, see\n",
       "https://altair-viz.github.io/user_guide/troubleshooting.html\n"
      ]
     },
     "execution_count": 4,
     "metadata": {},
     "output_type": "execute_result"
    }
   ],
   "source": [
    "# Om x en y limiten te defineren verwachten de X als een Scale object.\n",
    "(\n",
    "    alt\n",
    "    .Chart(df)\n",
    "    .encode(\n",
    "        x=alt.X(\"sepalLength\", scale=alt.Scale(domain=(0,8))),\n",
    "        y=alt.Y(\"sepalWidth\", scale=alt.Scale(domain=(0,4.5))), \n",
    "        column=\"species\"\n",
    "    )\n",
    "    .mark_point()\n",
    ")"
   ]
  },
  {
   "cell_type": "markdown",
   "id": "f3b53d40-fbe6-4480-8f9c-9bd9f68c3fc2",
   "metadata": {},
   "source": [
    "# Opbouw van figuren met GG\n",
    "\n",
    "Om de logica te illusteren, bouwen we het voorbeeld stap voor stap op. In het voorbeeld hieronder zie je dat:\n",
    "\n",
    "1) We laden de data in een Chart object en visualizeren dit als een punt. De output geeft een overlappend punt weer voor ieder datapunt in ons dataframe.\n",
    "2) Vervolgens splitsen we de data op de x-as door het toevoegen van een x-ax encoding. Output is een 1-D scatter plot.\n",
    "3) Door toevoegen van y-as krijgen we een scatter plot.\n",
    "4) Toevoegen van `column` enconding zorgt ervoor dat data verspreid wordt over 3 species scatter plots.\n",
    "\n",
    "https://altair-viz.github.io/getting_started/starting.html"
   ]
  },
  {
   "cell_type": "code",
   "execution_count": 5,
   "id": "fb502cd6-65b9-40f8-a161-7db0769bd0e9",
   "metadata": {},
   "outputs": [
    {
     "data": {
      "application/vnd.vegalite.v4+json": {
       "$schema": "https://vega.github.io/schema/vega-lite/v4.17.0.json",
       "config": {
        "view": {
         "continuousHeight": 300,
         "continuousWidth": 400
        }
       },
       "data": {
        "name": "data-a264acbd6e539a8b3afc0cb5f240fb57"
       },
       "datasets": {
        "data-a264acbd6e539a8b3afc0cb5f240fb57": [
         {
          "petalLength": 1.4,
          "petalWidth": 0.2,
          "sepalLength": 5.1,
          "sepalWidth": 3.5,
          "species": "setosa"
         },
         {
          "petalLength": 1.4,
          "petalWidth": 0.2,
          "sepalLength": 4.9,
          "sepalWidth": 3,
          "species": "setosa"
         },
         {
          "petalLength": 1.3,
          "petalWidth": 0.2,
          "sepalLength": 4.7,
          "sepalWidth": 3.2,
          "species": "setosa"
         },
         {
          "petalLength": 1.5,
          "petalWidth": 0.2,
          "sepalLength": 4.6,
          "sepalWidth": 3.1,
          "species": "setosa"
         },
         {
          "petalLength": 1.4,
          "petalWidth": 0.2,
          "sepalLength": 5,
          "sepalWidth": 3.6,
          "species": "setosa"
         },
         {
          "petalLength": 1.7000000000000002,
          "petalWidth": 0.4,
          "sepalLength": 5.4,
          "sepalWidth": 3.9,
          "species": "setosa"
         },
         {
          "petalLength": 1.4,
          "petalWidth": 0.30000000000000004,
          "sepalLength": 4.6,
          "sepalWidth": 3.4,
          "species": "setosa"
         },
         {
          "petalLength": 1.5,
          "petalWidth": 0.2,
          "sepalLength": 5,
          "sepalWidth": 3.4,
          "species": "setosa"
         },
         {
          "petalLength": 1.4,
          "petalWidth": 0.2,
          "sepalLength": 4.4,
          "sepalWidth": 2.9,
          "species": "setosa"
         },
         {
          "petalLength": 1.5,
          "petalWidth": 0.1,
          "sepalLength": 4.9,
          "sepalWidth": 3.1,
          "species": "setosa"
         },
         {
          "petalLength": 1.5,
          "petalWidth": 0.2,
          "sepalLength": 5.4,
          "sepalWidth": 3.7,
          "species": "setosa"
         },
         {
          "petalLength": 1.6,
          "petalWidth": 0.2,
          "sepalLength": 4.8,
          "sepalWidth": 3.4,
          "species": "setosa"
         },
         {
          "petalLength": 1.4,
          "petalWidth": 0.1,
          "sepalLength": 4.8,
          "sepalWidth": 3,
          "species": "setosa"
         },
         {
          "petalLength": 1.1,
          "petalWidth": 0.1,
          "sepalLength": 4.3,
          "sepalWidth": 3,
          "species": "setosa"
         },
         {
          "petalLength": 1.2,
          "petalWidth": 0.2,
          "sepalLength": 5.8,
          "sepalWidth": 4,
          "species": "setosa"
         },
         {
          "petalLength": 1.5,
          "petalWidth": 0.4,
          "sepalLength": 5.7,
          "sepalWidth": 4.4,
          "species": "setosa"
         },
         {
          "petalLength": 1.3,
          "petalWidth": 0.4,
          "sepalLength": 5.4,
          "sepalWidth": 3.9,
          "species": "setosa"
         },
         {
          "petalLength": 1.4,
          "petalWidth": 0.30000000000000004,
          "sepalLength": 5.1,
          "sepalWidth": 3.5,
          "species": "setosa"
         },
         {
          "petalLength": 1.7000000000000002,
          "petalWidth": 0.30000000000000004,
          "sepalLength": 5.7,
          "sepalWidth": 3.8,
          "species": "setosa"
         },
         {
          "petalLength": 1.5,
          "petalWidth": 0.30000000000000004,
          "sepalLength": 5.1,
          "sepalWidth": 3.8,
          "species": "setosa"
         },
         {
          "petalLength": 1.7000000000000002,
          "petalWidth": 0.2,
          "sepalLength": 5.4,
          "sepalWidth": 3.4,
          "species": "setosa"
         },
         {
          "petalLength": 1.5,
          "petalWidth": 0.4,
          "sepalLength": 5.1,
          "sepalWidth": 3.7,
          "species": "setosa"
         },
         {
          "petalLength": 1,
          "petalWidth": 0.2,
          "sepalLength": 4.6,
          "sepalWidth": 3.6,
          "species": "setosa"
         },
         {
          "petalLength": 1.7000000000000002,
          "petalWidth": 0.5,
          "sepalLength": 5.1,
          "sepalWidth": 3.3,
          "species": "setosa"
         },
         {
          "petalLength": 1.9,
          "petalWidth": 0.2,
          "sepalLength": 4.8,
          "sepalWidth": 3.4,
          "species": "setosa"
         },
         {
          "petalLength": 1.6,
          "petalWidth": 0.2,
          "sepalLength": 5,
          "sepalWidth": 3,
          "species": "setosa"
         },
         {
          "petalLength": 1.6,
          "petalWidth": 0.4,
          "sepalLength": 5,
          "sepalWidth": 3.4,
          "species": "setosa"
         },
         {
          "petalLength": 1.5,
          "petalWidth": 0.2,
          "sepalLength": 5.2,
          "sepalWidth": 3.5,
          "species": "setosa"
         },
         {
          "petalLength": 1.4,
          "petalWidth": 0.2,
          "sepalLength": 5.2,
          "sepalWidth": 3.4,
          "species": "setosa"
         },
         {
          "petalLength": 1.6,
          "petalWidth": 0.2,
          "sepalLength": 4.7,
          "sepalWidth": 3.2,
          "species": "setosa"
         },
         {
          "petalLength": 1.6,
          "petalWidth": 0.2,
          "sepalLength": 4.8,
          "sepalWidth": 3.1,
          "species": "setosa"
         },
         {
          "petalLength": 1.5,
          "petalWidth": 0.4,
          "sepalLength": 5.4,
          "sepalWidth": 3.4,
          "species": "setosa"
         },
         {
          "petalLength": 1.5,
          "petalWidth": 0.1,
          "sepalLength": 5.2,
          "sepalWidth": 4.1,
          "species": "setosa"
         },
         {
          "petalLength": 1.4,
          "petalWidth": 0.2,
          "sepalLength": 5.5,
          "sepalWidth": 4.2,
          "species": "setosa"
         },
         {
          "petalLength": 1.5,
          "petalWidth": 0.2,
          "sepalLength": 4.9,
          "sepalWidth": 3.1,
          "species": "setosa"
         },
         {
          "petalLength": 1.2,
          "petalWidth": 0.2,
          "sepalLength": 5,
          "sepalWidth": 3.2,
          "species": "setosa"
         },
         {
          "petalLength": 1.3,
          "petalWidth": 0.2,
          "sepalLength": 5.5,
          "sepalWidth": 3.5,
          "species": "setosa"
         },
         {
          "petalLength": 1.4,
          "petalWidth": 0.1,
          "sepalLength": 4.9,
          "sepalWidth": 3.6,
          "species": "setosa"
         },
         {
          "petalLength": 1.3,
          "petalWidth": 0.2,
          "sepalLength": 4.4,
          "sepalWidth": 3,
          "species": "setosa"
         },
         {
          "petalLength": 1.5,
          "petalWidth": 0.2,
          "sepalLength": 5.1,
          "sepalWidth": 3.4,
          "species": "setosa"
         },
         {
          "petalLength": 1.3,
          "petalWidth": 0.30000000000000004,
          "sepalLength": 5,
          "sepalWidth": 3.5,
          "species": "setosa"
         },
         {
          "petalLength": 1.3,
          "petalWidth": 0.30000000000000004,
          "sepalLength": 4.5,
          "sepalWidth": 2.3,
          "species": "setosa"
         },
         {
          "petalLength": 1.3,
          "petalWidth": 0.2,
          "sepalLength": 4.4,
          "sepalWidth": 3.2,
          "species": "setosa"
         },
         {
          "petalLength": 1.6,
          "petalWidth": 0.6000000000000001,
          "sepalLength": 5,
          "sepalWidth": 3.5,
          "species": "setosa"
         },
         {
          "petalLength": 1.9,
          "petalWidth": 0.4,
          "sepalLength": 5.1,
          "sepalWidth": 3.8,
          "species": "setosa"
         },
         {
          "petalLength": 1.4,
          "petalWidth": 0.30000000000000004,
          "sepalLength": 4.8,
          "sepalWidth": 3,
          "species": "setosa"
         },
         {
          "petalLength": 1.6,
          "petalWidth": 0.2,
          "sepalLength": 5.1,
          "sepalWidth": 3.8,
          "species": "setosa"
         },
         {
          "petalLength": 1.4,
          "petalWidth": 0.2,
          "sepalLength": 4.6,
          "sepalWidth": 3.2,
          "species": "setosa"
         },
         {
          "petalLength": 1.5,
          "petalWidth": 0.2,
          "sepalLength": 5.3,
          "sepalWidth": 3.7,
          "species": "setosa"
         },
         {
          "petalLength": 1.4,
          "petalWidth": 0.2,
          "sepalLength": 5,
          "sepalWidth": 3.3,
          "species": "setosa"
         },
         {
          "petalLength": 4.7,
          "petalWidth": 1.4,
          "sepalLength": 7,
          "sepalWidth": 3.2,
          "species": "versicolor"
         },
         {
          "petalLength": 4.5,
          "petalWidth": 1.5,
          "sepalLength": 6.4,
          "sepalWidth": 3.2,
          "species": "versicolor"
         },
         {
          "petalLength": 4.9,
          "petalWidth": 1.5,
          "sepalLength": 6.9,
          "sepalWidth": 3.1,
          "species": "versicolor"
         },
         {
          "petalLength": 4,
          "petalWidth": 1.3,
          "sepalLength": 5.5,
          "sepalWidth": 2.3,
          "species": "versicolor"
         },
         {
          "petalLength": 4.6,
          "petalWidth": 1.5,
          "sepalLength": 6.5,
          "sepalWidth": 2.8,
          "species": "versicolor"
         },
         {
          "petalLength": 4.5,
          "petalWidth": 1.3,
          "sepalLength": 5.7,
          "sepalWidth": 2.8,
          "species": "versicolor"
         },
         {
          "petalLength": 4.7,
          "petalWidth": 1.6,
          "sepalLength": 6.3,
          "sepalWidth": 3.3,
          "species": "versicolor"
         },
         {
          "petalLength": 3.3,
          "petalWidth": 1,
          "sepalLength": 4.9,
          "sepalWidth": 2.4,
          "species": "versicolor"
         },
         {
          "petalLength": 4.6,
          "petalWidth": 1.3,
          "sepalLength": 6.6,
          "sepalWidth": 2.9,
          "species": "versicolor"
         },
         {
          "petalLength": 3.9,
          "petalWidth": 1.4,
          "sepalLength": 5.2,
          "sepalWidth": 2.7,
          "species": "versicolor"
         },
         {
          "petalLength": 3.5,
          "petalWidth": 1,
          "sepalLength": 5,
          "sepalWidth": 2,
          "species": "versicolor"
         },
         {
          "petalLength": 4.2,
          "petalWidth": 1.5,
          "sepalLength": 5.9,
          "sepalWidth": 3,
          "species": "versicolor"
         },
         {
          "petalLength": 4,
          "petalWidth": 1,
          "sepalLength": 6,
          "sepalWidth": 2.2,
          "species": "versicolor"
         },
         {
          "petalLength": 4.7,
          "petalWidth": 1.4,
          "sepalLength": 6.1,
          "sepalWidth": 2.9,
          "species": "versicolor"
         },
         {
          "petalLength": 3.6,
          "petalWidth": 1.3,
          "sepalLength": 5.6,
          "sepalWidth": 2.9,
          "species": "versicolor"
         },
         {
          "petalLength": 4.4,
          "petalWidth": 1.4,
          "sepalLength": 6.7,
          "sepalWidth": 3.1,
          "species": "versicolor"
         },
         {
          "petalLength": 4.5,
          "petalWidth": 1.5,
          "sepalLength": 5.6,
          "sepalWidth": 3,
          "species": "versicolor"
         },
         {
          "petalLength": 4.1,
          "petalWidth": 1,
          "sepalLength": 5.8,
          "sepalWidth": 2.7,
          "species": "versicolor"
         },
         {
          "petalLength": 4.5,
          "petalWidth": 1.5,
          "sepalLength": 6.2,
          "sepalWidth": 2.2,
          "species": "versicolor"
         },
         {
          "petalLength": 3.9,
          "petalWidth": 1.1,
          "sepalLength": 5.6,
          "sepalWidth": 2.5,
          "species": "versicolor"
         },
         {
          "petalLength": 4.8,
          "petalWidth": 1.8,
          "sepalLength": 5.9,
          "sepalWidth": 3.2,
          "species": "versicolor"
         },
         {
          "petalLength": 4,
          "petalWidth": 1.3,
          "sepalLength": 6.1,
          "sepalWidth": 2.8,
          "species": "versicolor"
         },
         {
          "petalLength": 4.9,
          "petalWidth": 1.5,
          "sepalLength": 6.3,
          "sepalWidth": 2.5,
          "species": "versicolor"
         },
         {
          "petalLength": 4.7,
          "petalWidth": 1.2,
          "sepalLength": 6.1,
          "sepalWidth": 2.8,
          "species": "versicolor"
         },
         {
          "petalLength": 4.3,
          "petalWidth": 1.3,
          "sepalLength": 6.4,
          "sepalWidth": 2.9,
          "species": "versicolor"
         },
         {
          "petalLength": 4.4,
          "petalWidth": 1.4,
          "sepalLength": 6.6,
          "sepalWidth": 3,
          "species": "versicolor"
         },
         {
          "petalLength": 4.8,
          "petalWidth": 1.4,
          "sepalLength": 6.8,
          "sepalWidth": 2.8,
          "species": "versicolor"
         },
         {
          "petalLength": 5,
          "petalWidth": 1.7000000000000002,
          "sepalLength": 6.7,
          "sepalWidth": 3,
          "species": "versicolor"
         },
         {
          "petalLength": 4.5,
          "petalWidth": 1.5,
          "sepalLength": 6,
          "sepalWidth": 2.9,
          "species": "versicolor"
         },
         {
          "petalLength": 3.5,
          "petalWidth": 1,
          "sepalLength": 5.7,
          "sepalWidth": 2.6,
          "species": "versicolor"
         },
         {
          "petalLength": 3.8,
          "petalWidth": 1.1,
          "sepalLength": 5.5,
          "sepalWidth": 2.4,
          "species": "versicolor"
         },
         {
          "petalLength": 3.7,
          "petalWidth": 1,
          "sepalLength": 5.5,
          "sepalWidth": 2.4,
          "species": "versicolor"
         },
         {
          "petalLength": 3.9,
          "petalWidth": 1.2,
          "sepalLength": 5.8,
          "sepalWidth": 2.7,
          "species": "versicolor"
         },
         {
          "petalLength": 5.1,
          "petalWidth": 1.6,
          "sepalLength": 6,
          "sepalWidth": 2.7,
          "species": "versicolor"
         },
         {
          "petalLength": 4.5,
          "petalWidth": 1.5,
          "sepalLength": 5.4,
          "sepalWidth": 3,
          "species": "versicolor"
         },
         {
          "petalLength": 4.5,
          "petalWidth": 1.6,
          "sepalLength": 6,
          "sepalWidth": 3.4,
          "species": "versicolor"
         },
         {
          "petalLength": 4.7,
          "petalWidth": 1.5,
          "sepalLength": 6.7,
          "sepalWidth": 3.1,
          "species": "versicolor"
         },
         {
          "petalLength": 4.4,
          "petalWidth": 1.3,
          "sepalLength": 6.3,
          "sepalWidth": 2.3,
          "species": "versicolor"
         },
         {
          "petalLength": 4.1,
          "petalWidth": 1.3,
          "sepalLength": 5.6,
          "sepalWidth": 3,
          "species": "versicolor"
         },
         {
          "petalLength": 4,
          "petalWidth": 1.3,
          "sepalLength": 5.5,
          "sepalWidth": 2.5,
          "species": "versicolor"
         },
         {
          "petalLength": 4.4,
          "petalWidth": 1.2,
          "sepalLength": 5.5,
          "sepalWidth": 2.6,
          "species": "versicolor"
         },
         {
          "petalLength": 4.6,
          "petalWidth": 1.4,
          "sepalLength": 6.1,
          "sepalWidth": 3,
          "species": "versicolor"
         },
         {
          "petalLength": 4,
          "petalWidth": 1.2,
          "sepalLength": 5.8,
          "sepalWidth": 2.6,
          "species": "versicolor"
         },
         {
          "petalLength": 3.3,
          "petalWidth": 1,
          "sepalLength": 5,
          "sepalWidth": 2.3,
          "species": "versicolor"
         },
         {
          "petalLength": 4.2,
          "petalWidth": 1.3,
          "sepalLength": 5.6,
          "sepalWidth": 2.7,
          "species": "versicolor"
         },
         {
          "petalLength": 4.2,
          "petalWidth": 1.2,
          "sepalLength": 5.7,
          "sepalWidth": 3,
          "species": "versicolor"
         },
         {
          "petalLength": 4.2,
          "petalWidth": 1.3,
          "sepalLength": 5.7,
          "sepalWidth": 2.9,
          "species": "versicolor"
         },
         {
          "petalLength": 4.3,
          "petalWidth": 1.3,
          "sepalLength": 6.2,
          "sepalWidth": 2.9,
          "species": "versicolor"
         },
         {
          "petalLength": 3,
          "petalWidth": 1.1,
          "sepalLength": 5.1,
          "sepalWidth": 2.5,
          "species": "versicolor"
         },
         {
          "petalLength": 4.1,
          "petalWidth": 1.3,
          "sepalLength": 5.7,
          "sepalWidth": 2.8,
          "species": "versicolor"
         },
         {
          "petalLength": 6,
          "petalWidth": 2.5,
          "sepalLength": 6.3,
          "sepalWidth": 3.3,
          "species": "virginica"
         },
         {
          "petalLength": 5.1,
          "petalWidth": 1.9,
          "sepalLength": 5.8,
          "sepalWidth": 2.7,
          "species": "virginica"
         },
         {
          "petalLength": 5.9,
          "petalWidth": 2.1,
          "sepalLength": 7.1,
          "sepalWidth": 3,
          "species": "virginica"
         },
         {
          "petalLength": 5.6,
          "petalWidth": 1.8,
          "sepalLength": 6.3,
          "sepalWidth": 2.9,
          "species": "virginica"
         },
         {
          "petalLength": 5.8,
          "petalWidth": 2.2,
          "sepalLength": 6.5,
          "sepalWidth": 3,
          "species": "virginica"
         },
         {
          "petalLength": 6.6,
          "petalWidth": 2.1,
          "sepalLength": 7.6,
          "sepalWidth": 3,
          "species": "virginica"
         },
         {
          "petalLength": 4.5,
          "petalWidth": 1.7000000000000002,
          "sepalLength": 4.9,
          "sepalWidth": 2.5,
          "species": "virginica"
         },
         {
          "petalLength": 6.3,
          "petalWidth": 1.8,
          "sepalLength": 7.3,
          "sepalWidth": 2.9,
          "species": "virginica"
         },
         {
          "petalLength": 5.8,
          "petalWidth": 1.8,
          "sepalLength": 6.7,
          "sepalWidth": 2.5,
          "species": "virginica"
         },
         {
          "petalLength": 6.1,
          "petalWidth": 2.5,
          "sepalLength": 7.2,
          "sepalWidth": 3.6,
          "species": "virginica"
         },
         {
          "petalLength": 5.1,
          "petalWidth": 2,
          "sepalLength": 6.5,
          "sepalWidth": 3.2,
          "species": "virginica"
         },
         {
          "petalLength": 5.3,
          "petalWidth": 1.9,
          "sepalLength": 6.4,
          "sepalWidth": 2.7,
          "species": "virginica"
         },
         {
          "petalLength": 5.5,
          "petalWidth": 2.1,
          "sepalLength": 6.8,
          "sepalWidth": 3,
          "species": "virginica"
         },
         {
          "petalLength": 5,
          "petalWidth": 2,
          "sepalLength": 5.7,
          "sepalWidth": 2.5,
          "species": "virginica"
         },
         {
          "petalLength": 5.1,
          "petalWidth": 2.4,
          "sepalLength": 5.8,
          "sepalWidth": 2.8,
          "species": "virginica"
         },
         {
          "petalLength": 5.3,
          "petalWidth": 2.3,
          "sepalLength": 6.4,
          "sepalWidth": 3.2,
          "species": "virginica"
         },
         {
          "petalLength": 5.5,
          "petalWidth": 1.8,
          "sepalLength": 6.5,
          "sepalWidth": 3,
          "species": "virginica"
         },
         {
          "petalLength": 6.7,
          "petalWidth": 2.2,
          "sepalLength": 7.7,
          "sepalWidth": 3.8,
          "species": "virginica"
         },
         {
          "petalLength": 6.9,
          "petalWidth": 2.3,
          "sepalLength": 7.7,
          "sepalWidth": 2.6,
          "species": "virginica"
         },
         {
          "petalLength": 5,
          "petalWidth": 1.5,
          "sepalLength": 6,
          "sepalWidth": 2.2,
          "species": "virginica"
         },
         {
          "petalLength": 5.7,
          "petalWidth": 2.3,
          "sepalLength": 6.9,
          "sepalWidth": 3.2,
          "species": "virginica"
         },
         {
          "petalLength": 4.9,
          "petalWidth": 2,
          "sepalLength": 5.6,
          "sepalWidth": 2.8,
          "species": "virginica"
         },
         {
          "petalLength": 6.7,
          "petalWidth": 2,
          "sepalLength": 7.7,
          "sepalWidth": 2.8,
          "species": "virginica"
         },
         {
          "petalLength": 4.9,
          "petalWidth": 1.8,
          "sepalLength": 6.3,
          "sepalWidth": 2.7,
          "species": "virginica"
         },
         {
          "petalLength": 5.7,
          "petalWidth": 2.1,
          "sepalLength": 6.7,
          "sepalWidth": 3.3,
          "species": "virginica"
         },
         {
          "petalLength": 6,
          "petalWidth": 1.8,
          "sepalLength": 7.2,
          "sepalWidth": 3.2,
          "species": "virginica"
         },
         {
          "petalLength": 4.8,
          "petalWidth": 1.8,
          "sepalLength": 6.2,
          "sepalWidth": 2.8,
          "species": "virginica"
         },
         {
          "petalLength": 4.9,
          "petalWidth": 1.8,
          "sepalLength": 6.1,
          "sepalWidth": 3,
          "species": "virginica"
         },
         {
          "petalLength": 5.6,
          "petalWidth": 2.1,
          "sepalLength": 6.4,
          "sepalWidth": 2.8,
          "species": "virginica"
         },
         {
          "petalLength": 5.8,
          "petalWidth": 1.6,
          "sepalLength": 7.2,
          "sepalWidth": 3,
          "species": "virginica"
         },
         {
          "petalLength": 6.1,
          "petalWidth": 1.9,
          "sepalLength": 7.4,
          "sepalWidth": 2.8,
          "species": "virginica"
         },
         {
          "petalLength": 6.4,
          "petalWidth": 2,
          "sepalLength": 7.9,
          "sepalWidth": 3.8,
          "species": "virginica"
         },
         {
          "petalLength": 5.6,
          "petalWidth": 2.2,
          "sepalLength": 6.4,
          "sepalWidth": 2.8,
          "species": "virginica"
         },
         {
          "petalLength": 5.1,
          "petalWidth": 1.5,
          "sepalLength": 6.3,
          "sepalWidth": 2.8,
          "species": "virginica"
         },
         {
          "petalLength": 5.6,
          "petalWidth": 1.4,
          "sepalLength": 6.1,
          "sepalWidth": 2.6,
          "species": "virginica"
         },
         {
          "petalLength": 6.1,
          "petalWidth": 2.3,
          "sepalLength": 7.7,
          "sepalWidth": 3,
          "species": "virginica"
         },
         {
          "petalLength": 5.6,
          "petalWidth": 2.4,
          "sepalLength": 6.3,
          "sepalWidth": 3.4,
          "species": "virginica"
         },
         {
          "petalLength": 5.5,
          "petalWidth": 1.8,
          "sepalLength": 6.4,
          "sepalWidth": 3.1,
          "species": "virginica"
         },
         {
          "petalLength": 4.8,
          "petalWidth": 1.8,
          "sepalLength": 6,
          "sepalWidth": 3,
          "species": "virginica"
         },
         {
          "petalLength": 5.4,
          "petalWidth": 2.1,
          "sepalLength": 6.9,
          "sepalWidth": 3.1,
          "species": "virginica"
         },
         {
          "petalLength": 5.6,
          "petalWidth": 2.4,
          "sepalLength": 6.7,
          "sepalWidth": 3.1,
          "species": "virginica"
         },
         {
          "petalLength": 5.1,
          "petalWidth": 2.3,
          "sepalLength": 6.9,
          "sepalWidth": 3.1,
          "species": "virginica"
         },
         {
          "petalLength": 5.1,
          "petalWidth": 1.9,
          "sepalLength": 5.8,
          "sepalWidth": 2.7,
          "species": "virginica"
         },
         {
          "petalLength": 5.9,
          "petalWidth": 2.3,
          "sepalLength": 6.8,
          "sepalWidth": 3.2,
          "species": "virginica"
         },
         {
          "petalLength": 5.7,
          "petalWidth": 2.5,
          "sepalLength": 6.7,
          "sepalWidth": 3.3,
          "species": "virginica"
         },
         {
          "petalLength": 5.2,
          "petalWidth": 2.3,
          "sepalLength": 6.7,
          "sepalWidth": 3,
          "species": "virginica"
         },
         {
          "petalLength": 5,
          "petalWidth": 1.9,
          "sepalLength": 6.3,
          "sepalWidth": 2.5,
          "species": "virginica"
         },
         {
          "petalLength": 5.2,
          "petalWidth": 2,
          "sepalLength": 6.5,
          "sepalWidth": 3,
          "species": "virginica"
         },
         {
          "petalLength": 5.4,
          "petalWidth": 2.3,
          "sepalLength": 6.2,
          "sepalWidth": 3.4,
          "species": "virginica"
         },
         {
          "petalLength": 5.1,
          "petalWidth": 1.8,
          "sepalLength": 5.9,
          "sepalWidth": 3,
          "species": "virginica"
         }
        ]
       },
       "hconcat": [
        {
         "mark": "point"
        },
        {
         "encoding": {
          "x": {
           "field": "sepalLength",
           "type": "quantitative"
          }
         },
         "mark": "point"
        },
        {
         "encoding": {
          "x": {
           "field": "sepalLength",
           "type": "quantitative"
          },
          "y": {
           "field": "sepalWidth",
           "type": "quantitative"
          }
         },
         "mark": "point"
        }
       ]
      },
      "image/png": "[encoded data removed]",
      "text/plain": [
       "<VegaLite 4 object>\n",
       "\n",
       "If you see this message, it means the renderer has not been properly enabled\n",
       "for the frontend that you are using. For more information, see\n",
       "https://altair-viz.github.io/user_guide/troubleshooting.html\n"
      ]
     },
     "execution_count": 5,
     "metadata": {},
     "output_type": "execute_result"
    }
   ],
   "source": [
    "points = (\n",
    "    alt\n",
    "    .Chart(df)\n",
    "    .mark_point()\n",
    ")\n",
    "\n",
    "x_points = points.encode(x=\"sepalLength\")\n",
    "x_y_points = x_points.encode(y=\"sepalWidth\")\n",
    "\n",
    "# Plots kunnen makkelijk horizontaal naast elkaar worden weergegeven mbv de `|` operator\n",
    "points | x_points | x_y_points"
   ]
  },
  {
   "cell_type": "code",
   "execution_count": 6,
   "id": "9845bc70-473d-43a3-8fe1-edd561953c3c",
   "metadata": {},
   "outputs": [
    {
     "data": {
      "application/vnd.vegalite.v4+json": {
       "$schema": "https://vega.github.io/schema/vega-lite/v4.17.0.json",
       "config": {
        "view": {
         "continuousHeight": 300,
         "continuousWidth": 400
        }
       },
       "data": {
        "name": "data-a264acbd6e539a8b3afc0cb5f240fb57"
       },
       "datasets": {
        "data-a264acbd6e539a8b3afc0cb5f240fb57": [
         {
          "petalLength": 1.4,
          "petalWidth": 0.2,
          "sepalLength": 5.1,
          "sepalWidth": 3.5,
          "species": "setosa"
         },
         {
          "petalLength": 1.4,
          "petalWidth": 0.2,
          "sepalLength": 4.9,
          "sepalWidth": 3,
          "species": "setosa"
         },
         {
          "petalLength": 1.3,
          "petalWidth": 0.2,
          "sepalLength": 4.7,
          "sepalWidth": 3.2,
          "species": "setosa"
         },
         {
          "petalLength": 1.5,
          "petalWidth": 0.2,
          "sepalLength": 4.6,
          "sepalWidth": 3.1,
          "species": "setosa"
         },
         {
          "petalLength": 1.4,
          "petalWidth": 0.2,
          "sepalLength": 5,
          "sepalWidth": 3.6,
          "species": "setosa"
         },
         {
          "petalLength": 1.7000000000000002,
          "petalWidth": 0.4,
          "sepalLength": 5.4,
          "sepalWidth": 3.9,
          "species": "setosa"
         },
         {
          "petalLength": 1.4,
          "petalWidth": 0.30000000000000004,
          "sepalLength": 4.6,
          "sepalWidth": 3.4,
          "species": "setosa"
         },
         {
          "petalLength": 1.5,
          "petalWidth": 0.2,
          "sepalLength": 5,
          "sepalWidth": 3.4,
          "species": "setosa"
         },
         {
          "petalLength": 1.4,
          "petalWidth": 0.2,
          "sepalLength": 4.4,
          "sepalWidth": 2.9,
          "species": "setosa"
         },
         {
          "petalLength": 1.5,
          "petalWidth": 0.1,
          "sepalLength": 4.9,
          "sepalWidth": 3.1,
          "species": "setosa"
         },
         {
          "petalLength": 1.5,
          "petalWidth": 0.2,
          "sepalLength": 5.4,
          "sepalWidth": 3.7,
          "species": "setosa"
         },
         {
          "petalLength": 1.6,
          "petalWidth": 0.2,
          "sepalLength": 4.8,
          "sepalWidth": 3.4,
          "species": "setosa"
         },
         {
          "petalLength": 1.4,
          "petalWidth": 0.1,
          "sepalLength": 4.8,
          "sepalWidth": 3,
          "species": "setosa"
         },
         {
          "petalLength": 1.1,
          "petalWidth": 0.1,
          "sepalLength": 4.3,
          "sepalWidth": 3,
          "species": "setosa"
         },
         {
          "petalLength": 1.2,
          "petalWidth": 0.2,
          "sepalLength": 5.8,
          "sepalWidth": 4,
          "species": "setosa"
         },
         {
          "petalLength": 1.5,
          "petalWidth": 0.4,
          "sepalLength": 5.7,
          "sepalWidth": 4.4,
          "species": "setosa"
         },
         {
          "petalLength": 1.3,
          "petalWidth": 0.4,
          "sepalLength": 5.4,
          "sepalWidth": 3.9,
          "species": "setosa"
         },
         {
          "petalLength": 1.4,
          "petalWidth": 0.30000000000000004,
          "sepalLength": 5.1,
          "sepalWidth": 3.5,
          "species": "setosa"
         },
         {
          "petalLength": 1.7000000000000002,
          "petalWidth": 0.30000000000000004,
          "sepalLength": 5.7,
          "sepalWidth": 3.8,
          "species": "setosa"
         },
         {
          "petalLength": 1.5,
          "petalWidth": 0.30000000000000004,
          "sepalLength": 5.1,
          "sepalWidth": 3.8,
          "species": "setosa"
         },
         {
          "petalLength": 1.7000000000000002,
          "petalWidth": 0.2,
          "sepalLength": 5.4,
          "sepalWidth": 3.4,
          "species": "setosa"
         },
         {
          "petalLength": 1.5,
          "petalWidth": 0.4,
          "sepalLength": 5.1,
          "sepalWidth": 3.7,
          "species": "setosa"
         },
         {
          "petalLength": 1,
          "petalWidth": 0.2,
          "sepalLength": 4.6,
          "sepalWidth": 3.6,
          "species": "setosa"
         },
         {
          "petalLength": 1.7000000000000002,
          "petalWidth": 0.5,
          "sepalLength": 5.1,
          "sepalWidth": 3.3,
          "species": "setosa"
         },
         {
          "petalLength": 1.9,
          "petalWidth": 0.2,
          "sepalLength": 4.8,
          "sepalWidth": 3.4,
          "species": "setosa"
         },
         {
          "petalLength": 1.6,
          "petalWidth": 0.2,
          "sepalLength": 5,
          "sepalWidth": 3,
          "species": "setosa"
         },
         {
          "petalLength": 1.6,
          "petalWidth": 0.4,
          "sepalLength": 5,
          "sepalWidth": 3.4,
          "species": "setosa"
         },
         {
          "petalLength": 1.5,
          "petalWidth": 0.2,
          "sepalLength": 5.2,
          "sepalWidth": 3.5,
          "species": "setosa"
         },
         {
          "petalLength": 1.4,
          "petalWidth": 0.2,
          "sepalLength": 5.2,
          "sepalWidth": 3.4,
          "species": "setosa"
         },
         {
          "petalLength": 1.6,
          "petalWidth": 0.2,
          "sepalLength": 4.7,
          "sepalWidth": 3.2,
          "species": "setosa"
         },
         {
          "petalLength": 1.6,
          "petalWidth": 0.2,
          "sepalLength": 4.8,
          "sepalWidth": 3.1,
          "species": "setosa"
         },
         {
          "petalLength": 1.5,
          "petalWidth": 0.4,
          "sepalLength": 5.4,
          "sepalWidth": 3.4,
          "species": "setosa"
         },
         {
          "petalLength": 1.5,
          "petalWidth": 0.1,
          "sepalLength": 5.2,
          "sepalWidth": 4.1,
          "species": "setosa"
         },
         {
          "petalLength": 1.4,
          "petalWidth": 0.2,
          "sepalLength": 5.5,
          "sepalWidth": 4.2,
          "species": "setosa"
         },
         {
          "petalLength": 1.5,
          "petalWidth": 0.2,
          "sepalLength": 4.9,
          "sepalWidth": 3.1,
          "species": "setosa"
         },
         {
          "petalLength": 1.2,
          "petalWidth": 0.2,
          "sepalLength": 5,
          "sepalWidth": 3.2,
          "species": "setosa"
         },
         {
          "petalLength": 1.3,
          "petalWidth": 0.2,
          "sepalLength": 5.5,
          "sepalWidth": 3.5,
          "species": "setosa"
         },
         {
          "petalLength": 1.4,
          "petalWidth": 0.1,
          "sepalLength": 4.9,
          "sepalWidth": 3.6,
          "species": "setosa"
         },
         {
          "petalLength": 1.3,
          "petalWidth": 0.2,
          "sepalLength": 4.4,
          "sepalWidth": 3,
          "species": "setosa"
         },
         {
          "petalLength": 1.5,
          "petalWidth": 0.2,
          "sepalLength": 5.1,
          "sepalWidth": 3.4,
          "species": "setosa"
         },
         {
          "petalLength": 1.3,
          "petalWidth": 0.30000000000000004,
          "sepalLength": 5,
          "sepalWidth": 3.5,
          "species": "setosa"
         },
         {
          "petalLength": 1.3,
          "petalWidth": 0.30000000000000004,
          "sepalLength": 4.5,
          "sepalWidth": 2.3,
          "species": "setosa"
         },
         {
          "petalLength": 1.3,
          "petalWidth": 0.2,
          "sepalLength": 4.4,
          "sepalWidth": 3.2,
          "species": "setosa"
         },
         {
          "petalLength": 1.6,
          "petalWidth": 0.6000000000000001,
          "sepalLength": 5,
          "sepalWidth": 3.5,
          "species": "setosa"
         },
         {
          "petalLength": 1.9,
          "petalWidth": 0.4,
          "sepalLength": 5.1,
          "sepalWidth": 3.8,
          "species": "setosa"
         },
         {
          "petalLength": 1.4,
          "petalWidth": 0.30000000000000004,
          "sepalLength": 4.8,
          "sepalWidth": 3,
          "species": "setosa"
         },
         {
          "petalLength": 1.6,
          "petalWidth": 0.2,
          "sepalLength": 5.1,
          "sepalWidth": 3.8,
          "species": "setosa"
         },
         {
          "petalLength": 1.4,
          "petalWidth": 0.2,
          "sepalLength": 4.6,
          "sepalWidth": 3.2,
          "species": "setosa"
         },
         {
          "petalLength": 1.5,
          "petalWidth": 0.2,
          "sepalLength": 5.3,
          "sepalWidth": 3.7,
          "species": "setosa"
         },
         {
          "petalLength": 1.4,
          "petalWidth": 0.2,
          "sepalLength": 5,
          "sepalWidth": 3.3,
          "species": "setosa"
         },
         {
          "petalLength": 4.7,
          "petalWidth": 1.4,
          "sepalLength": 7,
          "sepalWidth": 3.2,
          "species": "versicolor"
         },
         {
          "petalLength": 4.5,
          "petalWidth": 1.5,
          "sepalLength": 6.4,
          "sepalWidth": 3.2,
          "species": "versicolor"
         },
         {
          "petalLength": 4.9,
          "petalWidth": 1.5,
          "sepalLength": 6.9,
          "sepalWidth": 3.1,
          "species": "versicolor"
         },
         {
          "petalLength": 4,
          "petalWidth": 1.3,
          "sepalLength": 5.5,
          "sepalWidth": 2.3,
          "species": "versicolor"
         },
         {
          "petalLength": 4.6,
          "petalWidth": 1.5,
          "sepalLength": 6.5,
          "sepalWidth": 2.8,
          "species": "versicolor"
         },
         {
          "petalLength": 4.5,
          "petalWidth": 1.3,
          "sepalLength": 5.7,
          "sepalWidth": 2.8,
          "species": "versicolor"
         },
         {
          "petalLength": 4.7,
          "petalWidth": 1.6,
          "sepalLength": 6.3,
          "sepalWidth": 3.3,
          "species": "versicolor"
         },
         {
          "petalLength": 3.3,
          "petalWidth": 1,
          "sepalLength": 4.9,
          "sepalWidth": 2.4,
          "species": "versicolor"
         },
         {
          "petalLength": 4.6,
          "petalWidth": 1.3,
          "sepalLength": 6.6,
          "sepalWidth": 2.9,
          "species": "versicolor"
         },
         {
          "petalLength": 3.9,
          "petalWidth": 1.4,
          "sepalLength": 5.2,
          "sepalWidth": 2.7,
          "species": "versicolor"
         },
         {
          "petalLength": 3.5,
          "petalWidth": 1,
          "sepalLength": 5,
          "sepalWidth": 2,
          "species": "versicolor"
         },
         {
          "petalLength": 4.2,
          "petalWidth": 1.5,
          "sepalLength": 5.9,
          "sepalWidth": 3,
          "species": "versicolor"
         },
         {
          "petalLength": 4,
          "petalWidth": 1,
          "sepalLength": 6,
          "sepalWidth": 2.2,
          "species": "versicolor"
         },
         {
          "petalLength": 4.7,
          "petalWidth": 1.4,
          "sepalLength": 6.1,
          "sepalWidth": 2.9,
          "species": "versicolor"
         },
         {
          "petalLength": 3.6,
          "petalWidth": 1.3,
          "sepalLength": 5.6,
          "sepalWidth": 2.9,
          "species": "versicolor"
         },
         {
          "petalLength": 4.4,
          "petalWidth": 1.4,
          "sepalLength": 6.7,
          "sepalWidth": 3.1,
          "species": "versicolor"
         },
         {
          "petalLength": 4.5,
          "petalWidth": 1.5,
          "sepalLength": 5.6,
          "sepalWidth": 3,
          "species": "versicolor"
         },
         {
          "petalLength": 4.1,
          "petalWidth": 1,
          "sepalLength": 5.8,
          "sepalWidth": 2.7,
          "species": "versicolor"
         },
         {
          "petalLength": 4.5,
          "petalWidth": 1.5,
          "sepalLength": 6.2,
          "sepalWidth": 2.2,
          "species": "versicolor"
         },
         {
          "petalLength": 3.9,
          "petalWidth": 1.1,
          "sepalLength": 5.6,
          "sepalWidth": 2.5,
          "species": "versicolor"
         },
         {
          "petalLength": 4.8,
          "petalWidth": 1.8,
          "sepalLength": 5.9,
          "sepalWidth": 3.2,
          "species": "versicolor"
         },
         {
          "petalLength": 4,
          "petalWidth": 1.3,
          "sepalLength": 6.1,
          "sepalWidth": 2.8,
          "species": "versicolor"
         },
         {
          "petalLength": 4.9,
          "petalWidth": 1.5,
          "sepalLength": 6.3,
          "sepalWidth": 2.5,
          "species": "versicolor"
         },
         {
          "petalLength": 4.7,
          "petalWidth": 1.2,
          "sepalLength": 6.1,
          "sepalWidth": 2.8,
          "species": "versicolor"
         },
         {
          "petalLength": 4.3,
          "petalWidth": 1.3,
          "sepalLength": 6.4,
          "sepalWidth": 2.9,
          "species": "versicolor"
         },
         {
          "petalLength": 4.4,
          "petalWidth": 1.4,
          "sepalLength": 6.6,
          "sepalWidth": 3,
          "species": "versicolor"
         },
         {
          "petalLength": 4.8,
          "petalWidth": 1.4,
          "sepalLength": 6.8,
          "sepalWidth": 2.8,
          "species": "versicolor"
         },
         {
          "petalLength": 5,
          "petalWidth": 1.7000000000000002,
          "sepalLength": 6.7,
          "sepalWidth": 3,
          "species": "versicolor"
         },
         {
          "petalLength": 4.5,
          "petalWidth": 1.5,
          "sepalLength": 6,
          "sepalWidth": 2.9,
          "species": "versicolor"
         },
         {
          "petalLength": 3.5,
          "petalWidth": 1,
          "sepalLength": 5.7,
          "sepalWidth": 2.6,
          "species": "versicolor"
         },
         {
          "petalLength": 3.8,
          "petalWidth": 1.1,
          "sepalLength": 5.5,
          "sepalWidth": 2.4,
          "species": "versicolor"
         },
         {
          "petalLength": 3.7,
          "petalWidth": 1,
          "sepalLength": 5.5,
          "sepalWidth": 2.4,
          "species": "versicolor"
         },
         {
          "petalLength": 3.9,
          "petalWidth": 1.2,
          "sepalLength": 5.8,
          "sepalWidth": 2.7,
          "species": "versicolor"
         },
         {
          "petalLength": 5.1,
          "petalWidth": 1.6,
          "sepalLength": 6,
          "sepalWidth": 2.7,
          "species": "versicolor"
         },
         {
          "petalLength": 4.5,
          "petalWidth": 1.5,
          "sepalLength": 5.4,
          "sepalWidth": 3,
          "species": "versicolor"
         },
         {
          "petalLength": 4.5,
          "petalWidth": 1.6,
          "sepalLength": 6,
          "sepalWidth": 3.4,
          "species": "versicolor"
         },
         {
          "petalLength": 4.7,
          "petalWidth": 1.5,
          "sepalLength": 6.7,
          "sepalWidth": 3.1,
          "species": "versicolor"
         },
         {
          "petalLength": 4.4,
          "petalWidth": 1.3,
          "sepalLength": 6.3,
          "sepalWidth": 2.3,
          "species": "versicolor"
         },
         {
          "petalLength": 4.1,
          "petalWidth": 1.3,
          "sepalLength": 5.6,
          "sepalWidth": 3,
          "species": "versicolor"
         },
         {
          "petalLength": 4,
          "petalWidth": 1.3,
          "sepalLength": 5.5,
          "sepalWidth": 2.5,
          "species": "versicolor"
         },
         {
          "petalLength": 4.4,
          "petalWidth": 1.2,
          "sepalLength": 5.5,
          "sepalWidth": 2.6,
          "species": "versicolor"
         },
         {
          "petalLength": 4.6,
          "petalWidth": 1.4,
          "sepalLength": 6.1,
          "sepalWidth": 3,
          "species": "versicolor"
         },
         {
          "petalLength": 4,
          "petalWidth": 1.2,
          "sepalLength": 5.8,
          "sepalWidth": 2.6,
          "species": "versicolor"
         },
         {
          "petalLength": 3.3,
          "petalWidth": 1,
          "sepalLength": 5,
          "sepalWidth": 2.3,
          "species": "versicolor"
         },
         {
          "petalLength": 4.2,
          "petalWidth": 1.3,
          "sepalLength": 5.6,
          "sepalWidth": 2.7,
          "species": "versicolor"
         },
         {
          "petalLength": 4.2,
          "petalWidth": 1.2,
          "sepalLength": 5.7,
          "sepalWidth": 3,
          "species": "versicolor"
         },
         {
          "petalLength": 4.2,
          "petalWidth": 1.3,
          "sepalLength": 5.7,
          "sepalWidth": 2.9,
          "species": "versicolor"
         },
         {
          "petalLength": 4.3,
          "petalWidth": 1.3,
          "sepalLength": 6.2,
          "sepalWidth": 2.9,
          "species": "versicolor"
         },
         {
          "petalLength": 3,
          "petalWidth": 1.1,
          "sepalLength": 5.1,
          "sepalWidth": 2.5,
          "species": "versicolor"
         },
         {
          "petalLength": 4.1,
          "petalWidth": 1.3,
          "sepalLength": 5.7,
          "sepalWidth": 2.8,
          "species": "versicolor"
         },
         {
          "petalLength": 6,
          "petalWidth": 2.5,
          "sepalLength": 6.3,
          "sepalWidth": 3.3,
          "species": "virginica"
         },
         {
          "petalLength": 5.1,
          "petalWidth": 1.9,
          "sepalLength": 5.8,
          "sepalWidth": 2.7,
          "species": "virginica"
         },
         {
          "petalLength": 5.9,
          "petalWidth": 2.1,
          "sepalLength": 7.1,
          "sepalWidth": 3,
          "species": "virginica"
         },
         {
          "petalLength": 5.6,
          "petalWidth": 1.8,
          "sepalLength": 6.3,
          "sepalWidth": 2.9,
          "species": "virginica"
         },
         {
          "petalLength": 5.8,
          "petalWidth": 2.2,
          "sepalLength": 6.5,
          "sepalWidth": 3,
          "species": "virginica"
         },
         {
          "petalLength": 6.6,
          "petalWidth": 2.1,
          "sepalLength": 7.6,
          "sepalWidth": 3,
          "species": "virginica"
         },
         {
          "petalLength": 4.5,
          "petalWidth": 1.7000000000000002,
          "sepalLength": 4.9,
          "sepalWidth": 2.5,
          "species": "virginica"
         },
         {
          "petalLength": 6.3,
          "petalWidth": 1.8,
          "sepalLength": 7.3,
          "sepalWidth": 2.9,
          "species": "virginica"
         },
         {
          "petalLength": 5.8,
          "petalWidth": 1.8,
          "sepalLength": 6.7,
          "sepalWidth": 2.5,
          "species": "virginica"
         },
         {
          "petalLength": 6.1,
          "petalWidth": 2.5,
          "sepalLength": 7.2,
          "sepalWidth": 3.6,
          "species": "virginica"
         },
         {
          "petalLength": 5.1,
          "petalWidth": 2,
          "sepalLength": 6.5,
          "sepalWidth": 3.2,
          "species": "virginica"
         },
         {
          "petalLength": 5.3,
          "petalWidth": 1.9,
          "sepalLength": 6.4,
          "sepalWidth": 2.7,
          "species": "virginica"
         },
         {
          "petalLength": 5.5,
          "petalWidth": 2.1,
          "sepalLength": 6.8,
          "sepalWidth": 3,
          "species": "virginica"
         },
         {
          "petalLength": 5,
          "petalWidth": 2,
          "sepalLength": 5.7,
          "sepalWidth": 2.5,
          "species": "virginica"
         },
         {
          "petalLength": 5.1,
          "petalWidth": 2.4,
          "sepalLength": 5.8,
          "sepalWidth": 2.8,
          "species": "virginica"
         },
         {
          "petalLength": 5.3,
          "petalWidth": 2.3,
          "sepalLength": 6.4,
          "sepalWidth": 3.2,
          "species": "virginica"
         },
         {
          "petalLength": 5.5,
          "petalWidth": 1.8,
          "sepalLength": 6.5,
          "sepalWidth": 3,
          "species": "virginica"
         },
         {
          "petalLength": 6.7,
          "petalWidth": 2.2,
          "sepalLength": 7.7,
          "sepalWidth": 3.8,
          "species": "virginica"
         },
         {
          "petalLength": 6.9,
          "petalWidth": 2.3,
          "sepalLength": 7.7,
          "sepalWidth": 2.6,
          "species": "virginica"
         },
         {
          "petalLength": 5,
          "petalWidth": 1.5,
          "sepalLength": 6,
          "sepalWidth": 2.2,
          "species": "virginica"
         },
         {
          "petalLength": 5.7,
          "petalWidth": 2.3,
          "sepalLength": 6.9,
          "sepalWidth": 3.2,
          "species": "virginica"
         },
         {
          "petalLength": 4.9,
          "petalWidth": 2,
          "sepalLength": 5.6,
          "sepalWidth": 2.8,
          "species": "virginica"
         },
         {
          "petalLength": 6.7,
          "petalWidth": 2,
          "sepalLength": 7.7,
          "sepalWidth": 2.8,
          "species": "virginica"
         },
         {
          "petalLength": 4.9,
          "petalWidth": 1.8,
          "sepalLength": 6.3,
          "sepalWidth": 2.7,
          "species": "virginica"
         },
         {
          "petalLength": 5.7,
          "petalWidth": 2.1,
          "sepalLength": 6.7,
          "sepalWidth": 3.3,
          "species": "virginica"
         },
         {
          "petalLength": 6,
          "petalWidth": 1.8,
          "sepalLength": 7.2,
          "sepalWidth": 3.2,
          "species": "virginica"
         },
         {
          "petalLength": 4.8,
          "petalWidth": 1.8,
          "sepalLength": 6.2,
          "sepalWidth": 2.8,
          "species": "virginica"
         },
         {
          "petalLength": 4.9,
          "petalWidth": 1.8,
          "sepalLength": 6.1,
          "sepalWidth": 3,
          "species": "virginica"
         },
         {
          "petalLength": 5.6,
          "petalWidth": 2.1,
          "sepalLength": 6.4,
          "sepalWidth": 2.8,
          "species": "virginica"
         },
         {
          "petalLength": 5.8,
          "petalWidth": 1.6,
          "sepalLength": 7.2,
          "sepalWidth": 3,
          "species": "virginica"
         },
         {
          "petalLength": 6.1,
          "petalWidth": 1.9,
          "sepalLength": 7.4,
          "sepalWidth": 2.8,
          "species": "virginica"
         },
         {
          "petalLength": 6.4,
          "petalWidth": 2,
          "sepalLength": 7.9,
          "sepalWidth": 3.8,
          "species": "virginica"
         },
         {
          "petalLength": 5.6,
          "petalWidth": 2.2,
          "sepalLength": 6.4,
          "sepalWidth": 2.8,
          "species": "virginica"
         },
         {
          "petalLength": 5.1,
          "petalWidth": 1.5,
          "sepalLength": 6.3,
          "sepalWidth": 2.8,
          "species": "virginica"
         },
         {
          "petalLength": 5.6,
          "petalWidth": 1.4,
          "sepalLength": 6.1,
          "sepalWidth": 2.6,
          "species": "virginica"
         },
         {
          "petalLength": 6.1,
          "petalWidth": 2.3,
          "sepalLength": 7.7,
          "sepalWidth": 3,
          "species": "virginica"
         },
         {
          "petalLength": 5.6,
          "petalWidth": 2.4,
          "sepalLength": 6.3,
          "sepalWidth": 3.4,
          "species": "virginica"
         },
         {
          "petalLength": 5.5,
          "petalWidth": 1.8,
          "sepalLength": 6.4,
          "sepalWidth": 3.1,
          "species": "virginica"
         },
         {
          "petalLength": 4.8,
          "petalWidth": 1.8,
          "sepalLength": 6,
          "sepalWidth": 3,
          "species": "virginica"
         },
         {
          "petalLength": 5.4,
          "petalWidth": 2.1,
          "sepalLength": 6.9,
          "sepalWidth": 3.1,
          "species": "virginica"
         },
         {
          "petalLength": 5.6,
          "petalWidth": 2.4,
          "sepalLength": 6.7,
          "sepalWidth": 3.1,
          "species": "virginica"
         },
         {
          "petalLength": 5.1,
          "petalWidth": 2.3,
          "sepalLength": 6.9,
          "sepalWidth": 3.1,
          "species": "virginica"
         },
         {
          "petalLength": 5.1,
          "petalWidth": 1.9,
          "sepalLength": 5.8,
          "sepalWidth": 2.7,
          "species": "virginica"
         },
         {
          "petalLength": 5.9,
          "petalWidth": 2.3,
          "sepalLength": 6.8,
          "sepalWidth": 3.2,
          "species": "virginica"
         },
         {
          "petalLength": 5.7,
          "petalWidth": 2.5,
          "sepalLength": 6.7,
          "sepalWidth": 3.3,
          "species": "virginica"
         },
         {
          "petalLength": 5.2,
          "petalWidth": 2.3,
          "sepalLength": 6.7,
          "sepalWidth": 3,
          "species": "virginica"
         },
         {
          "petalLength": 5,
          "petalWidth": 1.9,
          "sepalLength": 6.3,
          "sepalWidth": 2.5,
          "species": "virginica"
         },
         {
          "petalLength": 5.2,
          "petalWidth": 2,
          "sepalLength": 6.5,
          "sepalWidth": 3,
          "species": "virginica"
         },
         {
          "petalLength": 5.4,
          "petalWidth": 2.3,
          "sepalLength": 6.2,
          "sepalWidth": 3.4,
          "species": "virginica"
         },
         {
          "petalLength": 5.1,
          "petalWidth": 1.8,
          "sepalLength": 5.9,
          "sepalWidth": 3,
          "species": "virginica"
         }
        ]
       },
       "encoding": {
        "column": {
         "field": "species",
         "type": "nominal"
        },
        "x": {
         "field": "sepalLength",
         "type": "quantitative"
        },
        "y": {
         "field": "sepalWidth",
         "type": "quantitative"
        }
       },
       "mark": "point"
      },
      "image/png": "[encoded data removed]",
      "text/plain": [
       "<VegaLite 4 object>\n",
       "\n",
       "If you see this message, it means the renderer has not been properly enabled\n",
       "for the frontend that you are using. For more information, see\n",
       "https://altair-viz.github.io/user_guide/troubleshooting.html\n"
      ]
     },
     "execution_count": 6,
     "metadata": {},
     "output_type": "execute_result"
    }
   ],
   "source": [
    "# Zoals je waarschijnlijk al kan raden\n",
    "facet = x_y_points.encode(column=\"species\")\n",
    "facet"
   ]
  },
  {
   "cell_type": "markdown",
   "id": "269366e1-b846-49ff-a8dd-89beb3518a4a",
   "metadata": {},
   "source": [
    "# Voorbeelden\n",
    "\n",
    "Om de intuitie van de grammar of graphic en de mogelijkheden van Altair te laten zien die ik regelmatig gebruik. Ten eerste het combineren van verschillende `mark_*` properties. Voor het maken van een grafiek met lijnen en punten, is de opzet:\n",
    "1) Maak een base chart, met data en encodings\n",
    "2) Gebruik de base chart om een chart met punten en een met lijnen te maken\n",
    "3) Overlay de punt en lijn charts via `point + line`"
   ]
  },
  {
   "cell_type": "code",
   "execution_count": 7,
   "id": "88828c4c-cd79-4d6d-a618-ce11588b3d42",
   "metadata": {},
   "outputs": [
    {
     "data": {
      "application/vnd.vegalite.v4+json": {
       "$schema": "https://vega.github.io/schema/vega-lite/v4.17.0.json",
       "config": {
        "view": {
         "continuousHeight": 300,
         "continuousWidth": 400
        }
       },
       "data": {
        "name": "data-bb61008ba0c766c5601afa5323d12ad4"
       },
       "datasets": {
        "data-bb61008ba0c766c5601afa5323d12ad4": [
         {
          "net_generation": 35361,
          "source": "Fossil Fuels",
          "year": "2001-01-01T00:00:00"
         },
         {
          "net_generation": 35991,
          "source": "Fossil Fuels",
          "year": "2002-01-01T00:00:00"
         },
         {
          "net_generation": 36234,
          "source": "Fossil Fuels",
          "year": "2003-01-01T00:00:00"
         },
         {
          "net_generation": 36205,
          "source": "Fossil Fuels",
          "year": "2004-01-01T00:00:00"
         },
         {
          "net_generation": 36883,
          "source": "Fossil Fuels",
          "year": "2005-01-01T00:00:00"
         },
         {
          "net_generation": 37014,
          "source": "Fossil Fuels",
          "year": "2006-01-01T00:00:00"
         },
         {
          "net_generation": 41389,
          "source": "Fossil Fuels",
          "year": "2007-01-01T00:00:00"
         },
         {
          "net_generation": 42734,
          "source": "Fossil Fuels",
          "year": "2008-01-01T00:00:00"
         },
         {
          "net_generation": 38620,
          "source": "Fossil Fuels",
          "year": "2009-01-01T00:00:00"
         },
         {
          "net_generation": 42750,
          "source": "Fossil Fuels",
          "year": "2010-01-01T00:00:00"
         },
         {
          "net_generation": 39361,
          "source": "Fossil Fuels",
          "year": "2011-01-01T00:00:00"
         },
         {
          "net_generation": 37379,
          "source": "Fossil Fuels",
          "year": "2012-01-01T00:00:00"
         },
         {
          "net_generation": 34873,
          "source": "Fossil Fuels",
          "year": "2013-01-01T00:00:00"
         },
         {
          "net_generation": 35250,
          "source": "Fossil Fuels",
          "year": "2014-01-01T00:00:00"
         },
         {
          "net_generation": 32319,
          "source": "Fossil Fuels",
          "year": "2015-01-01T00:00:00"
         },
         {
          "net_generation": 28437,
          "source": "Fossil Fuels",
          "year": "2016-01-01T00:00:00"
         },
         {
          "net_generation": 29329,
          "source": "Fossil Fuels",
          "year": "2017-01-01T00:00:00"
         },
         {
          "net_generation": 3853,
          "source": "Nuclear Energy",
          "year": "2001-01-01T00:00:00"
         },
         {
          "net_generation": 4574,
          "source": "Nuclear Energy",
          "year": "2002-01-01T00:00:00"
         },
         {
          "net_generation": 3988,
          "source": "Nuclear Energy",
          "year": "2003-01-01T00:00:00"
         },
         {
          "net_generation": 4929,
          "source": "Nuclear Energy",
          "year": "2004-01-01T00:00:00"
         },
         {
          "net_generation": 4538,
          "source": "Nuclear Energy",
          "year": "2005-01-01T00:00:00"
         },
         {
          "net_generation": 5095,
          "source": "Nuclear Energy",
          "year": "2006-01-01T00:00:00"
         },
         {
          "net_generation": 4519,
          "source": "Nuclear Energy",
          "year": "2007-01-01T00:00:00"
         },
         {
          "net_generation": 5282,
          "source": "Nuclear Energy",
          "year": "2008-01-01T00:00:00"
         },
         {
          "net_generation": 4679,
          "source": "Nuclear Energy",
          "year": "2009-01-01T00:00:00"
         },
         {
          "net_generation": 4451,
          "source": "Nuclear Energy",
          "year": "2010-01-01T00:00:00"
         },
         {
          "net_generation": 5215,
          "source": "Nuclear Energy",
          "year": "2011-01-01T00:00:00"
         },
         {
          "net_generation": 4347,
          "source": "Nuclear Energy",
          "year": "2012-01-01T00:00:00"
         },
         {
          "net_generation": 5321,
          "source": "Nuclear Energy",
          "year": "2013-01-01T00:00:00"
         },
         {
          "net_generation": 4152,
          "source": "Nuclear Energy",
          "year": "2014-01-01T00:00:00"
         },
         {
          "net_generation": 5243,
          "source": "Nuclear Energy",
          "year": "2015-01-01T00:00:00"
         },
         {
          "net_generation": 4703,
          "source": "Nuclear Energy",
          "year": "2016-01-01T00:00:00"
         },
         {
          "net_generation": 5214,
          "source": "Nuclear Energy",
          "year": "2017-01-01T00:00:00"
         },
         {
          "net_generation": 1437,
          "source": "Renewables",
          "year": "2001-01-01T00:00:00"
         },
         {
          "net_generation": 1963,
          "source": "Renewables",
          "year": "2002-01-01T00:00:00"
         },
         {
          "net_generation": 1885,
          "source": "Renewables",
          "year": "2003-01-01T00:00:00"
         },
         {
          "net_generation": 2102,
          "source": "Renewables",
          "year": "2004-01-01T00:00:00"
         },
         {
          "net_generation": 2724,
          "source": "Renewables",
          "year": "2005-01-01T00:00:00"
         },
         {
          "net_generation": 3364,
          "source": "Renewables",
          "year": "2006-01-01T00:00:00"
         },
         {
          "net_generation": 3870,
          "source": "Renewables",
          "year": "2007-01-01T00:00:00"
         },
         {
          "net_generation": 5070,
          "source": "Renewables",
          "year": "2008-01-01T00:00:00"
         },
         {
          "net_generation": 8560,
          "source": "Renewables",
          "year": "2009-01-01T00:00:00"
         },
         {
          "net_generation": 10308,
          "source": "Renewables",
          "year": "2010-01-01T00:00:00"
         },
         {
          "net_generation": 11795,
          "source": "Renewables",
          "year": "2011-01-01T00:00:00"
         },
         {
          "net_generation": 14949,
          "source": "Renewables",
          "year": "2012-01-01T00:00:00"
         },
         {
          "net_generation": 16476,
          "source": "Renewables",
          "year": "2013-01-01T00:00:00"
         },
         {
          "net_generation": 17452,
          "source": "Renewables",
          "year": "2014-01-01T00:00:00"
         },
         {
          "net_generation": 19091,
          "source": "Renewables",
          "year": "2015-01-01T00:00:00"
         },
         {
          "net_generation": 21241,
          "source": "Renewables",
          "year": "2016-01-01T00:00:00"
         },
         {
          "net_generation": 21933,
          "source": "Renewables",
          "year": "2017-01-01T00:00:00"
         }
        ]
       },
       "hconcat": [
        {
         "encoding": {
          "color": {
           "field": "source",
           "type": "nominal"
          },
          "tooltip": {
           "field": "net_generation",
           "type": "quantitative"
          },
          "x": {
           "field": "year",
           "type": "temporal"
          },
          "y": {
           "field": "net_generation",
           "type": "quantitative"
          }
         },
         "mark": "point",
         "title": "Energie opwekking in Iowa"
        },
        {
         "encoding": {
          "color": {
           "field": "source",
           "type": "nominal"
          },
          "tooltip": {
           "field": "net_generation",
           "type": "quantitative"
          },
          "x": {
           "field": "year",
           "type": "temporal"
          },
          "y": {
           "field": "net_generation",
           "type": "quantitative"
          }
         },
         "mark": "line",
         "title": "Energie opwekking in Iowa"
        },
        {
         "layer": [
          {
           "encoding": {
            "color": {
             "field": "source",
             "type": "nominal"
            },
            "tooltip": {
             "field": "net_generation",
             "type": "quantitative"
            },
            "x": {
             "field": "year",
             "type": "temporal"
            },
            "y": {
             "field": "net_generation",
             "type": "quantitative"
            }
           },
           "mark": "point",
           "selection": {
            "selector001": {
             "bind": "scales",
             "encodings": [
              "x",
              "y"
             ],
             "type": "interval"
            }
           },
           "title": "Energie opwekking in Iowa"
          },
          {
           "encoding": {
            "color": {
             "field": "source",
             "type": "nominal"
            },
            "tooltip": {
             "field": "net_generation",
             "type": "quantitative"
            },
            "x": {
             "field": "year",
             "type": "temporal"
            },
            "y": {
             "field": "net_generation",
             "type": "quantitative"
            }
           },
           "mark": "line",
           "title": "Energie opwekking in Iowa"
          }
         ]
        }
       ]
      },
      "image/png": "[encoded data removed]",
      "text/plain": [
       "<VegaLite 4 object>\n",
       "\n",
       "If you see this message, it means the renderer has not been properly enabled\n",
       "for the frontend that you are using. For more information, see\n",
       "https://altair-viz.github.io/user_guide/troubleshooting.html\n"
      ]
     },
     "execution_count": 7,
     "metadata": {},
     "output_type": "execute_result"
    }
   ],
   "source": [
    "df = data.iowa_electricity()\n",
    "\n",
    "base = (\n",
    "    alt\n",
    "    .Chart(df, title=\"Energie opwekking in Iowa\")\n",
    "    .encode(\n",
    "        x=\"year\",\n",
    "        y=\"net_generation\",\n",
    "        color=\"source\",\n",
    "        tooltip=\"net_generation\"\n",
    "    )\n",
    ")\n",
    "\n",
    "point = base.mark_point()\n",
    "line = base.mark_line()\n",
    "point_line = point + line\n",
    "\n",
    "point | line | point_line.interactive() # Test de interactiviteit zelf in het notebook (zoomen, pannen en tooltip!)"
   ]
  },
  {
   "cell_type": "markdown",
   "id": "60194f6d-3e22-4eba-bc3a-b791d787ef7a",
   "metadata": {},
   "source": [
    "Altair heeft ook een grote toolkit voor statistische analyses beschikbaar. In dit voorbeeld worden `mark_*` properties gecombineerd om een gemiddelde met confidence intervals weer te geven met als annotation het aantal datapunten waarop de bootstrap is gebaseerd."
   ]
  },
  {
   "cell_type": "code",
   "execution_count": 8,
   "id": "878026e3-bdcb-4cbf-a4d9-902c36216cd8",
   "metadata": {},
   "outputs": [
    {
     "data": {
      "application/vnd.vegalite.v4+json": {
       "$schema": "https://vega.github.io/schema/vega-lite/v4.17.0.json",
       "config": {
        "view": {
         "continuousHeight": 300,
         "continuousWidth": 400
        }
       },
       "data": {
        "name": "data-88e9b7fae6af240a1c1bf8bb62bf7eaa"
       },
       "datasets": {
        "data-88e9b7fae6af240a1c1bf8bb62bf7eaa": [
         {
          "date": "2001-01-14T21:55:00",
          "delay": 0,
          "destination": "SMF",
          "distance": 480,
          "origin": "SAN"
         },
         {
          "date": "2001-03-26T20:15:00",
          "delay": -11,
          "destination": "SLC",
          "distance": 507,
          "origin": "PHX"
         },
         {
          "date": "2001-03-05T14:55:00",
          "delay": -3,
          "destination": "LAX",
          "distance": 714,
          "origin": "ELP"
         },
         {
          "date": "2001-01-07T12:30:00",
          "delay": 12,
          "destination": "SNA",
          "distance": 342,
          "origin": "SJC"
         },
         {
          "date": "2001-01-18T12:00:00",
          "delay": 2,
          "destination": "LAX",
          "distance": 373,
          "origin": "SMF"
         },
         {
          "date": "2001-01-19T20:14:00",
          "delay": 47,
          "destination": "AUS",
          "distance": 189,
          "origin": "DAL"
         },
         {
          "date": "2001-03-29T14:05:00",
          "delay": 3,
          "destination": "PHX",
          "distance": 872,
          "origin": "AUS"
         },
         {
          "date": "2001-03-08T09:53:00",
          "delay": -4,
          "destination": "OAK",
          "distance": 723,
          "origin": "GEG"
         },
         {
          "date": "2001-01-04T07:20:00",
          "delay": 4,
          "destination": "JAX",
          "distance": 318,
          "origin": "FLL"
         },
         {
          "date": "2001-02-25T11:30:00",
          "delay": 0,
          "destination": "LAS",
          "distance": 487,
          "origin": "ABQ"
         },
         {
          "date": "2001-02-04T20:25:00",
          "delay": 18,
          "destination": "DAL",
          "distance": 239,
          "origin": "HOU"
         },
         {
          "date": "2001-02-05T20:10:00",
          "delay": -7,
          "destination": "HOU",
          "distance": 453,
          "origin": "TUL"
         },
         {
          "date": "2001-03-13T06:45:00",
          "delay": -10,
          "destination": "SMF",
          "distance": 605,
          "origin": "SEA"
         },
         {
          "date": "2001-02-02T15:52:00",
          "delay": 23,
          "destination": "SAN",
          "distance": 417,
          "origin": "SJC"
         },
         {
          "date": "2001-01-22T15:33:00",
          "delay": 7,
          "destination": "LAS",
          "distance": 368,
          "origin": "SLC"
         },
         {
          "date": "2001-01-04T06:48:00",
          "delay": -17,
          "destination": "MDW",
          "distance": 838,
          "origin": "MHT"
         },
         {
          "date": "2001-03-28T08:23:00",
          "delay": 14,
          "destination": "MCI",
          "distance": 223,
          "origin": "TUL"
         },
         {
          "date": "2001-02-18T19:20:00",
          "delay": -4,
          "destination": "MDW",
          "distance": 162,
          "origin": "IND"
         },
         {
          "date": "2001-01-29T18:50:00",
          "delay": -3,
          "destination": "RNO",
          "distance": 422,
          "origin": "SLC"
         },
         {
          "date": "2001-02-01T14:06:00",
          "delay": 15,
          "destination": "SAT",
          "distance": 192,
          "origin": "HOU"
         },
         {
          "date": "2001-01-24T13:30:00",
          "delay": -5,
          "destination": "PDX",
          "distance": 279,
          "origin": "GEG"
         },
         {
          "date": "2001-03-06T13:50:00",
          "delay": -20,
          "destination": "BNA",
          "distance": 907,
          "origin": "PVD"
         },
         {
          "date": "2001-03-09T06:25:00",
          "delay": 2,
          "destination": "BOI",
          "distance": 399,
          "origin": "SEA"
         },
         {
          "date": "2001-01-25T10:30:00",
          "delay": -16,
          "destination": "LAX",
          "distance": 337,
          "origin": "OAK"
         },
         {
          "date": "2001-02-05T21:15:00",
          "delay": -4,
          "destination": "LAS",
          "distance": 256,
          "origin": "PHX"
         },
         {
          "date": "2001-01-20T19:45:00",
          "delay": -15,
          "destination": "MDW",
          "distance": 1444,
          "origin": "PHX"
         },
         {
          "date": "2001-01-12T19:21:00",
          "delay": 43,
          "destination": "SAT",
          "distance": 1069,
          "origin": "LAS"
         },
         {
          "date": "2001-03-18T07:50:00",
          "delay": -15,
          "destination": "TUL",
          "distance": 351,
          "origin": "STL"
         },
         {
          "date": "2001-03-13T11:35:00",
          "delay": 166,
          "destination": "PVD",
          "distance": 1073,
          "origin": "MCO"
         },
         {
          "date": "2001-02-16T21:10:00",
          "delay": 3,
          "destination": "DAL",
          "distance": 580,
          "origin": "ABQ"
         },
         {
          "date": "2001-01-16T17:25:00",
          "delay": 2,
          "destination": "LAS",
          "distance": 2106,
          "origin": "BWI"
         },
         {
          "date": "2001-02-07T17:45:00",
          "delay": 38,
          "destination": "BHM",
          "distance": 321,
          "origin": "MSY"
         },
         {
          "date": "2001-01-06T06:45:00",
          "delay": 0,
          "destination": "SMF",
          "distance": 605,
          "origin": "SEA"
         },
         {
          "date": "2001-01-12T13:25:00",
          "delay": 14,
          "destination": "TUL",
          "distance": 237,
          "origin": "DAL"
         },
         {
          "date": "2001-03-14T07:25:00",
          "delay": -10,
          "destination": "SLC",
          "distance": 368,
          "origin": "LAS"
         },
         {
          "date": "2001-01-02T07:30:00",
          "delay": 10,
          "destination": "LAX",
          "distance": 308,
          "origin": "SJC"
         },
         {
          "date": "2001-03-23T13:30:00",
          "delay": 17,
          "destination": "MDW",
          "distance": 307,
          "origin": "CLE"
         },
         {
          "date": "2001-03-21T20:02:00",
          "delay": 30,
          "destination": "LAX",
          "distance": 337,
          "origin": "OAK"
         },
         {
          "date": "2001-03-07T20:00:00",
          "delay": 20,
          "destination": "BWI",
          "distance": 314,
          "origin": "CLE"
         },
         {
          "date": "2001-03-28T09:30:00",
          "delay": 0,
          "destination": "BWI",
          "distance": 314,
          "origin": "CLE"
         },
         {
          "date": "2001-01-02T11:20:00",
          "delay": -12,
          "destination": "TPA",
          "distance": 487,
          "origin": "MSY"
         },
         {
          "date": "2001-03-16T13:40:00",
          "delay": 37,
          "destination": "HOU",
          "distance": 303,
          "origin": "MSY"
         },
         {
          "date": "2001-01-30T09:30:00",
          "delay": -4,
          "destination": "BWI",
          "distance": 281,
          "origin": "BUF"
         },
         {
          "date": "2001-02-19T17:05:00",
          "delay": 0,
          "destination": "PVD",
          "distance": 108,
          "origin": "ISP"
         },
         {
          "date": "2001-02-20T20:20:00",
          "delay": -2,
          "destination": "TUL",
          "distance": 453,
          "origin": "HOU"
         },
         {
          "date": "2001-01-15T13:55:00",
          "delay": -3,
          "destination": "LAX",
          "distance": 390,
          "origin": "RNO"
         },
         {
          "date": "2001-02-20T16:55:00",
          "delay": -8,
          "destination": "TPA",
          "distance": 197,
          "origin": "FLL"
         },
         {
          "date": "2001-03-09T21:05:00",
          "delay": -19,
          "destination": "PDX",
          "distance": 630,
          "origin": "SLC"
         },
         {
          "date": "2001-01-22T19:32:00",
          "delay": -4,
          "destination": "AUS",
          "distance": 528,
          "origin": "ELP"
         },
         {
          "date": "2001-02-20T21:10:00",
          "delay": -1,
          "destination": "TPA",
          "distance": 842,
          "origin": "BWI"
         },
         {
          "date": "2001-03-17T09:00:00",
          "delay": -5,
          "destination": "MSY",
          "distance": 487,
          "origin": "TPA"
         },
         {
          "date": "2001-03-08T07:55:00",
          "delay": -2,
          "destination": "SAT",
          "distance": 192,
          "origin": "HOU"
         },
         {
          "date": "2001-01-31T15:30:00",
          "delay": -20,
          "destination": "SLC",
          "distance": 1156,
          "origin": "STL"
         },
         {
          "date": "2001-01-29T20:25:00",
          "delay": -10,
          "destination": "PHX",
          "distance": 304,
          "origin": "SAN"
         },
         {
          "date": "2001-01-31T09:30:00",
          "delay": 3,
          "destination": "HOU",
          "distance": 239,
          "origin": "DAL"
         },
         {
          "date": "2001-03-06T15:53:00",
          "delay": 12,
          "destination": "OAK",
          "distance": 337,
          "origin": "LAX"
         },
         {
          "date": "2001-01-21T13:53:00",
          "delay": 4,
          "destination": "ABQ",
          "distance": 328,
          "origin": "PHX"
         },
         {
          "date": "2001-02-07T17:00:00",
          "delay": -4,
          "destination": "HOU",
          "distance": 677,
          "origin": "ELP"
         },
         {
          "date": "2001-02-03T19:42:00",
          "delay": 9,
          "destination": "LAX",
          "distance": 236,
          "origin": "LAS"
         },
         {
          "date": "2001-02-03T14:25:00",
          "delay": -7,
          "destination": "SMF",
          "distance": 480,
          "origin": "SAN"
         },
         {
          "date": "2001-02-13T19:18:00",
          "delay": 36,
          "destination": "RNO",
          "distance": 335,
          "origin": "BOI"
         },
         {
          "date": "2001-02-13T12:17:00",
          "delay": 28,
          "destination": "CLE",
          "distance": 487,
          "origin": "STL"
         },
         {
          "date": "2001-01-13T14:12:00",
          "delay": 38,
          "destination": "PDX",
          "distance": 444,
          "origin": "RNO"
         },
         {
          "date": "2001-02-19T13:05:00",
          "delay": 13,
          "destination": "JAX",
          "distance": 180,
          "origin": "TPA"
         },
         {
          "date": "2001-01-03T11:40:00",
          "delay": -19,
          "destination": "MCO",
          "distance": 1040,
          "origin": "SAT"
         },
         {
          "date": "2001-02-28T15:45:00",
          "delay": 112,
          "destination": "DTW",
          "distance": 229,
          "origin": "MDW"
         },
         {
          "date": "2001-02-27T21:57:00",
          "delay": 115,
          "destination": "BDL",
          "distance": 777,
          "origin": "MDW"
         },
         {
          "date": "2001-01-26T07:00:00",
          "delay": 7,
          "destination": "PHX",
          "distance": 328,
          "origin": "ABQ"
         },
         {
          "date": "2001-03-13T06:05:00",
          "delay": -10,
          "destination": "SAN",
          "distance": 258,
          "origin": "LAS"
         },
         {
          "date": "2001-01-11T17:10:00",
          "delay": 0,
          "destination": "BHM",
          "distance": 570,
          "origin": "HOU"
         },
         {
          "date": "2001-01-07T09:18:00",
          "delay": 9,
          "destination": "PHX",
          "distance": 347,
          "origin": "ELP"
         },
         {
          "date": "2001-02-07T20:14:00",
          "delay": 46,
          "destination": "MDW",
          "distance": 162,
          "origin": "IND"
         },
         {
          "date": "2001-03-12T15:50:00",
          "delay": 0,
          "destination": "SDF",
          "distance": 271,
          "origin": "MDW"
         },
         {
          "date": "2001-03-23T08:15:00",
          "delay": -8,
          "destination": "BWI",
          "distance": 1999,
          "origin": "PHX"
         },
         {
          "date": "2001-02-20T16:05:00",
          "delay": 13,
          "destination": "SLC",
          "distance": 590,
          "origin": "LAX"
         },
         {
          "date": "2001-01-22T07:30:00",
          "delay": -16,
          "destination": "SMF",
          "distance": 647,
          "origin": "PHX"
         },
         {
          "date": "2001-03-21T13:53:00",
          "delay": 22,
          "destination": "AUS",
          "distance": 756,
          "origin": "BNA"
         },
         {
          "date": "2001-02-23T06:30:00",
          "delay": 8,
          "destination": "STL",
          "distance": 237,
          "origin": "MCI"
         },
         {
          "date": "2001-02-19T07:00:00",
          "delay": 0,
          "destination": "MCI",
          "distance": 1072,
          "origin": "MCO"
         },
         {
          "date": "2001-02-17T19:28:00",
          "delay": 3,
          "destination": "MDW",
          "distance": 405,
          "origin": "MCI"
         },
         {
          "date": "2001-01-15T07:00:00",
          "delay": -5,
          "destination": "CMH",
          "distance": 284,
          "origin": "MDW"
         },
         {
          "date": "2001-02-17T07:30:00",
          "delay": 0,
          "destination": "MCO",
          "distance": 787,
          "origin": "BWI"
         },
         {
          "date": "2001-01-13T10:15:00",
          "delay": 0,
          "destination": "ELP",
          "distance": 528,
          "origin": "AUS"
         },
         {
          "date": "2001-01-06T07:00:00",
          "delay": 18,
          "destination": "CLE",
          "distance": 314,
          "origin": "BWI"
         },
         {
          "date": "2001-01-01T16:30:00",
          "delay": -3,
          "destination": "BUR",
          "distance": 358,
          "origin": "SMF"
         },
         {
          "date": "2001-01-19T20:40:00",
          "delay": 5,
          "destination": "SJC",
          "distance": 188,
          "origin": "RNO"
         },
         {
          "date": "2001-03-24T12:55:00",
          "delay": -8,
          "destination": "SDF",
          "distance": 271,
          "origin": "MDW"
         },
         {
          "date": "2001-01-24T11:45:00",
          "delay": -5,
          "destination": "DAL",
          "distance": 319,
          "origin": "MAF"
         },
         {
          "date": "2001-01-11T06:30:00",
          "delay": -3,
          "destination": "MCI",
          "distance": 405,
          "origin": "MDW"
         },
         {
          "date": "2001-02-17T20:05:00",
          "delay": -5,
          "destination": "SJC",
          "distance": 621,
          "origin": "PHX"
         },
         {
          "date": "2001-02-05T15:15:00",
          "delay": -10,
          "destination": "LAS",
          "distance": 236,
          "origin": "LAX"
         },
         {
          "date": "2001-03-10T09:30:00",
          "delay": 0,
          "destination": "ONT",
          "distance": 1751,
          "origin": "BNA"
         },
         {
          "date": "2001-03-07T11:11:00",
          "delay": 24,
          "destination": "SAN",
          "distance": 304,
          "origin": "PHX"
         },
         {
          "date": "2001-01-27T07:35:00",
          "delay": 5,
          "destination": "LAS",
          "distance": 345,
          "origin": "RNO"
         },
         {
          "date": "2001-02-27T09:05:00",
          "delay": -7,
          "destination": "TPA",
          "distance": 487,
          "origin": "MSY"
         },
         {
          "date": "2001-03-12T09:08:00",
          "delay": 0,
          "destination": "SAT",
          "distance": 192,
          "origin": "HOU"
         },
         {
          "date": "2001-01-28T15:14:00",
          "delay": 12,
          "destination": "PBI",
          "distance": 758,
          "origin": "BNA"
         },
         {
          "date": "2001-02-03T17:15:00",
          "delay": 2,
          "destination": "OMA",
          "distance": 342,
          "origin": "STL"
         },
         {
          "date": "2001-01-20T15:00:00",
          "delay": -12,
          "destination": "OAK",
          "distance": 337,
          "origin": "LAX"
         },
         {
          "date": "2001-01-08T22:20:00",
          "delay": 77,
          "destination": "BUR",
          "distance": 223,
          "origin": "LAS"
         },
         {
          "date": "2001-02-20T18:40:00",
          "delay": -5,
          "destination": "BWI",
          "distance": 888,
          "origin": "JAN"
         },
         {
          "date": "2001-01-24T06:20:00",
          "delay": 3,
          "destination": "ONT",
          "distance": 389,
          "origin": "SMF"
         },
         {
          "date": "2001-02-10T13:45:00",
          "delay": -3,
          "destination": "LBB",
          "distance": 293,
          "origin": "DAL"
         },
         {
          "date": "2001-02-14T09:05:00",
          "delay": 15,
          "destination": "LAS",
          "distance": 1235,
          "origin": "HOU"
         },
         {
          "date": "2001-03-12T19:15:00",
          "delay": 3,
          "destination": "MCO",
          "distance": 178,
          "origin": "FLL"
         },
         {
          "date": "2001-01-26T21:17:00",
          "delay": 26,
          "destination": "MSY",
          "distance": 550,
          "origin": "MCO"
         },
         {
          "date": "2001-01-28T15:00:00",
          "delay": 9,
          "destination": "BUR",
          "distance": 369,
          "origin": "PHX"
         },
         {
          "date": "2001-03-17T18:35:00",
          "delay": -2,
          "destination": "SLC",
          "distance": 507,
          "origin": "PHX"
         },
         {
          "date": "2001-01-30T06:30:00",
          "delay": 14,
          "destination": "BHM",
          "distance": 682,
          "origin": "BWI"
         },
         {
          "date": "2001-03-03T14:34:00",
          "delay": 15,
          "destination": "MCO",
          "distance": 616,
          "origin": "BNA"
         },
         {
          "date": "2001-03-25T07:00:00",
          "delay": -10,
          "destination": "OAK",
          "distance": 361,
          "origin": "ONT"
         },
         {
          "date": "2001-02-26T10:45:00",
          "delay": -2,
          "destination": "MCO",
          "distance": 787,
          "origin": "BWI"
         },
         {
          "date": "2001-01-02T06:50:00",
          "delay": 5,
          "destination": "SEA",
          "distance": 399,
          "origin": "BOI"
         },
         {
          "date": "2001-03-31T12:40:00",
          "delay": 59,
          "destination": "MCO",
          "distance": 828,
          "origin": "IND"
         },
         {
          "date": "2001-01-25T19:40:00",
          "delay": 0,
          "destination": "LAX",
          "distance": 1814,
          "origin": "IND"
         },
         {
          "date": "2001-01-10T11:20:00",
          "delay": 20,
          "destination": "MSY",
          "distance": 303,
          "origin": "HOU"
         },
         {
          "date": "2001-03-28T07:10:00",
          "delay": -8,
          "destination": "MDW",
          "distance": 251,
          "origin": "STL"
         },
         {
          "date": "2001-02-15T15:05:00",
          "delay": 5,
          "destination": "LAX",
          "distance": 337,
          "origin": "OAK"
         },
         {
          "date": "2001-02-16T20:10:00",
          "delay": 32,
          "destination": "LAX",
          "distance": 1363,
          "origin": "MCI"
         },
         {
          "date": "2001-02-06T14:55:00",
          "delay": -5,
          "destination": "ALB",
          "distance": 288,
          "origin": "BWI"
         },
         {
          "date": "2001-01-08T20:40:00",
          "delay": 14,
          "destination": "BNA",
          "distance": 616,
          "origin": "MCO"
         },
         {
          "date": "2001-01-03T16:10:00",
          "delay": 12,
          "destination": "SMF",
          "distance": 358,
          "origin": "BUR"
         },
         {
          "date": "2001-03-05T18:00:00",
          "delay": -6,
          "destination": "SDF",
          "distance": 271,
          "origin": "MDW"
         },
         {
          "date": "2001-03-18T19:41:00",
          "delay": 19,
          "destination": "BWI",
          "distance": 328,
          "origin": "PVD"
         },
         {
          "date": "2001-01-30T08:30:00",
          "delay": -3,
          "destination": "DAL",
          "distance": 239,
          "origin": "HOU"
         },
         {
          "date": "2001-02-08T14:10:00",
          "delay": -6,
          "destination": "SAN",
          "distance": 480,
          "origin": "SMF"
         },
         {
          "date": "2001-01-03T15:20:00",
          "delay": 8,
          "destination": "LAS",
          "distance": 796,
          "origin": "MAF"
         },
         {
          "date": "2001-02-05T17:10:00",
          "delay": -7,
          "destination": "ONT",
          "distance": 325,
          "origin": "PHX"
         },
         {
          "date": "2001-02-25T11:10:00",
          "delay": -7,
          "destination": "BHM",
          "distance": 321,
          "origin": "MSY"
         },
         {
          "date": "2001-02-22T07:40:00",
          "delay": -3,
          "destination": "DAL",
          "distance": 248,
          "origin": "SAT"
         },
         {
          "date": "2001-03-12T20:00:00",
          "delay": 10,
          "destination": "MCI",
          "distance": 718,
          "origin": "ABQ"
         },
         {
          "date": "2001-02-18T14:40:00",
          "delay": 10,
          "destination": "SAN",
          "distance": 304,
          "origin": "PHX"
         },
         {
          "date": "2001-03-01T18:15:00",
          "delay": 12,
          "destination": "ONT",
          "distance": 197,
          "origin": "LAS"
         },
         {
          "date": "2001-03-02T10:17:00",
          "delay": 13,
          "destination": "OAK",
          "distance": 588,
          "origin": "SLC"
         },
         {
          "date": "2001-03-27T16:07:00",
          "delay": 6,
          "destination": "ONT",
          "distance": 325,
          "origin": "PHX"
         },
         {
          "date": "2001-01-01T12:55:00",
          "delay": -1,
          "destination": "SAN",
          "distance": 447,
          "origin": "SFO"
         },
         {
          "date": "2001-03-06T12:00:00",
          "delay": 5,
          "destination": "MCI",
          "distance": 1479,
          "origin": "SJC"
         },
         {
          "date": "2001-01-28T07:30:00",
          "delay": -18,
          "destination": "MCO",
          "distance": 787,
          "origin": "BWI"
         },
         {
          "date": "2001-03-10T18:00:00",
          "delay": -10,
          "destination": "SDF",
          "distance": 271,
          "origin": "MDW"
         },
         {
          "date": "2001-03-15T15:00:00",
          "delay": 0,
          "destination": "LAS",
          "distance": 197,
          "origin": "ONT"
         },
         {
          "date": "2001-01-23T08:45:00",
          "delay": -1,
          "destination": "PBI",
          "distance": 142,
          "origin": "MCO"
         },
         {
          "date": "2001-03-31T20:35:00",
          "delay": 56,
          "destination": "TPA",
          "distance": 587,
          "origin": "RDU"
         },
         {
          "date": "2001-03-15T17:55:00",
          "delay": 0,
          "destination": "TUL",
          "distance": 237,
          "origin": "DAL"
         },
         {
          "date": "2001-03-03T13:35:00",
          "delay": 24,
          "destination": "PHX",
          "distance": 328,
          "origin": "ABQ"
         },
         {
          "date": "2001-02-01T17:00:00",
          "delay": -2,
          "destination": "AUS",
          "distance": 148,
          "origin": "HOU"
         },
         {
          "date": "2001-01-19T11:50:00",
          "delay": -5,
          "destination": "DAL",
          "distance": 189,
          "origin": "AUS"
         },
         {
          "date": "2001-01-05T19:59:00",
          "delay": 51,
          "destination": "BWI",
          "distance": 288,
          "origin": "ALB"
         },
         {
          "date": "2001-01-01T17:21:00",
          "delay": 3,
          "destination": "CMH",
          "distance": 284,
          "origin": "MDW"
         },
         {
          "date": "2001-02-19T20:20:00",
          "delay": -3,
          "destination": "BDL",
          "distance": 283,
          "origin": "BWI"
         },
         {
          "date": "2001-01-08T16:09:00",
          "delay": -3,
          "destination": "OKC",
          "distance": 833,
          "origin": "PHX"
         },
         {
          "date": "2001-02-02T15:54:00",
          "delay": 13,
          "destination": "BWI",
          "distance": 283,
          "origin": "BDL"
         },
         {
          "date": "2001-03-12T10:10:00",
          "delay": -2,
          "destination": "BWI",
          "distance": 495,
          "origin": "SDF"
         },
         {
          "date": "2001-02-04T18:25:00",
          "delay": 6,
          "destination": "SMF",
          "distance": 1442,
          "origin": "MCI"
         },
         {
          "date": "2001-03-07T14:15:00",
          "delay": 30,
          "destination": "OMA",
          "distance": 1037,
          "origin": "PHX"
         },
         {
          "date": "2001-03-23T08:29:00",
          "delay": 6,
          "destination": "BWI",
          "distance": 328,
          "origin": "PVD"
         },
         {
          "date": "2001-03-02T08:15:00",
          "delay": 7,
          "destination": "MAF",
          "distance": 319,
          "origin": "DAL"
         },
         {
          "date": "2001-03-08T14:55:00",
          "delay": -3,
          "destination": "STL",
          "distance": 229,
          "origin": "IND"
         },
         {
          "date": "2001-03-26T08:35:00",
          "delay": 0,
          "destination": "GEG",
          "distance": 279,
          "origin": "PDX"
         },
         {
          "date": "2001-02-22T09:55:00",
          "delay": -5,
          "destination": "STL",
          "distance": 687,
          "origin": "HOU"
         },
         {
          "date": "2001-02-23T19:32:00",
          "delay": 72,
          "destination": "BWI",
          "distance": 314,
          "origin": "CLE"
         },
         {
          "date": "2001-02-25T11:20:00",
          "delay": -3,
          "destination": "SAT",
          "distance": 248,
          "origin": "DAL"
         },
         {
          "date": "2001-02-17T11:35:00",
          "delay": -3,
          "destination": "STL",
          "distance": 410,
          "origin": "CMH"
         },
         {
          "date": "2001-03-05T14:10:00",
          "delay": 45,
          "destination": "LAS",
          "distance": 258,
          "origin": "SAN"
         },
         {
          "date": "2001-02-13T16:30:00",
          "delay": -1,
          "destination": "AUS",
          "distance": 189,
          "origin": "DAL"
         },
         {
          "date": "2001-03-18T10:55:00",
          "delay": -12,
          "destination": "STL",
          "distance": 687,
          "origin": "HOU"
         },
         {
          "date": "2001-03-07T17:54:00",
          "delay": 9,
          "destination": "OAK",
          "distance": 361,
          "origin": "ONT"
         },
         {
          "date": "2001-02-23T13:38:00",
          "delay": 9,
          "destination": "JAX",
          "distance": 484,
          "origin": "BNA"
         },
         {
          "date": "2001-01-06T18:45:00",
          "delay": 0,
          "destination": "MSY",
          "distance": 550,
          "origin": "MCO"
         },
         {
          "date": "2001-01-27T15:00:00",
          "delay": 2,
          "destination": "TPA",
          "distance": 197,
          "origin": "FLL"
         },
         {
          "date": "2001-03-25T18:18:00",
          "delay": 24,
          "destination": "LAS",
          "distance": 407,
          "origin": "OAK"
         },
         {
          "date": "2001-01-13T15:25:00",
          "delay": 5,
          "destination": "TPA",
          "distance": 842,
          "origin": "BWI"
         },
         {
          "date": "2001-01-12T09:35:00",
          "delay": -23,
          "destination": "TPA",
          "distance": 1137,
          "origin": "PVD"
         },
         {
          "date": "2001-03-27T16:15:00",
          "delay": 3,
          "destination": "LAX",
          "distance": 236,
          "origin": "LAS"
         },
         {
          "date": "2001-03-20T14:35:00",
          "delay": 6,
          "destination": "MDW",
          "distance": 229,
          "origin": "DTW"
         },
         {
          "date": "2001-02-16T18:58:00",
          "delay": 60,
          "destination": "HOU",
          "distance": 239,
          "origin": "DAL"
         },
         {
          "date": "2001-01-10T08:30:00",
          "delay": 3,
          "destination": "LAX",
          "distance": 337,
          "origin": "OAK"
         },
         {
          "date": "2001-03-14T09:15:00",
          "delay": -7,
          "destination": "TPA",
          "distance": 829,
          "origin": "CMH"
         },
         {
          "date": "2001-01-03T18:00:00",
          "delay": 72,
          "destination": "RNO",
          "distance": 390,
          "origin": "LAX"
         },
         {
          "date": "2001-02-03T13:25:00",
          "delay": -22,
          "destination": "LAX",
          "distance": 677,
          "origin": "ABQ"
         },
         {
          "date": "2001-02-22T13:52:00",
          "delay": 45,
          "destination": "OAK",
          "distance": 361,
          "origin": "ONT"
         },
         {
          "date": "2001-01-11T11:15:00",
          "delay": 12,
          "destination": "ELP",
          "distance": 677,
          "origin": "HOU"
         },
         {
          "date": "2001-03-25T16:10:00",
          "delay": 12,
          "destination": "SMF",
          "distance": 358,
          "origin": "BUR"
         },
         {
          "date": "2001-03-23T16:00:00",
          "delay": 0,
          "destination": "PVD",
          "distance": 328,
          "origin": "BWI"
         },
         {
          "date": "2001-01-24T21:22:00",
          "delay": 5,
          "destination": "LIT",
          "distance": 296,
          "origin": "DAL"
         },
         {
          "date": "2001-02-15T15:57:00",
          "delay": 82,
          "destination": "LAS",
          "distance": 256,
          "origin": "PHX"
         },
         {
          "date": "2001-03-21T14:50:00",
          "delay": 1,
          "destination": "TPA",
          "distance": 174,
          "origin": "PBI"
         },
         {
          "date": "2001-01-25T21:03:00",
          "delay": 5,
          "destination": "SEA",
          "distance": 224,
          "origin": "GEG"
         },
         {
          "date": "2001-03-28T10:15:00",
          "delay": 8,
          "destination": "STL",
          "distance": 237,
          "origin": "MCI"
         },
         {
          "date": "2001-03-29T20:13:00",
          "delay": 32,
          "destination": "MDW",
          "distance": 1166,
          "origin": "FLL"
         },
         {
          "date": "2001-01-22T17:20:00",
          "delay": 3,
          "destination": "SLC",
          "distance": 291,
          "origin": "BOI"
         },
         {
          "date": "2001-03-16T17:00:00",
          "delay": 55,
          "destination": "MDW",
          "distance": 284,
          "origin": "CMH"
         },
         {
          "date": "2001-03-01T16:29:00",
          "delay": 47,
          "destination": "PHX",
          "distance": 256,
          "origin": "LAS"
         },
         {
          "date": "2001-01-17T18:44:00",
          "delay": 12,
          "destination": "LAX",
          "distance": 337,
          "origin": "OAK"
         },
         {
          "date": "2001-02-28T06:10:00",
          "delay": 2,
          "destination": "SJC",
          "distance": 188,
          "origin": "RNO"
         },
         {
          "date": "2001-02-23T16:15:00",
          "delay": -5,
          "destination": "SFO",
          "distance": 447,
          "origin": "SAN"
         },
         {
          "date": "2001-01-14T20:30:00",
          "delay": 0,
          "destination": "JAX",
          "distance": 663,
          "origin": "BWI"
         },
         {
          "date": "2001-03-13T15:05:00",
          "delay": 9,
          "destination": "SAT",
          "distance": 496,
          "origin": "ELP"
         },
         {
          "date": "2001-01-22T06:30:00",
          "delay": 0,
          "destination": "SEA",
          "distance": 224,
          "origin": "GEG"
         },
         {
          "date": "2001-01-07T09:40:00",
          "delay": -7,
          "destination": "BWI",
          "distance": 328,
          "origin": "PVD"
         },
         {
          "date": "2001-01-07T09:10:00",
          "delay": -11,
          "destination": "PHX",
          "distance": 304,
          "origin": "SAN"
         },
         {
          "date": "2001-03-16T13:15:00",
          "delay": -5,
          "destination": "LAS",
          "distance": 258,
          "origin": "SAN"
         },
         {
          "date": "2001-01-26T12:05:00",
          "delay": 53,
          "destination": "MCO",
          "distance": 1073,
          "origin": "PVD"
         },
         {
          "date": "2001-01-30T07:00:00",
          "delay": -2,
          "destination": "RNO",
          "distance": 345,
          "origin": "LAS"
         },
         {
          "date": "2001-03-12T11:40:00",
          "delay": -23,
          "destination": "PHX",
          "distance": 1489,
          "origin": "IND"
         },
         {
          "date": "2001-01-30T16:00:00",
          "delay": 10,
          "destination": "HOU",
          "distance": 276,
          "origin": "HRL"
         },
         {
          "date": "2001-03-10T14:10:00",
          "delay": 0,
          "destination": "ELP",
          "distance": 496,
          "origin": "SAT"
         },
         {
          "date": "2001-03-28T12:00:00",
          "delay": -5,
          "destination": "LAX",
          "distance": 337,
          "origin": "OAK"
         },
         {
          "date": "2001-01-15T09:20:00",
          "delay": 4,
          "destination": "SAN",
          "distance": 446,
          "origin": "OAK"
         },
         {
          "date": "2001-03-06T22:39:00",
          "delay": 39,
          "destination": "OAK",
          "distance": 337,
          "origin": "LAX"
         },
         {
          "date": "2001-03-29T16:29:00",
          "delay": -1,
          "destination": "RNO",
          "distance": 564,
          "origin": "SEA"
         },
         {
          "date": "2001-01-21T06:30:00",
          "delay": -5,
          "destination": "LAX",
          "distance": 337,
          "origin": "OAK"
         },
         {
          "date": "2001-03-02T21:18:00",
          "delay": 20,
          "destination": "HOU",
          "distance": 239,
          "origin": "DAL"
         },
         {
          "date": "2001-03-17T10:50:00",
          "delay": 15,
          "destination": "LAX",
          "distance": 451,
          "origin": "TUS"
         },
         {
          "date": "2001-03-29T22:42:00",
          "delay": 78,
          "destination": "BUF",
          "distance": 281,
          "origin": "BWI"
         },
         {
          "date": "2001-03-16T09:45:00",
          "delay": 65,
          "destination": "HOU",
          "distance": 687,
          "origin": "STL"
         },
         {
          "date": "2001-01-30T12:46:00",
          "delay": 84,
          "destination": "DAL",
          "distance": 248,
          "origin": "SAT"
         },
         {
          "date": "2001-03-11T22:40:00",
          "delay": 0,
          "destination": "ONT",
          "distance": 389,
          "origin": "SMF"
         },
         {
          "date": "2001-03-31T19:40:00",
          "delay": -11,
          "destination": "SMF",
          "distance": 605,
          "origin": "SEA"
         },
         {
          "date": "2001-03-19T16:45:00",
          "delay": 33,
          "destination": "BNA",
          "distance": 1448,
          "origin": "PHX"
         },
         {
          "date": "2001-02-15T07:45:00",
          "delay": 49,
          "destination": "IND",
          "distance": 229,
          "origin": "STL"
         },
         {
          "date": "2001-03-26T10:42:00",
          "delay": -2,
          "destination": "STL",
          "distance": 1262,
          "origin": "PHX"
         },
         {
          "date": "2001-03-04T12:50:00",
          "delay": -2,
          "destination": "BNA",
          "distance": 1977,
          "origin": "SEA"
         },
         {
          "date": "2001-01-03T10:55:00",
          "delay": 13,
          "destination": "BUR",
          "distance": 325,
          "origin": "OAK"
         },
         {
          "date": "2001-03-18T07:10:00",
          "delay": -16,
          "destination": "ISP",
          "distance": 803,
          "origin": "BNA"
         },
         {
          "date": "2001-01-18T14:40:00",
          "delay": -4,
          "destination": "BUR",
          "distance": 325,
          "origin": "OAK"
         },
         {
          "date": "2001-01-11T19:20:00",
          "delay": 35,
          "destination": "RNO",
          "distance": 345,
          "origin": "LAS"
         },
         {
          "date": "2001-01-22T10:28:00",
          "delay": -1,
          "destination": "BNA",
          "distance": 443,
          "origin": "RDU"
         },
         {
          "date": "2001-03-16T12:20:00",
          "delay": 20,
          "destination": "SDF",
          "distance": 495,
          "origin": "BWI"
         },
         {
          "date": "2001-01-07T16:20:00",
          "delay": -4,
          "destination": "SLC",
          "distance": 630,
          "origin": "PDX"
         },
         {
          "date": "2001-03-05T15:50:00",
          "delay": 4,
          "destination": "BNA",
          "distance": 338,
          "origin": "CMH"
         },
         {
          "date": "2001-03-09T14:00:00",
          "delay": 30,
          "destination": "ABQ",
          "distance": 487,
          "origin": "LAS"
         },
         {
          "date": "2001-03-02T17:23:00",
          "delay": 10,
          "destination": "OAK",
          "distance": 543,
          "origin": "PDX"
         },
         {
          "date": "2001-02-11T06:25:00",
          "delay": 4,
          "destination": "BOI",
          "distance": 399,
          "origin": "SEA"
         },
         {
          "date": "2001-02-26T16:30:00",
          "delay": 22,
          "destination": "HOU",
          "distance": 937,
          "origin": "MDW"
         },
         {
          "date": "2001-02-08T19:45:00",
          "delay": 11,
          "destination": "BWI",
          "distance": 288,
          "origin": "ALB"
         },
         {
          "date": "2001-03-18T09:05:00",
          "delay": -5,
          "destination": "HOU",
          "distance": 687,
          "origin": "STL"
         },
         {
          "date": "2001-02-19T15:00:00",
          "delay": 0,
          "destination": "SLC",
          "distance": 919,
          "origin": "MCI"
         },
         {
          "date": "2001-01-08T20:05:00",
          "delay": 0,
          "destination": "DAL",
          "distance": 239,
          "origin": "HOU"
         },
         {
          "date": "2001-02-08T12:45:00",
          "delay": -2,
          "destination": "LAX",
          "distance": 370,
          "origin": "PHX"
         },
         {
          "date": "2001-01-11T18:15:00",
          "delay": 64,
          "destination": "JAN",
          "distance": 359,
          "origin": "HOU"
         },
         {
          "date": "2001-01-15T15:00:00",
          "delay": 9,
          "destination": "LAX",
          "distance": 370,
          "origin": "PHX"
         },
         {
          "date": "2001-01-07T15:17:00",
          "delay": 14,
          "destination": "ONT",
          "distance": 361,
          "origin": "OAK"
         },
         {
          "date": "2001-03-09T10:55:00",
          "delay": -1,
          "destination": "AUS",
          "distance": 148,
          "origin": "HOU"
         },
         {
          "date": "2001-01-08T06:15:00",
          "delay": 6,
          "destination": "BOI",
          "distance": 399,
          "origin": "SEA"
         },
         {
          "date": "2001-01-05T06:30:00",
          "delay": 0,
          "destination": "LAX",
          "distance": 373,
          "origin": "SMF"
         },
         {
          "date": "2001-03-01T13:30:00",
          "delay": 3,
          "destination": "PDX",
          "distance": 279,
          "origin": "GEG"
         },
         {
          "date": "2001-02-06T10:10:00",
          "delay": -11,
          "destination": "HOU",
          "distance": 419,
          "origin": "OKC"
         },
         {
          "date": "2001-02-09T21:00:00",
          "delay": 180,
          "destination": "PHX",
          "distance": 304,
          "origin": "SAN"
         },
         {
          "date": "2001-01-12T21:02:00",
          "delay": 22,
          "destination": "MCO",
          "distance": 787,
          "origin": "BWI"
         },
         {
          "date": "2001-03-26T13:50:00",
          "delay": 11,
          "destination": "MDW",
          "distance": 395,
          "origin": "BNA"
         },
         {
          "date": "2001-03-15T10:30:00",
          "delay": -10,
          "destination": "SAN",
          "distance": 1164,
          "origin": "AUS"
         },
         {
          "date": "2001-03-30T09:50:00",
          "delay": 2,
          "destination": "PHX",
          "distance": 325,
          "origin": "ONT"
         },
         {
          "date": "2001-01-22T08:50:00",
          "delay": 10,
          "destination": "SMF",
          "distance": 480,
          "origin": "SAN"
         },
         {
          "date": "2001-03-30T11:00:00",
          "delay": -6,
          "destination": "SAN",
          "distance": 636,
          "origin": "ELP"
         },
         {
          "date": "2001-01-25T17:17:00",
          "delay": 1,
          "destination": "STL",
          "distance": 737,
          "origin": "BWI"
         },
         {
          "date": "2001-02-15T22:00:00",
          "delay": 7,
          "destination": "SAN",
          "distance": 417,
          "origin": "SJC"
         },
         {
          "date": "2001-02-07T19:39:00",
          "delay": 2,
          "destination": "DAL",
          "distance": 239,
          "origin": "HOU"
         },
         {
          "date": "2001-02-13T17:20:00",
          "delay": -7,
          "destination": "PVD",
          "distance": 328,
          "origin": "BWI"
         },
         {
          "date": "2001-02-23T06:34:00",
          "delay": 37,
          "destination": "BNA",
          "distance": 588,
          "origin": "BWI"
         },
         {
          "date": "2001-03-30T13:32:00",
          "delay": -3,
          "destination": "CLE",
          "distance": 307,
          "origin": "MDW"
         },
         {
          "date": "2001-01-12T08:03:00",
          "delay": 17,
          "destination": "PDX",
          "distance": 569,
          "origin": "SJC"
         },
         {
          "date": "2001-01-31T20:50:00",
          "delay": 8,
          "destination": "ABQ",
          "distance": 677,
          "origin": "LAX"
         },
         {
          "date": "2001-02-07T16:20:00",
          "delay": -6,
          "destination": "BNA",
          "distance": 670,
          "origin": "HOU"
         },
         {
          "date": "2001-02-16T07:25:00",
          "delay": -7,
          "destination": "LAX",
          "distance": 308,
          "origin": "SJC"
         },
         {
          "date": "2001-02-10T10:55:00",
          "delay": -6,
          "destination": "ALB",
          "distance": 288,
          "origin": "BWI"
         },
         {
          "date": "2001-01-18T07:45:00",
          "delay": 15,
          "destination": "MCI",
          "distance": 967,
          "origin": "BWI"
         },
         {
          "date": "2001-02-14T12:37:00",
          "delay": 3,
          "destination": "LAX",
          "distance": 714,
          "origin": "ELP"
         },
         {
          "date": "2001-03-20T06:45:00",
          "delay": 13,
          "destination": "PHX",
          "distance": 646,
          "origin": "OAK"
         },
         {
          "date": "2001-02-18T08:00:00",
          "delay": 7,
          "destination": "BWI",
          "distance": 883,
          "origin": "PBI"
         },
         {
          "date": "2001-01-09T12:25:00",
          "delay": 0,
          "destination": "SDF",
          "distance": 323,
          "origin": "BHM"
         },
         {
          "date": "2001-03-04T15:45:00",
          "delay": -5,
          "destination": "HOU",
          "distance": 148,
          "origin": "AUS"
         },
         {
          "date": "2001-01-19T09:45:00",
          "delay": 65,
          "destination": "BWI",
          "distance": 283,
          "origin": "BDL"
         },
         {
          "date": "2001-03-27T11:20:00",
          "delay": 14,
          "destination": "SAT",
          "distance": 248,
          "origin": "DAL"
         },
         {
          "date": "2001-03-03T17:53:00",
          "delay": 32,
          "destination": "BDL",
          "distance": 283,
          "origin": "BWI"
         },
         {
          "date": "2001-02-17T16:01:00",
          "delay": 4,
          "destination": "AUS",
          "distance": 872,
          "origin": "PHX"
         },
         {
          "date": "2001-02-01T11:45:00",
          "delay": -2,
          "destination": "LAS",
          "distance": 407,
          "origin": "OAK"
         },
         {
          "date": "2001-02-14T11:55:00",
          "delay": 18,
          "destination": "MDW",
          "distance": 271,
          "origin": "SDF"
         },
         {
          "date": "2001-02-07T12:17:00",
          "delay": 18,
          "destination": "DAL",
          "distance": 239,
          "origin": "HOU"
         },
         {
          "date": "2001-01-14T21:50:00",
          "delay": 2,
          "destination": "MDW",
          "distance": 271,
          "origin": "SDF"
         },
         {
          "date": "2001-02-02T21:20:00",
          "delay": 28,
          "destination": "SAT",
          "distance": 248,
          "origin": "DAL"
         },
         {
          "date": "2001-03-03T13:05:00",
          "delay": 23,
          "destination": "BNA",
          "distance": 484,
          "origin": "JAX"
         },
         {
          "date": "2001-02-23T06:20:00",
          "delay": 6,
          "destination": "SLC",
          "distance": 291,
          "origin": "BOI"
         },
         {
          "date": "2001-02-28T09:40:00",
          "delay": -5,
          "destination": "ONT",
          "distance": 325,
          "origin": "PHX"
         },
         {
          "date": "2001-02-23T14:52:00",
          "delay": 14,
          "destination": "LAX",
          "distance": 370,
          "origin": "PHX"
         },
         {
          "date": "2001-01-19T15:45:00",
          "delay": 18,
          "destination": "SAN",
          "distance": 417,
          "origin": "SJC"
         },
         {
          "date": "2001-02-09T16:25:00",
          "delay": -18,
          "destination": "BWI",
          "distance": 1999,
          "origin": "PHX"
         },
         {
          "date": "2001-01-21T20:20:00",
          "delay": -4,
          "destination": "SEA",
          "distance": 399,
          "origin": "BOI"
         },
         {
          "date": "2001-01-25T13:50:00",
          "delay": 0,
          "destination": "LIT",
          "distance": 296,
          "origin": "DAL"
         },
         {
          "date": "2001-02-21T12:50:00",
          "delay": 6,
          "destination": "SAN",
          "distance": 367,
          "origin": "TUS"
         },
         {
          "date": "2001-03-28T19:22:00",
          "delay": 21,
          "destination": "BUR",
          "distance": 296,
          "origin": "SJC"
         },
         {
          "date": "2001-02-25T08:27:00",
          "delay": 6,
          "destination": "MCO",
          "distance": 550,
          "origin": "MSY"
         },
         {
          "date": "2001-03-29T22:10:00",
          "delay": 8,
          "destination": "SMF",
          "distance": 389,
          "origin": "ONT"
         },
         {
          "date": "2001-01-09T13:25:00",
          "delay": -7,
          "destination": "ABQ",
          "distance": 718,
          "origin": "MCI"
         },
         {
          "date": "2001-03-03T15:50:00",
          "delay": -6,
          "destination": "OAK",
          "distance": 543,
          "origin": "PDX"
         },
         {
          "date": "2001-02-10T09:25:00",
          "delay": -9,
          "destination": "STL",
          "distance": 687,
          "origin": "HOU"
         },
         {
          "date": "2001-01-18T11:40:00",
          "delay": 0,
          "destination": "SNA",
          "distance": 371,
          "origin": "OAK"
         },
         {
          "date": "2001-02-16T13:00:00",
          "delay": 17,
          "destination": "BNA",
          "distance": 484,
          "origin": "JAX"
         },
         {
          "date": "2001-03-03T17:30:00",
          "delay": 10,
          "destination": "LAS",
          "distance": 345,
          "origin": "RNO"
         },
         {
          "date": "2001-03-23T21:40:00",
          "delay": -4,
          "destination": "OAK",
          "distance": 325,
          "origin": "BUR"
         },
         {
          "date": "2001-03-17T17:20:00",
          "delay": 1,
          "destination": "DAL",
          "distance": 319,
          "origin": "MAF"
         },
         {
          "date": "2001-02-20T19:44:00",
          "delay": 22,
          "destination": "RNO",
          "distance": 444,
          "origin": "PDX"
         },
         {
          "date": "2001-02-22T19:38:00",
          "delay": 18,
          "destination": "HRL",
          "distance": 276,
          "origin": "HOU"
         },
         {
          "date": "2001-03-20T16:25:00",
          "delay": 27,
          "destination": "JAX",
          "distance": 318,
          "origin": "FLL"
         },
         {
          "date": "2001-01-08T07:05:00",
          "delay": 5,
          "destination": "BNA",
          "distance": 612,
          "origin": "TPA"
         },
         {
          "date": "2001-02-12T13:52:00",
          "delay": -2,
          "destination": "OMA",
          "distance": 1037,
          "origin": "PHX"
         },
         {
          "date": "2001-03-12T11:32:00",
          "delay": 0,
          "destination": "MSY",
          "distance": 303,
          "origin": "HOU"
         },
         {
          "date": "2001-01-20T18:15:00",
          "delay": 0,
          "destination": "ISP",
          "distance": 1034,
          "origin": "TPA"
         },
         {
          "date": "2001-01-30T18:45:00",
          "delay": -11,
          "destination": "PHX",
          "distance": 304,
          "origin": "SAN"
         },
         {
          "date": "2001-02-02T21:10:00",
          "delay": 10,
          "destination": "PHX",
          "distance": 369,
          "origin": "BUR"
         },
         {
          "date": "2001-02-10T13:00:00",
          "delay": 0,
          "destination": "PDX",
          "distance": 762,
          "origin": "LAS"
         },
         {
          "date": "2001-01-10T11:48:00",
          "delay": 16,
          "destination": "MSY",
          "distance": 303,
          "origin": "HOU"
         },
         {
          "date": "2001-02-08T12:46:00",
          "delay": 32,
          "destination": "SLC",
          "distance": 689,
          "origin": "SEA"
         },
         {
          "date": "2001-02-08T21:07:00",
          "delay": 31,
          "destination": "LIT",
          "distance": 296,
          "origin": "STL"
         },
         {
          "date": "2001-03-02T18:03:00",
          "delay": 20,
          "destination": "SAN",
          "distance": 367,
          "origin": "TUS"
         },
         {
          "date": "2001-03-05T10:50:00",
          "delay": 40,
          "destination": "OAK",
          "distance": 646,
          "origin": "PHX"
         },
         {
          "date": "2001-02-22T14:15:00",
          "delay": 27,
          "destination": "BWI",
          "distance": 328,
          "origin": "PVD"
         },
         {
          "date": "2001-01-19T15:33:00",
          "delay": 14,
          "destination": "AMA",
          "distance": 324,
          "origin": "DAL"
         },
         {
          "date": "2001-03-14T20:48:00",
          "delay": 12,
          "destination": "LAS",
          "distance": 397,
          "origin": "SMF"
         },
         {
          "date": "2001-03-29T15:54:00",
          "delay": 0,
          "destination": "LAS",
          "distance": 223,
          "origin": "BUR"
         },
         {
          "date": "2001-02-19T13:20:00",
          "delay": 8,
          "destination": "OKC",
          "distance": 181,
          "origin": "DAL"
         },
         {
          "date": "2001-01-02T16:05:00",
          "delay": -9,
          "destination": "BWI",
          "distance": 663,
          "origin": "JAX"
         },
         {
          "date": "2001-02-27T10:55:00",
          "delay": -2,
          "destination": "ALB",
          "distance": 288,
          "origin": "BWI"
         },
         {
          "date": "2001-03-06T17:05:00",
          "delay": -10,
          "destination": "SMF",
          "distance": 358,
          "origin": "BUR"
         },
         {
          "date": "2001-02-09T21:55:00",
          "delay": 20,
          "destination": "LAS",
          "distance": 407,
          "origin": "OAK"
         },
         {
          "date": "2001-02-10T20:15:00",
          "delay": -10,
          "destination": "STL",
          "distance": 880,
          "origin": "MCO"
         },
         {
          "date": "2001-01-14T11:45:00",
          "delay": -23,
          "destination": "MDW",
          "distance": 1444,
          "origin": "PHX"
         },
         {
          "date": "2001-03-08T22:48:00",
          "delay": 53,
          "destination": "GEG",
          "distance": 224,
          "origin": "SEA"
         },
         {
          "date": "2001-02-02T14:03:00",
          "delay": 3,
          "destination": "MAF",
          "distance": 332,
          "origin": "ABQ"
         },
         {
          "date": "2001-02-15T09:54:00",
          "delay": 10,
          "destination": "PDX",
          "distance": 479,
          "origin": "SMF"
         },
         {
          "date": "2001-02-13T06:00:00",
          "delay": -5,
          "destination": "MDW",
          "distance": 405,
          "origin": "MCI"
         },
         {
          "date": "2001-01-03T12:30:00",
          "delay": 3,
          "destination": "DAL",
          "distance": 580,
          "origin": "ABQ"
         },
         {
          "date": "2001-01-10T12:50:00",
          "delay": 11,
          "destination": "PHX",
          "distance": 601,
          "origin": "RNO"
         },
         {
          "date": "2001-01-01T08:15:00",
          "delay": 5,
          "destination": "MCI",
          "distance": 223,
          "origin": "TUL"
         },
         {
          "date": "2001-03-21T14:24:00",
          "delay": 8,
          "destination": "SMF",
          "distance": 647,
          "origin": "PHX"
         },
         {
          "date": "2001-03-06T08:15:00",
          "delay": -4,
          "destination": "MCI",
          "distance": 223,
          "origin": "TUL"
         },
         {
          "date": "2001-03-11T08:30:00",
          "delay": 0,
          "destination": "LAX",
          "distance": 370,
          "origin": "PHX"
         },
         {
          "date": "2001-03-10T06:30:00",
          "delay": -5,
          "destination": "HOU",
          "distance": 359,
          "origin": "JAN"
         },
         {
          "date": "2001-03-02T18:30:00",
          "delay": -13,
          "destination": "PVD",
          "distance": 907,
          "origin": "BNA"
         },
         {
          "date": "2001-02-15T18:45:00",
          "delay": 75,
          "destination": "SJC",
          "distance": 386,
          "origin": "LAS"
         },
         {
          "date": "2001-01-23T18:10:00",
          "delay": 7,
          "destination": "TUL",
          "distance": 237,
          "origin": "DAL"
         },
         {
          "date": "2001-02-22T16:40:00",
          "delay": 16,
          "destination": "LAX",
          "distance": 451,
          "origin": "TUS"
         },
         {
          "date": "2001-02-24T07:00:00",
          "delay": -13,
          "destination": "MCI",
          "distance": 1072,
          "origin": "MCO"
         },
         {
          "date": "2001-02-19T13:20:00",
          "delay": -5,
          "destination": "BWI",
          "distance": 328,
          "origin": "PVD"
         },
         {
          "date": "2001-01-07T11:00:00",
          "delay": -5,
          "destination": "STL",
          "distance": 351,
          "origin": "TUL"
         },
         {
          "date": "2001-01-10T20:40:00",
          "delay": 7,
          "destination": "BWI",
          "distance": 328,
          "origin": "PVD"
         },
         {
          "date": "2001-02-09T14:15:00",
          "delay": 15,
          "destination": "TPA",
          "distance": 869,
          "origin": "STL"
         },
         {
          "date": "2001-02-16T16:00:00",
          "delay": -4,
          "destination": "LBB",
          "distance": 289,
          "origin": "ABQ"
         },
         {
          "date": "2001-03-16T18:32:00",
          "delay": 40,
          "destination": "PHX",
          "distance": 1136,
          "origin": "LIT"
         },
         {
          "date": "2001-02-27T21:50:00",
          "delay": 1,
          "destination": "STL",
          "distance": 687,
          "origin": "HOU"
         },
         {
          "date": "2001-01-21T20:09:00",
          "delay": 41,
          "destination": "SMF",
          "distance": 389,
          "origin": "ONT"
         },
         {
          "date": "2001-02-02T22:12:00",
          "delay": 10,
          "destination": "PHX",
          "distance": 256,
          "origin": "LAS"
         },
         {
          "date": "2001-01-03T18:21:00",
          "delay": 29,
          "destination": "ABQ",
          "distance": 934,
          "origin": "STL"
         },
         {
          "date": "2001-01-30T07:00:00",
          "delay": -3,
          "destination": "DAL",
          "distance": 237,
          "origin": "TUL"
         },
         {
          "date": "2001-02-23T19:30:00",
          "delay": 22,
          "destination": "DAL",
          "distance": 181,
          "origin": "OKC"
         },
         {
          "date": "2001-03-30T08:25:00",
          "delay": -6,
          "destination": "JAN",
          "distance": 888,
          "origin": "BWI"
         },
         {
          "date": "2001-01-11T19:04:00",
          "delay": 9,
          "destination": "BWI",
          "distance": 377,
          "origin": "MHT"
         },
         {
          "date": "2001-03-16T19:20:00",
          "delay": 58,
          "destination": "BWI",
          "distance": 925,
          "origin": "FLL"
         },
         {
          "date": "2001-03-06T06:55:00",
          "delay": -4,
          "destination": "MCI",
          "distance": 1481,
          "origin": "PDX"
         },
         {
          "date": "2001-02-24T12:00:00",
          "delay": -5,
          "destination": "SDF",
          "distance": 495,
          "origin": "BWI"
         },
         {
          "date": "2001-03-14T12:45:00",
          "delay": -5,
          "destination": "DAL",
          "distance": 217,
          "origin": "IAH"
         },
         {
          "date": "2001-02-05T15:05:00",
          "delay": -10,
          "destination": "SFO",
          "distance": 447,
          "origin": "SAN"
         },
         {
          "date": "2001-02-06T21:45:00",
          "delay": -5,
          "destination": "IND",
          "distance": 229,
          "origin": "STL"
         },
         {
          "date": "2001-03-10T12:06:00",
          "delay": 5,
          "destination": "AMA",
          "distance": 277,
          "origin": "ABQ"
         },
         {
          "date": "2001-02-25T12:30:00",
          "delay": -3,
          "destination": "ISP",
          "distance": 803,
          "origin": "BNA"
         },
         {
          "date": "2001-03-05T22:05:00",
          "delay": 8,
          "destination": "LAX",
          "distance": 308,
          "origin": "SJC"
         },
         {
          "date": "2001-02-01T19:50:00",
          "delay": -8,
          "destination": "ONT",
          "distance": 333,
          "origin": "SJC"
         },
         {
          "date": "2001-02-12T10:40:00",
          "delay": -3,
          "destination": "OKC",
          "distance": 313,
          "origin": "MCI"
         },
         {
          "date": "2001-03-07T21:55:00",
          "delay": 7,
          "destination": "HRL",
          "distance": 276,
          "origin": "HOU"
         },
         {
          "date": "2001-02-20T07:52:00",
          "delay": 9,
          "destination": "AUS",
          "distance": 189,
          "origin": "DAL"
         },
         {
          "date": "2001-02-20T08:25:00",
          "delay": 0,
          "destination": "IND",
          "distance": 162,
          "origin": "MDW"
         },
         {
          "date": "2001-03-04T18:25:00",
          "delay": 11,
          "destination": "SMF",
          "distance": 1442,
          "origin": "MCI"
         },
         {
          "date": "2001-02-18T06:30:00",
          "delay": -9,
          "destination": "LAX",
          "distance": 337,
          "origin": "OAK"
         },
         {
          "date": "2001-02-21T20:55:00",
          "delay": -6,
          "destination": "DAL",
          "distance": 248,
          "origin": "SAT"
         },
         {
          "date": "2001-03-02T12:12:00",
          "delay": 7,
          "destination": "OAK",
          "distance": 446,
          "origin": "SAN"
         },
         {
          "date": "2001-03-02T09:15:00",
          "delay": 11,
          "destination": "SJC",
          "distance": 308,
          "origin": "LAX"
         },
         {
          "date": "2001-03-29T06:25:00",
          "delay": -5,
          "destination": "PHX",
          "distance": 347,
          "origin": "ELP"
         },
         {
          "date": "2001-02-24T08:45:00",
          "delay": -10,
          "destination": "LAS",
          "distance": 1099,
          "origin": "OMA"
         },
         {
          "date": "2001-01-02T18:05:00",
          "delay": 19,
          "destination": "BNA",
          "distance": 443,
          "origin": "RDU"
         },
         {
          "date": "2001-01-06T14:00:00",
          "delay": 0,
          "destination": "PHX",
          "distance": 325,
          "origin": "ONT"
         },
         {
          "date": "2001-02-20T15:40:00",
          "delay": -8,
          "destination": "SLC",
          "distance": 507,
          "origin": "PHX"
         },
         {
          "date": "2001-02-27T10:25:00",
          "delay": -5,
          "destination": "ONT",
          "distance": 389,
          "origin": "SMF"
         },
         {
          "date": "2001-03-30T18:21:00",
          "delay": 3,
          "destination": "MDW",
          "distance": 251,
          "origin": "STL"
         },
         {
          "date": "2001-02-09T06:05:00",
          "delay": 4,
          "destination": "BOI",
          "distance": 287,
          "origin": "GEG"
         },
         {
          "date": "2001-02-14T19:30:00",
          "delay": -12,
          "destination": "LAS",
          "distance": 368,
          "origin": "SLC"
         },
         {
          "date": "2001-01-07T18:45:00",
          "delay": 28,
          "destination": "ABQ",
          "distance": 328,
          "origin": "PHX"
         },
         {
          "date": "2001-01-28T21:35:00",
          "delay": -5,
          "destination": "MDW",
          "distance": 284,
          "origin": "CMH"
         },
         {
          "date": "2001-01-22T07:55:00",
          "delay": -14,
          "destination": "MSY",
          "distance": 321,
          "origin": "BHM"
         },
         {
          "date": "2001-02-24T12:40:00",
          "delay": 3,
          "destination": "SJC",
          "distance": 333,
          "origin": "ONT"
         },
         {
          "date": "2001-03-16T16:00:00",
          "delay": 69,
          "destination": "OKC",
          "distance": 313,
          "origin": "MCI"
         },
         {
          "date": "2001-02-20T06:29:00",
          "delay": 3,
          "destination": "SFO",
          "distance": 447,
          "origin": "SAN"
         },
         {
          "date": "2001-03-29T22:20:00",
          "delay": 156,
          "destination": "STL",
          "distance": 687,
          "origin": "HOU"
         },
         {
          "date": "2001-02-21T18:35:00",
          "delay": -1,
          "destination": "LAS",
          "distance": 256,
          "origin": "PHX"
         },
         {
          "date": "2001-02-06T21:00:00",
          "delay": -8,
          "destination": "BWI",
          "distance": 495,
          "origin": "SDF"
         },
         {
          "date": "2001-01-05T19:55:00",
          "delay": 68,
          "destination": "CLE",
          "distance": 448,
          "origin": "BNA"
         },
         {
          "date": "2001-02-05T11:40:00",
          "delay": -18,
          "destination": "LAX",
          "distance": 677,
          "origin": "ABQ"
         },
         {
          "date": "2001-01-07T16:15:00",
          "delay": 15,
          "destination": "SNA",
          "distance": 371,
          "origin": "OAK"
         },
         {
          "date": "2001-01-24T18:15:00",
          "delay": 4,
          "destination": "PHX",
          "distance": 1037,
          "origin": "OMA"
         },
         {
          "date": "2001-01-07T10:15:00",
          "delay": -8,
          "destination": "MDW",
          "distance": 251,
          "origin": "STL"
         },
         {
          "date": "2001-01-25T07:45:00",
          "delay": -6,
          "destination": "BWI",
          "distance": 283,
          "origin": "BDL"
         },
         {
          "date": "2001-01-07T12:00:00",
          "delay": -10,
          "destination": "OAK",
          "distance": 337,
          "origin": "LAX"
         },
         {
          "date": "2001-03-12T10:40:00",
          "delay": -9,
          "destination": "BUF",
          "distance": 1011,
          "origin": "MCO"
         },
         {
          "date": "2001-01-16T12:35:00",
          "delay": 0,
          "destination": "LAX",
          "distance": 370,
          "origin": "PHX"
         },
         {
          "date": "2001-03-29T14:11:00",
          "delay": 17,
          "destination": "LAX",
          "distance": 373,
          "origin": "SMF"
         },
         {
          "date": "2001-03-16T19:33:00",
          "delay": 28,
          "destination": "BUR",
          "distance": 296,
          "origin": "SJC"
         },
         {
          "date": "2001-03-27T13:42:00",
          "delay": 12,
          "destination": "GEG",
          "distance": 224,
          "origin": "SEA"
         },
         {
          "date": "2001-01-06T17:31:00",
          "delay": 13,
          "destination": "JAN",
          "distance": 359,
          "origin": "HOU"
         },
         {
          "date": "2001-02-01T22:00:00",
          "delay": -20,
          "destination": "OAK",
          "distance": 407,
          "origin": "LAS"
         },
         {
          "date": "2001-02-19T09:25:00",
          "delay": 0,
          "destination": "SAN",
          "distance": 446,
          "origin": "OAK"
         },
         {
          "date": "2001-03-21T08:20:00",
          "delay": -5,
          "destination": "AUS",
          "distance": 872,
          "origin": "PHX"
         },
         {
          "date": "2001-03-08T16:03:00",
          "delay": 14,
          "destination": "SAN",
          "distance": 480,
          "origin": "SMF"
         },
         {
          "date": "2001-02-25T16:30:00",
          "delay": 15,
          "destination": "MDW",
          "distance": 989,
          "origin": "MCO"
         },
         {
          "date": "2001-03-28T14:18:00",
          "delay": -11,
          "destination": "ABQ",
          "distance": 1180,
          "origin": "SEA"
         },
         {
          "date": "2001-03-03T06:55:00",
          "delay": 0,
          "destination": "LAS",
          "distance": 1591,
          "origin": "IND"
         },
         {
          "date": "2001-03-19T15:15:00",
          "delay": -7,
          "destination": "SJC",
          "distance": 386,
          "origin": "LAS"
         },
         {
          "date": "2001-01-03T20:38:00",
          "delay": 36,
          "destination": "DAL",
          "distance": 239,
          "origin": "HOU"
         },
         {
          "date": "2001-03-03T08:45:00",
          "delay": -10,
          "destination": "LAS",
          "distance": 1099,
          "origin": "OMA"
         },
         {
          "date": "2001-03-12T08:10:00",
          "delay": 0,
          "destination": "LAS",
          "distance": 197,
          "origin": "ONT"
         },
         {
          "date": "2001-01-14T08:40:00",
          "delay": -5,
          "destination": "SMF",
          "distance": 479,
          "origin": "PDX"
         },
         {
          "date": "2001-03-11T16:07:00",
          "delay": 11,
          "destination": "OAK",
          "distance": 446,
          "origin": "SAN"
         },
         {
          "date": "2001-03-25T17:51:00",
          "delay": 21,
          "destination": "SMF",
          "distance": 373,
          "origin": "LAX"
         },
         {
          "date": "2001-02-05T15:25:00",
          "delay": -5,
          "destination": "MDW",
          "distance": 423,
          "origin": "OMA"
         },
         {
          "date": "2001-02-08T21:48:00",
          "delay": 140,
          "destination": "MDW",
          "distance": 271,
          "origin": "SDF"
         },
         {
          "date": "2001-01-25T17:00:00",
          "delay": -5,
          "destination": "SAT",
          "distance": 192,
          "origin": "HOU"
         },
         {
          "date": "2001-02-14T19:35:00",
          "delay": -3,
          "destination": "FLL",
          "distance": 318,
          "origin": "JAX"
         },
         {
          "date": "2001-01-19T06:40:00",
          "delay": -5,
          "destination": "OAK",
          "distance": 446,
          "origin": "SAN"
         },
         {
          "date": "2001-01-18T16:18:00",
          "delay": 10,
          "destination": "LAS",
          "distance": 258,
          "origin": "SAN"
         },
         {
          "date": "2001-03-20T08:25:00",
          "delay": -3,
          "destination": "RNO",
          "distance": 335,
          "origin": "BOI"
         },
         {
          "date": "2001-03-28T15:40:00",
          "delay": 8,
          "destination": "DAL",
          "distance": 239,
          "origin": "HOU"
         },
         {
          "date": "2001-01-19T17:30:00",
          "delay": 26,
          "destination": "OAK",
          "distance": 511,
          "origin": "BOI"
         },
         {
          "date": "2001-03-15T06:45:00",
          "delay": 4,
          "destination": "FLL",
          "distance": 178,
          "origin": "MCO"
         },
         {
          "date": "2001-02-04T20:10:00",
          "delay": -7,
          "destination": "MCI",
          "distance": 405,
          "origin": "MDW"
         },
         {
          "date": "2001-02-06T13:15:00",
          "delay": -5,
          "destination": "BWI",
          "distance": 220,
          "origin": "ISP"
         },
         {
          "date": "2001-03-20T17:15:00",
          "delay": 0,
          "destination": "PHX",
          "distance": 256,
          "origin": "LAS"
         },
         {
          "date": "2001-01-16T12:15:00",
          "delay": 3,
          "destination": "DAL",
          "distance": 293,
          "origin": "LBB"
         },
         {
          "date": "2001-03-04T23:23:00",
          "delay": 48,
          "destination": "SMF",
          "distance": 480,
          "origin": "SAN"
         },
         {
          "date": "2001-03-04T12:10:00",
          "delay": 15,
          "destination": "SJC",
          "distance": 697,
          "origin": "SEA"
         },
         {
          "date": "2001-02-06T14:06:00",
          "delay": 11,
          "destination": "LAS",
          "distance": 256,
          "origin": "PHX"
         },
         {
          "date": "2001-01-13T09:20:00",
          "delay": 37,
          "destination": "MCI",
          "distance": 405,
          "origin": "MDW"
         },
         {
          "date": "2001-01-27T08:25:00",
          "delay": -3,
          "destination": "BNA",
          "distance": 1588,
          "origin": "LAS"
         },
         {
          "date": "2001-03-31T07:05:00",
          "delay": -12,
          "destination": "SEA",
          "distance": 671,
          "origin": "OAK"
         },
         {
          "date": "2001-03-20T12:40:00",
          "delay": -1,
          "destination": "HOU",
          "distance": 148,
          "origin": "AUS"
         },
         {
          "date": "2001-02-09T19:30:00",
          "delay": 48,
          "destination": "CLE",
          "distance": 307,
          "origin": "MDW"
         },
         {
          "date": "2001-01-23T08:50:00",
          "delay": -8,
          "destination": "BDL",
          "distance": 777,
          "origin": "MDW"
         },
         {
          "date": "2001-01-10T09:30:00",
          "delay": -10,
          "destination": "BWI",
          "distance": 281,
          "origin": "BUF"
         },
         {
          "date": "2001-01-06T20:45:00",
          "delay": 32,
          "destination": "RNO",
          "distance": 345,
          "origin": "LAS"
         },
         {
          "date": "2001-01-12T20:05:00",
          "delay": 6,
          "destination": "OAK",
          "distance": 407,
          "origin": "LAS"
         },
         {
          "date": "2001-03-16T06:15:00",
          "delay": 0,
          "destination": "DAL",
          "distance": 562,
          "origin": "ELP"
         },
         {
          "date": "2001-02-05T16:20:00",
          "delay": -5,
          "destination": "MSY",
          "distance": 487,
          "origin": "TPA"
         },
         {
          "date": "2001-03-09T06:30:00",
          "delay": 0,
          "destination": "SAT",
          "distance": 192,
          "origin": "HOU"
         },
         {
          "date": "2001-03-18T10:40:00",
          "delay": 5,
          "destination": "ONT",
          "distance": 325,
          "origin": "PHX"
         },
         {
          "date": "2001-02-02T18:00:00",
          "delay": 10,
          "destination": "PDX",
          "distance": 444,
          "origin": "RNO"
         },
         {
          "date": "2001-01-21T09:50:00",
          "delay": -8,
          "destination": "BHM",
          "distance": 1618,
          "origin": "LAS"
         },
         {
          "date": "2001-01-24T16:30:00",
          "delay": 0,
          "destination": "BOI",
          "distance": 287,
          "origin": "GEG"
         },
         {
          "date": "2001-02-28T13:45:00",
          "delay": 62,
          "destination": "PHX",
          "distance": 370,
          "origin": "LAX"
         },
         {
          "date": "2001-02-14T14:41:00",
          "delay": 3,
          "destination": "BWI",
          "distance": 682,
          "origin": "BHM"
         },
         {
          "date": "2001-01-05T07:40:00",
          "delay": -13,
          "destination": "OAK",
          "distance": 325,
          "origin": "BUR"
         },
         {
          "date": "2001-01-29T14:10:00",
          "delay": -10,
          "destination": "ABQ",
          "distance": 1180,
          "origin": "SEA"
         },
         {
          "date": "2001-02-12T12:42:00",
          "delay": 14,
          "destination": "SNA",
          "distance": 342,
          "origin": "SJC"
         },
         {
          "date": "2001-02-28T20:18:00",
          "delay": 10,
          "destination": "HOU",
          "distance": 453,
          "origin": "TUL"
         },
         {
          "date": "2001-02-25T17:10:00",
          "delay": 90,
          "destination": "LAX",
          "distance": 337,
          "origin": "OAK"
         },
         {
          "date": "2001-01-14T06:40:00",
          "delay": -17,
          "destination": "MSY",
          "distance": 437,
          "origin": "DAL"
         },
         {
          "date": "2001-03-26T19:00:00",
          "delay": 14,
          "destination": "CLE",
          "distance": 307,
          "origin": "MDW"
         },
         {
          "date": "2001-02-01T09:40:00",
          "delay": 5,
          "destination": "ABQ",
          "distance": 328,
          "origin": "PHX"
         },
         {
          "date": "2001-01-14T13:30:00",
          "delay": -8,
          "destination": "DAL",
          "distance": 324,
          "origin": "AMA"
         },
         {
          "date": "2001-01-06T18:00:00",
          "delay": -18,
          "destination": "PHX",
          "distance": 1136,
          "origin": "LIT"
         },
         {
          "date": "2001-01-29T15:40:00",
          "delay": -1,
          "destination": "OKC",
          "distance": 181,
          "origin": "DAL"
         },
         {
          "date": "2001-01-17T08:24:00",
          "delay": 7,
          "destination": "SLC",
          "distance": 368,
          "origin": "LAS"
         },
         {
          "date": "2001-01-12T14:10:00",
          "delay": 42,
          "destination": "ONT",
          "distance": 389,
          "origin": "SMF"
         },
         {
          "date": "2001-02-28T06:00:00",
          "delay": 5,
          "destination": "MCI",
          "distance": 405,
          "origin": "MDW"
         },
         {
          "date": "2001-02-04T13:45:00",
          "delay": 5,
          "destination": "SAN",
          "distance": 258,
          "origin": "LAS"
         },
         {
          "date": "2001-02-21T08:00:00",
          "delay": -9,
          "destination": "MDW",
          "distance": 251,
          "origin": "STL"
         },
         {
          "date": "2001-03-31T08:45:00",
          "delay": -11,
          "destination": "OAK",
          "distance": 889,
          "origin": "ABQ"
         },
         {
          "date": "2001-03-04T21:56:00",
          "delay": 25,
          "destination": "PHX",
          "distance": 256,
          "origin": "LAS"
         },
         {
          "date": "2001-02-27T10:57:00",
          "delay": 11,
          "destination": "PBI",
          "distance": 883,
          "origin": "BWI"
         },
         {
          "date": "2001-01-30T09:35:00",
          "delay": -7,
          "destination": "PVD",
          "distance": 2277,
          "origin": "PHX"
         },
         {
          "date": "2001-02-14T16:00:00",
          "delay": -8,
          "destination": "LAX",
          "distance": 337,
          "origin": "OAK"
         },
         {
          "date": "2001-02-14T10:35:00",
          "delay": -2,
          "destination": "SEA",
          "distance": 224,
          "origin": "GEG"
         },
         {
          "date": "2001-01-31T09:59:00",
          "delay": 3,
          "destination": "LAX",
          "distance": 714,
          "origin": "ELP"
         },
         {
          "date": "2001-01-03T08:50:00",
          "delay": 8,
          "destination": "MCI",
          "distance": 313,
          "origin": "OKC"
         },
         {
          "date": "2001-03-13T10:10:00",
          "delay": 4,
          "destination": "MCI",
          "distance": 223,
          "origin": "TUL"
         },
         {
          "date": "2001-02-19T12:10:00",
          "delay": 0,
          "destination": "PHX",
          "distance": 833,
          "origin": "OKC"
         },
         {
          "date": "2001-01-13T09:30:00",
          "delay": -5,
          "destination": "PHX",
          "distance": 1044,
          "origin": "MCI"
         },
         {
          "date": "2001-02-16T16:31:00",
          "delay": 54,
          "destination": "MDW",
          "distance": 611,
          "origin": "BWI"
         },
         {
          "date": "2001-01-16T20:40:00",
          "delay": 0,
          "destination": "CLE",
          "distance": 307,
          "origin": "MDW"
         },
         {
          "date": "2001-02-02T18:00:00",
          "delay": -15,
          "destination": "OAK",
          "distance": 646,
          "origin": "PHX"
         },
         {
          "date": "2001-02-02T08:05:00",
          "delay": -4,
          "destination": "PBI",
          "distance": 174,
          "origin": "TPA"
         },
         {
          "date": "2001-01-26T19:20:00",
          "delay": 104,
          "destination": "BOI",
          "distance": 520,
          "origin": "LAS"
         },
         {
          "date": "2001-01-15T13:25:00",
          "delay": -3,
          "destination": "RNO",
          "distance": 335,
          "origin": "BOI"
         },
         {
          "date": "2001-01-14T09:25:00",
          "delay": -3,
          "destination": "HOU",
          "distance": 303,
          "origin": "MSY"
         },
         {
          "date": "2001-01-26T10:00:00",
          "delay": -1,
          "destination": "MDW",
          "distance": 1521,
          "origin": "LAS"
         },
         {
          "date": "2001-03-18T12:00:00",
          "delay": 11,
          "destination": "HOU",
          "distance": 848,
          "origin": "MCO"
         },
         {
          "date": "2001-02-15T07:35:00",
          "delay": 2,
          "destination": "MCO",
          "distance": 1073,
          "origin": "PVD"
         },
         {
          "date": "2001-03-21T10:25:00",
          "delay": 4,
          "destination": "HOU",
          "distance": 419,
          "origin": "OKC"
         },
         {
          "date": "2001-03-30T15:45:00",
          "delay": -5,
          "destination": "SAN",
          "distance": 480,
          "origin": "SMF"
         },
         {
          "date": "2001-01-02T21:20:00",
          "delay": -3,
          "destination": "HOU",
          "distance": 303,
          "origin": "MSY"
         },
         {
          "date": "2001-02-07T09:05:00",
          "delay": -10,
          "destination": "ABQ",
          "distance": 759,
          "origin": "HOU"
         },
         {
          "date": "2001-02-01T18:00:00",
          "delay": -2,
          "destination": "SJC",
          "distance": 333,
          "origin": "ONT"
         },
         {
          "date": "2001-03-04T10:00:00",
          "delay": -7,
          "destination": "MDW",
          "distance": 229,
          "origin": "DTW"
         },
         {
          "date": "2001-03-27T14:05:00",
          "delay": 14,
          "destination": "LIT",
          "distance": 296,
          "origin": "DAL"
         },
         {
          "date": "2001-01-05T18:30:00",
          "delay": -15,
          "destination": "MDW",
          "distance": 838,
          "origin": "MHT"
         },
         {
          "date": "2001-01-23T20:15:00",
          "delay": 2,
          "destination": "OKC",
          "distance": 181,
          "origin": "DAL"
         },
         {
          "date": "2001-03-02T10:55:00",
          "delay": -5,
          "destination": "LAS",
          "distance": 256,
          "origin": "PHX"
         },
         {
          "date": "2001-02-09T06:30:00",
          "delay": 5,
          "destination": "BHM",
          "distance": 682,
          "origin": "BWI"
         },
         {
          "date": "2001-02-08T09:15:00",
          "delay": -19,
          "destination": "BWI",
          "distance": 2106,
          "origin": "LAS"
         },
         {
          "date": "2001-03-11T19:10:00",
          "delay": 14,
          "destination": "BWI",
          "distance": 328,
          "origin": "PVD"
         },
         {
          "date": "2001-01-17T10:02:00",
          "delay": 13,
          "destination": "DAL",
          "distance": 248,
          "origin": "SAT"
         },
         {
          "date": "2001-02-06T09:25:00",
          "delay": 0,
          "destination": "BUR",
          "distance": 358,
          "origin": "SMF"
         },
         {
          "date": "2001-02-28T07:00:00",
          "delay": 27,
          "destination": "PHX",
          "distance": 328,
          "origin": "ABQ"
         },
         {
          "date": "2001-02-21T12:10:00",
          "delay": 0,
          "destination": "LAS",
          "distance": 1140,
          "origin": "MCI"
         },
         {
          "date": "2001-01-15T18:40:00",
          "delay": 0,
          "destination": "BNA",
          "distance": 448,
          "origin": "CLE"
         },
         {
          "date": "2001-03-28T18:42:00",
          "delay": 19,
          "destination": "BNA",
          "distance": 612,
          "origin": "TPA"
         },
         {
          "date": "2001-01-03T10:50:00",
          "delay": -8,
          "destination": "GEG",
          "distance": 287,
          "origin": "BOI"
         },
         {
          "date": "2001-01-28T17:29:00",
          "delay": 39,
          "destination": "HOU",
          "distance": 239,
          "origin": "DAL"
         },
         {
          "date": "2001-01-27T17:10:00",
          "delay": -9,
          "destination": "CMH",
          "distance": 284,
          "origin": "MDW"
         },
         {
          "date": "2001-01-04T08:45:00",
          "delay": -2,
          "destination": "IAH",
          "distance": 217,
          "origin": "DAL"
         },
         {
          "date": "2001-01-23T20:50:00",
          "delay": 28,
          "destination": "BDL",
          "distance": 283,
          "origin": "BWI"
         },
         {
          "date": "2001-03-25T12:30:00",
          "delay": -2,
          "destination": "SAN",
          "distance": 480,
          "origin": "SMF"
         },
         {
          "date": "2001-02-21T19:54:00",
          "delay": 1,
          "destination": "BUR",
          "distance": 223,
          "origin": "LAS"
         },
         {
          "date": "2001-01-24T06:30:00",
          "delay": -6,
          "destination": "HOU",
          "distance": 148,
          "origin": "AUS"
         },
         {
          "date": "2001-02-04T20:20:00",
          "delay": 22,
          "destination": "SJC",
          "distance": 342,
          "origin": "SNA"
         },
         {
          "date": "2001-02-19T19:50:00",
          "delay": 30,
          "destination": "STL",
          "distance": 237,
          "origin": "MCI"
         },
         {
          "date": "2001-03-01T18:05:00",
          "delay": 21,
          "destination": "BWI",
          "distance": 328,
          "origin": "PVD"
         },
         {
          "date": "2001-03-14T06:30:00",
          "delay": 1,
          "destination": "SMF",
          "distance": 480,
          "origin": "SAN"
         },
         {
          "date": "2001-01-10T17:25:00",
          "delay": 28,
          "destination": "ISP",
          "distance": 220,
          "origin": "BWI"
         },
         {
          "date": "2001-03-20T19:42:00",
          "delay": 84,
          "destination": "LAX",
          "distance": 451,
          "origin": "TUS"
         },
         {
          "date": "2001-03-05T15:30:00",
          "delay": -16,
          "destination": "BWI",
          "distance": 220,
          "origin": "ISP"
         },
         {
          "date": "2001-02-07T06:40:00",
          "delay": 3,
          "destination": "OAK",
          "distance": 446,
          "origin": "SAN"
         },
         {
          "date": "2001-02-04T21:30:00",
          "delay": 5,
          "destination": "ONT",
          "distance": 325,
          "origin": "PHX"
         },
         {
          "date": "2001-02-10T16:50:00",
          "delay": -9,
          "destination": "LBB",
          "distance": 293,
          "origin": "DAL"
         },
         {
          "date": "2001-03-15T07:35:00",
          "delay": 2,
          "destination": "DTW",
          "distance": 229,
          "origin": "MDW"
         },
         {
          "date": "2001-03-12T17:30:00",
          "delay": -5,
          "destination": "LAS",
          "distance": 368,
          "origin": "SLC"
         },
         {
          "date": "2001-01-18T18:20:00",
          "delay": -3,
          "destination": "LBB",
          "distance": 293,
          "origin": "DAL"
         },
         {
          "date": "2001-02-09T05:30:00",
          "delay": 3,
          "destination": "OAK",
          "distance": 337,
          "origin": "LAX"
         },
         {
          "date": "2001-02-05T11:10:00",
          "delay": -9,
          "destination": "PHX",
          "distance": 256,
          "origin": "LAS"
         },
         {
          "date": "2001-02-23T17:30:00",
          "delay": -9,
          "destination": "BWI",
          "distance": 588,
          "origin": "BNA"
         },
         {
          "date": "2001-01-13T13:13:00",
          "delay": 1,
          "destination": "PHX",
          "distance": 651,
          "origin": "SFO"
         },
         {
          "date": "2001-02-21T10:05:00",
          "delay": 0,
          "destination": "LAS",
          "distance": 197,
          "origin": "ONT"
         },
         {
          "date": "2001-03-20T21:39:00",
          "delay": 10,
          "destination": "DAL",
          "distance": 239,
          "origin": "HOU"
         },
         {
          "date": "2001-03-15T16:45:00",
          "delay": 38,
          "destination": "PHX",
          "distance": 328,
          "origin": "ABQ"
         },
         {
          "date": "2001-03-21T16:00:00",
          "delay": 10,
          "destination": "SLC",
          "distance": 590,
          "origin": "LAX"
         },
         {
          "date": "2001-02-17T11:15:00",
          "delay": 0,
          "destination": "ELP",
          "distance": 677,
          "origin": "HOU"
         },
         {
          "date": "2001-02-21T20:30:00",
          "delay": 0,
          "destination": "OAK",
          "distance": 337,
          "origin": "LAX"
         },
         {
          "date": "2001-02-14T06:30:00",
          "delay": -6,
          "destination": "ONT",
          "distance": 361,
          "origin": "OAK"
         },
         {
          "date": "2001-01-02T11:21:00",
          "delay": -3,
          "destination": "STL",
          "distance": 251,
          "origin": "MDW"
         },
         {
          "date": "2001-01-26T15:00:00",
          "delay": -7,
          "destination": "BWI",
          "distance": 281,
          "origin": "BUF"
         },
         {
          "date": "2001-02-27T08:20:00",
          "delay": 6,
          "destination": "BOI",
          "distance": 335,
          "origin": "RNO"
         },
         {
          "date": "2001-03-29T11:35:00",
          "delay": 4,
          "destination": "STL",
          "distance": 410,
          "origin": "CMH"
         },
         {
          "date": "2001-01-28T15:10:00",
          "delay": -7,
          "destination": "SJC",
          "distance": 342,
          "origin": "SNA"
         },
         {
          "date": "2001-01-30T18:50:00",
          "delay": 3,
          "destination": "STL",
          "distance": 342,
          "origin": "OMA"
         },
         {
          "date": "2001-01-28T07:40:00",
          "delay": -4,
          "destination": "LAS",
          "distance": 1521,
          "origin": "MDW"
         },
         {
          "date": "2001-02-16T08:15:00",
          "delay": -30,
          "destination": "MDW",
          "distance": 937,
          "origin": "HOU"
         },
         {
          "date": "2001-01-09T12:00:00",
          "delay": -9,
          "destination": "LAX",
          "distance": 337,
          "origin": "OAK"
         },
         {
          "date": "2001-03-02T07:25:00",
          "delay": -5,
          "destination": "ABQ",
          "distance": 328,
          "origin": "PHX"
         },
         {
          "date": "2001-01-15T18:35:00",
          "delay": 10,
          "destination": "SLC",
          "distance": 689,
          "origin": "SEA"
         },
         {
          "date": "2001-02-14T15:12:00",
          "delay": 8,
          "destination": "SNA",
          "distance": 342,
          "origin": "SJC"
         },
         {
          "date": "2001-02-21T12:35:00",
          "delay": -10,
          "destination": "TPA",
          "distance": 587,
          "origin": "RDU"
         },
         {
          "date": "2001-01-22T11:40:00",
          "delay": -2,
          "destination": "GEG",
          "distance": 723,
          "origin": "OAK"
         },
         {
          "date": "2001-03-04T17:35:00",
          "delay": 18,
          "destination": "LAS",
          "distance": 345,
          "origin": "RNO"
         },
         {
          "date": "2001-03-31T18:00:00",
          "delay": -5,
          "destination": "HOU",
          "distance": 239,
          "origin": "DAL"
         },
         {
          "date": "2001-03-14T11:55:00",
          "delay": 14,
          "destination": "SJC",
          "distance": 188,
          "origin": "RNO"
         },
         {
          "date": "2001-02-14T08:00:00",
          "delay": -4,
          "destination": "SLC",
          "distance": 422,
          "origin": "RNO"
         },
         {
          "date": "2001-01-10T11:30:00",
          "delay": 6,
          "destination": "PHX",
          "distance": 1848,
          "origin": "MCO"
         },
         {
          "date": "2001-03-03T15:30:00",
          "delay": -4,
          "destination": "OAK",
          "distance": 337,
          "origin": "LAX"
         },
         {
          "date": "2001-02-27T12:40:00",
          "delay": 0,
          "destination": "HOU",
          "distance": 148,
          "origin": "AUS"
         },
         {
          "date": "2001-02-12T13:50:00",
          "delay": -5,
          "destination": "HOU",
          "distance": 1235,
          "origin": "LAS"
         },
         {
          "date": "2001-01-25T12:10:00",
          "delay": -1,
          "destination": "LAS",
          "distance": 1140,
          "origin": "MCI"
         },
         {
          "date": "2001-02-06T10:25:00",
          "delay": 5,
          "destination": "LAS",
          "distance": 397,
          "origin": "SMF"
         },
         {
          "date": "2001-02-23T12:33:00",
          "delay": 27,
          "destination": "BNA",
          "distance": 1751,
          "origin": "ONT"
         },
         {
          "date": "2001-01-20T11:45:00",
          "delay": 0,
          "destination": "SAN",
          "distance": 417,
          "origin": "SJC"
         },
         {
          "date": "2001-02-25T13:55:00",
          "delay": -6,
          "destination": "DAL",
          "distance": 248,
          "origin": "SAT"
         },
         {
          "date": "2001-03-26T20:55:00",
          "delay": 8,
          "destination": "SEA",
          "distance": 605,
          "origin": "SMF"
         },
         {
          "date": "2001-01-19T15:35:00",
          "delay": 2,
          "destination": "OAK",
          "distance": 361,
          "origin": "ONT"
         },
         {
          "date": "2001-02-09T15:20:00",
          "delay": 12,
          "destination": "BOI",
          "distance": 291,
          "origin": "SLC"
         },
         {
          "date": "2001-03-10T12:55:00",
          "delay": 5,
          "destination": "SAN",
          "distance": 628,
          "origin": "ABQ"
         },
         {
          "date": "2001-01-09T12:05:00",
          "delay": -10,
          "destination": "OKC",
          "distance": 313,
          "origin": "MCI"
         },
         {
          "date": "2001-01-30T15:50:00",
          "delay": -1,
          "destination": "LAS",
          "distance": 223,
          "origin": "BUR"
         },
         {
          "date": "2001-03-31T11:55:00",
          "delay": 0,
          "destination": "RNO",
          "distance": 390,
          "origin": "LAX"
         },
         {
          "date": "2001-01-25T06:25:00",
          "delay": -6,
          "destination": "SAN",
          "distance": 417,
          "origin": "SJC"
         },
         {
          "date": "2001-02-05T12:50:00",
          "delay": -20,
          "destination": "BNA",
          "distance": 1977,
          "origin": "SEA"
         },
         {
          "date": "2001-01-03T06:20:00",
          "delay": 0,
          "destination": "SAN",
          "distance": 258,
          "origin": "LAS"
         },
         {
          "date": "2001-01-23T07:25:00",
          "delay": -7,
          "destination": "BNA",
          "distance": 491,
          "origin": "MCI"
         },
         {
          "date": "2001-01-27T10:00:00",
          "delay": 0,
          "destination": "MDW",
          "distance": 229,
          "origin": "DTW"
         },
         {
          "date": "2001-02-12T10:44:00",
          "delay": 10,
          "destination": "OMA",
          "distance": 1099,
          "origin": "LAS"
         },
         {
          "date": "2001-02-11T09:25:00",
          "delay": 5,
          "destination": "BUR",
          "distance": 358,
          "origin": "SMF"
         },
         {
          "date": "2001-01-25T07:10:00",
          "delay": 8,
          "destination": "SLC",
          "distance": 588,
          "origin": "OAK"
         },
         {
          "date": "2001-03-23T08:00:00",
          "delay": 1,
          "destination": "BWI",
          "distance": 787,
          "origin": "MCO"
         },
         {
          "date": "2001-01-09T13:04:00",
          "delay": 20,
          "destination": "MSY",
          "distance": 1301,
          "origin": "PHX"
         },
         {
          "date": "2001-01-04T07:10:00",
          "delay": -23,
          "destination": "MSY",
          "distance": 1599,
          "origin": "SAN"
         },
         {
          "date": "2001-03-04T11:25:00",
          "delay": 7,
          "destination": "CLE",
          "distance": 307,
          "origin": "MDW"
         },
         {
          "date": "2001-03-03T11:49:00",
          "delay": 10,
          "destination": "MCI",
          "distance": 405,
          "origin": "MDW"
         },
         {
          "date": "2001-03-06T10:35:00",
          "delay": -15,
          "destination": "STL",
          "distance": 1262,
          "origin": "PHX"
         },
         {
          "date": "2001-02-28T17:32:00",
          "delay": 6,
          "destination": "BDL",
          "distance": 283,
          "origin": "BWI"
         },
         {
          "date": "2001-02-22T20:00:00",
          "delay": -5,
          "destination": "PHX",
          "distance": 347,
          "origin": "ELP"
         },
         {
          "date": "2001-01-18T16:10:00",
          "delay": 2,
          "destination": "SAN",
          "distance": 446,
          "origin": "OAK"
         },
         {
          "date": "2001-03-17T19:45:00",
          "delay": 14,
          "destination": "LAS",
          "distance": 256,
          "origin": "PHX"
         },
         {
          "date": "2001-02-09T19:45:00",
          "delay": 10,
          "destination": "LAS",
          "distance": 365,
          "origin": "TUS"
         },
         {
          "date": "2001-02-14T13:10:00",
          "delay": -11,
          "destination": "BWI",
          "distance": 967,
          "origin": "MCI"
         },
         {
          "date": "2001-01-06T11:25:00",
          "delay": -6,
          "destination": "MSY",
          "distance": 303,
          "origin": "HOU"
         },
         {
          "date": "2001-02-10T09:45:00",
          "delay": -18,
          "destination": "BNA",
          "distance": 1448,
          "origin": "PHX"
         },
         {
          "date": "2001-02-21T19:50:00",
          "delay": 29,
          "destination": "ONT",
          "distance": 389,
          "origin": "SMF"
         },
         {
          "date": "2001-02-17T19:40:00",
          "delay": -13,
          "destination": "PVD",
          "distance": 108,
          "origin": "ISP"
         },
         {
          "date": "2001-02-28T10:30:00",
          "delay": 28,
          "destination": "LAX",
          "distance": 370,
          "origin": "PHX"
         },
         {
          "date": "2001-03-11T15:30:00",
          "delay": 5,
          "destination": "MSY",
          "distance": 321,
          "origin": "BHM"
         },
         {
          "date": "2001-03-01T11:45:00",
          "delay": -2,
          "destination": "OAK",
          "distance": 371,
          "origin": "SNA"
         },
         {
          "date": "2001-01-09T10:27:00",
          "delay": 34,
          "destination": "LAS",
          "distance": 397,
          "origin": "SMF"
         },
         {
          "date": "2001-02-17T10:45:00",
          "delay": -10,
          "destination": "MCI",
          "distance": 1363,
          "origin": "LAX"
         },
         {
          "date": "2001-01-12T09:40:00",
          "delay": -25,
          "destination": "CMH",
          "distance": 1772,
          "origin": "LAS"
         },
         {
          "date": "2001-01-07T18:23:00",
          "delay": 27,
          "destination": "BUR",
          "distance": 296,
          "origin": "SJC"
         },
         {
          "date": "2001-02-01T09:00:00",
          "delay": 5,
          "destination": "PHX",
          "distance": 651,
          "origin": "SFO"
         },
         {
          "date": "2001-03-14T07:40:00",
          "delay": 20,
          "destination": "MCI",
          "distance": 904,
          "origin": "RDU"
         },
         {
          "date": "2001-02-03T16:05:00",
          "delay": 0,
          "destination": "OKC",
          "distance": 833,
          "origin": "PHX"
         },
         {
          "date": "2001-01-08T06:30:00",
          "delay": -3,
          "destination": "BNA",
          "distance": 177,
          "origin": "BHM"
         },
         {
          "date": "2001-01-05T13:25:00",
          "delay": -18,
          "destination": "SEA",
          "distance": 1107,
          "origin": "PHX"
         },
         {
          "date": "2001-02-21T12:20:00",
          "delay": -10,
          "destination": "TPA",
          "distance": 174,
          "origin": "PBI"
         },
         {
          "date": "2001-01-29T10:40:00",
          "delay": -10,
          "destination": "SEA",
          "distance": 1180,
          "origin": "ABQ"
         },
         {
          "date": "2001-03-02T19:05:00",
          "delay": -6,
          "destination": "TPA",
          "distance": 197,
          "origin": "FLL"
         },
         {
          "date": "2001-01-30T15:15:00",
          "delay": -5,
          "destination": "BUR",
          "distance": 325,
          "origin": "OAK"
         },
         {
          "date": "2001-03-26T11:20:00",
          "delay": 0,
          "destination": "TPA",
          "distance": 487,
          "origin": "MSY"
         },
         {
          "date": "2001-01-26T12:15:00",
          "delay": 25,
          "destination": "STL",
          "distance": 296,
          "origin": "LIT"
         },
         {
          "date": "2001-01-21T12:05:00",
          "delay": -10,
          "destination": "OAK",
          "distance": 325,
          "origin": "BUR"
         },
         {
          "date": "2001-03-01T08:15:00",
          "delay": -24,
          "destination": "MDW",
          "distance": 937,
          "origin": "HOU"
         },
         {
          "date": "2001-03-19T10:45:00",
          "delay": 3,
          "destination": "HRL",
          "distance": 276,
          "origin": "HOU"
         },
         {
          "date": "2001-03-01T17:25:00",
          "delay": -3,
          "destination": "DAL",
          "distance": 189,
          "origin": "AUS"
         },
         {
          "date": "2001-03-23T12:15:00",
          "delay": -3,
          "destination": "GEG",
          "distance": 279,
          "origin": "PDX"
         },
         {
          "date": "2001-03-02T13:00:00",
          "delay": -10,
          "destination": "DAL",
          "distance": 239,
          "origin": "HOU"
         },
         {
          "date": "2001-02-06T13:10:00",
          "delay": -18,
          "destination": "BWI",
          "distance": 967,
          "origin": "MCI"
         },
         {
          "date": "2001-03-08T12:40:00",
          "delay": 0,
          "destination": "DAL",
          "distance": 580,
          "origin": "ABQ"
         },
         {
          "date": "2001-03-30T07:10:00",
          "delay": 0,
          "destination": "SMF",
          "distance": 389,
          "origin": "ONT"
         },
         {
          "date": "2001-02-22T19:38:00",
          "delay": 30,
          "destination": "STL",
          "distance": 251,
          "origin": "MDW"
         },
         {
          "date": "2001-01-18T11:40:00",
          "delay": 2,
          "destination": "GEG",
          "distance": 723,
          "origin": "OAK"
         },
         {
          "date": "2001-03-23T16:33:00",
          "delay": 12,
          "destination": "FLL",
          "distance": 197,
          "origin": "TPA"
         },
         {
          "date": "2001-02-23T06:30:00",
          "delay": 7,
          "destination": "SJC",
          "distance": 308,
          "origin": "LAX"
         },
         {
          "date": "2001-01-26T17:30:00",
          "delay": 39,
          "destination": "LAX",
          "distance": 677,
          "origin": "ABQ"
         },
         {
          "date": "2001-01-21T14:00:00",
          "delay": 0,
          "destination": "PHX",
          "distance": 325,
          "origin": "ONT"
         },
         {
          "date": "2001-01-17T18:40:00",
          "delay": -5,
          "destination": "RNO",
          "distance": 180,
          "origin": "OAK"
         },
         {
          "date": "2001-02-08T08:16:00",
          "delay": 19,
          "destination": "SLC",
          "distance": 689,
          "origin": "SEA"
         },
         {
          "date": "2001-02-10T14:05:00",
          "delay": -10,
          "destination": "FLL",
          "distance": 1166,
          "origin": "MDW"
         },
         {
          "date": "2001-03-27T10:15:00",
          "delay": -5,
          "destination": "SMF",
          "distance": 389,
          "origin": "ONT"
         },
         {
          "date": "2001-01-11T15:30:00",
          "delay": 15,
          "destination": "LAS",
          "distance": 236,
          "origin": "LAX"
         },
         {
          "date": "2001-03-20T14:30:00",
          "delay": -10,
          "destination": "DAL",
          "distance": 237,
          "origin": "TUL"
         },
         {
          "date": "2001-03-28T13:25:00",
          "delay": -7,
          "destination": "RNO",
          "distance": 335,
          "origin": "BOI"
         },
         {
          "date": "2001-01-15T20:58:00",
          "delay": 10,
          "destination": "LIT",
          "distance": 296,
          "origin": "DAL"
         },
         {
          "date": "2001-03-06T07:55:00",
          "delay": 3,
          "destination": "HOU",
          "distance": 419,
          "origin": "OKC"
         },
         {
          "date": "2001-01-09T17:49:00",
          "delay": 27,
          "destination": "OAK",
          "distance": 361,
          "origin": "ONT"
         },
         {
          "date": "2001-03-10T17:25:00",
          "delay": -5,
          "destination": "BNA",
          "distance": 457,
          "origin": "DTW"
         },
         {
          "date": "2001-02-08T15:40:00",
          "delay": -5,
          "destination": "ELP",
          "distance": 347,
          "origin": "PHX"
         },
         {
          "date": "2001-03-27T08:05:00",
          "delay": -7,
          "destination": "LAX",
          "distance": 370,
          "origin": "PHX"
         },
         {
          "date": "2001-03-31T07:27:00",
          "delay": -5,
          "destination": "SMF",
          "distance": 373,
          "origin": "LAX"
         },
         {
          "date": "2001-03-04T08:34:00",
          "delay": -3,
          "destination": "PHX",
          "distance": 304,
          "origin": "SAN"
         },
         {
          "date": "2001-01-15T07:15:00",
          "delay": 5,
          "destination": "TPA",
          "distance": 842,
          "origin": "BWI"
         },
         {
          "date": "2001-01-11T06:30:00",
          "delay": 0,
          "destination": "OKC",
          "distance": 181,
          "origin": "DAL"
         },
         {
          "date": "2001-01-03T10:11:00",
          "delay": 42,
          "destination": "SAN",
          "distance": 304,
          "origin": "PHX"
         },
         {
          "date": "2001-03-05T10:20:00",
          "delay": 5,
          "destination": "PHX",
          "distance": 256,
          "origin": "LAS"
         },
         {
          "date": "2001-02-03T16:03:00",
          "delay": 6,
          "destination": "AUS",
          "distance": 189,
          "origin": "DAL"
         },
         {
          "date": "2001-03-10T06:30:00",
          "delay": -5,
          "destination": "MSY",
          "distance": 487,
          "origin": "TPA"
         },
         {
          "date": "2001-01-27T10:10:00",
          "delay": -15,
          "destination": "OAK",
          "distance": 588,
          "origin": "SLC"
         },
         {
          "date": "2001-01-03T20:25:00",
          "delay": 52,
          "destination": "SJC",
          "distance": 308,
          "origin": "LAX"
         },
         {
          "date": "2001-03-22T20:05:00",
          "delay": -3,
          "destination": "GEG",
          "distance": 224,
          "origin": "SEA"
         },
         {
          "date": "2001-03-15T11:41:00",
          "delay": 25,
          "destination": "SLC",
          "distance": 368,
          "origin": "LAS"
         },
         {
          "date": "2001-02-01T14:40:00",
          "delay": 5,
          "destination": "MDW",
          "distance": 307,
          "origin": "CLE"
         },
         {
          "date": "2001-02-15T08:00:00",
          "delay": -10,
          "destination": "OAK",
          "distance": 337,
          "origin": "LAX"
         },
         {
          "date": "2001-01-31T16:25:00",
          "delay": -6,
          "destination": "SLC",
          "distance": 630,
          "origin": "PDX"
         },
         {
          "date": "2001-03-20T07:50:00",
          "delay": 5,
          "destination": "AUS",
          "distance": 189,
          "origin": "DAL"
         },
         {
          "date": "2001-03-06T09:45:00",
          "delay": 18,
          "destination": "LAX",
          "distance": 1242,
          "origin": "AUS"
         },
         {
          "date": "2001-03-18T17:23:00",
          "delay": 17,
          "destination": "LAX",
          "distance": 236,
          "origin": "LAS"
         },
         {
          "date": "2001-01-12T19:15:00",
          "delay": -10,
          "destination": "BNA",
          "distance": 803,
          "origin": "ISP"
         },
         {
          "date": "2001-02-11T17:40:00",
          "delay": 12,
          "destination": "LAS",
          "distance": 1099,
          "origin": "OMA"
         },
         {
          "date": "2001-02-20T07:25:00",
          "delay": -5,
          "destination": "MCI",
          "distance": 1489,
          "origin": "OAK"
         },
         {
          "date": "2001-02-23T06:25:00",
          "delay": 0,
          "destination": "BWI",
          "distance": 314,
          "origin": "CLE"
         },
         {
          "date": "2001-02-14T09:00:00",
          "delay": -2,
          "destination": "ALB",
          "distance": 288,
          "origin": "BWI"
         },
         {
          "date": "2001-03-10T10:10:00",
          "delay": -3,
          "destination": "MCI",
          "distance": 223,
          "origin": "TUL"
         },
         {
          "date": "2001-01-23T14:20:00",
          "delay": -13,
          "destination": "STL",
          "distance": 1262,
          "origin": "PHX"
         },
         {
          "date": "2001-02-28T20:33:00",
          "delay": 70,
          "destination": "SAT",
          "distance": 248,
          "origin": "DAL"
         },
         {
          "date": "2001-01-21T08:20:00",
          "delay": -17,
          "destination": "PHX",
          "distance": 1044,
          "origin": "MCI"
         },
         {
          "date": "2001-03-31T08:00:00",
          "delay": -10,
          "destination": "BWI",
          "distance": 883,
          "origin": "PBI"
         },
         {
          "date": "2001-03-31T08:33:00",
          "delay": 9,
          "destination": "BUR",
          "distance": 223,
          "origin": "LAS"
         },
         {
          "date": "2001-03-07T08:15:00",
          "delay": -3,
          "destination": "DAL",
          "distance": 217,
          "origin": "IAH"
         },
         {
          "date": "2001-01-18T21:50:00",
          "delay": -5,
          "destination": "BUR",
          "distance": 369,
          "origin": "PHX"
         },
         {
          "date": "2001-03-26T07:10:00",
          "delay": 0,
          "destination": "HOU",
          "distance": 1235,
          "origin": "LAS"
         },
         {
          "date": "2001-01-19T06:20:00",
          "delay": -1,
          "destination": "SJC",
          "distance": 569,
          "origin": "PDX"
         },
         {
          "date": "2001-03-29T20:00:00",
          "delay": 25,
          "destination": "OAK",
          "distance": 588,
          "origin": "SLC"
         },
         {
          "date": "2001-03-10T12:19:00",
          "delay": 9,
          "destination": "ABQ",
          "distance": 223,
          "origin": "ELP"
         },
         {
          "date": "2001-03-28T17:20:00",
          "delay": -4,
          "destination": "BDL",
          "distance": 283,
          "origin": "BWI"
         },
         {
          "date": "2001-02-18T18:20:00",
          "delay": 0,
          "destination": "MHT",
          "distance": 377,
          "origin": "BWI"
         },
         {
          "date": "2001-01-28T11:45:00",
          "delay": 4,
          "destination": "DAL",
          "distance": 319,
          "origin": "MAF"
         },
         {
          "date": "2001-01-18T19:30:00",
          "delay": 5,
          "destination": "HOU",
          "distance": 239,
          "origin": "DAL"
         },
         {
          "date": "2001-03-17T09:50:00",
          "delay": 18,
          "destination": "MSY",
          "distance": 471,
          "origin": "BNA"
         },
         {
          "date": "2001-02-23T16:36:00",
          "delay": 28,
          "destination": "LAX",
          "distance": 370,
          "origin": "PHX"
         },
         {
          "date": "2001-02-27T08:30:00",
          "delay": 0,
          "destination": "CMH",
          "distance": 802,
          "origin": "MCO"
         },
         {
          "date": "2001-03-14T06:15:00",
          "delay": -7,
          "destination": "SAN",
          "distance": 446,
          "origin": "OAK"
         },
         {
          "date": "2001-02-10T09:20:00",
          "delay": 5,
          "destination": "BNA",
          "distance": 758,
          "origin": "PBI"
         },
         {
          "date": "2001-02-20T07:30:00",
          "delay": -5,
          "destination": "LAS",
          "distance": 365,
          "origin": "TUS"
         },
         {
          "date": "2001-02-16T12:00:00",
          "delay": -7,
          "destination": "BWI",
          "distance": 281,
          "origin": "BUF"
         },
         {
          "date": "2001-03-09T19:10:00",
          "delay": 3,
          "destination": "RNO",
          "distance": 444,
          "origin": "PDX"
         },
         {
          "date": "2001-01-23T18:30:00",
          "delay": -2,
          "destination": "BWI",
          "distance": 220,
          "origin": "ISP"
         },
         {
          "date": "2001-03-29T06:50:00",
          "delay": 2,
          "destination": "DAL",
          "distance": 181,
          "origin": "OKC"
         },
         {
          "date": "2001-03-20T13:10:00",
          "delay": 0,
          "destination": "BWI",
          "distance": 967,
          "origin": "MCI"
         },
         {
          "date": "2001-03-23T17:42:00",
          "delay": 26,
          "destination": "BDL",
          "distance": 283,
          "origin": "BWI"
         },
         {
          "date": "2001-01-17T09:30:00",
          "delay": 7,
          "destination": "BWI",
          "distance": 283,
          "origin": "BDL"
         },
         {
          "date": "2001-01-19T08:35:00",
          "delay": 4,
          "destination": "BUR",
          "distance": 325,
          "origin": "OAK"
         },
         {
          "date": "2001-03-02T11:15:00",
          "delay": -7,
          "destination": "ONT",
          "distance": 197,
          "origin": "LAS"
         },
         {
          "date": "2001-03-20T08:30:00",
          "delay": -15,
          "destination": "CMH",
          "distance": 802,
          "origin": "MCO"
         },
         {
          "date": "2001-03-06T18:55:00",
          "delay": 1,
          "destination": "ELP",
          "distance": 223,
          "origin": "ABQ"
         },
         {
          "date": "2001-02-12T19:00:00",
          "delay": 53,
          "destination": "OAK",
          "distance": 446,
          "origin": "SAN"
         },
         {
          "date": "2001-02-10T11:35:00",
          "delay": -2,
          "destination": "MCI",
          "distance": 405,
          "origin": "MDW"
         },
         {
          "date": "2001-02-26T13:25:00",
          "delay": -9,
          "destination": "DTW",
          "distance": 440,
          "origin": "STL"
         },
         {
          "date": "2001-03-02T20:48:00",
          "delay": 30,
          "destination": "OAK",
          "distance": 325,
          "origin": "BUR"
         },
         {
          "date": "2001-01-30T08:19:00",
          "delay": 18,
          "destination": "ALB",
          "distance": 288,
          "origin": "BWI"
         },
         {
          "date": "2001-03-23T10:30:00",
          "delay": -5,
          "destination": "BUF",
          "distance": 281,
          "origin": "BWI"
         },
         {
          "date": "2001-01-17T17:00:00",
          "delay": -7,
          "destination": "LBB",
          "distance": 295,
          "origin": "ELP"
         },
         {
          "date": "2001-03-28T17:10:00",
          "delay": 8,
          "destination": "MCI",
          "distance": 405,
          "origin": "MDW"
         },
         {
          "date": "2001-02-16T20:40:00",
          "delay": 12,
          "destination": "SEA",
          "distance": 564,
          "origin": "RNO"
         },
         {
          "date": "2001-02-28T18:57:00",
          "delay": 30,
          "destination": "HOU",
          "distance": 670,
          "origin": "BNA"
         },
         {
          "date": "2001-02-21T12:35:00",
          "delay": -5,
          "destination": "IND",
          "distance": 229,
          "origin": "STL"
         },
         {
          "date": "2001-03-05T12:10:00",
          "delay": -11,
          "destination": "PDX",
          "distance": 543,
          "origin": "OAK"
         },
         {
          "date": "2001-03-21T07:45:00",
          "delay": 9,
          "destination": "ONT",
          "distance": 333,
          "origin": "SJC"
         },
         {
          "date": "2001-01-07T14:07:00",
          "delay": 6,
          "destination": "ONT",
          "distance": 361,
          "origin": "OAK"
         },
         {
          "date": "2001-01-22T11:38:00",
          "delay": 2,
          "destination": "PHX",
          "distance": 1848,
          "origin": "MCO"
         },
         {
          "date": "2001-02-23T20:33:00",
          "delay": 10,
          "destination": "BWI",
          "distance": 842,
          "origin": "TPA"
         },
         {
          "date": "2001-02-19T07:30:00",
          "delay": -5,
          "destination": "LAS",
          "distance": 365,
          "origin": "TUS"
         },
         {
          "date": "2001-03-13T09:56:00",
          "delay": 33,
          "destination": "MDW",
          "distance": 666,
          "origin": "JAN"
         },
         {
          "date": "2001-01-08T11:30:00",
          "delay": -3,
          "destination": "PHX",
          "distance": 328,
          "origin": "ABQ"
         },
         {
          "date": "2001-01-25T12:35:00",
          "delay": 0,
          "destination": "TPA",
          "distance": 587,
          "origin": "RDU"
         },
         {
          "date": "2001-03-03T14:10:00",
          "delay": 8,
          "destination": "MCI",
          "distance": 1363,
          "origin": "LAX"
         },
         {
          "date": "2001-01-05T07:35:00",
          "delay": 0,
          "destination": "LAS",
          "distance": 345,
          "origin": "RNO"
         },
         {
          "date": "2001-03-02T14:35:00",
          "delay": -5,
          "destination": "PHX",
          "distance": 328,
          "origin": "ABQ"
         },
         {
          "date": "2001-02-28T19:06:00",
          "delay": 17,
          "destination": "BOI",
          "distance": 335,
          "origin": "RNO"
         },
         {
          "date": "2001-01-13T11:48:00",
          "delay": 5,
          "destination": "BUR",
          "distance": 296,
          "origin": "SJC"
         },
         {
          "date": "2001-02-09T12:13:00",
          "delay": 17,
          "destination": "ISP",
          "distance": 220,
          "origin": "BWI"
         },
         {
          "date": "2001-03-08T07:49:00",
          "delay": -3,
          "destination": "TPA",
          "distance": 197,
          "origin": "FLL"
         },
         {
          "date": "2001-01-22T20:20:00",
          "delay": -8,
          "destination": "MCO",
          "distance": 880,
          "origin": "STL"
         },
         {
          "date": "2001-01-09T13:20:00",
          "delay": 7,
          "destination": "SJC",
          "distance": 342,
          "origin": "SNA"
         },
         {
          "date": "2001-01-19T09:29:00",
          "delay": 2,
          "destination": "RNO",
          "distance": 180,
          "origin": "OAK"
         },
         {
          "date": "2001-01-27T20:20:00",
          "delay": 85,
          "destination": "PHX",
          "distance": 304,
          "origin": "SAN"
         },
         {
          "date": "2001-02-22T08:40:00",
          "delay": -5,
          "destination": "MHT",
          "distance": 377,
          "origin": "BWI"
         },
         {
          "date": "2001-03-04T18:25:00",
          "delay": 58,
          "destination": "PVD",
          "distance": 328,
          "origin": "BWI"
         },
         {
          "date": "2001-02-25T19:04:00",
          "delay": 25,
          "destination": "OAK",
          "distance": 671,
          "origin": "SEA"
         },
         {
          "date": "2001-03-24T16:00:00",
          "delay": 1,
          "destination": "LAX",
          "distance": 370,
          "origin": "PHX"
         },
         {
          "date": "2001-02-05T17:15:00",
          "delay": -10,
          "destination": "RNO",
          "distance": 345,
          "origin": "LAS"
         },
         {
          "date": "2001-01-03T18:08:00",
          "delay": 35,
          "destination": "MDW",
          "distance": 271,
          "origin": "SDF"
         },
         {
          "date": "2001-03-24T12:13:00",
          "delay": -11,
          "destination": "PDX",
          "distance": 543,
          "origin": "OAK"
         },
         {
          "date": "2001-01-10T14:12:00",
          "delay": 12,
          "destination": "ELP",
          "distance": 562,
          "origin": "DAL"
         },
         {
          "date": "2001-02-03T19:50:00",
          "delay": -5,
          "destination": "MSY",
          "distance": 303,
          "origin": "HOU"
         },
         {
          "date": "2001-01-07T11:40:00",
          "delay": -15,
          "destination": "SAN",
          "distance": 1333,
          "origin": "MCI"
         },
         {
          "date": "2001-01-04T07:00:00",
          "delay": -10,
          "destination": "LAX",
          "distance": 236,
          "origin": "LAS"
         },
         {
          "date": "2001-02-27T22:12:00",
          "delay": 65,
          "destination": "SJC",
          "distance": 333,
          "origin": "ONT"
         },
         {
          "date": "2001-03-05T22:30:00",
          "delay": -5,
          "destination": "MSY",
          "distance": 303,
          "origin": "HOU"
         },
         {
          "date": "2001-01-13T14:42:00",
          "delay": 42,
          "destination": "MDW",
          "distance": 611,
          "origin": "BWI"
         },
         {
          "date": "2001-01-21T19:30:00",
          "delay": 54,
          "destination": "HOU",
          "distance": 670,
          "origin": "BNA"
         },
         {
          "date": "2001-02-05T19:15:00",
          "delay": -7,
          "destination": "BWI",
          "distance": 682,
          "origin": "BHM"
         },
         {
          "date": "2001-02-06T06:30:00",
          "delay": -15,
          "destination": "MSY",
          "distance": 487,
          "origin": "TPA"
         },
         {
          "date": "2001-02-13T19:00:00",
          "delay": -9,
          "destination": "HOU",
          "distance": 441,
          "origin": "MAF"
         },
         {
          "date": "2001-02-21T21:15:00",
          "delay": 4,
          "destination": "RDU",
          "distance": 255,
          "origin": "BWI"
         },
         {
          "date": "2001-01-25T13:05:00",
          "delay": 10,
          "destination": "JAX",
          "distance": 180,
          "origin": "TPA"
         },
         {
          "date": "2001-03-15T18:15:00",
          "delay": 15,
          "destination": "AUS",
          "distance": 189,
          "origin": "DAL"
         },
         {
          "date": "2001-01-11T14:47:00",
          "delay": 20,
          "destination": "SDF",
          "distance": 254,
          "origin": "STL"
         },
         {
          "date": "2001-01-19T06:40:00",
          "delay": -7,
          "destination": "LAS",
          "distance": 197,
          "origin": "ONT"
         },
         {
          "date": "2001-02-22T09:40:00",
          "delay": -11,
          "destination": "BOI",
          "distance": 520,
          "origin": "LAS"
         },
         {
          "date": "2001-03-19T13:50:00",
          "delay": 1,
          "destination": "SMF",
          "distance": 358,
          "origin": "BUR"
         },
         {
          "date": "2001-02-03T11:35:00",
          "delay": -10,
          "destination": "PHX",
          "distance": 1999,
          "origin": "BWI"
         },
         {
          "date": "2001-01-28T20:15:00",
          "delay": 12,
          "destination": "SAT",
          "distance": 496,
          "origin": "ELP"
         },
         {
          "date": "2001-03-16T11:40:00",
          "delay": -4,
          "destination": "MDW",
          "distance": 251,
          "origin": "STL"
         },
         {
          "date": "2001-03-19T17:00:00",
          "delay": 17,
          "destination": "MSY",
          "distance": 550,
          "origin": "MCO"
         },
         {
          "date": "2001-02-15T10:30:00",
          "delay": -5,
          "destination": "RNO",
          "distance": 345,
          "origin": "LAS"
         },
         {
          "date": "2001-01-04T11:40:00",
          "delay": 5,
          "destination": "OAK",
          "distance": 671,
          "origin": "SEA"
         },
         {
          "date": "2001-02-14T13:35:00",
          "delay": 5,
          "destination": "BHM",
          "distance": 460,
          "origin": "TPA"
         },
         {
          "date": "2001-01-29T21:45:00",
          "delay": 12,
          "destination": "PHX",
          "distance": 507,
          "origin": "SLC"
         },
         {
          "date": "2001-03-06T09:43:00",
          "delay": 16,
          "destination": "PVD",
          "distance": 328,
          "origin": "BWI"
         },
         {
          "date": "2001-02-21T08:20:00",
          "delay": 7,
          "destination": "BNA",
          "distance": 588,
          "origin": "BWI"
         },
         {
          "date": "2001-01-05T06:30:00",
          "delay": -7,
          "destination": "SEA",
          "distance": 399,
          "origin": "BOI"
         },
         {
          "date": "2001-01-03T06:30:00",
          "delay": -3,
          "destination": "SMF",
          "distance": 480,
          "origin": "SAN"
         },
         {
          "date": "2001-02-06T09:30:00",
          "delay": -7,
          "destination": "MDW",
          "distance": 405,
          "origin": "MCI"
         },
         {
          "date": "2001-03-02T12:30:00",
          "delay": -10,
          "destination": "LAX",
          "distance": 370,
          "origin": "PHX"
         },
         {
          "date": "2001-01-02T09:35:00",
          "delay": -6,
          "destination": "SJC",
          "distance": 188,
          "origin": "RNO"
         },
         {
          "date": "2001-02-27T06:55:00",
          "delay": 0,
          "destination": "HOU",
          "distance": 187,
          "origin": "CRP"
         },
         {
          "date": "2001-01-29T19:05:00",
          "delay": 57,
          "destination": "MDW",
          "distance": 777,
          "origin": "BDL"
         },
         {
          "date": "2001-03-22T15:50:00",
          "delay": 0,
          "destination": "ABQ",
          "distance": 321,
          "origin": "TUS"
         },
         {
          "date": "2001-03-03T06:40:00",
          "delay": -8,
          "destination": "LAS",
          "distance": 197,
          "origin": "ONT"
         },
         {
          "date": "2001-02-08T08:30:00",
          "delay": 17,
          "destination": "MCI",
          "distance": 1234,
          "origin": "PVD"
         },
         {
          "date": "2001-03-16T10:20:00",
          "delay": 12,
          "destination": "FLL",
          "distance": 197,
          "origin": "TPA"
         },
         {
          "date": "2001-01-20T13:25:00",
          "delay": -5,
          "destination": "SJC",
          "distance": 417,
          "origin": "SAN"
         },
         {
          "date": "2001-03-04T14:40:00",
          "delay": 5,
          "destination": "SMF",
          "distance": 479,
          "origin": "PDX"
         },
         {
          "date": "2001-03-13T17:16:00",
          "delay": 47,
          "destination": "OMA",
          "distance": 423,
          "origin": "MDW"
         },
         {
          "date": "2001-01-12T23:19:00",
          "delay": 162,
          "destination": "DAL",
          "distance": 562,
          "origin": "ELP"
         },
         {
          "date": "2001-01-27T17:00:00",
          "delay": -1,
          "destination": "LAS",
          "distance": 866,
          "origin": "SEA"
         },
         {
          "date": "2001-03-24T11:45:00",
          "delay": 8,
          "destination": "PHX",
          "distance": 370,
          "origin": "LAX"
         },
         {
          "date": "2001-02-26T16:20:00",
          "delay": 12,
          "destination": "LAX",
          "distance": 308,
          "origin": "SJC"
         },
         {
          "date": "2001-01-12T12:20:00",
          "delay": 8,
          "destination": "CRP",
          "distance": 187,
          "origin": "HOU"
         },
         {
          "date": "2001-03-28T09:40:00",
          "delay": 1,
          "destination": "ABQ",
          "distance": 328,
          "origin": "PHX"
         },
         {
          "date": "2001-03-30T19:26:00",
          "delay": 14,
          "destination": "SNA",
          "distance": 342,
          "origin": "SJC"
         },
         {
          "date": "2001-02-08T16:23:00",
          "delay": 0,
          "destination": "PHX",
          "distance": 935,
          "origin": "TUL"
         },
         {
          "date": "2001-01-13T20:55:00",
          "delay": -10,
          "destination": "SEA",
          "distance": 605,
          "origin": "SMF"
         },
         {
          "date": "2001-03-30T14:00:00",
          "delay": 13,
          "destination": "LAS",
          "distance": 197,
          "origin": "ONT"
         },
         {
          "date": "2001-01-11T12:47:00",
          "delay": 23,
          "destination": "MDW",
          "distance": 405,
          "origin": "MCI"
         },
         {
          "date": "2001-01-01T21:21:00",
          "delay": 38,
          "destination": "SEA",
          "distance": 671,
          "origin": "OAK"
         },
         {
          "date": "2001-02-26T21:25:00",
          "delay": 4,
          "destination": "MSY",
          "distance": 487,
          "origin": "TPA"
         },
         {
          "date": "2001-03-28T14:45:00",
          "delay": 18,
          "destination": "STL",
          "distance": 251,
          "origin": "MDW"
         },
         {
          "date": "2001-03-01T09:00:00",
          "delay": -10,
          "destination": "RDU",
          "distance": 255,
          "origin": "BWI"
         },
         {
          "date": "2001-02-12T21:32:00",
          "delay": 11,
          "destination": "LAS",
          "distance": 197,
          "origin": "ONT"
         },
         {
          "date": "2001-02-25T17:25:00",
          "delay": 3,
          "destination": "BNA",
          "distance": 457,
          "origin": "DTW"
         },
         {
          "date": "2001-03-21T08:05:00",
          "delay": 1,
          "destination": "MCO",
          "distance": 178,
          "origin": "FLL"
         },
         {
          "date": "2001-01-30T07:50:00",
          "delay": 2,
          "destination": "SDF",
          "distance": 254,
          "origin": "STL"
         },
         {
          "date": "2001-01-14T19:25:00",
          "delay": -4,
          "destination": "SNA",
          "distance": 371,
          "origin": "OAK"
         },
         {
          "date": "2001-03-09T09:00:00",
          "delay": 5,
          "destination": "AUS",
          "distance": 1090,
          "origin": "LAS"
         },
         {
          "date": "2001-01-04T06:30:00",
          "delay": 13,
          "destination": "STL",
          "distance": 237,
          "origin": "MCI"
         },
         {
          "date": "2001-01-04T19:33:00",
          "delay": 12,
          "destination": "MCO",
          "distance": 178,
          "origin": "FLL"
         },
         {
          "date": "2001-02-03T15:50:00",
          "delay": -3,
          "destination": "SNA",
          "distance": 371,
          "origin": "OAK"
         },
         {
          "date": "2001-01-23T08:05:00",
          "delay": -3,
          "destination": "BHM",
          "distance": 321,
          "origin": "MSY"
         },
         {
          "date": "2001-02-15T21:05:00",
          "delay": -3,
          "destination": "PVD",
          "distance": 328,
          "origin": "BWI"
         },
         {
          "date": "2001-03-30T08:05:00",
          "delay": -6,
          "destination": "PBI",
          "distance": 174,
          "origin": "TPA"
         },
         {
          "date": "2001-03-25T11:05:00",
          "delay": -13,
          "destination": "AUS",
          "distance": 1342,
          "origin": "BWI"
         },
         {
          "date": "2001-02-23T20:50:00",
          "delay": 140,
          "destination": "HRL",
          "distance": 233,
          "origin": "SAT"
         },
         {
          "date": "2001-02-20T06:50:00",
          "delay": 10,
          "destination": "MDW",
          "distance": 777,
          "origin": "BDL"
         },
         {
          "date": "2001-02-05T12:30:00",
          "delay": -7,
          "destination": "LAS",
          "distance": 2237,
          "origin": "ALB"
         },
         {
          "date": "2001-03-30T16:57:00",
          "delay": 12,
          "destination": "SLC",
          "distance": 368,
          "origin": "LAS"
         },
         {
          "date": "2001-02-09T10:46:00",
          "delay": 9,
          "destination": "PVD",
          "distance": 108,
          "origin": "ISP"
         },
         {
          "date": "2001-01-14T08:19:00",
          "delay": 21,
          "destination": "PHX",
          "distance": 1448,
          "origin": "BNA"
         },
         {
          "date": "2001-01-10T09:50:00",
          "delay": 57,
          "destination": "LAX",
          "distance": 337,
          "origin": "OAK"
         },
         {
          "date": "2001-03-06T15:05:00",
          "delay": -6,
          "destination": "CMH",
          "distance": 410,
          "origin": "STL"
         },
         {
          "date": "2001-03-22T08:00:00",
          "delay": -2,
          "destination": "LAS",
          "distance": 407,
          "origin": "OAK"
         },
         {
          "date": "2001-02-22T19:11:00",
          "delay": 34,
          "destination": "BNA",
          "distance": 670,
          "origin": "HOU"
         },
         {
          "date": "2001-01-29T08:40:00",
          "delay": 4,
          "destination": "MSY",
          "distance": 321,
          "origin": "BHM"
         },
         {
          "date": "2001-02-21T15:05:00",
          "delay": -1,
          "destination": "MCO",
          "distance": 550,
          "origin": "MSY"
         },
         {
          "date": "2001-02-07T13:00:00",
          "delay": -8,
          "destination": "HOU",
          "distance": 239,
          "origin": "DAL"
         },
         {
          "date": "2001-02-10T10:49:00",
          "delay": 10,
          "destination": "MSY",
          "distance": 708,
          "origin": "IND"
         },
         {
          "date": "2001-03-07T21:05:00",
          "delay": -5,
          "destination": "FLL",
          "distance": 197,
          "origin": "TPA"
         },
         {
          "date": "2001-01-26T11:00:00",
          "delay": -10,
          "destination": "PHX",
          "distance": 1912,
          "origin": "BUF"
         },
         {
          "date": "2001-01-02T20:20:00",
          "delay": 108,
          "destination": "BOI",
          "distance": 335,
          "origin": "RNO"
         },
         {
          "date": "2001-02-24T10:20:00",
          "delay": 12,
          "destination": "SAT",
          "distance": 192,
          "origin": "HOU"
         },
         {
          "date": "2001-03-30T18:49:00",
          "delay": 31,
          "destination": "DAL",
          "distance": 437,
          "origin": "MSY"
         },
         {
          "date": "2001-01-19T20:35:00",
          "delay": 38,
          "destination": "BWI",
          "distance": 220,
          "origin": "ISP"
         },
         {
          "date": "2001-03-03T15:24:00",
          "delay": 10,
          "destination": "RNO",
          "distance": 188,
          "origin": "SJC"
         },
         {
          "date": "2001-03-27T09:57:00",
          "delay": 0,
          "destination": "BOI",
          "distance": 291,
          "origin": "SLC"
         },
         {
          "date": "2001-03-08T15:15:00",
          "delay": -15,
          "destination": "LAS",
          "distance": 1521,
          "origin": "MDW"
         },
         {
          "date": "2001-03-20T12:30:00",
          "delay": -12,
          "destination": "SNA",
          "distance": 342,
          "origin": "SJC"
         },
         {
          "date": "2001-03-16T16:12:00",
          "delay": 3,
          "destination": "GEG",
          "distance": 287,
          "origin": "BOI"
         },
         {
          "date": "2001-02-18T10:35:00",
          "delay": -3,
          "destination": "DAL",
          "distance": 296,
          "origin": "LIT"
         },
         {
          "date": "2001-01-13T16:50:00",
          "delay": 0,
          "destination": "SLC",
          "distance": 368,
          "origin": "LAS"
         },
         {
          "date": "2001-02-15T11:40:00",
          "delay": 19,
          "destination": "MCI",
          "distance": 967,
          "origin": "BWI"
         },
         {
          "date": "2001-01-26T20:15:00",
          "delay": 7,
          "destination": "STL",
          "distance": 880,
          "origin": "MCO"
         },
         {
          "date": "2001-03-06T15:30:00",
          "delay": -15,
          "destination": "BNA",
          "distance": 395,
          "origin": "MDW"
         },
         {
          "date": "2001-03-30T20:50:00",
          "delay": 0,
          "destination": "CMH",
          "distance": 410,
          "origin": "STL"
         },
         {
          "date": "2001-03-10T15:55:00",
          "delay": 0,
          "destination": "PHX",
          "distance": 304,
          "origin": "SAN"
         },
         {
          "date": "2001-01-11T12:15:00",
          "delay": 55,
          "destination": "BUR",
          "distance": 325,
          "origin": "OAK"
         },
         {
          "date": "2001-02-14T23:11:00",
          "delay": 75,
          "destination": "BOI",
          "distance": 291,
          "origin": "SLC"
         },
         {
          "date": "2001-01-21T16:10:00",
          "delay": -9,
          "destination": "SMF",
          "distance": 397,
          "origin": "LAS"
         },
         {
          "date": "2001-02-04T20:50:00",
          "delay": -5,
          "destination": "AMA",
          "distance": 324,
          "origin": "DAL"
         },
         {
          "date": "2001-03-28T19:10:00",
          "delay": -3,
          "destination": "LAX",
          "distance": 390,
          "origin": "RNO"
         },
         {
          "date": "2001-02-28T09:45:00",
          "delay": 27,
          "destination": "PDX",
          "distance": 543,
          "origin": "OAK"
         },
         {
          "date": "2001-02-09T19:49:00",
          "delay": 67,
          "destination": "IND",
          "distance": 1591,
          "origin": "LAS"
         },
         {
          "date": "2001-02-23T08:40:00",
          "delay": -6,
          "destination": "SEA",
          "distance": 224,
          "origin": "GEG"
         },
         {
          "date": "2001-01-26T17:40:00",
          "delay": 9,
          "destination": "STL",
          "distance": 934,
          "origin": "ABQ"
         },
         {
          "date": "2001-02-08T07:30:00",
          "delay": -2,
          "destination": "HOU",
          "distance": 303,
          "origin": "MSY"
         },
         {
          "date": "2001-03-02T07:40:00",
          "delay": 13,
          "destination": "DAL",
          "distance": 437,
          "origin": "MSY"
         },
         {
          "date": "2001-02-28T12:13:00",
          "delay": 10,
          "destination": "LAX",
          "distance": 337,
          "origin": "OAK"
         },
         {
          "date": "2001-02-01T17:03:00",
          "delay": 13,
          "destination": "STL",
          "distance": 296,
          "origin": "LIT"
         },
         {
          "date": "2001-03-06T11:05:00",
          "delay": -22,
          "destination": "FLL",
          "distance": 925,
          "origin": "BWI"
         },
         {
          "date": "2001-03-06T09:25:00",
          "delay": 10,
          "destination": "BNA",
          "distance": 612,
          "origin": "TPA"
         },
         {
          "date": "2001-01-03T12:34:00",
          "delay": -5,
          "destination": "HOU",
          "distance": 239,
          "origin": "DAL"
         },
         {
          "date": "2001-01-13T18:20:00",
          "delay": -5,
          "destination": "BNA",
          "distance": 612,
          "origin": "TPA"
         },
         {
          "date": "2001-01-28T20:20:00",
          "delay": 8,
          "destination": "SEA",
          "distance": 564,
          "origin": "RNO"
         },
         {
          "date": "2001-01-09T08:00:00",
          "delay": -20,
          "destination": "AUS",
          "distance": 1162,
          "origin": "RDU"
         },
         {
          "date": "2001-01-13T19:34:00",
          "delay": 0,
          "destination": "SMF",
          "distance": 647,
          "origin": "PHX"
         },
         {
          "date": "2001-02-25T07:10:00",
          "delay": 17,
          "destination": "PHX",
          "distance": 2277,
          "origin": "PVD"
         },
         {
          "date": "2001-01-28T21:55:00",
          "delay": -7,
          "destination": "STL",
          "distance": 254,
          "origin": "SDF"
         },
         {
          "date": "2001-02-20T11:11:00",
          "delay": 39,
          "destination": "OAK",
          "distance": 180,
          "origin": "RNO"
         },
         {
          "date": "2001-02-28T22:43:00",
          "delay": 100,
          "destination": "RNO",
          "distance": 188,
          "origin": "SJC"
         },
         {
          "date": "2001-03-20T17:33:00",
          "delay": 20,
          "destination": "PDX",
          "distance": 543,
          "origin": "OAK"
         },
         {
          "date": "2001-02-18T12:00:00",
          "delay": 19,
          "destination": "SAN",
          "distance": 417,
          "origin": "SJC"
         },
         {
          "date": "2001-02-09T14:06:00",
          "delay": -5,
          "destination": "PHX",
          "distance": 325,
          "origin": "ONT"
         },
         {
          "date": "2001-03-29T12:30:00",
          "delay": 4,
          "destination": "STL",
          "distance": 251,
          "origin": "MDW"
         },
         {
          "date": "2001-02-01T14:35:00",
          "delay": -1,
          "destination": "SMF",
          "distance": 389,
          "origin": "ONT"
         },
         {
          "date": "2001-01-09T10:05:00",
          "delay": -3,
          "destination": "DAL",
          "distance": 217,
          "origin": "IAH"
         },
         {
          "date": "2001-02-26T12:40:00",
          "delay": -7,
          "destination": "MCO",
          "distance": 828,
          "origin": "IND"
         },
         {
          "date": "2001-03-18T07:10:00",
          "delay": -8,
          "destination": "BWI",
          "distance": 842,
          "origin": "TPA"
         },
         {
          "date": "2001-02-27T13:36:00",
          "delay": 11,
          "destination": "LIT",
          "distance": 1136,
          "origin": "PHX"
         },
         {
          "date": "2001-02-08T10:20:00",
          "delay": -6,
          "destination": "SMF",
          "distance": 373,
          "origin": "LAX"
         },
         {
          "date": "2001-03-11T09:20:00",
          "delay": -9,
          "destination": "MDW",
          "distance": 666,
          "origin": "JAN"
         },
         {
          "date": "2001-01-02T06:53:00",
          "delay": -15,
          "destination": "MDW",
          "distance": 777,
          "origin": "BDL"
         },
         {
          "date": "2001-03-13T19:03:00",
          "delay": -3,
          "destination": "LAX",
          "distance": 236,
          "origin": "LAS"
         },
         {
          "date": "2001-01-08T10:10:00",
          "delay": -3,
          "destination": "ABQ",
          "distance": 580,
          "origin": "DAL"
         },
         {
          "date": "2001-02-01T07:55:00",
          "delay": -2,
          "destination": "SAT",
          "distance": 192,
          "origin": "HOU"
         },
         {
          "date": "2001-02-14T19:29:00",
          "delay": 7,
          "destination": "RNO",
          "distance": 444,
          "origin": "PDX"
         },
         {
          "date": "2001-02-03T12:35:00",
          "delay": -33,
          "destination": "TPA",
          "distance": 781,
          "origin": "HOU"
         },
         {
          "date": "2001-02-27T13:30:00",
          "delay": -5,
          "destination": "BUF",
          "distance": 281,
          "origin": "BWI"
         },
         {
          "date": "2001-01-29T09:50:00",
          "delay": 6,
          "destination": "PHX",
          "distance": 325,
          "origin": "ONT"
         },
         {
          "date": "2001-02-01T13:50:00",
          "delay": 0,
          "destination": "BWI",
          "distance": 377,
          "origin": "MHT"
         },
         {
          "date": "2001-03-04T06:50:00",
          "delay": -10,
          "destination": "BUR",
          "distance": 369,
          "origin": "PHX"
         },
         {
          "date": "2001-02-18T08:15:00",
          "delay": -10,
          "destination": "MDW",
          "distance": 937,
          "origin": "HOU"
         },
         {
          "date": "2001-03-12T07:00:00",
          "delay": 5,
          "destination": "TUL",
          "distance": 237,
          "origin": "DAL"
         },
         {
          "date": "2001-03-17T10:33:00",
          "delay": 6,
          "destination": "PHX",
          "distance": 1671,
          "origin": "DTW"
         },
         {
          "date": "2001-01-13T20:35:00",
          "delay": 32,
          "destination": "LAS",
          "distance": 1069,
          "origin": "SAT"
         },
         {
          "date": "2001-01-07T11:40:00",
          "delay": 11,
          "destination": "FLL",
          "distance": 318,
          "origin": "JAX"
         },
         {
          "date": "2001-03-03T15:49:00",
          "delay": 14,
          "destination": "MSY",
          "distance": 321,
          "origin": "BHM"
         },
         {
          "date": "2001-01-08T19:30:00",
          "delay": 0,
          "destination": "HOU",
          "distance": 239,
          "origin": "DAL"
         },
         {
          "date": "2001-03-03T20:25:00",
          "delay": -7,
          "destination": "SAT",
          "distance": 843,
          "origin": "PHX"
         },
         {
          "date": "2001-02-13T12:25:00",
          "delay": 4,
          "destination": "ONT",
          "distance": 325,
          "origin": "PHX"
         },
         {
          "date": "2001-01-26T08:27:00",
          "delay": -1,
          "destination": "SJC",
          "distance": 386,
          "origin": "LAS"
         },
         {
          "date": "2001-02-28T06:25:00",
          "delay": 4,
          "destination": "STL",
          "distance": 251,
          "origin": "MDW"
         },
         {
          "date": "2001-03-22T07:00:00",
          "delay": 0,
          "destination": "PHX",
          "distance": 256,
          "origin": "LAS"
         },
         {
          "date": "2001-01-30T13:35:00",
          "delay": -1,
          "destination": "MAF",
          "distance": 319,
          "origin": "DAL"
         },
         {
          "date": "2001-02-27T12:08:00",
          "delay": -2,
          "destination": "DTW",
          "distance": 229,
          "origin": "MDW"
         },
         {
          "date": "2001-01-01T16:05:00",
          "delay": -2,
          "destination": "OKC",
          "distance": 833,
          "origin": "PHX"
         },
         {
          "date": "2001-02-02T12:40:00",
          "delay": -10,
          "destination": "PHX",
          "distance": 601,
          "origin": "RNO"
         },
         {
          "date": "2001-02-26T13:05:00",
          "delay": -7,
          "destination": "PVD",
          "distance": 1137,
          "origin": "TPA"
         },
         {
          "date": "2001-03-23T07:05:00",
          "delay": -1,
          "destination": "SEA",
          "distance": 671,
          "origin": "OAK"
         },
         {
          "date": "2001-02-09T18:10:00",
          "delay": 80,
          "destination": "SJC",
          "distance": 417,
          "origin": "SAN"
         },
         {
          "date": "2001-03-05T06:45:00",
          "delay": 10,
          "destination": "BUR",
          "distance": 296,
          "origin": "SJC"
         },
         {
          "date": "2001-03-03T15:00:00",
          "delay": 2,
          "destination": "DAL",
          "distance": 319,
          "origin": "MAF"
         },
         {
          "date": "2001-01-29T16:05:00",
          "delay": 0,
          "destination": "TUS",
          "distance": 451,
          "origin": "LAX"
         },
         {
          "date": "2001-02-20T07:00:00",
          "delay": -4,
          "destination": "PHX",
          "distance": 256,
          "origin": "LAS"
         },
         {
          "date": "2001-01-21T16:37:00",
          "delay": 9,
          "destination": "SAN",
          "distance": 304,
          "origin": "PHX"
         },
         {
          "date": "2001-02-16T15:08:00",
          "delay": 24,
          "destination": "RNO",
          "distance": 345,
          "origin": "LAS"
         },
         {
          "date": "2001-03-13T22:15:00",
          "delay": 95,
          "destination": "AUS",
          "distance": 756,
          "origin": "BNA"
         },
         {
          "date": "2001-03-12T08:40:00",
          "delay": -2,
          "destination": "STL",
          "distance": 254,
          "origin": "SDF"
         },
         {
          "date": "2001-01-26T08:55:00",
          "delay": 8,
          "destination": "MHT",
          "distance": 838,
          "origin": "MDW"
         },
         {
          "date": "2001-03-22T21:10:00",
          "delay": 21,
          "destination": "SJC",
          "distance": 296,
          "origin": "BUR"
         },
         {
          "date": "2001-01-03T12:15:00",
          "delay": 7,
          "destination": "LIT",
          "distance": 393,
          "origin": "HOU"
         },
         {
          "date": "2001-02-05T20:40:00",
          "delay": 14,
          "destination": "BNA",
          "distance": 443,
          "origin": "RDU"
         },
         {
          "date": "2001-01-23T15:55:00",
          "delay": -3,
          "destination": "PHX",
          "distance": 304,
          "origin": "SAN"
         },
         {
          "date": "2001-03-17T08:35:00",
          "delay": -4,
          "destination": "SMF",
          "distance": 480,
          "origin": "SAN"
         },
         {
          "date": "2001-01-19T09:45:00",
          "delay": -8,
          "destination": "BOI",
          "distance": 291,
          "origin": "SLC"
         },
         {
          "date": "2001-03-31T16:28:00",
          "delay": 18,
          "destination": "PHX",
          "distance": 507,
          "origin": "SLC"
         },
         {
          "date": "2001-01-05T14:40:00",
          "delay": -2,
          "destination": "SMF",
          "distance": 479,
          "origin": "PDX"
         },
         {
          "date": "2001-03-22T17:45:00",
          "delay": -4,
          "destination": "MDW",
          "distance": 842,
          "origin": "PVD"
         },
         {
          "date": "2001-02-15T10:20:00",
          "delay": -3,
          "destination": "DAL",
          "distance": 580,
          "origin": "ABQ"
         },
         {
          "date": "2001-01-27T10:10:00",
          "delay": -3,
          "destination": "SLC",
          "distance": 291,
          "origin": "BOI"
         },
         {
          "date": "2001-03-14T14:40:00",
          "delay": 41,
          "destination": "DAL",
          "distance": 189,
          "origin": "AUS"
         },
         {
          "date": "2001-01-18T11:30:00",
          "delay": 10,
          "destination": "HOU",
          "distance": 239,
          "origin": "DAL"
         },
         {
          "date": "2001-03-28T18:55:00",
          "delay": -2,
          "destination": "PHX",
          "distance": 1999,
          "origin": "BWI"
         },
         {
          "date": "2001-02-21T08:30:00",
          "delay": -7,
          "destination": "DAL",
          "distance": 239,
          "origin": "HOU"
         },
         {
          "date": "2001-02-09T18:45:00",
          "delay": 87,
          "destination": "MSY",
          "distance": 471,
          "origin": "BNA"
         },
         {
          "date": "2001-03-28T16:25:00",
          "delay": -6,
          "destination": "SJC",
          "distance": 296,
          "origin": "BUR"
         },
         {
          "date": "2001-02-13T10:10:00",
          "delay": -3,
          "destination": "HOU",
          "distance": 419,
          "origin": "OKC"
         },
         {
          "date": "2001-02-04T21:47:00",
          "delay": 7,
          "destination": "ABQ",
          "distance": 487,
          "origin": "LAS"
         },
         {
          "date": "2001-02-22T19:00:00",
          "delay": 1,
          "destination": "TUL",
          "distance": 223,
          "origin": "MCI"
         },
         {
          "date": "2001-01-30T12:25:00",
          "delay": -5,
          "destination": "SMF",
          "distance": 480,
          "origin": "SAN"
         },
         {
          "date": "2001-01-23T11:45:00",
          "delay": -3,
          "destination": "ISP",
          "distance": 108,
          "origin": "PVD"
         },
         {
          "date": "2001-03-26T07:00:00",
          "delay": -9,
          "destination": "MSY",
          "distance": 303,
          "origin": "HOU"
         },
         {
          "date": "2001-02-08T09:25:00",
          "delay": -6,
          "destination": "IND",
          "distance": 515,
          "origin": "BWI"
         },
         {
          "date": "2001-03-21T17:51:00",
          "delay": 13,
          "destination": "TPA",
          "distance": 487,
          "origin": "MSY"
         },
         {
          "date": "2001-01-28T16:00:00",
          "delay": -12,
          "destination": "LAX",
          "distance": 337,
          "origin": "OAK"
         },
         {
          "date": "2001-02-02T08:07:00",
          "delay": 0,
          "destination": "ALB",
          "distance": 288,
          "origin": "BWI"
         },
         {
          "date": "2001-01-30T17:00:00",
          "delay": -3,
          "destination": "HOU",
          "distance": 677,
          "origin": "ELP"
         },
         {
          "date": "2001-02-25T15:20:00",
          "delay": 5,
          "destination": "TUL",
          "distance": 453,
          "origin": "HOU"
         },
         {
          "date": "2001-01-13T13:40:00",
          "delay": 1,
          "destination": "STL",
          "distance": 462,
          "origin": "OKC"
         },
         {
          "date": "2001-03-16T09:45:00",
          "delay": -2,
          "destination": "HOU",
          "distance": 148,
          "origin": "AUS"
         },
         {
          "date": "2001-01-31T17:02:00",
          "delay": 5,
          "destination": "OAK",
          "distance": 337,
          "origin": "LAX"
         },
         {
          "date": "2001-01-03T16:00:00",
          "delay": 18,
          "destination": "DTW",
          "distance": 440,
          "origin": "STL"
         },
         {
          "date": "2001-03-13T08:20:00",
          "delay": -2,
          "destination": "BOI",
          "distance": 335,
          "origin": "RNO"
         },
         {
          "date": "2001-02-16T18:17:00",
          "delay": 12,
          "destination": "OAK",
          "distance": 325,
          "origin": "BUR"
         },
         {
          "date": "2001-02-28T09:20:00",
          "delay": 67,
          "destination": "PHX",
          "distance": 304,
          "origin": "SAN"
         },
         {
          "date": "2001-02-11T12:35:00",
          "delay": -3,
          "destination": "SAN",
          "distance": 367,
          "origin": "TUS"
         },
         {
          "date": "2001-02-23T16:25:00",
          "delay": 18,
          "destination": "FLL",
          "distance": 318,
          "origin": "JAX"
         },
         {
          "date": "2001-01-04T12:40:00",
          "delay": -14,
          "destination": "MCO",
          "distance": 828,
          "origin": "IND"
         },
         {
          "date": "2001-01-26T18:42:00",
          "delay": 110,
          "destination": "LAS",
          "distance": 256,
          "origin": "PHX"
         },
         {
          "date": "2001-02-16T18:45:00",
          "delay": -8,
          "destination": "PDX",
          "distance": 1481,
          "origin": "MCI"
         },
         {
          "date": "2001-03-30T10:10:00",
          "delay": -5,
          "destination": "SAT",
          "distance": 192,
          "origin": "HOU"
         },
         {
          "date": "2001-02-21T06:30:00",
          "delay": -2,
          "destination": "BWI",
          "distance": 281,
          "origin": "BUF"
         },
         {
          "date": "2001-01-10T13:15:00",
          "delay": -2,
          "destination": "BUR",
          "distance": 223,
          "origin": "LAS"
         },
         {
          "date": "2001-01-27T23:28:00",
          "delay": 140,
          "destination": "ONT",
          "distance": 325,
          "origin": "PHX"
         },
         {
          "date": "2001-02-18T19:35:00",
          "delay": 2,
          "destination": "AUS",
          "distance": 189,
          "origin": "DAL"
         },
         {
          "date": "2001-01-28T12:00:00",
          "delay": -3,
          "destination": "SDF",
          "distance": 495,
          "origin": "BWI"
         },
         {
          "date": "2001-03-09T07:30:00",
          "delay": -9,
          "destination": "HOU",
          "distance": 1020,
          "origin": "PHX"
         },
         {
          "date": "2001-01-30T08:10:00",
          "delay": 39,
          "destination": "PHX",
          "distance": 1999,
          "origin": "BWI"
         },
         {
          "date": "2001-01-10T10:25:00",
          "delay": -3,
          "destination": "TUL",
          "distance": 237,
          "origin": "DAL"
         },
         {
          "date": "2001-01-23T12:20:00",
          "delay": 2,
          "destination": "OAK",
          "distance": 407,
          "origin": "LAS"
         },
         {
          "date": "2001-03-04T11:05:00",
          "delay": -18,
          "destination": "SEA",
          "distance": 564,
          "origin": "RNO"
         },
         {
          "date": "2001-01-09T20:20:00",
          "delay": -4,
          "destination": "BNA",
          "distance": 395,
          "origin": "MDW"
         },
         {
          "date": "2001-03-12T08:21:00",
          "delay": 4,
          "destination": "LAS",
          "distance": 1588,
          "origin": "BNA"
         },
         {
          "date": "2001-01-29T07:15:00",
          "delay": -18,
          "destination": "BWI",
          "distance": 515,
          "origin": "IND"
         },
         {
          "date": "2001-03-15T17:40:00",
          "delay": 25,
          "destination": "DAL",
          "distance": 237,
          "origin": "TUL"
         },
         {
          "date": "2001-02-07T10:23:00",
          "delay": 6,
          "destination": "SAT",
          "distance": 192,
          "origin": "HOU"
         },
         {
          "date": "2001-02-22T12:35:00",
          "delay": 0,
          "destination": "HOU",
          "distance": 687,
          "origin": "STL"
         },
         {
          "date": "2001-03-19T13:25:00",
          "delay": 0,
          "destination": "TPA",
          "distance": 487,
          "origin": "MSY"
         },
         {
          "date": "2001-02-26T17:00:00",
          "delay": -10,
          "destination": "JAX",
          "distance": 365,
          "origin": "BHM"
         },
         {
          "date": "2001-02-10T09:55:00",
          "delay": -5,
          "destination": "OAK",
          "distance": 446,
          "origin": "SAN"
         },
         {
          "date": "2001-01-23T16:15:00",
          "delay": 6,
          "destination": "SAN",
          "distance": 480,
          "origin": "SMF"
         },
         {
          "date": "2001-02-02T16:05:00",
          "delay": -1,
          "destination": "MDW",
          "distance": 765,
          "origin": "ISP"
         },
         {
          "date": "2001-02-13T19:50:00",
          "delay": -5,
          "destination": "DAL",
          "distance": 437,
          "origin": "MSY"
         },
         {
          "date": "2001-02-17T08:30:00",
          "delay": -7,
          "destination": "SAN",
          "distance": 417,
          "origin": "SJC"
         },
         {
          "date": "2001-03-28T06:40:00",
          "delay": -10,
          "destination": "PHX",
          "distance": 601,
          "origin": "RNO"
         },
         {
          "date": "2001-01-03T21:41:00",
          "delay": 9,
          "destination": "SAN",
          "distance": 417,
          "origin": "SJC"
         },
         {
          "date": "2001-02-25T20:55:00",
          "delay": -12,
          "destination": "PBI",
          "distance": 174,
          "origin": "TPA"
         },
         {
          "date": "2001-01-03T06:30:00",
          "delay": 13,
          "destination": "PHX",
          "distance": 621,
          "origin": "SJC"
         },
         {
          "date": "2001-02-27T18:10:00",
          "delay": 65,
          "destination": "ABQ",
          "distance": 934,
          "origin": "STL"
         },
         {
          "date": "2001-03-27T19:24:00",
          "delay": 24,
          "destination": "SLC",
          "distance": 1156,
          "origin": "STL"
         },
         {
          "date": "2001-03-29T11:45:00",
          "delay": 0,
          "destination": "OAK",
          "distance": 543,
          "origin": "PDX"
         },
         {
          "date": "2001-01-25T10:25:00",
          "delay": -7,
          "destination": "BWI",
          "distance": 255,
          "origin": "RDU"
         },
         {
          "date": "2001-03-24T09:09:00",
          "delay": 0,
          "destination": "HOU",
          "distance": 937,
          "origin": "MDW"
         },
         {
          "date": "2001-01-31T06:30:00",
          "delay": -7,
          "destination": "ONT",
          "distance": 361,
          "origin": "OAK"
         },
         {
          "date": "2001-01-17T15:00:00",
          "delay": -3,
          "destination": "OAK",
          "distance": 337,
          "origin": "LAX"
         },
         {
          "date": "2001-02-02T14:50:00",
          "delay": -14,
          "destination": "ABQ",
          "distance": 580,
          "origin": "DAL"
         },
         {
          "date": "2001-01-11T19:55:00",
          "delay": -5,
          "destination": "TPA",
          "distance": 587,
          "origin": "RDU"
         },
         {
          "date": "2001-01-16T14:45:00",
          "delay": -3,
          "destination": "IND",
          "distance": 688,
          "origin": "JAX"
         },
         {
          "date": "2001-03-05T10:55:00",
          "delay": 2,
          "destination": "LAS",
          "distance": 866,
          "origin": "SEA"
         },
         {
          "date": "2001-02-23T14:16:00",
          "delay": 250,
          "destination": "MCI",
          "distance": 223,
          "origin": "TUL"
         },
         {
          "date": "2001-01-01T06:30:00",
          "delay": 2,
          "destination": "ELP",
          "distance": 562,
          "origin": "DAL"
         },
         {
          "date": "2001-03-04T17:00:00",
          "delay": 34,
          "destination": "MCO",
          "distance": 178,
          "origin": "FLL"
         },
         {
          "date": "2001-03-28T17:55:00",
          "delay": -5,
          "destination": "PHX",
          "distance": 347,
          "origin": "ELP"
         },
         {
          "date": "2001-02-23T09:15:00",
          "delay": 7,
          "destination": "BHM",
          "distance": 410,
          "origin": "STL"
         },
         {
          "date": "2001-03-01T14:20:00",
          "delay": -6,
          "destination": "MDW",
          "distance": 570,
          "origin": "BHM"
         },
         {
          "date": "2001-01-11T06:30:00",
          "delay": 2,
          "destination": "LAS",
          "distance": 487,
          "origin": "ABQ"
         },
         {
          "date": "2001-02-17T07:15:00",
          "delay": 24,
          "destination": "PHX",
          "distance": 2277,
          "origin": "PVD"
         },
         {
          "date": "2001-01-26T14:10:00",
          "delay": -2,
          "destination": "ABQ",
          "distance": 1180,
          "origin": "SEA"
         },
         {
          "date": "2001-01-30T12:15:00",
          "delay": -2,
          "destination": "OAK",
          "distance": 446,
          "origin": "SAN"
         },
         {
          "date": "2001-02-06T13:30:00",
          "delay": -5,
          "destination": "PDX",
          "distance": 279,
          "origin": "GEG"
         },
         {
          "date": "2001-01-01T13:25:00",
          "delay": 0,
          "destination": "SJC",
          "distance": 417,
          "origin": "SAN"
         },
         {
          "date": "2001-03-06T07:05:00",
          "delay": -1,
          "destination": "ABQ",
          "distance": 677,
          "origin": "LAX"
         },
         {
          "date": "2001-01-29T19:50:00",
          "delay": 5,
          "destination": "LAX",
          "distance": 1363,
          "origin": "MCI"
         },
         {
          "date": "2001-02-26T16:45:00",
          "delay": -5,
          "destination": "STL",
          "distance": 687,
          "origin": "HOU"
         },
         {
          "date": "2001-02-11T18:45:00",
          "delay": 0,
          "destination": "LAS",
          "distance": 256,
          "origin": "PHX"
         },
         {
          "date": "2001-01-09T11:10:00",
          "delay": -19,
          "destination": "SEA",
          "distance": 399,
          "origin": "BOI"
         },
         {
          "date": "2001-03-26T09:30:00",
          "delay": 13,
          "destination": "ONT",
          "distance": 1751,
          "origin": "BNA"
         },
         {
          "date": "2001-01-04T09:12:00",
          "delay": 20,
          "destination": "SDF",
          "distance": 254,
          "origin": "STL"
         },
         {
          "date": "2001-03-20T14:25:00",
          "delay": 8,
          "destination": "BWI",
          "distance": 328,
          "origin": "PVD"
         },
         {
          "date": "2001-02-17T09:55:00",
          "delay": 0,
          "destination": "BOI",
          "distance": 291,
          "origin": "SLC"
         },
         {
          "date": "2001-01-31T15:12:00",
          "delay": 19,
          "destination": "BWI",
          "distance": 1246,
          "origin": "HOU"
         },
         {
          "date": "2001-02-21T11:50:00",
          "delay": 2,
          "destination": "MDW",
          "distance": 997,
          "origin": "TPA"
         },
         {
          "date": "2001-02-28T08:00:00",
          "delay": -3,
          "destination": "DAL",
          "distance": 239,
          "origin": "HOU"
         },
         {
          "date": "2001-02-25T16:43:00",
          "delay": 10,
          "destination": "MCI",
          "distance": 405,
          "origin": "MDW"
         },
         {
          "date": "2001-03-05T06:30:00",
          "delay": 10,
          "destination": "OAK",
          "distance": 337,
          "origin": "LAX"
         },
         {
          "date": "2001-02-15T14:25:00",
          "delay": 15,
          "destination": "ABQ",
          "distance": 628,
          "origin": "SAN"
         },
         {
          "date": "2001-01-20T08:00:00",
          "delay": -12,
          "destination": "BWI",
          "distance": 998,
          "origin": "MSY"
         },
         {
          "date": "2001-01-09T16:36:00",
          "delay": 10,
          "destination": "LAX",
          "distance": 451,
          "origin": "TUS"
         },
         {
          "date": "2001-03-26T21:45:00",
          "delay": -1,
          "destination": "MDW",
          "distance": 395,
          "origin": "BNA"
         },
         {
          "date": "2001-01-09T21:08:00",
          "delay": 39,
          "destination": "LAS",
          "distance": 236,
          "origin": "LAX"
         },
         {
          "date": "2001-01-13T16:04:00",
          "delay": 0,
          "destination": "SMF",
          "distance": 358,
          "origin": "BUR"
         },
         {
          "date": "2001-03-31T15:20:00",
          "delay": -4,
          "destination": "LAS",
          "distance": 487,
          "origin": "ABQ"
         },
         {
          "date": "2001-02-28T13:05:00",
          "delay": -12,
          "destination": "LAX",
          "distance": 590,
          "origin": "SLC"
         },
         {
          "date": "2001-03-12T09:35:00",
          "delay": -10,
          "destination": "PDX",
          "distance": 762,
          "origin": "LAS"
         },
         {
          "date": "2001-01-08T07:05:00",
          "delay": 3,
          "destination": "SAN",
          "distance": 258,
          "origin": "LAS"
         },
         {
          "date": "2001-01-09T18:50:00",
          "delay": 0,
          "destination": "PHX",
          "distance": 256,
          "origin": "LAS"
         },
         {
          "date": "2001-03-14T08:45:00",
          "delay": -6,
          "destination": "MCO",
          "distance": 1142,
          "origin": "MHT"
         },
         {
          "date": "2001-01-17T10:40:00",
          "delay": -1,
          "destination": "RNO",
          "distance": 188,
          "origin": "SJC"
         },
         {
          "date": "2001-01-28T19:30:00",
          "delay": -5,
          "destination": "AUS",
          "distance": 294,
          "origin": "MAF"
         },
         {
          "date": "2001-01-05T09:50:00",
          "delay": 0,
          "destination": "DAL",
          "distance": 324,
          "origin": "AMA"
         },
         {
          "date": "2001-03-31T07:55:00",
          "delay": -5,
          "destination": "LAX",
          "distance": 236,
          "origin": "LAS"
         },
         {
          "date": "2001-03-07T19:05:00",
          "delay": 37,
          "destination": "SJC",
          "distance": 417,
          "origin": "SAN"
         },
         {
          "date": "2001-02-22T09:38:00",
          "delay": 28,
          "destination": "ABQ",
          "distance": 934,
          "origin": "STL"
         },
         {
          "date": "2001-01-14T11:20:00",
          "delay": -4,
          "destination": "OAK",
          "distance": 446,
          "origin": "SAN"
         },
         {
          "date": "2001-02-01T21:55:00",
          "delay": -10,
          "destination": "LAS",
          "distance": 397,
          "origin": "SMF"
         },
         {
          "date": "2001-02-11T12:20:00",
          "delay": 7,
          "destination": "PHX",
          "distance": 1044,
          "origin": "MCI"
         },
         {
          "date": "2001-03-24T15:42:00",
          "delay": 5,
          "destination": "FLL",
          "distance": 197,
          "origin": "TPA"
         },
         {
          "date": "2001-02-17T13:10:00",
          "delay": -8,
          "destination": "HOU",
          "distance": 677,
          "origin": "ELP"
         },
         {
          "date": "2001-01-06T13:43:00",
          "delay": 11,
          "destination": "HOU",
          "distance": 187,
          "origin": "CRP"
         },
         {
          "date": "2001-03-17T18:50:00",
          "delay": -13,
          "destination": "STL",
          "distance": 342,
          "origin": "OMA"
         },
         {
          "date": "2001-03-12T12:55:00",
          "delay": -15,
          "destination": "AUS",
          "distance": 872,
          "origin": "PHX"
         },
         {
          "date": "2001-02-13T20:30:00",
          "delay": -4,
          "destination": "CMH",
          "distance": 284,
          "origin": "MDW"
         },
         {
          "date": "2001-02-15T13:39:00",
          "delay": 4,
          "destination": "SEA",
          "distance": 689,
          "origin": "SLC"
         },
         {
          "date": "2001-03-19T09:50:00",
          "delay": -2,
          "destination": "MSY",
          "distance": 1301,
          "origin": "PHX"
         },
         {
          "date": "2001-01-04T13:20:00",
          "delay": -12,
          "destination": "HOU",
          "distance": 677,
          "origin": "ELP"
         },
         {
          "date": "2001-03-31T15:15:00",
          "delay": 35,
          "destination": "RDU",
          "distance": 587,
          "origin": "TPA"
         },
         {
          "date": "2001-02-04T08:50:00",
          "delay": -3,
          "destination": "ISP",
          "distance": 220,
          "origin": "BWI"
         },
         {
          "date": "2001-02-01T21:28:00",
          "delay": 40,
          "destination": "TPA",
          "distance": 842,
          "origin": "BWI"
         },
         {
          "date": "2001-01-09T13:50:00",
          "delay": -2,
          "destination": "MSY",
          "distance": 303,
          "origin": "HOU"
         },
         {
          "date": "2001-01-16T16:50:00",
          "delay": 42,
          "destination": "BNA",
          "distance": 616,
          "origin": "MCO"
         },
         {
          "date": "2001-03-11T17:40:00",
          "delay": 5,
          "destination": "OAK",
          "distance": 407,
          "origin": "LAS"
         },
         {
          "date": "2001-03-03T07:05:00",
          "delay": 0,
          "destination": "BNA",
          "distance": 457,
          "origin": "DTW"
         },
         {
          "date": "2001-03-01T08:41:00",
          "delay": 30,
          "destination": "SAT",
          "distance": 248,
          "origin": "DAL"
         },
         {
          "date": "2001-03-30T16:00:00",
          "delay": -5,
          "destination": "DAL",
          "distance": 239,
          "origin": "HOU"
         },
         {
          "date": "2001-02-21T21:12:00",
          "delay": 35,
          "destination": "CMH",
          "distance": 410,
          "origin": "STL"
         },
         {
          "date": "2001-02-06T06:10:00",
          "delay": 4,
          "destination": "SJC",
          "distance": 188,
          "origin": "RNO"
         },
         {
          "date": "2001-03-13T20:10:00",
          "delay": -15,
          "destination": "LAX",
          "distance": 714,
          "origin": "ELP"
         },
         {
          "date": "2001-01-20T07:30:00",
          "delay": -9,
          "destination": "PHX",
          "distance": 370,
          "origin": "LAX"
         },
         {
          "date": "2001-02-15T13:30:00",
          "delay": 85,
          "destination": "PHX",
          "distance": 872,
          "origin": "AUS"
         },
         {
          "date": "2001-01-16T13:20:00",
          "delay": 32,
          "destination": "MCI",
          "distance": 1489,
          "origin": "SEA"
         },
         {
          "date": "2001-02-05T13:55:00",
          "delay": -5,
          "destination": "LAX",
          "distance": 236,
          "origin": "LAS"
         },
         {
          "date": "2001-03-22T22:15:00",
          "delay": 0,
          "destination": "FLL",
          "distance": 197,
          "origin": "TPA"
         },
         {
          "date": "2001-02-21T14:55:00",
          "delay": -11,
          "destination": "ISP",
          "distance": 220,
          "origin": "BWI"
         },
         {
          "date": "2001-01-04T15:00:00",
          "delay": -9,
          "destination": "SJC",
          "distance": 188,
          "origin": "RNO"
         },
         {
          "date": "2001-02-28T20:42:00",
          "delay": 20,
          "destination": "LAS",
          "distance": 223,
          "origin": "BUR"
         },
         {
          "date": "2001-03-10T09:28:00",
          "delay": 14,
          "destination": "LAS",
          "distance": 407,
          "origin": "OAK"
         },
         {
          "date": "2001-03-28T06:30:00",
          "delay": 9,
          "destination": "MSY",
          "distance": 487,
          "origin": "TPA"
         },
         {
          "date": "2001-01-28T08:20:00",
          "delay": -1,
          "destination": "BNA",
          "distance": 588,
          "origin": "BWI"
         },
         {
          "date": "2001-03-30T16:38:00",
          "delay": 3,
          "destination": "LAX",
          "distance": 1797,
          "origin": "BNA"
         },
         {
          "date": "2001-01-04T17:50:00",
          "delay": 18,
          "destination": "OAK",
          "distance": 671,
          "origin": "SEA"
         },
         {
          "date": "2001-03-10T15:51:00",
          "delay": -3,
          "destination": "AUS",
          "distance": 189,
          "origin": "DAL"
         },
         {
          "date": "2001-03-17T08:55:00",
          "delay": -8,
          "destination": "JAX",
          "distance": 859,
          "origin": "ISP"
         },
         {
          "date": "2001-01-14T07:00:00",
          "delay": -5,
          "destination": "MHT",
          "distance": 377,
          "origin": "BWI"
         },
         {
          "date": "2001-01-31T17:00:00",
          "delay": -7,
          "destination": "ISP",
          "distance": 220,
          "origin": "BWI"
         },
         {
          "date": "2001-03-19T15:35:00",
          "delay": -5,
          "destination": "SAN",
          "distance": 258,
          "origin": "LAS"
         },
         {
          "date": "2001-01-08T17:55:00",
          "delay": 38,
          "destination": "GEG",
          "distance": 279,
          "origin": "PDX"
         },
         {
          "date": "2001-03-26T19:15:00",
          "delay": 52,
          "destination": "DAL",
          "distance": 189,
          "origin": "AUS"
         },
         {
          "date": "2001-01-16T08:20:00",
          "delay": -15,
          "destination": "LAX",
          "distance": 1363,
          "origin": "MCI"
         },
         {
          "date": "2001-03-27T09:20:00",
          "delay": -5,
          "destination": "LAS",
          "distance": 1295,
          "origin": "LIT"
         },
         {
          "date": "2001-01-02T15:13:00",
          "delay": 9,
          "destination": "STL",
          "distance": 229,
          "origin": "IND"
         },
         {
          "date": "2001-01-12T11:37:00",
          "delay": 22,
          "destination": "ABQ",
          "distance": 580,
          "origin": "DAL"
         },
         {
          "date": "2001-03-06T16:52:00",
          "delay": 8,
          "destination": "AMA",
          "distance": 324,
          "origin": "DAL"
         },
         {
          "date": "2001-02-22T19:45:00",
          "delay": 162,
          "destination": "HOU",
          "distance": 359,
          "origin": "JAN"
         },
         {
          "date": "2001-03-07T14:45:00",
          "delay": 9,
          "destination": "BWI",
          "distance": 1246,
          "origin": "HOU"
         },
         {
          "date": "2001-03-13T15:16:00",
          "delay": 117,
          "destination": "MCO",
          "distance": 478,
          "origin": "BHM"
         },
         {
          "date": "2001-03-01T12:47:00",
          "delay": 14,
          "destination": "BHM",
          "distance": 1455,
          "origin": "PHX"
         },
         {
          "date": "2001-01-20T15:27:00",
          "delay": 15,
          "destination": "SAT",
          "distance": 248,
          "origin": "DAL"
         },
         {
          "date": "2001-01-22T09:25:00",
          "delay": 0,
          "destination": "BUR",
          "distance": 358,
          "origin": "SMF"
         },
         {
          "date": "2001-03-22T06:55:00",
          "delay": 3,
          "destination": "SNA",
          "distance": 342,
          "origin": "SJC"
         },
         {
          "date": "2001-02-22T22:15:00",
          "delay": 0,
          "destination": "ELP",
          "distance": 528,
          "origin": "AUS"
         },
         {
          "date": "2001-03-05T05:30:00",
          "delay": -3,
          "destination": "LAX",
          "distance": 236,
          "origin": "LAS"
         },
         {
          "date": "2001-02-03T08:20:00",
          "delay": -3,
          "destination": "AUS",
          "distance": 872,
          "origin": "PHX"
         },
         {
          "date": "2001-02-11T19:25:00",
          "delay": 12,
          "destination": "MCI",
          "distance": 405,
          "origin": "MDW"
         },
         {
          "date": "2001-02-10T11:30:00",
          "delay": 22,
          "destination": "TUS",
          "distance": 451,
          "origin": "LAX"
         },
         {
          "date": "2001-03-19T09:05:00",
          "delay": 13,
          "destination": "TPA",
          "distance": 487,
          "origin": "MSY"
         },
         {
          "date": "2001-03-15T11:30:00",
          "delay": 0,
          "destination": "CLE",
          "distance": 487,
          "origin": "STL"
         },
         {
          "date": "2001-03-02T14:13:00",
          "delay": 7,
          "destination": "BNA",
          "distance": 616,
          "origin": "MCO"
         },
         {
          "date": "2001-03-28T18:07:00",
          "delay": 14,
          "destination": "HOU",
          "distance": 303,
          "origin": "MSY"
         },
         {
          "date": "2001-03-07T13:50:00",
          "delay": -3,
          "destination": "MCO",
          "distance": 534,
          "origin": "RDU"
         },
         {
          "date": "2001-02-28T12:05:00",
          "delay": 1,
          "destination": "OAK",
          "distance": 325,
          "origin": "BUR"
         },
         {
          "date": "2001-02-19T07:20:00",
          "delay": 6,
          "destination": "TUS",
          "distance": 451,
          "origin": "LAX"
         },
         {
          "date": "2001-01-23T11:10:00",
          "delay": -5,
          "destination": "MCO",
          "distance": 1073,
          "origin": "PVD"
         },
         {
          "date": "2001-01-04T06:30:00",
          "delay": 0,
          "destination": "BWI",
          "distance": 288,
          "origin": "ALB"
         },
         {
          "date": "2001-03-25T12:48:00",
          "delay": 35,
          "destination": "SAT",
          "distance": 1069,
          "origin": "LAS"
         },
         {
          "date": "2001-02-11T21:02:00",
          "delay": 8,
          "destination": "ABQ",
          "distance": 677,
          "origin": "LAX"
         },
         {
          "date": "2001-02-27T12:05:00",
          "delay": 0,
          "destination": "MDW",
          "distance": 307,
          "origin": "CLE"
         },
         {
          "date": "2001-03-07T11:25:00",
          "delay": 5,
          "destination": "JAN",
          "distance": 359,
          "origin": "HOU"
         },
         {
          "date": "2001-01-19T08:35:00",
          "delay": -12,
          "destination": "BWI",
          "distance": 611,
          "origin": "MDW"
         },
         {
          "date": "2001-02-07T06:20:00",
          "delay": -5,
          "destination": "ONT",
          "distance": 389,
          "origin": "SMF"
         },
         {
          "date": "2001-02-09T16:27:00",
          "delay": 6,
          "destination": "MSY",
          "distance": 303,
          "origin": "HOU"
         },
         {
          "date": "2001-01-18T09:20:00",
          "delay": -1,
          "destination": "BNA",
          "distance": 588,
          "origin": "BWI"
         },
         {
          "date": "2001-02-02T20:50:00",
          "delay": 5,
          "destination": "TPA",
          "distance": 612,
          "origin": "BNA"
         },
         {
          "date": "2001-03-17T16:25:00",
          "delay": 5,
          "destination": "SAN",
          "distance": 304,
          "origin": "PHX"
         },
         {
          "date": "2001-03-07T17:30:00",
          "delay": 21,
          "destination": "OMA",
          "distance": 1099,
          "origin": "LAS"
         },
         {
          "date": "2001-02-02T18:47:00",
          "delay": 35,
          "destination": "DAL",
          "distance": 437,
          "origin": "MSY"
         },
         {
          "date": "2001-01-30T16:20:00",
          "delay": -5,
          "destination": "ONT",
          "distance": 389,
          "origin": "SMF"
         },
         {
          "date": "2001-01-06T15:02:00",
          "delay": 11,
          "destination": "PDX",
          "distance": 1009,
          "origin": "PHX"
         },
         {
          "date": "2001-02-04T09:05:00",
          "delay": 0,
          "destination": "HOU",
          "distance": 192,
          "origin": "SAT"
         },
         {
          "date": "2001-03-16T15:44:00",
          "delay": 0,
          "destination": "RNO",
          "distance": 564,
          "origin": "SEA"
         },
         {
          "date": "2001-01-01T20:20:00",
          "delay": -3,
          "destination": "PHX",
          "distance": 1044,
          "origin": "MCI"
         },
         {
          "date": "2001-01-01T06:25:00",
          "delay": 1,
          "destination": "SDF",
          "distance": 271,
          "origin": "MDW"
         },
         {
          "date": "2001-03-04T19:20:00",
          "delay": 0,
          "destination": "PHX",
          "distance": 935,
          "origin": "TUL"
         },
         {
          "date": "2001-03-07T18:30:00",
          "delay": 13,
          "destination": "PHX",
          "distance": 325,
          "origin": "ONT"
         },
         {
          "date": "2001-02-19T12:05:00",
          "delay": -8,
          "destination": "DAL",
          "distance": 293,
          "origin": "LBB"
         },
         {
          "date": "2001-03-19T16:00:00",
          "delay": -5,
          "destination": "HOU",
          "distance": 303,
          "origin": "MSY"
         },
         {
          "date": "2001-03-23T19:40:00",
          "delay": -8,
          "destination": "PVD",
          "distance": 108,
          "origin": "ISP"
         },
         {
          "date": "2001-02-21T17:45:00",
          "delay": -11,
          "destination": "BWI",
          "distance": 255,
          "origin": "RDU"
         },
         {
          "date": "2001-01-29T11:15:00",
          "delay": 20,
          "destination": "JAN",
          "distance": 666,
          "origin": "MDW"
         },
         {
          "date": "2001-02-09T11:45:00",
          "delay": 15,
          "destination": "AUS",
          "distance": 148,
          "origin": "HOU"
         },
         {
          "date": "2001-03-21T17:25:00",
          "delay": -3,
          "destination": "DAL",
          "distance": 189,
          "origin": "AUS"
         },
         {
          "date": "2001-03-28T19:04:00",
          "delay": 38,
          "destination": "LIT",
          "distance": 296,
          "origin": "DAL"
         },
         {
          "date": "2001-02-18T22:55:00",
          "delay": 3,
          "destination": "LAS",
          "distance": 236,
          "origin": "LAX"
         },
         {
          "date": "2001-03-07T18:50:00",
          "delay": -5,
          "destination": "PDX",
          "distance": 279,
          "origin": "GEG"
         },
         {
          "date": "2001-01-13T10:13:00",
          "delay": 10,
          "destination": "DTW",
          "distance": 229,
          "origin": "MDW"
         },
         {
          "date": "2001-01-31T09:00:00",
          "delay": 0,
          "destination": "CMH",
          "distance": 338,
          "origin": "BNA"
         },
         {
          "date": "2001-01-08T08:40:00",
          "delay": -5,
          "destination": "MHT",
          "distance": 377,
          "origin": "BWI"
         },
         {
          "date": "2001-02-01T12:19:00",
          "delay": 4,
          "destination": "OAK",
          "distance": 446,
          "origin": "SAN"
         },
         {
          "date": "2001-03-06T09:00:00",
          "delay": -5,
          "destination": "ELP",
          "distance": 246,
          "origin": "MAF"
         },
         {
          "date": "2001-01-24T08:20:00",
          "delay": 3,
          "destination": "PHX",
          "distance": 1044,
          "origin": "MCI"
         },
         {
          "date": "2001-02-10T06:30:00",
          "delay": -13,
          "destination": "SEA",
          "distance": 399,
          "origin": "BOI"
         },
         {
          "date": "2001-01-16T12:15:00",
          "delay": -5,
          "destination": "MCO",
          "distance": 616,
          "origin": "BNA"
         },
         {
          "date": "2001-03-04T09:05:00",
          "delay": -2,
          "destination": "ELP",
          "distance": 528,
          "origin": "AUS"
         },
         {
          "date": "2001-01-18T06:15:00",
          "delay": -5,
          "destination": "DAL",
          "distance": 562,
          "origin": "ELP"
         },
         {
          "date": "2001-01-06T17:00:00",
          "delay": 6,
          "destination": "BNA",
          "distance": 448,
          "origin": "CLE"
         },
         {
          "date": "2001-03-30T21:50:00",
          "delay": -2,
          "destination": "STL",
          "distance": 687,
          "origin": "HOU"
         },
         {
          "date": "2001-01-24T17:12:00",
          "delay": 10,
          "destination": "PHX",
          "distance": 370,
          "origin": "LAX"
         },
         {
          "date": "2001-01-10T17:43:00",
          "delay": 43,
          "destination": "RDU",
          "distance": 443,
          "origin": "BNA"
         },
         {
          "date": "2001-01-03T22:05:00",
          "delay": 42,
          "destination": "MCI",
          "distance": 405,
          "origin": "MDW"
         },
         {
          "date": "2001-03-04T06:25:00",
          "delay": -6,
          "destination": "LAX",
          "distance": 451,
          "origin": "TUS"
         },
         {
          "date": "2001-02-28T14:43:00",
          "delay": 55,
          "destination": "ELP",
          "distance": 584,
          "origin": "LAS"
         },
         {
          "date": "2001-02-25T13:00:00",
          "delay": -5,
          "destination": "STL",
          "distance": 342,
          "origin": "OMA"
         },
         {
          "date": "2001-01-30T19:25:00",
          "delay": 5,
          "destination": "MCI",
          "distance": 405,
          "origin": "MDW"
         },
         {
          "date": "2001-03-18T15:08:00",
          "delay": 20,
          "destination": "TPA",
          "distance": 174,
          "origin": "PBI"
         },
         {
          "date": "2001-01-13T14:08:00",
          "delay": 6,
          "destination": "ABQ",
          "distance": 628,
          "origin": "SAN"
         },
         {
          "date": "2001-02-12T10:30:00",
          "delay": -15,
          "destination": "BWI",
          "distance": 588,
          "origin": "BNA"
         },
         {
          "date": "2001-02-06T17:59:00",
          "delay": -15,
          "destination": "SAN",
          "distance": 1599,
          "origin": "MSY"
         },
         {
          "date": "2001-03-11T11:00:00",
          "delay": -2,
          "destination": "OAK",
          "distance": 337,
          "origin": "LAX"
         },
         {
          "date": "2001-03-12T07:00:00",
          "delay": -5,
          "destination": "OAK",
          "distance": 361,
          "origin": "ONT"
         },
         {
          "date": "2001-01-22T19:45:00",
          "delay": 0,
          "destination": "BDL",
          "distance": 777,
          "origin": "MDW"
         },
         {
          "date": "2001-01-18T07:45:00",
          "delay": -10,
          "destination": "IND",
          "distance": 1814,
          "origin": "LAX"
         },
         {
          "date": "2001-03-12T18:55:00",
          "delay": -9,
          "destination": "CLE",
          "distance": 314,
          "origin": "BWI"
         },
         {
          "date": "2001-01-10T06:15:00",
          "delay": -5,
          "destination": "DTW",
          "distance": 229,
          "origin": "MDW"
         },
         {
          "date": "2001-03-30T13:35:00",
          "delay": -10,
          "destination": "SMF",
          "distance": 480,
          "origin": "SAN"
         },
         {
          "date": "2001-02-26T10:45:00",
          "delay": 0,
          "destination": "GEG",
          "distance": 287,
          "origin": "BOI"
         },
         {
          "date": "2001-02-28T18:49:00",
          "delay": 119,
          "destination": "LAX",
          "distance": 677,
          "origin": "ABQ"
         },
         {
          "date": "2001-03-21T06:30:00",
          "delay": 45,
          "destination": "BUR",
          "distance": 223,
          "origin": "LAS"
         },
         {
          "date": "2001-03-20T20:55:00",
          "delay": 123,
          "destination": "SAN",
          "distance": 304,
          "origin": "PHX"
         },
         {
          "date": "2001-02-16T18:20:00",
          "delay": 35,
          "destination": "BUR",
          "distance": 358,
          "origin": "SMF"
         },
         {
          "date": "2001-03-29T20:50:00",
          "delay": -12,
          "destination": "OKC",
          "distance": 462,
          "origin": "STL"
         },
         {
          "date": "2001-03-14T07:28:00",
          "delay": 3,
          "destination": "SAT",
          "distance": 192,
          "origin": "HOU"
         },
         {
          "date": "2001-01-22T17:20:00",
          "delay": 0,
          "destination": "AMA",
          "distance": 277,
          "origin": "ABQ"
         },
         {
          "date": "2001-02-19T13:40:00",
          "delay": 8,
          "destination": "ONT",
          "distance": 197,
          "origin": "LAS"
         },
         {
          "date": "2001-01-20T09:30:00",
          "delay": -20,
          "destination": "SEA",
          "distance": 671,
          "origin": "OAK"
         },
         {
          "date": "2001-03-26T15:00:00",
          "delay": -2,
          "destination": "MDW",
          "distance": 271,
          "origin": "SDF"
         },
         {
          "date": "2001-01-19T13:35:00",
          "delay": 5,
          "destination": "SFO",
          "distance": 447,
          "origin": "SAN"
         },
         {
          "date": "2001-01-15T11:16:00",
          "delay": 7,
          "destination": "PHX",
          "distance": 256,
          "origin": "LAS"
         },
         {
          "date": "2001-03-25T09:59:00",
          "delay": -3,
          "destination": "TUS",
          "distance": 365,
          "origin": "LAS"
         },
         {
          "date": "2001-01-24T19:30:00",
          "delay": 7,
          "destination": "STL",
          "distance": 237,
          "origin": "MCI"
         },
         {
          "date": "2001-03-13T13:06:00",
          "delay": 3,
          "destination": "HOU",
          "distance": 276,
          "origin": "HRL"
         },
         {
          "date": "2001-01-13T15:10:00",
          "delay": -7,
          "destination": "LAS",
          "distance": 345,
          "origin": "RNO"
         },
         {
          "date": "2001-02-03T10:20:00",
          "delay": 0,
          "destination": "BNA",
          "distance": 443,
          "origin": "RDU"
         },
         {
          "date": "2001-03-22T11:08:00",
          "delay": 13,
          "destination": "ELP",
          "distance": 714,
          "origin": "LAX"
         },
         {
          "date": "2001-02-08T12:00:00",
          "delay": -9,
          "destination": "OAK",
          "distance": 361,
          "origin": "ONT"
         },
         {
          "date": "2001-03-31T15:25:00",
          "delay": 0,
          "destination": "MCI",
          "distance": 405,
          "origin": "MDW"
         },
         {
          "date": "2001-03-28T12:34:00",
          "delay": 16,
          "destination": "LAS",
          "distance": 236,
          "origin": "LAX"
         },
         {
          "date": "2001-01-29T06:20:00",
          "delay": -22,
          "destination": "PHX",
          "distance": 651,
          "origin": "SFO"
         },
         {
          "date": "2001-01-27T18:15:00",
          "delay": -10,
          "destination": "SNA",
          "distance": 371,
          "origin": "OAK"
         },
         {
          "date": "2001-02-16T10:05:00",
          "delay": -12,
          "destination": "LAX",
          "distance": 677,
          "origin": "ABQ"
         },
         {
          "date": "2001-03-09T12:00:00",
          "delay": -3,
          "destination": "HOU",
          "distance": 239,
          "origin": "DAL"
         },
         {
          "date": "2001-02-21T10:55:00",
          "delay": 5,
          "destination": "RNO",
          "distance": 188,
          "origin": "SJC"
         },
         {
          "date": "2001-01-04T17:42:00",
          "delay": 17,
          "destination": "MCO",
          "distance": 178,
          "origin": "FLL"
         },
         {
          "date": "2001-03-16T07:05:00",
          "delay": 1,
          "destination": "ABQ",
          "distance": 677,
          "origin": "LAX"
         },
         {
          "date": "2001-02-26T08:40:00",
          "delay": -9,
          "destination": "LAS",
          "distance": 1069,
          "origin": "SAT"
         },
         {
          "date": "2001-01-20T12:20:00",
          "delay": -8,
          "destination": "SAT",
          "distance": 496,
          "origin": "ELP"
         },
         {
          "date": "2001-01-26T13:00:00",
          "delay": 30,
          "destination": "STL",
          "distance": 251,
          "origin": "MDW"
         },
         {
          "date": "2001-03-13T09:40:00",
          "delay": -3,
          "destination": "DAL",
          "distance": 324,
          "origin": "AMA"
         },
         {
          "date": "2001-01-21T09:05:00",
          "delay": 3,
          "destination": "RNO",
          "distance": 444,
          "origin": "PDX"
         },
         {
          "date": "2001-01-01T07:45:00",
          "delay": 0,
          "destination": "BWI",
          "distance": 283,
          "origin": "BDL"
         },
         {
          "date": "2001-03-24T17:05:00",
          "delay": 0,
          "destination": "RDU",
          "distance": 443,
          "origin": "BNA"
         },
         {
          "date": "2001-03-23T14:00:00",
          "delay": 22,
          "destination": "MAF",
          "distance": 319,
          "origin": "DAL"
         },
         {
          "date": "2001-02-12T21:04:00",
          "delay": 14,
          "destination": "BNA",
          "distance": 670,
          "origin": "HOU"
         },
         {
          "date": "2001-02-13T18:50:00",
          "delay": 100,
          "destination": "LBB",
          "distance": 295,
          "origin": "ELP"
         },
         {
          "date": "2001-03-25T12:10:00",
          "delay": 4,
          "destination": "BHM",
          "distance": 323,
          "origin": "SDF"
         },
         {
          "date": "2001-01-25T13:28:00",
          "delay": 47,
          "destination": "PHX",
          "distance": 370,
          "origin": "LAX"
         },
         {
          "date": "2001-02-25T09:45:00",
          "delay": -5,
          "destination": "AMA",
          "distance": 324,
          "origin": "DAL"
         },
         {
          "date": "2001-02-20T17:44:00",
          "delay": 9,
          "destination": "MAF",
          "distance": 319,
          "origin": "DAL"
         },
         {
          "date": "2001-01-28T14:10:00",
          "delay": 5,
          "destination": "ABQ",
          "distance": 277,
          "origin": "AMA"
         },
         {
          "date": "2001-03-06T14:54:00",
          "delay": 26,
          "destination": "LAX",
          "distance": 370,
          "origin": "PHX"
         },
         {
          "date": "2001-03-21T10:45:00",
          "delay": 49,
          "destination": "SDF",
          "distance": 271,
          "origin": "MDW"
         },
         {
          "date": "2001-01-24T16:24:00",
          "delay": 6,
          "destination": "PHX",
          "distance": 256,
          "origin": "LAS"
         },
         {
          "date": "2001-02-28T09:30:00",
          "delay": 0,
          "destination": "BNA",
          "distance": 670,
          "origin": "HOU"
         },
         {
          "date": "2001-03-25T19:50:00",
          "delay": -2,
          "destination": "BUR",
          "distance": 223,
          "origin": "LAS"
         },
         {
          "date": "2001-03-24T12:55:00",
          "delay": -10,
          "destination": "LAS",
          "distance": 345,
          "origin": "RNO"
         },
         {
          "date": "2001-03-20T10:50:00",
          "delay": -10,
          "destination": "MDW",
          "distance": 229,
          "origin": "DTW"
         },
         {
          "date": "2001-02-13T16:10:00",
          "delay": 10,
          "destination": "LAX",
          "distance": 1363,
          "origin": "MCI"
         },
         {
          "date": "2001-01-02T07:00:00",
          "delay": -5,
          "destination": "LAS",
          "distance": 256,
          "origin": "PHX"
         },
         {
          "date": "2001-03-04T11:45:00",
          "delay": 30,
          "destination": "BNA",
          "distance": 1797,
          "origin": "LAX"
         },
         {
          "date": "2001-03-27T17:44:00",
          "delay": 5,
          "destination": "SJC",
          "distance": 308,
          "origin": "LAX"
         },
         {
          "date": "2001-03-27T16:00:00",
          "delay": 5,
          "destination": "HOU",
          "distance": 303,
          "origin": "MSY"
         },
         {
          "date": "2001-02-14T16:00:00",
          "delay": 8,
          "destination": "HOU",
          "distance": 303,
          "origin": "MSY"
         },
         {
          "date": "2001-01-24T08:20:00",
          "delay": 3,
          "destination": "BNA",
          "distance": 588,
          "origin": "BWI"
         },
         {
          "date": "2001-03-01T17:30:00",
          "delay": -5,
          "destination": "LAS",
          "distance": 256,
          "origin": "PHX"
         },
         {
          "date": "2001-01-17T16:45:00",
          "delay": -6,
          "destination": "LAS",
          "distance": 256,
          "origin": "PHX"
         },
         {
          "date": "2001-03-12T13:54:00",
          "delay": 5,
          "destination": "BWI",
          "distance": 2106,
          "origin": "LAS"
         },
         {
          "date": "2001-03-02T17:33:00",
          "delay": 38,
          "destination": "OAK",
          "distance": 337,
          "origin": "LAX"
         },
         {
          "date": "2001-01-19T21:22:00",
          "delay": 55,
          "destination": "SJC",
          "distance": 417,
          "origin": "SAN"
         },
         {
          "date": "2001-03-28T13:30:00",
          "delay": -5,
          "destination": "MDW",
          "distance": 395,
          "origin": "BNA"
         },
         {
          "date": "2001-03-14T06:15:00",
          "delay": -7,
          "destination": "DAL",
          "distance": 239,
          "origin": "HOU"
         },
         {
          "date": "2001-03-14T07:50:00",
          "delay": -7,
          "destination": "MCI",
          "distance": 1363,
          "origin": "LAX"
         },
         {
          "date": "2001-02-28T20:00:00",
          "delay": -15,
          "destination": "OAK",
          "distance": 446,
          "origin": "SAN"
         },
         {
          "date": "2001-01-09T14:35:00",
          "delay": 0,
          "destination": "SDF",
          "distance": 254,
          "origin": "STL"
         },
         {
          "date": "2001-01-11T11:35:00",
          "delay": 137,
          "destination": "LAS",
          "distance": 487,
          "origin": "ABQ"
         },
         {
          "date": "2001-03-16T06:55:00",
          "delay": -2,
          "destination": "PVD",
          "distance": 328,
          "origin": "BWI"
         },
         {
          "date": "2001-03-16T16:35:00",
          "delay": 15,
          "destination": "RNO",
          "distance": 564,
          "origin": "SEA"
         },
         {
          "date": "2001-01-20T08:30:00",
          "delay": -8,
          "destination": "DAL",
          "distance": 580,
          "origin": "ABQ"
         },
         {
          "date": "2001-01-15T17:40:00",
          "delay": -4,
          "destination": "BWI",
          "distance": 787,
          "origin": "MCO"
         },
         {
          "date": "2001-03-31T17:45:00",
          "delay": 5,
          "destination": "RDU",
          "distance": 904,
          "origin": "MCI"
         },
         {
          "date": "2001-03-27T10:05:00",
          "delay": -6,
          "destination": "DAL",
          "distance": 181,
          "origin": "OKC"
         },
         {
          "date": "2001-02-28T08:30:00",
          "delay": -10,
          "destination": "HOU",
          "distance": 687,
          "origin": "STL"
         },
         {
          "date": "2001-03-29T11:25:00",
          "delay": -5,
          "destination": "SAN",
          "distance": 446,
          "origin": "OAK"
         },
         {
          "date": "2001-03-23T06:40:00",
          "delay": -2,
          "destination": "BNA",
          "distance": 670,
          "origin": "HOU"
         },
         {
          "date": "2001-03-01T17:37:00",
          "delay": 3,
          "destination": "HOU",
          "distance": 303,
          "origin": "MSY"
         },
         {
          "date": "2001-02-22T16:10:00",
          "delay": 9,
          "destination": "MDW",
          "distance": 229,
          "origin": "DTW"
         },
         {
          "date": "2001-03-01T06:30:00",
          "delay": 12,
          "destination": "BNA",
          "distance": 588,
          "origin": "BWI"
         },
         {
          "date": "2001-03-07T16:07:00",
          "delay": 5,
          "destination": "TUL",
          "distance": 237,
          "origin": "DAL"
         },
         {
          "date": "2001-03-09T17:05:00",
          "delay": 30,
          "destination": "LAS",
          "distance": 256,
          "origin": "PHX"
         },
         {
          "date": "2001-02-22T14:05:00",
          "delay": 24,
          "destination": "DAL",
          "distance": 293,
          "origin": "LBB"
         },
         {
          "date": "2001-03-25T14:25:00",
          "delay": -4,
          "destination": "PHX",
          "distance": 507,
          "origin": "SLC"
         },
         {
          "date": "2001-01-08T07:55:00",
          "delay": 5,
          "destination": "JAN",
          "distance": 587,
          "origin": "MCO"
         },
         {
          "date": "2001-03-16T07:55:00",
          "delay": 10,
          "destination": "FLL",
          "distance": 197,
          "origin": "TPA"
         },
         {
          "date": "2001-03-31T18:10:00",
          "delay": -9,
          "destination": "SJC",
          "distance": 386,
          "origin": "LAS"
         },
         {
          "date": "2001-01-02T08:30:00",
          "delay": -5,
          "destination": "SJC",
          "distance": 342,
          "origin": "SNA"
         },
         {
          "date": "2001-03-24T15:15:00",
          "delay": 5,
          "destination": "LAS",
          "distance": 1521,
          "origin": "MDW"
         },
         {
          "date": "2001-01-15T12:25:00",
          "delay": -8,
          "destination": "ISP",
          "distance": 1034,
          "origin": "TPA"
         },
         {
          "date": "2001-03-29T21:40:00",
          "delay": -10,
          "destination": "PHX",
          "distance": 328,
          "origin": "ABQ"
         },
         {
          "date": "2001-03-03T18:25:00",
          "delay": 47,
          "destination": "OAK",
          "distance": 180,
          "origin": "RNO"
         },
         {
          "date": "2001-02-05T15:30:00",
          "delay": -10,
          "destination": "BNA",
          "distance": 395,
          "origin": "MDW"
         },
         {
          "date": "2001-03-18T18:38:00",
          "delay": 8,
          "destination": "TPA",
          "distance": 972,
          "origin": "SAT"
         },
         {
          "date": "2001-01-05T08:15:00",
          "delay": -3,
          "destination": "JAN",
          "distance": 359,
          "origin": "HOU"
         },
         {
          "date": "2001-02-08T08:50:00",
          "delay": -2,
          "destination": "MDW",
          "distance": 251,
          "origin": "STL"
         },
         {
          "date": "2001-02-05T12:40:00",
          "delay": -8,
          "destination": "HOU",
          "distance": 759,
          "origin": "ABQ"
         },
         {
          "date": "2001-01-04T12:10:00",
          "delay": -6,
          "destination": "MCI",
          "distance": 718,
          "origin": "ABQ"
         },
         {
          "date": "2001-03-14T16:45:00",
          "delay": 24,
          "destination": "OAK",
          "distance": 361,
          "origin": "ONT"
         },
         {
          "date": "2001-03-28T11:55:00",
          "delay": 9,
          "destination": "SAN",
          "distance": 1333,
          "origin": "MCI"
         },
         {
          "date": "2001-01-14T18:10:00",
          "delay": 0,
          "destination": "ISP",
          "distance": 108,
          "origin": "PVD"
         },
         {
          "date": "2001-03-14T19:05:00",
          "delay": -8,
          "destination": "LAX",
          "distance": 677,
          "origin": "ABQ"
         },
         {
          "date": "2001-03-01T22:35:00",
          "delay": 135,
          "destination": "SEA",
          "distance": 866,
          "origin": "LAS"
         },
         {
          "date": "2001-03-03T08:34:00",
          "delay": 14,
          "destination": "RNO",
          "distance": 335,
          "origin": "BOI"
         },
         {
          "date": "2001-02-24T13:48:00",
          "delay": 72,
          "destination": "STL",
          "distance": 1262,
          "origin": "PHX"
         },
         {
          "date": "2001-02-28T19:13:00",
          "delay": 18,
          "destination": "ELP",
          "distance": 562,
          "origin": "DAL"
         },
         {
          "date": "2001-02-12T13:08:00",
          "delay": 5,
          "destination": "BUR",
          "distance": 369,
          "origin": "PHX"
         },
         {
          "date": "2001-01-05T09:45:00",
          "delay": -10,
          "destination": "BOI",
          "distance": 520,
          "origin": "LAS"
         },
         {
          "date": "2001-01-07T20:10:00",
          "delay": -8,
          "destination": "SJC",
          "distance": 417,
          "origin": "SAN"
         },
         {
          "date": "2001-03-25T20:25:00",
          "delay": 9,
          "destination": "LAX",
          "distance": 714,
          "origin": "ELP"
         },
         {
          "date": "2001-02-08T11:10:00",
          "delay": -5,
          "destination": "BOI",
          "distance": 287,
          "origin": "GEG"
         },
         {
          "date": "2001-01-01T12:38:00",
          "delay": 31,
          "destination": "OAK",
          "distance": 361,
          "origin": "ONT"
         },
         {
          "date": "2001-03-19T07:25:00",
          "delay": -2,
          "destination": "LAX",
          "distance": 308,
          "origin": "SJC"
         },
         {
          "date": "2001-02-16T17:45:00",
          "delay": 42,
          "destination": "HOU",
          "distance": 303,
          "origin": "MSY"
         },
         {
          "date": "2001-03-21T06:30:00",
          "delay": -8,
          "destination": "HOU",
          "distance": 239,
          "origin": "DAL"
         },
         {
          "date": "2001-01-11T16:18:00",
          "delay": 34,
          "destination": "ONT",
          "distance": 325,
          "origin": "PHX"
         },
         {
          "date": "2001-02-17T15:20:00",
          "delay": 3,
          "destination": "STL",
          "distance": 880,
          "origin": "MCO"
         },
         {
          "date": "2001-02-27T21:31:00",
          "delay": 129,
          "destination": "PHX",
          "distance": 328,
          "origin": "ABQ"
         },
         {
          "date": "2001-01-06T10:30:00",
          "delay": 0,
          "destination": "DAL",
          "distance": 239,
          "origin": "HOU"
         },
         {
          "date": "2001-03-12T14:20:00",
          "delay": 0,
          "destination": "MCO",
          "distance": 178,
          "origin": "FLL"
         },
         {
          "date": "2001-03-01T08:42:00",
          "delay": 4,
          "destination": "ONT",
          "distance": 361,
          "origin": "OAK"
         },
         {
          "date": "2001-01-23T10:20:00",
          "delay": -9,
          "destination": "BWI",
          "distance": 377,
          "origin": "MHT"
         },
         {
          "date": "2001-01-08T19:55:00",
          "delay": -5,
          "destination": "BUR",
          "distance": 325,
          "origin": "OAK"
         },
         {
          "date": "2001-01-17T21:49:00",
          "delay": 40,
          "destination": "CRP",
          "distance": 187,
          "origin": "HOU"
         },
         {
          "date": "2001-02-22T07:20:00",
          "delay": -8,
          "destination": "PVD",
          "distance": 108,
          "origin": "ISP"
         },
         {
          "date": "2001-01-08T09:41:00",
          "delay": 23,
          "destination": "MSY",
          "distance": 471,
          "origin": "BNA"
         },
         {
          "date": "2001-01-26T15:12:00",
          "delay": 7,
          "destination": "HOU",
          "distance": 276,
          "origin": "HRL"
         },
         {
          "date": "2001-02-02T10:00:00",
          "delay": -16,
          "destination": "ABQ",
          "distance": 1670,
          "origin": "BWI"
         },
         {
          "date": "2001-01-16T08:20:00",
          "delay": -5,
          "destination": "JAX",
          "distance": 180,
          "origin": "TPA"
         },
         {
          "date": "2001-02-16T15:09:00",
          "delay": 0,
          "destination": "LAS",
          "distance": 584,
          "origin": "ELP"
         },
         {
          "date": "2001-02-28T18:15:00",
          "delay": 219,
          "destination": "LAS",
          "distance": 256,
          "origin": "PHX"
         },
         {
          "date": "2001-02-09T14:15:00",
          "delay": 17,
          "destination": "BNA",
          "distance": 907,
          "origin": "PVD"
         },
         {
          "date": "2001-02-12T13:55:00",
          "delay": -20,
          "destination": "MCI",
          "distance": 1333,
          "origin": "SAN"
         },
         {
          "date": "2001-02-23T07:55:00",
          "delay": 5,
          "destination": "BDL",
          "distance": 283,
          "origin": "BWI"
         },
         {
          "date": "2001-02-20T07:00:00",
          "delay": 5,
          "destination": "OAK",
          "distance": 361,
          "origin": "ONT"
         },
         {
          "date": "2001-03-15T07:55:00",
          "delay": -1,
          "destination": "MSY",
          "distance": 321,
          "origin": "BHM"
         },
         {
          "date": "2001-03-21T12:55:00",
          "delay": -5,
          "destination": "FLL",
          "distance": 1093,
          "origin": "ISP"
         },
         {
          "date": "2001-01-01T19:48:00",
          "delay": 18,
          "destination": "BWI",
          "distance": 967,
          "origin": "MCI"
         },
         {
          "date": "2001-03-09T08:58:00",
          "delay": 35,
          "destination": "LAX",
          "distance": 337,
          "origin": "OAK"
         },
         {
          "date": "2001-03-06T16:49:00",
          "delay": 13,
          "destination": "HOU",
          "distance": 239,
          "origin": "DAL"
         },
         {
          "date": "2001-03-08T17:50:00",
          "delay": 12,
          "destination": "LAS",
          "distance": 258,
          "origin": "SAN"
         },
         {
          "date": "2001-01-04T14:42:00",
          "delay": -15,
          "destination": "BHM",
          "distance": 682,
          "origin": "BWI"
         },
         {
          "date": "2001-02-14T12:40:00",
          "delay": 48,
          "destination": "STL",
          "distance": 737,
          "origin": "BWI"
         },
         {
          "date": "2001-02-11T15:25:00",
          "delay": 35,
          "destination": "TPA",
          "distance": 1034,
          "origin": "ISP"
         },
         {
          "date": "2001-03-26T16:20:00",
          "delay": -13,
          "destination": "MCI",
          "distance": 1072,
          "origin": "MCO"
         },
         {
          "date": "2001-03-29T13:30:00",
          "delay": 0,
          "destination": "OAK",
          "distance": 407,
          "origin": "LAS"
         },
         {
          "date": "2001-02-07T08:45:00",
          "delay": 4,
          "destination": "SLC",
          "distance": 588,
          "origin": "OAK"
         },
         {
          "date": "2001-01-28T10:40:00",
          "delay": -8,
          "destination": "SAN",
          "distance": 446,
          "origin": "OAK"
         },
         {
          "date": "2001-01-27T14:12:00",
          "delay": 5,
          "destination": "STL",
          "distance": 254,
          "origin": "SDF"
         },
         {
          "date": "2001-02-15T20:40:00",
          "delay": -2,
          "destination": "MDW",
          "distance": 395,
          "origin": "BNA"
         },
         {
          "date": "2001-01-14T15:26:00",
          "delay": -2,
          "destination": "TUL",
          "distance": 453,
          "origin": "HOU"
         },
         {
          "date": "2001-02-16T06:25:00",
          "delay": 8,
          "destination": "PHX",
          "distance": 328,
          "origin": "ABQ"
         },
         {
          "date": "2001-02-18T07:40:00",
          "delay": -13,
          "destination": "MSY",
          "distance": 303,
          "origin": "HOU"
         },
         {
          "date": "2001-01-25T17:05:00",
          "delay": -10,
          "destination": "STL",
          "distance": 237,
          "origin": "MCI"
         },
         {
          "date": "2001-03-21T14:12:00",
          "delay": 55,
          "destination": "MDW",
          "distance": 307,
          "origin": "CLE"
         },
         {
          "date": "2001-03-23T10:50:00",
          "delay": -1,
          "destination": "SAN",
          "distance": 446,
          "origin": "OAK"
         },
         {
          "date": "2001-01-22T18:00:00",
          "delay": 12,
          "destination": "PHX",
          "distance": 328,
          "origin": "ABQ"
         },
         {
          "date": "2001-02-24T08:05:00",
          "delay": -9,
          "destination": "PBI",
          "distance": 174,
          "origin": "TPA"
         },
         {
          "date": "2001-02-22T08:05:00",
          "delay": 23,
          "destination": "TUL",
          "distance": 351,
          "origin": "STL"
         },
         {
          "date": "2001-01-31T10:55:00",
          "delay": -10,
          "destination": "SAT",
          "distance": 248,
          "origin": "DAL"
         },
         {
          "date": "2001-01-13T06:30:00",
          "delay": -5,
          "destination": "SMF",
          "distance": 389,
          "origin": "ONT"
         },
         {
          "date": "2001-03-14T19:48:00",
          "delay": 100,
          "destination": "MAF",
          "distance": 294,
          "origin": "AUS"
         },
         {
          "date": "2001-03-08T20:19:00",
          "delay": 42,
          "destination": "DAL",
          "distance": 296,
          "origin": "LIT"
         },
         {
          "date": "2001-02-05T13:35:00",
          "delay": 3,
          "destination": "PBI",
          "distance": 174,
          "origin": "TPA"
         },
         {
          "date": "2001-01-25T19:32:00",
          "delay": 14,
          "destination": "MHT",
          "distance": 377,
          "origin": "BWI"
         },
         {
          "date": "2001-03-05T12:45:00",
          "delay": -5,
          "destination": "TPA",
          "distance": 487,
          "origin": "MSY"
         },
         {
          "date": "2001-03-11T11:00:00",
          "delay": -15,
          "destination": "STL",
          "distance": 351,
          "origin": "TUL"
         },
         {
          "date": "2001-01-09T09:25:00",
          "delay": -30,
          "destination": "SEA",
          "distance": 1489,
          "origin": "MCI"
         },
         {
          "date": "2001-03-15T09:35:00",
          "delay": 0,
          "destination": "PVD",
          "distance": 907,
          "origin": "BNA"
         },
         {
          "date": "2001-03-20T17:30:00",
          "delay": 0,
          "destination": "LAS",
          "distance": 368,
          "origin": "SLC"
         },
         {
          "date": "2001-03-25T08:55:00",
          "delay": -7,
          "destination": "BWI",
          "distance": 588,
          "origin": "BNA"
         },
         {
          "date": "2001-02-04T07:30:00",
          "delay": -5,
          "destination": "STL",
          "distance": 410,
          "origin": "BHM"
         },
         {
          "date": "2001-01-05T11:25:00",
          "delay": 2,
          "destination": "TPA",
          "distance": 197,
          "origin": "FLL"
         },
         {
          "date": "2001-01-13T12:26:00",
          "delay": 23,
          "destination": "LAX",
          "distance": 373,
          "origin": "SMF"
         },
         {
          "date": "2001-01-16T17:49:00",
          "delay": 0,
          "destination": "LAS",
          "distance": 1588,
          "origin": "BNA"
         },
         {
          "date": "2001-03-25T11:40:00",
          "delay": -10,
          "destination": "PHX",
          "distance": 304,
          "origin": "SAN"
         },
         {
          "date": "2001-03-08T13:00:00",
          "delay": 103,
          "destination": "RNO",
          "distance": 601,
          "origin": "PHX"
         },
         {
          "date": "2001-01-04T22:18:00",
          "delay": 11,
          "destination": "MDW",
          "distance": 423,
          "origin": "OMA"
         },
         {
          "date": "2001-02-24T16:10:00",
          "delay": 10,
          "destination": "HOU",
          "distance": 303,
          "origin": "MSY"
         },
         {
          "date": "2001-02-22T11:25:00",
          "delay": 20,
          "destination": "TPA",
          "distance": 460,
          "origin": "BHM"
         },
         {
          "date": "2001-03-20T17:20:00",
          "delay": -8,
          "destination": "LAS",
          "distance": 345,
          "origin": "RNO"
         },
         {
          "date": "2001-03-09T22:45:00",
          "delay": 105,
          "destination": "PHX",
          "distance": 370,
          "origin": "LAX"
         },
         {
          "date": "2001-02-10T11:05:00",
          "delay": 8,
          "destination": "MDW",
          "distance": 611,
          "origin": "BWI"
         },
         {
          "date": "2001-02-12T20:45:00",
          "delay": 0,
          "destination": "PHX",
          "distance": 256,
          "origin": "LAS"
         },
         {
          "date": "2001-01-02T11:43:00",
          "delay": 15,
          "destination": "ONT",
          "distance": 325,
          "origin": "PHX"
         },
         {
          "date": "2001-03-21T22:53:00",
          "delay": 13,
          "destination": "SAN",
          "distance": 304,
          "origin": "PHX"
         },
         {
          "date": "2001-03-30T07:55:00",
          "delay": 3,
          "destination": "FLL",
          "distance": 197,
          "origin": "TPA"
         },
         {
          "date": "2001-01-28T11:23:00",
          "delay": 20,
          "destination": "ELP",
          "distance": 223,
          "origin": "ABQ"
         },
         {
          "date": "2001-02-27T18:49:00",
          "delay": 65,
          "destination": "MCO",
          "distance": 880,
          "origin": "STL"
         },
         {
          "date": "2001-02-25T17:20:00",
          "delay": -5,
          "destination": "DAL",
          "distance": 319,
          "origin": "MAF"
         },
         {
          "date": "2001-03-11T19:35:00",
          "delay": 35,
          "destination": "HOU",
          "distance": 239,
          "origin": "DAL"
         },
         {
          "date": "2001-03-17T09:15:00",
          "delay": -7,
          "destination": "SJC",
          "distance": 308,
          "origin": "LAX"
         },
         {
          "date": "2001-01-03T21:35:00",
          "delay": -8,
          "destination": "BUR",
          "distance": 223,
          "origin": "LAS"
         },
         {
          "date": "2001-03-16T19:40:00",
          "delay": 14,
          "destination": "RNO",
          "distance": 180,
          "origin": "OAK"
         },
         {
          "date": "2001-02-17T18:00:00",
          "delay": 5,
          "destination": "OAK",
          "distance": 446,
          "origin": "SAN"
         },
         {
          "date": "2001-02-13T16:26:00",
          "delay": 60,
          "destination": "SAN",
          "distance": 258,
          "origin": "LAS"
         },
         {
          "date": "2001-02-04T10:55:00",
          "delay": -1,
          "destination": "STL",
          "distance": 687,
          "origin": "HOU"
         },
         {
          "date": "2001-02-06T09:15:00",
          "delay": -9,
          "destination": "PVD",
          "distance": 1137,
          "origin": "TPA"
         },
         {
          "date": "2001-02-26T12:11:00",
          "delay": 1,
          "destination": "ABQ",
          "distance": 628,
          "origin": "SAN"
         },
         {
          "date": "2001-01-08T21:00:00",
          "delay": -5,
          "destination": "LAX",
          "distance": 337,
          "origin": "OAK"
         },
         {
          "date": "2001-02-19T20:20:00",
          "delay": -12,
          "destination": "SEA",
          "distance": 564,
          "origin": "RNO"
         },
         {
          "date": "2001-01-11T15:40:00",
          "delay": 30,
          "destination": "SAN",
          "distance": 446,
          "origin": "OAK"
         },
         {
          "date": "2001-03-30T11:30:00",
          "delay": -9,
          "destination": "ONT",
          "distance": 325,
          "origin": "PHX"
         },
         {
          "date": "2001-02-20T18:24:00",
          "delay": -6,
          "destination": "MDW",
          "distance": 405,
          "origin": "MCI"
         },
         {
          "date": "2001-01-28T15:45:00",
          "delay": -4,
          "destination": "LAS",
          "distance": 256,
          "origin": "PHX"
         },
         {
          "date": "2001-02-15T20:10:00",
          "delay": 40,
          "destination": "MCO",
          "distance": 616,
          "origin": "BNA"
         },
         {
          "date": "2001-03-24T10:10:00",
          "delay": 0,
          "destination": "MCI",
          "distance": 223,
          "origin": "TUL"
         },
         {
          "date": "2001-02-19T09:10:00",
          "delay": 0,
          "destination": "MCO",
          "distance": 616,
          "origin": "BNA"
         },
         {
          "date": "2001-03-22T10:05:00",
          "delay": -1,
          "destination": "LAS",
          "distance": 197,
          "origin": "ONT"
         },
         {
          "date": "2001-03-07T19:54:00",
          "delay": 14,
          "destination": "AUS",
          "distance": 189,
          "origin": "DAL"
         },
         {
          "date": "2001-03-23T10:05:00",
          "delay": 3,
          "destination": "STL",
          "distance": 229,
          "origin": "IND"
         },
         {
          "date": "2001-03-11T11:35:00",
          "delay": -11,
          "destination": "CLE",
          "distance": 487,
          "origin": "STL"
         },
         {
          "date": "2001-03-12T20:15:00",
          "delay": -5,
          "destination": "DAL",
          "distance": 248,
          "origin": "SAT"
         },
         {
          "date": "2001-03-23T18:14:00",
          "delay": 15,
          "destination": "HOU",
          "distance": 303,
          "origin": "MSY"
         },
         {
          "date": "2001-03-14T11:05:00",
          "delay": -3,
          "destination": "LAX",
          "distance": 337,
          "origin": "OAK"
         },
         {
          "date": "2001-03-06T11:45:00",
          "delay": -1,
          "destination": "SNA",
          "distance": 371,
          "origin": "OAK"
         },
         {
          "date": "2001-02-08T18:45:00",
          "delay": 61,
          "destination": "MSY",
          "distance": 303,
          "origin": "HOU"
         },
         {
          "date": "2001-03-31T11:22:00",
          "delay": 37,
          "destination": "PBI",
          "distance": 758,
          "origin": "BNA"
         },
         {
          "date": "2001-03-13T12:10:00",
          "delay": -2,
          "destination": "LAS",
          "distance": 345,
          "origin": "RNO"
         },
         {
          "date": "2001-03-08T14:30:00",
          "delay": 0,
          "destination": "HOU",
          "distance": 687,
          "origin": "STL"
         },
         {
          "date": "2001-03-09T14:25:00",
          "delay": -4,
          "destination": "OAK",
          "distance": 646,
          "origin": "PHX"
         },
         {
          "date": "2001-01-31T17:54:00",
          "delay": 5,
          "destination": "BHM",
          "distance": 321,
          "origin": "MSY"
         },
         {
          "date": "2001-01-02T18:30:00",
          "delay": 5,
          "destination": "DAL",
          "distance": 239,
          "origin": "HOU"
         },
         {
          "date": "2001-02-21T11:05:00",
          "delay": -16,
          "destination": "PVD",
          "distance": 1073,
          "origin": "MCO"
         },
         {
          "date": "2001-02-05T14:15:00",
          "delay": -11,
          "destination": "CRP",
          "distance": 187,
          "origin": "HOU"
         },
         {
          "date": "2001-03-01T18:08:00",
          "delay": 56,
          "destination": "LAX",
          "distance": 370,
          "origin": "PHX"
         },
         {
          "date": "2001-01-09T20:00:00",
          "delay": -4,
          "destination": "PHX",
          "distance": 370,
          "origin": "LAX"
         },
         {
          "date": "2001-02-13T11:30:00",
          "delay": 23,
          "destination": "AUS",
          "distance": 341,
          "origin": "LBB"
         },
         {
          "date": "2001-01-18T15:20:00",
          "delay": 27,
          "destination": "DAL",
          "distance": 189,
          "origin": "AUS"
         },
         {
          "date": "2001-03-29T17:04:00",
          "delay": 0,
          "destination": "STL",
          "distance": 1262,
          "origin": "PHX"
         },
         {
          "date": "2001-01-22T08:15:00",
          "delay": 12,
          "destination": "CMH",
          "distance": 284,
          "origin": "MDW"
         },
         {
          "date": "2001-01-22T08:20:00",
          "delay": -8,
          "destination": "OAK",
          "distance": 407,
          "origin": "LAS"
         },
         {
          "date": "2001-01-12T13:20:00",
          "delay": 5,
          "destination": "PVD",
          "distance": 1137,
          "origin": "TPA"
         },
         {
          "date": "2001-03-08T07:00:00",
          "delay": -7,
          "destination": "RNO",
          "distance": 345,
          "origin": "LAS"
         },
         {
          "date": "2001-01-12T19:08:00",
          "delay": 44,
          "destination": "TPA",
          "distance": 460,
          "origin": "BHM"
         },
         {
          "date": "2001-02-16T11:10:00",
          "delay": 17,
          "destination": "SJC",
          "distance": 296,
          "origin": "BUR"
         },
         {
          "date": "2001-03-09T16:06:00",
          "delay": -2,
          "destination": "PVD",
          "distance": 328,
          "origin": "BWI"
         },
         {
          "date": "2001-03-08T08:20:00",
          "delay": -12,
          "destination": "MDW",
          "distance": 937,
          "origin": "HOU"
         },
         {
          "date": "2001-03-20T10:55:00",
          "delay": 10,
          "destination": "TPA",
          "distance": 460,
          "origin": "BHM"
         },
         {
          "date": "2001-03-25T11:00:00",
          "delay": 1,
          "destination": "PHX",
          "distance": 256,
          "origin": "LAS"
         },
         {
          "date": "2001-01-10T20:49:00",
          "delay": -6,
          "destination": "DTW",
          "distance": 229,
          "origin": "MDW"
         },
         {
          "date": "2001-03-25T18:27:00",
          "delay": 5,
          "destination": "MDW",
          "distance": 229,
          "origin": "DTW"
         },
         {
          "date": "2001-01-04T14:30:00",
          "delay": 0,
          "destination": "ABQ",
          "distance": 328,
          "origin": "PHX"
         },
         {
          "date": "2001-03-14T11:50:00",
          "delay": 0,
          "destination": "MSY",
          "distance": 487,
          "origin": "TPA"
         },
         {
          "date": "2001-03-08T16:30:00",
          "delay": 41,
          "destination": "OAK",
          "distance": 646,
          "origin": "PHX"
         },
         {
          "date": "2001-01-21T20:35:00",
          "delay": -5,
          "destination": "PHX",
          "distance": 646,
          "origin": "OAK"
         },
         {
          "date": "2001-01-10T09:10:00",
          "delay": -7,
          "destination": "MCI",
          "distance": 1442,
          "origin": "SMF"
         },
         {
          "date": "2001-01-17T09:10:00",
          "delay": -5,
          "destination": "SNA",
          "distance": 371,
          "origin": "OAK"
         },
         {
          "date": "2001-02-14T08:10:00",
          "delay": -2,
          "destination": "TPA",
          "distance": 612,
          "origin": "BNA"
         },
         {
          "date": "2001-02-14T07:05:00",
          "delay": 7,
          "destination": "ELP",
          "distance": 223,
          "origin": "ABQ"
         },
         {
          "date": "2001-01-26T20:20:00",
          "delay": 120,
          "destination": "LAS",
          "distance": 236,
          "origin": "LAX"
         },
         {
          "date": "2001-03-10T08:45:00",
          "delay": -13,
          "destination": "BWI",
          "distance": 737,
          "origin": "STL"
         },
         {
          "date": "2001-02-16T22:05:00",
          "delay": 34,
          "destination": "ONT",
          "distance": 389,
          "origin": "SMF"
         },
         {
          "date": "2001-01-18T11:20:00",
          "delay": 7,
          "destination": "AUS",
          "distance": 528,
          "origin": "ELP"
         },
         {
          "date": "2001-01-21T12:20:00",
          "delay": 13,
          "destination": "LAX",
          "distance": 373,
          "origin": "SMF"
         },
         {
          "date": "2001-03-10T16:52:00",
          "delay": 8,
          "destination": "DAL",
          "distance": 324,
          "origin": "AMA"
         },
         {
          "date": "2001-03-29T14:00:00",
          "delay": 10,
          "destination": "MAF",
          "distance": 332,
          "origin": "ABQ"
         },
         {
          "date": "2001-03-18T17:50:00",
          "delay": -5,
          "destination": "MCI",
          "distance": 237,
          "origin": "STL"
         },
         {
          "date": "2001-02-02T11:40:00",
          "delay": 0,
          "destination": "MCI",
          "distance": 967,
          "origin": "BWI"
         },
         {
          "date": "2001-02-02T17:00:00",
          "delay": -7,
          "destination": "BWI",
          "distance": 495,
          "origin": "SDF"
         },
         {
          "date": "2001-03-09T16:15:00",
          "delay": 0,
          "destination": "FLL",
          "distance": 197,
          "origin": "TPA"
         },
         {
          "date": "2001-03-16T17:44:00",
          "delay": 22,
          "destination": "OAK",
          "distance": 446,
          "origin": "SAN"
         },
         {
          "date": "2001-01-03T16:02:00",
          "delay": 101,
          "destination": "SAN",
          "distance": 447,
          "origin": "SFO"
         },
         {
          "date": "2001-01-30T12:10:00",
          "delay": 4,
          "destination": "PHX",
          "distance": 833,
          "origin": "OKC"
         },
         {
          "date": "2001-03-10T15:15:00",
          "delay": 7,
          "destination": "ELP",
          "distance": 677,
          "origin": "HOU"
         },
         {
          "date": "2001-02-19T09:35:00",
          "delay": 0,
          "destination": "MAF",
          "distance": 319,
          "origin": "DAL"
         },
         {
          "date": "2001-01-16T18:30:00",
          "delay": -15,
          "destination": "SMF",
          "distance": 1442,
          "origin": "MCI"
         },
         {
          "date": "2001-02-18T07:10:00",
          "delay": -10,
          "destination": "GEG",
          "distance": 806,
          "origin": "LAS"
         },
         {
          "date": "2001-03-31T14:45:00",
          "delay": 10,
          "destination": "SAN",
          "distance": 258,
          "origin": "LAS"
         },
         {
          "date": "2001-02-21T06:05:00",
          "delay": -5,
          "destination": "BOI",
          "distance": 287,
          "origin": "GEG"
         },
         {
          "date": "2001-01-13T17:25:00",
          "delay": 10,
          "destination": "MCO",
          "distance": 550,
          "origin": "MSY"
         },
         {
          "date": "2001-01-08T21:31:00",
          "delay": 3,
          "destination": "LAX",
          "distance": 236,
          "origin": "LAS"
         },
         {
          "date": "2001-02-06T17:35:00",
          "delay": 32,
          "destination": "MCI",
          "distance": 967,
          "origin": "BWI"
         },
         {
          "date": "2001-02-12T07:55:00",
          "delay": -5,
          "destination": "SMF",
          "distance": 358,
          "origin": "BUR"
         },
         {
          "date": "2001-01-09T17:15:00",
          "delay": 0,
          "destination": "AUS",
          "distance": 189,
          "origin": "DAL"
         },
         {
          "date": "2001-03-12T21:25:00",
          "delay": 5,
          "destination": "MSY",
          "distance": 487,
          "origin": "TPA"
         },
         {
          "date": "2001-02-07T11:50:00",
          "delay": 0,
          "destination": "DAL",
          "distance": 181,
          "origin": "OKC"
         },
         {
          "date": "2001-01-03T07:58:00",
          "delay": 7,
          "destination": "BOI",
          "distance": 344,
          "origin": "PDX"
         },
         {
          "date": "2001-02-01T20:05:00",
          "delay": -5,
          "destination": "PBI",
          "distance": 142,
          "origin": "MCO"
         },
         {
          "date": "2001-03-15T08:30:00",
          "delay": 3,
          "destination": "BWI",
          "distance": 255,
          "origin": "RDU"
         },
         {
          "date": "2001-02-28T20:20:00",
          "delay": 30,
          "destination": "SDF",
          "distance": 271,
          "origin": "MDW"
         },
         {
          "date": "2001-03-10T15:10:00",
          "delay": -1,
          "destination": "FLL",
          "distance": 178,
          "origin": "MCO"
         },
         {
          "date": "2001-03-29T18:00:00",
          "delay": 19,
          "destination": "SJC",
          "distance": 296,
          "origin": "BUR"
         },
         {
          "date": "2001-02-06T15:30:00",
          "delay": -7,
          "destination": "BWI",
          "distance": 220,
          "origin": "ISP"
         },
         {
          "date": "2001-01-27T13:30:00",
          "delay": -1,
          "destination": "PDX",
          "distance": 279,
          "origin": "GEG"
         },
         {
          "date": "2001-02-21T08:15:00",
          "delay": 5,
          "destination": "MDW",
          "distance": 307,
          "origin": "CLE"
         },
         {
          "date": "2001-03-14T14:55:00",
          "delay": -2,
          "destination": "LAS",
          "distance": 223,
          "origin": "BUR"
         },
         {
          "date": "2001-01-08T06:30:00",
          "delay": -10,
          "destination": "SMF",
          "distance": 389,
          "origin": "ONT"
         },
         {
          "date": "2001-02-03T15:00:00",
          "delay": -2,
          "destination": "SLC",
          "distance": 919,
          "origin": "MCI"
         },
         {
          "date": "2001-01-11T15:45:00",
          "delay": 3,
          "destination": "LAS",
          "distance": 1099,
          "origin": "OMA"
         },
         {
          "date": "2001-03-25T19:21:00",
          "delay": 10,
          "destination": "BDL",
          "distance": 283,
          "origin": "BWI"
         },
         {
          "date": "2001-02-12T19:49:00",
          "delay": -2,
          "destination": "LAS",
          "distance": 365,
          "origin": "TUS"
         },
         {
          "date": "2001-02-27T11:55:00",
          "delay": -7,
          "destination": "ISP",
          "distance": 972,
          "origin": "MCO"
         },
         {
          "date": "2001-03-22T07:35:00",
          "delay": -9,
          "destination": "STL",
          "distance": 440,
          "origin": "DTW"
         },
         {
          "date": "2001-02-24T09:50:00",
          "delay": 0,
          "destination": "LAS",
          "distance": 1501,
          "origin": "MSY"
         },
         {
          "date": "2001-01-03T12:30:00",
          "delay": 40,
          "destination": "CLE",
          "distance": 487,
          "origin": "STL"
         },
         {
          "date": "2001-01-30T13:00:00",
          "delay": 53,
          "destination": "PHX",
          "distance": 256,
          "origin": "LAS"
         },
         {
          "date": "2001-03-16T11:38:00",
          "delay": 3,
          "destination": "PHX",
          "distance": 328,
          "origin": "ABQ"
         },
         {
          "date": "2001-03-28T06:30:00",
          "delay": -9,
          "destination": "ELP",
          "distance": 562,
          "origin": "DAL"
         },
         {
          "date": "2001-03-14T10:20:00",
          "delay": -15,
          "destination": "MCO",
          "distance": 1552,
          "origin": "ABQ"
         },
         {
          "date": "2001-02-08T06:20:00",
          "delay": -3,
          "destination": "PHX",
          "distance": 651,
          "origin": "SFO"
         },
         {
          "date": "2001-01-05T11:50:00",
          "delay": 0,
          "destination": "MDW",
          "distance": 997,
          "origin": "TPA"
         },
         {
          "date": "2001-03-22T08:20:00",
          "delay": -8,
          "destination": "ABQ",
          "distance": 328,
          "origin": "PHX"
         },
         {
          "date": "2001-01-08T19:30:00",
          "delay": -1,
          "destination": "DAL",
          "distance": 239,
          "origin": "HOU"
         },
         {
          "date": "2001-01-21T21:10:00",
          "delay": -13,
          "destination": "MCI",
          "distance": 405,
          "origin": "MDW"
         },
         {
          "date": "2001-02-06T18:10:00",
          "delay": -6,
          "destination": "AUS",
          "distance": 148,
          "origin": "HOU"
         },
         {
          "date": "2001-01-08T17:35:00",
          "delay": -8,
          "destination": "JAX",
          "distance": 318,
          "origin": "FLL"
         },
         {
          "date": "2001-02-25T17:40:00",
          "delay": 37,
          "destination": "SLC",
          "distance": 368,
          "origin": "LAS"
         },
         {
          "date": "2001-03-26T18:00:00",
          "delay": 0,
          "destination": "OAK",
          "distance": 337,
          "origin": "LAX"
         },
         {
          "date": "2001-01-10T14:38:00",
          "delay": 0,
          "destination": "PHX",
          "distance": 1448,
          "origin": "BNA"
         },
         {
          "date": "2001-02-16T09:45:00",
          "delay": 0,
          "destination": "JAX",
          "distance": 663,
          "origin": "BWI"
         },
         {
          "date": "2001-01-19T20:53:00",
          "delay": 32,
          "destination": "DAL",
          "distance": 248,
          "origin": "SAT"
         },
         {
          "date": "2001-03-20T11:20:00",
          "delay": 5,
          "destination": "JAN",
          "distance": 359,
          "origin": "HOU"
         },
         {
          "date": "2001-02-24T16:28:00",
          "delay": 58,
          "destination": "PHX",
          "distance": 651,
          "origin": "SFO"
         },
         {
          "date": "2001-01-09T19:35:00",
          "delay": 31,
          "destination": "CLE",
          "distance": 307,
          "origin": "MDW"
         },
         {
          "date": "2001-03-05T08:05:00",
          "delay": -8,
          "destination": "PBI",
          "distance": 174,
          "origin": "TPA"
         },
         {
          "date": "2001-02-20T09:05:00",
          "delay": -1,
          "destination": "LAS",
          "distance": 368,
          "origin": "SLC"
         },
         {
          "date": "2001-01-22T14:00:00",
          "delay": -1,
          "destination": "SJC",
          "distance": 308,
          "origin": "LAX"
         },
         {
          "date": "2001-03-08T10:15:00",
          "delay": 4,
          "destination": "CRP",
          "distance": 187,
          "origin": "HOU"
         },
         {
          "date": "2001-02-19T18:35:00",
          "delay": 20,
          "destination": "JAX",
          "distance": 688,
          "origin": "IND"
         },
         {
          "date": "2001-03-10T12:10:00",
          "delay": -2,
          "destination": "HOU",
          "distance": 670,
          "origin": "BNA"
         },
         {
          "date": "2001-02-26T11:45:00",
          "delay": -15,
          "destination": "MDW",
          "distance": 1444,
          "origin": "PHX"
         },
         {
          "date": "2001-01-15T07:00:00",
          "delay": -5,
          "destination": "AUS",
          "distance": 148,
          "origin": "HOU"
         },
         {
          "date": "2001-03-26T18:20:00",
          "delay": -4,
          "destination": "ABQ",
          "distance": 289,
          "origin": "LBB"
         },
         {
          "date": "2001-02-14T08:15:00",
          "delay": -13,
          "destination": "ABQ",
          "distance": 677,
          "origin": "LAX"
         },
         {
          "date": "2001-03-21T17:30:00",
          "delay": 24,
          "destination": "JAX",
          "distance": 365,
          "origin": "BHM"
         },
         {
          "date": "2001-03-24T18:15:00",
          "delay": -5,
          "destination": "BNA",
          "distance": 612,
          "origin": "TPA"
         },
         {
          "date": "2001-01-29T14:05:00",
          "delay": -5,
          "destination": "RNO",
          "distance": 188,
          "origin": "SJC"
         },
         {
          "date": "2001-02-04T21:05:00",
          "delay": 2,
          "destination": "DAL",
          "distance": 580,
          "origin": "ABQ"
         },
         {
          "date": "2001-02-26T11:25:00",
          "delay": -9,
          "destination": "BNA",
          "distance": 177,
          "origin": "BHM"
         },
         {
          "date": "2001-01-15T12:52:00",
          "delay": -2,
          "destination": "LAX",
          "distance": 590,
          "origin": "SLC"
         },
         {
          "date": "2001-01-25T10:41:00",
          "delay": 8,
          "destination": "HOU",
          "distance": 239,
          "origin": "DAL"
         },
         {
          "date": "2001-03-08T10:18:00",
          "delay": 10,
          "destination": "SNA",
          "distance": 342,
          "origin": "SJC"
         },
         {
          "date": "2001-01-24T19:20:00",
          "delay": -5,
          "destination": "MAF",
          "distance": 319,
          "origin": "DAL"
         },
         {
          "date": "2001-02-26T06:55:00",
          "delay": -7,
          "destination": "BWI",
          "distance": 967,
          "origin": "MCI"
         },
         {
          "date": "2001-03-19T10:30:00",
          "delay": -15,
          "destination": "OAK",
          "distance": 361,
          "origin": "ONT"
         },
         {
          "date": "2001-03-24T14:00:00",
          "delay": 14,
          "destination": "SEA",
          "distance": 671,
          "origin": "OAK"
         },
         {
          "date": "2001-01-29T06:25:00",
          "delay": -7,
          "destination": "BWI",
          "distance": 377,
          "origin": "MHT"
         },
         {
          "date": "2001-02-08T19:24:00",
          "delay": 1,
          "destination": "DAL",
          "distance": 293,
          "origin": "LBB"
         },
         {
          "date": "2001-03-31T09:20:00",
          "delay": -7,
          "destination": "SDF",
          "distance": 495,
          "origin": "BWI"
         },
         {
          "date": "2001-01-15T13:35:00",
          "delay": -2,
          "destination": "AUS",
          "distance": 273,
          "origin": "HRL"
         },
         {
          "date": "2001-03-19T08:10:00",
          "delay": -7,
          "destination": "ONT",
          "distance": 389,
          "origin": "SMF"
         },
         {
          "date": "2001-02-12T17:45:00",
          "delay": 14,
          "destination": "MDW",
          "distance": 423,
          "origin": "OMA"
         },
         {
          "date": "2001-03-14T22:36:00",
          "delay": 40,
          "destination": "DAL",
          "distance": 239,
          "origin": "HOU"
         },
         {
          "date": "2001-01-02T06:30:00",
          "delay": 8,
          "destination": "BNA",
          "distance": 177,
          "origin": "BHM"
         },
         {
          "date": "2001-02-07T14:00:00",
          "delay": -18,
          "destination": "BWI",
          "distance": 1999,
          "origin": "PHX"
         },
         {
          "date": "2001-03-03T08:38:00",
          "delay": -7,
          "destination": "BWI",
          "distance": 611,
          "origin": "MDW"
         },
         {
          "date": "2001-02-18T17:55:00",
          "delay": 0,
          "destination": "DTW",
          "distance": 440,
          "origin": "STL"
         },
         {
          "date": "2001-01-01T10:52:00",
          "delay": 8,
          "destination": "SAT",
          "distance": 192,
          "origin": "HOU"
         },
         {
          "date": "2001-02-28T11:50:00",
          "delay": -5,
          "destination": "STL",
          "distance": 1156,
          "origin": "SLC"
         },
         {
          "date": "2001-01-31T17:44:00",
          "delay": 30,
          "destination": "TPA",
          "distance": 174,
          "origin": "PBI"
         },
         {
          "date": "2001-03-08T22:48:00",
          "delay": 97,
          "destination": "RNO",
          "distance": 188,
          "origin": "SJC"
         },
         {
          "date": "2001-02-11T12:55:00",
          "delay": 2,
          "destination": "LAS",
          "distance": 1069,
          "origin": "SAT"
         },
         {
          "date": "2001-01-11T09:10:00",
          "delay": 18,
          "destination": "OAK",
          "distance": 361,
          "origin": "ONT"
         },
         {
          "date": "2001-01-31T20:25:00",
          "delay": -10,
          "destination": "JAN",
          "distance": 359,
          "origin": "HOU"
         },
         {
          "date": "2001-01-26T16:14:00",
          "delay": 8,
          "destination": "PHX",
          "distance": 304,
          "origin": "SAN"
         },
         {
          "date": "2001-03-17T18:25:00",
          "delay": -9,
          "destination": "MCI",
          "distance": 666,
          "origin": "HOU"
         },
         {
          "date": "2001-03-31T06:25:00",
          "delay": -7,
          "destination": "LAS",
          "distance": 258,
          "origin": "SAN"
         },
         {
          "date": "2001-02-15T08:53:00",
          "delay": 27,
          "destination": "OAK",
          "distance": 407,
          "origin": "LAS"
         },
         {
          "date": "2001-01-03T12:20:00",
          "delay": 0,
          "destination": "HRL",
          "distance": 273,
          "origin": "AUS"
         },
         {
          "date": "2001-02-06T07:10:00",
          "delay": 2,
          "destination": "ABQ",
          "distance": 677,
          "origin": "LAX"
         },
         {
          "date": "2001-02-05T15:05:00",
          "delay": -5,
          "destination": "CMH",
          "distance": 410,
          "origin": "STL"
         },
         {
          "date": "2001-03-07T08:20:00",
          "delay": -10,
          "destination": "MCO",
          "distance": 550,
          "origin": "MSY"
         },
         {
          "date": "2001-03-02T17:20:00",
          "delay": -5,
          "destination": "STL",
          "distance": 229,
          "origin": "IND"
         },
         {
          "date": "2001-02-18T10:20:00",
          "delay": -6,
          "destination": "OKC",
          "distance": 833,
          "origin": "PHX"
         },
         {
          "date": "2001-02-28T10:36:00",
          "delay": 66,
          "destination": "PHX",
          "distance": 1301,
          "origin": "MSY"
         },
         {
          "date": "2001-03-09T16:08:00",
          "delay": 9,
          "destination": "PHX",
          "distance": 304,
          "origin": "SAN"
         },
         {
          "date": "2001-01-28T11:00:00",
          "delay": -10,
          "destination": "SAN",
          "distance": 636,
          "origin": "ELP"
         },
         {
          "date": "2001-02-12T15:45:00",
          "delay": -5,
          "destination": "LAS",
          "distance": 256,
          "origin": "PHX"
         },
         {
          "date": "2001-03-22T06:40:00",
          "delay": -4,
          "destination": "OAK",
          "distance": 446,
          "origin": "SAN"
         },
         {
          "date": "2001-01-11T17:25:00",
          "delay": 12,
          "destination": "DAL",
          "distance": 248,
          "origin": "SAT"
         },
         {
          "date": "2001-02-08T12:45:00",
          "delay": 0,
          "destination": "TPA",
          "distance": 1137,
          "origin": "PVD"
         },
         {
          "date": "2001-03-02T11:05:00",
          "delay": 0,
          "destination": "PHX",
          "distance": 369,
          "origin": "BUR"
         },
         {
          "date": "2001-03-01T12:35:00",
          "delay": -3,
          "destination": "IND",
          "distance": 229,
          "origin": "STL"
         },
         {
          "date": "2001-03-10T13:22:00",
          "delay": 4,
          "destination": "LAS",
          "distance": 258,
          "origin": "SAN"
         },
         {
          "date": "2001-01-11T10:25:00",
          "delay": -3,
          "destination": "HOU",
          "distance": 359,
          "origin": "JAN"
         },
         {
          "date": "2001-02-15T15:30:00",
          "delay": 0,
          "destination": "BNA",
          "distance": 395,
          "origin": "MDW"
         },
         {
          "date": "2001-01-15T14:20:00",
          "delay": -1,
          "destination": "PHX",
          "distance": 507,
          "origin": "SLC"
         },
         {
          "date": "2001-02-01T10:55:00",
          "delay": 12,
          "destination": "LAS",
          "distance": 1588,
          "origin": "BNA"
         },
         {
          "date": "2001-01-16T18:05:00",
          "delay": 8,
          "destination": "BUR",
          "distance": 296,
          "origin": "SJC"
         },
         {
          "date": "2001-01-17T15:06:00",
          "delay": 90,
          "destination": "GEG",
          "distance": 224,
          "origin": "SEA"
         },
         {
          "date": "2001-03-08T01:09:00",
          "delay": 238,
          "destination": "TPA",
          "distance": 487,
          "origin": "MSY"
         },
         {
          "date": "2001-03-06T14:55:00",
          "delay": -5,
          "destination": "MDW",
          "distance": 405,
          "origin": "MCI"
         },
         {
          "date": "2001-02-22T08:05:00",
          "delay": 5,
          "destination": "PHX",
          "distance": 1448,
          "origin": "BNA"
         },
         {
          "date": "2001-03-22T17:08:00",
          "delay": 0,
          "destination": "LAX",
          "distance": 370,
          "origin": "PHX"
         },
         {
          "date": "2001-02-10T06:05:00",
          "delay": 4,
          "destination": "BOI",
          "distance": 287,
          "origin": "GEG"
         },
         {
          "date": "2001-03-13T20:13:00",
          "delay": 9,
          "destination": "SDF",
          "distance": 495,
          "origin": "BWI"
         },
         {
          "date": "2001-01-26T06:10:00",
          "delay": 0,
          "destination": "HOU",
          "distance": 453,
          "origin": "TUL"
         },
         {
          "date": "2001-02-26T13:35:00",
          "delay": 0,
          "destination": "SEA",
          "distance": 671,
          "origin": "OAK"
         },
         {
          "date": "2001-01-11T14:05:00",
          "delay": 3,
          "destination": "SAT",
          "distance": 192,
          "origin": "HOU"
         },
         {
          "date": "2001-02-01T09:05:00",
          "delay": -13,
          "destination": "LAS",
          "distance": 368,
          "origin": "SLC"
         },
         {
          "date": "2001-02-21T12:10:00",
          "delay": 0,
          "destination": "BHM",
          "distance": 323,
          "origin": "SDF"
         },
         {
          "date": "2001-03-11T07:50:00",
          "delay": -19,
          "destination": "BNA",
          "distance": 1448,
          "origin": "PHX"
         },
         {
          "date": "2001-01-09T19:26:00",
          "delay": 19,
          "destination": "HOU",
          "distance": 239,
          "origin": "DAL"
         },
         {
          "date": "2001-03-25T12:15:00",
          "delay": -5,
          "destination": "MCO",
          "distance": 616,
          "origin": "BNA"
         },
         {
          "date": "2001-03-02T11:52:00",
          "delay": 10,
          "destination": "SMF",
          "distance": 389,
          "origin": "ONT"
         },
         {
          "date": "2001-01-29T19:15:00",
          "delay": 21,
          "destination": "HOU",
          "distance": 1246,
          "origin": "BWI"
         },
         {
          "date": "2001-02-18T17:53:00",
          "delay": 26,
          "destination": "TUL",
          "distance": 935,
          "origin": "PHX"
         },
         {
          "date": "2001-02-03T13:15:00",
          "delay": 0,
          "destination": "MCO",
          "distance": 550,
          "origin": "MSY"
         },
         {
          "date": "2001-02-01T20:24:00",
          "delay": 33,
          "destination": "SAT",
          "distance": 822,
          "origin": "BNA"
         },
         {
          "date": "2001-02-10T08:00:00",
          "delay": -1,
          "destination": "OKC",
          "distance": 181,
          "origin": "DAL"
         },
         {
          "date": "2001-01-01T20:30:00",
          "delay": -2,
          "destination": "SAN",
          "distance": 417,
          "origin": "SJC"
         },
         {
          "date": "2001-01-26T21:33:00",
          "delay": 66,
          "destination": "ONT",
          "distance": 325,
          "origin": "PHX"
         },
         {
          "date": "2001-02-04T12:15:00",
          "delay": -3,
          "destination": "BNA",
          "distance": 852,
          "origin": "BDL"
         },
         {
          "date": "2001-01-09T16:05:00",
          "delay": 10,
          "destination": "MDW",
          "distance": 405,
          "origin": "MCI"
         },
         {
          "date": "2001-01-03T06:30:00",
          "delay": 0,
          "destination": "SMF",
          "distance": 389,
          "origin": "ONT"
         },
         {
          "date": "2001-03-11T08:45:00",
          "delay": -10,
          "destination": "OAK",
          "distance": 889,
          "origin": "ABQ"
         },
         {
          "date": "2001-03-14T06:30:00",
          "delay": 5,
          "destination": "BHM",
          "distance": 682,
          "origin": "BWI"
         },
         {
          "date": "2001-03-21T10:50:00",
          "delay": -6,
          "destination": "ONT",
          "distance": 333,
          "origin": "SJC"
         },
         {
          "date": "2001-03-13T06:50:00",
          "delay": -3,
          "destination": "DAL",
          "distance": 181,
          "origin": "OKC"
         },
         {
          "date": "2001-03-01T07:55:00",
          "delay": 0,
          "destination": "PHX",
          "distance": 325,
          "origin": "ONT"
         },
         {
          "date": "2001-01-08T14:40:00",
          "delay": 45,
          "destination": "ELP",
          "distance": 584,
          "origin": "LAS"
         },
         {
          "date": "2001-01-22T12:35:00",
          "delay": 9,
          "destination": "RDU",
          "distance": 255,
          "origin": "BWI"
         },
         {
          "date": "2001-02-08T11:37:00",
          "delay": 12,
          "destination": "SLC",
          "distance": 368,
          "origin": "LAS"
         },
         {
          "date": "2001-01-13T15:25:00",
          "delay": 0,
          "destination": "PHX",
          "distance": 369,
          "origin": "BUR"
         },
         {
          "date": "2001-01-02T09:35:00",
          "delay": -16,
          "destination": "TPA",
          "distance": 1137,
          "origin": "PVD"
         },
         {
          "date": "2001-01-02T11:35:00",
          "delay": 31,
          "destination": "CLE",
          "distance": 307,
          "origin": "MDW"
         },
         {
          "date": "2001-02-13T07:20:00",
          "delay": -5,
          "destination": "PDX",
          "distance": 479,
          "origin": "SMF"
         },
         {
          "date": "2001-03-31T11:45:00",
          "delay": 0,
          "destination": "BNA",
          "distance": 395,
          "origin": "MDW"
         },
         {
          "date": "2001-02-17T09:15:00",
          "delay": -5,
          "destination": "TUL",
          "distance": 237,
          "origin": "DAL"
         },
         {
          "date": "2001-03-30T16:25:00",
          "delay": 20,
          "destination": "LBB",
          "distance": 341,
          "origin": "AUS"
         },
         {
          "date": "2001-01-19T14:46:00",
          "delay": 7,
          "destination": "PHX",
          "distance": 304,
          "origin": "SAN"
         },
         {
          "date": "2001-02-21T22:00:00",
          "delay": 23,
          "destination": "OAK",
          "distance": 337,
          "origin": "LAX"
         },
         {
          "date": "2001-02-27T09:00:00",
          "delay": -5,
          "destination": "ONT",
          "distance": 361,
          "origin": "OAK"
         },
         {
          "date": "2001-01-13T10:25:00",
          "delay": 0,
          "destination": "HOU",
          "distance": 359,
          "origin": "JAN"
         },
         {
          "date": "2001-01-05T15:56:00",
          "delay": 8,
          "destination": "BWI",
          "distance": 588,
          "origin": "BNA"
         },
         {
          "date": "2001-03-01T12:10:00",
          "delay": -3,
          "destination": "MCI",
          "distance": 237,
          "origin": "STL"
         },
         {
          "date": "2001-01-16T19:23:00",
          "delay": 13,
          "destination": "SLC",
          "distance": 493,
          "origin": "ABQ"
         },
         {
          "date": "2001-03-21T12:00:00",
          "delay": -7,
          "destination": "HOU",
          "distance": 239,
          "origin": "DAL"
         },
         {
          "date": "2001-02-18T12:11:00",
          "delay": 5,
          "destination": "SAT",
          "distance": 1069,
          "origin": "LAS"
         },
         {
          "date": "2001-01-04T20:50:00",
          "delay": 0,
          "destination": "MHT",
          "distance": 377,
          "origin": "BWI"
         },
         {
          "date": "2001-03-10T06:00:00",
          "delay": -13,
          "destination": "LAX",
          "distance": 337,
          "origin": "OAK"
         },
         {
          "date": "2001-03-11T22:42:00",
          "delay": 34,
          "destination": "DAL",
          "distance": 248,
          "origin": "SAT"
         },
         {
          "date": "2001-01-24T13:25:00",
          "delay": 5,
          "destination": "CLE",
          "distance": 448,
          "origin": "BNA"
         },
         {
          "date": "2001-03-05T17:45:00",
          "delay": -5,
          "destination": "HOU",
          "distance": 192,
          "origin": "SAT"
         },
         {
          "date": "2001-03-30T15:35:00",
          "delay": 14,
          "destination": "LAS",
          "distance": 796,
          "origin": "MAF"
         },
         {
          "date": "2001-02-02T12:50:00",
          "delay": 14,
          "destination": "PDX",
          "distance": 344,
          "origin": "BOI"
         },
         {
          "date": "2001-02-28T17:35:00",
          "delay": 75,
          "destination": "STL",
          "distance": 351,
          "origin": "TUL"
         },
         {
          "date": "2001-03-15T20:33:00",
          "delay": 14,
          "destination": "LAX",
          "distance": 308,
          "origin": "SJC"
         },
         {
          "date": "2001-03-23T14:44:00",
          "delay": 70,
          "destination": "SLC",
          "distance": 368,
          "origin": "LAS"
         },
         {
          "date": "2001-01-13T13:05:00",
          "delay": -2,
          "destination": "JAX",
          "distance": 180,
          "origin": "TPA"
         },
         {
          "date": "2001-01-29T13:45:00",
          "delay": 0,
          "destination": "OMA",
          "distance": 1037,
          "origin": "PHX"
         },
         {
          "date": "2001-02-24T07:10:00",
          "delay": -17,
          "destination": "LAS",
          "distance": 866,
          "origin": "SEA"
         },
         {
          "date": "2001-03-24T13:05:00",
          "delay": -10,
          "destination": "LAX",
          "distance": 590,
          "origin": "SLC"
         },
         {
          "date": "2001-03-06T17:20:00",
          "delay": 0,
          "destination": "MCO",
          "distance": 550,
          "origin": "MSY"
         },
         {
          "date": "2001-02-25T20:20:00",
          "delay": -10,
          "destination": "TUL",
          "distance": 453,
          "origin": "HOU"
         },
         {
          "date": "2001-02-06T13:00:00",
          "delay": -10,
          "destination": "HOU",
          "distance": 239,
          "origin": "DAL"
         },
         {
          "date": "2001-02-09T14:30:00",
          "delay": 30,
          "destination": "OMA",
          "distance": 1037,
          "origin": "PHX"
         },
         {
          "date": "2001-03-09T07:00:00",
          "delay": -8,
          "destination": "SJC",
          "distance": 296,
          "origin": "BUR"
         },
         {
          "date": "2001-02-13T16:51:00",
          "delay": 51,
          "destination": "GEG",
          "distance": 287,
          "origin": "BOI"
         },
         {
          "date": "2001-03-25T16:28:00",
          "delay": 17,
          "destination": "SAN",
          "distance": 446,
          "origin": "OAK"
         },
         {
          "date": "2001-03-09T07:25:00",
          "delay": -5,
          "destination": "PHX",
          "distance": 304,
          "origin": "SAN"
         },
         {
          "date": "2001-03-07T08:15:00",
          "delay": 3,
          "destination": "AMA",
          "distance": 324,
          "origin": "DAL"
         },
         {
          "date": "2001-01-19T07:20:00",
          "delay": -7,
          "destination": "PDX",
          "distance": 479,
          "origin": "SMF"
         },
         {
          "date": "2001-03-02T19:55:00",
          "delay": 0,
          "destination": "MSY",
          "distance": 437,
          "origin": "DAL"
         },
         {
          "date": "2001-01-18T11:30:00",
          "delay": 25,
          "destination": "ABQ",
          "distance": 332,
          "origin": "MAF"
         },
         {
          "date": "2001-01-26T06:30:00",
          "delay": 0,
          "destination": "PHX",
          "distance": 872,
          "origin": "AUS"
         },
         {
          "date": "2001-03-07T15:30:00",
          "delay": -1,
          "destination": "LAS",
          "distance": 368,
          "origin": "SLC"
         },
         {
          "date": "2001-01-29T13:25:00",
          "delay": 10,
          "destination": "LIT",
          "distance": 1136,
          "origin": "PHX"
         },
         {
          "date": "2001-02-07T06:30:00",
          "delay": -1,
          "destination": "BWI",
          "distance": 255,
          "origin": "RDU"
         },
         {
          "date": "2001-03-03T20:00:00",
          "delay": -5,
          "destination": "OAK",
          "distance": 337,
          "origin": "LAX"
         },
         {
          "date": "2001-03-11T12:10:00",
          "delay": 0,
          "destination": "LAS",
          "distance": 223,
          "origin": "BUR"
         },
         {
          "date": "2001-01-10T11:08:00",
          "delay": 115,
          "destination": "LAS",
          "distance": 407,
          "origin": "OAK"
         },
         {
          "date": "2001-02-22T06:20:00",
          "delay": -9,
          "destination": "PHX",
          "distance": 621,
          "origin": "SJC"
         },
         {
          "date": "2001-03-26T20:00:00",
          "delay": -5,
          "destination": "DAL",
          "distance": 239,
          "origin": "HOU"
         },
         {
          "date": "2001-03-31T15:15:00",
          "delay": -7,
          "destination": "SDF",
          "distance": 254,
          "origin": "STL"
         },
         {
          "date": "2001-03-30T21:23:00",
          "delay": 5,
          "destination": "MCI",
          "distance": 313,
          "origin": "OKC"
         },
         {
          "date": "2001-01-12T12:44:00",
          "delay": 27,
          "destination": "MDW",
          "distance": 251,
          "origin": "STL"
         },
         {
          "date": "2001-03-01T13:00:00",
          "delay": 2,
          "destination": "LAX",
          "distance": 308,
          "origin": "SJC"
         },
         {
          "date": "2001-03-06T12:45:00",
          "delay": -7,
          "destination": "MCO",
          "distance": 178,
          "origin": "FLL"
         },
         {
          "date": "2001-02-19T08:05:00",
          "delay": 4,
          "destination": "BUR",
          "distance": 358,
          "origin": "SMF"
         },
         {
          "date": "2001-01-22T18:40:00",
          "delay": -10,
          "destination": "AMA",
          "distance": 324,
          "origin": "DAL"
         },
         {
          "date": "2001-03-22T17:07:00",
          "delay": 32,
          "destination": "BHM",
          "distance": 570,
          "origin": "MDW"
         },
         {
          "date": "2001-01-26T15:05:00",
          "delay": 19,
          "destination": "LAS",
          "distance": 584,
          "origin": "ELP"
         },
         {
          "date": "2001-01-16T14:15:00",
          "delay": -10,
          "destination": "MDW",
          "distance": 229,
          "origin": "DTW"
         },
         {
          "date": "2001-02-15T12:37:00",
          "delay": 54,
          "destination": "CLE",
          "distance": 487,
          "origin": "STL"
         },
         {
          "date": "2001-03-14T19:30:00",
          "delay": -13,
          "destination": "LAX",
          "distance": 370,
          "origin": "PHX"
         },
         {
          "date": "2001-01-01T06:50:00",
          "delay": 7,
          "destination": "BNA",
          "distance": 588,
          "origin": "BWI"
         },
         {
          "date": "2001-01-01T16:15:00",
          "delay": 35,
          "destination": "JAX",
          "distance": 318,
          "origin": "FLL"
         },
         {
          "date": "2001-03-11T10:48:00",
          "delay": 5,
          "destination": "GEG",
          "distance": 287,
          "origin": "BOI"
         },
         {
          "date": "2001-01-29T21:16:00",
          "delay": 21,
          "destination": "IND",
          "distance": 451,
          "origin": "MCI"
         },
         {
          "date": "2001-01-30T10:41:00",
          "delay": 25,
          "destination": "SAT",
          "distance": 192,
          "origin": "HOU"
         },
         {
          "date": "2001-03-13T06:25:00",
          "delay": -9,
          "destination": "BWI",
          "distance": 314,
          "origin": "CLE"
         },
         {
          "date": "2001-02-26T12:13:00",
          "delay": 15,
          "destination": "STL",
          "distance": 737,
          "origin": "BWI"
         },
         {
          "date": "2001-03-13T17:40:00",
          "delay": -14,
          "destination": "LAS",
          "distance": 1099,
          "origin": "OMA"
         },
         {
          "date": "2001-02-06T12:10:00",
          "delay": -5,
          "destination": "ONT",
          "distance": 197,
          "origin": "LAS"
         },
         {
          "date": "2001-03-28T18:00:00",
          "delay": 22,
          "destination": "LAS",
          "distance": 2106,
          "origin": "BWI"
         },
         {
          "date": "2001-01-22T18:55:00",
          "delay": -6,
          "destination": "ELP",
          "distance": 562,
          "origin": "DAL"
         },
         {
          "date": "2001-02-28T06:20:00",
          "delay": 1,
          "destination": "SLC",
          "distance": 291,
          "origin": "BOI"
         },
         {
          "date": "2001-03-24T08:20:00",
          "delay": -2,
          "destination": "JAX",
          "distance": 180,
          "origin": "TPA"
         },
         {
          "date": "2001-01-16T12:35:00",
          "delay": -5,
          "destination": "IND",
          "distance": 229,
          "origin": "STL"
         },
         {
          "date": "2001-01-12T11:30:00",
          "delay": -20,
          "destination": "AUS",
          "distance": 1342,
          "origin": "BWI"
         },
         {
          "date": "2001-02-14T07:00:00",
          "delay": 2,
          "destination": "AUS",
          "distance": 148,
          "origin": "HOU"
         },
         {
          "date": "2001-02-01T16:03:00",
          "delay": 10,
          "destination": "MAF",
          "distance": 319,
          "origin": "DAL"
         },
         {
          "date": "2001-02-07T10:40:00",
          "delay": -10,
          "destination": "LAX",
          "distance": 451,
          "origin": "TUS"
         },
         {
          "date": "2001-03-23T07:10:00",
          "delay": -5,
          "destination": "SMF",
          "distance": 389,
          "origin": "ONT"
         },
         {
          "date": "2001-02-20T09:27:00",
          "delay": 6,
          "destination": "SAN",
          "distance": 446,
          "origin": "OAK"
         },
         {
          "date": "2001-03-19T07:20:00",
          "delay": -7,
          "destination": "MDW",
          "distance": 632,
          "origin": "RDU"
         },
         {
          "date": "2001-03-21T19:10:00",
          "delay": -7,
          "destination": "RNO",
          "distance": 444,
          "origin": "PDX"
         },
         {
          "date": "2001-01-02T10:45:00",
          "delay": -5,
          "destination": "OAK",
          "distance": 325,
          "origin": "BUR"
         },
         {
          "date": "2001-01-11T21:40:00",
          "delay": 25,
          "destination": "CLE",
          "distance": 487,
          "origin": "STL"
         },
         {
          "date": "2001-02-17T15:45:00",
          "delay": -7,
          "destination": "AUS",
          "distance": 189,
          "origin": "DAL"
         },
         {
          "date": "2001-02-09T08:15:00",
          "delay": 27,
          "destination": "STL",
          "distance": 251,
          "origin": "MDW"
         },
         {
          "date": "2001-02-28T21:01:00",
          "delay": 33,
          "destination": "ELP",
          "distance": 677,
          "origin": "HOU"
         },
         {
          "date": "2001-03-20T14:15:00",
          "delay": -11,
          "destination": "MCI",
          "distance": 1048,
          "origin": "TPA"
         },
         {
          "date": "2001-01-10T11:08:00",
          "delay": 18,
          "destination": "GEG",
          "distance": 287,
          "origin": "BOI"
         },
         {
          "date": "2001-02-21T07:51:00",
          "delay": 15,
          "destination": "AUS",
          "distance": 189,
          "origin": "DAL"
         },
         {
          "date": "2001-01-29T18:30:00",
          "delay": 56,
          "destination": "PVD",
          "distance": 842,
          "origin": "MDW"
         },
         {
          "date": "2001-01-25T09:10:00",
          "delay": -11,
          "destination": "SAN",
          "distance": 304,
          "origin": "PHX"
         },
         {
          "date": "2001-02-13T08:22:00",
          "delay": 12,
          "destination": "DAL",
          "distance": 237,
          "origin": "TUL"
         },
         {
          "date": "2001-03-21T13:00:00",
          "delay": 0,
          "destination": "AUS",
          "distance": 189,
          "origin": "DAL"
         },
         {
          "date": "2001-02-15T11:25:00",
          "delay": -5,
          "destination": "TPA",
          "distance": 197,
          "origin": "FLL"
         },
         {
          "date": "2001-01-28T09:18:00",
          "delay": 2,
          "destination": "PHX",
          "distance": 347,
          "origin": "ELP"
         },
         {
          "date": "2001-01-12T10:50:00",
          "delay": -7,
          "destination": "MCI",
          "distance": 919,
          "origin": "SLC"
         },
         {
          "date": "2001-03-12T19:30:00",
          "delay": 0,
          "destination": "BNA",
          "distance": 588,
          "origin": "BWI"
         },
         {
          "date": "2001-02-22T19:43:00",
          "delay": 20,
          "destination": "LAX",
          "distance": 337,
          "origin": "OAK"
         },
         {
          "date": "2001-03-21T06:25:00",
          "delay": 15,
          "destination": "BWI",
          "distance": 377,
          "origin": "MHT"
         },
         {
          "date": "2001-01-26T15:25:00",
          "delay": -3,
          "destination": "HOU",
          "distance": 187,
          "origin": "CRP"
         },
         {
          "date": "2001-03-03T11:49:00",
          "delay": 17,
          "destination": "ABQ",
          "distance": 328,
          "origin": "PHX"
         },
         {
          "date": "2001-02-01T09:05:00",
          "delay": -3,
          "destination": "HOU",
          "distance": 192,
          "origin": "SAT"
         },
         {
          "date": "2001-03-30T09:00:00",
          "delay": -4,
          "destination": "OKC",
          "distance": 181,
          "origin": "DAL"
         },
         {
          "date": "2001-02-13T12:25:00",
          "delay": 9,
          "destination": "MCI",
          "distance": 237,
          "origin": "STL"
         },
         {
          "date": "2001-01-15T12:38:00",
          "delay": 28,
          "destination": "SAN",
          "distance": 258,
          "origin": "LAS"
         },
         {
          "date": "2001-02-25T10:35:00",
          "delay": 26,
          "destination": "LAX",
          "distance": 337,
          "origin": "OAK"
         },
         {
          "date": "2001-01-29T10:55:00",
          "delay": 0,
          "destination": "LAS",
          "distance": 256,
          "origin": "PHX"
         },
         {
          "date": "2001-01-21T10:00:00",
          "delay": -5,
          "destination": "LAS",
          "distance": 365,
          "origin": "TUS"
         },
         {
          "date": "2001-01-07T15:45:00",
          "delay": 5,
          "destination": "PDX",
          "distance": 479,
          "origin": "SMF"
         },
         {
          "date": "2001-01-14T16:29:00",
          "delay": 12,
          "destination": "ONT",
          "distance": 389,
          "origin": "SMF"
         },
         {
          "date": "2001-01-02T21:58:00",
          "delay": 40,
          "destination": "SMF",
          "distance": 373,
          "origin": "LAX"
         },
         {
          "date": "2001-02-26T21:05:00",
          "delay": -2,
          "destination": "IAH",
          "distance": 217,
          "origin": "DAL"
         },
         {
          "date": "2001-03-08T19:55:00",
          "delay": 35,
          "destination": "DAL",
          "distance": 293,
          "origin": "LBB"
         },
         {
          "date": "2001-01-02T13:47:00",
          "delay": 52,
          "destination": "SAN",
          "distance": 446,
          "origin": "OAK"
         },
         {
          "date": "2001-02-18T16:25:00",
          "delay": -3,
          "destination": "SJC",
          "distance": 296,
          "origin": "BUR"
         },
         {
          "date": "2001-03-13T08:39:00",
          "delay": 9,
          "destination": "BNA",
          "distance": 1588,
          "origin": "LAS"
         },
         {
          "date": "2001-03-02T19:00:00",
          "delay": -5,
          "destination": "LAX",
          "distance": 370,
          "origin": "PHX"
         },
         {
          "date": "2001-02-13T13:45:00",
          "delay": 2,
          "destination": "HRL",
          "distance": 276,
          "origin": "HOU"
         },
         {
          "date": "2001-03-17T12:45:00",
          "delay": -4,
          "destination": "MCO",
          "distance": 178,
          "origin": "FLL"
         },
         {
          "date": "2001-01-27T14:45:00",
          "delay": 32,
          "destination": "LAS",
          "distance": 236,
          "origin": "LAX"
         },
         {
          "date": "2001-03-27T19:30:00",
          "delay": -3,
          "destination": "STL",
          "distance": 237,
          "origin": "MCI"
         },
         {
          "date": "2001-01-14T09:05:00",
          "delay": 12,
          "destination": "LIT",
          "distance": 544,
          "origin": "MDW"
         },
         {
          "date": "2001-01-15T18:50:00",
          "delay": -9,
          "destination": "RNO",
          "distance": 335,
          "origin": "BOI"
         },
         {
          "date": "2001-01-03T07:00:00",
          "delay": -8,
          "destination": "MSY",
          "distance": 303,
          "origin": "HOU"
         },
         {
          "date": "2001-01-21T10:14:00",
          "delay": 0,
          "destination": "ELP",
          "distance": 636,
          "origin": "SAN"
         },
         {
          "date": "2001-01-06T11:45:00",
          "delay": -2,
          "destination": "OAK",
          "distance": 371,
          "origin": "SNA"
         },
         {
          "date": "2001-02-08T20:00:00",
          "delay": -2,
          "destination": "OMA",
          "distance": 423,
          "origin": "MDW"
         },
         {
          "date": "2001-02-22T20:30:00",
          "delay": -5,
          "destination": "SEA",
          "distance": 866,
          "origin": "LAS"
         },
         {
          "date": "2001-02-21T16:38:00",
          "delay": 30,
          "destination": "OAK",
          "distance": 337,
          "origin": "LAX"
         },
         {
          "date": "2001-03-13T07:00:00",
          "delay": 4,
          "destination": "BNA",
          "distance": 457,
          "origin": "DTW"
         },
         {
          "date": "2001-03-19T08:00:00",
          "delay": 21,
          "destination": "MCO",
          "distance": 989,
          "origin": "MDW"
         },
         {
          "date": "2001-01-18T17:45:00",
          "delay": -1,
          "destination": "TPA",
          "distance": 928,
          "origin": "AUS"
         },
         {
          "date": "2001-02-01T13:45:00",
          "delay": -5,
          "destination": "HOU",
          "distance": 1235,
          "origin": "LAS"
         },
         {
          "date": "2001-03-06T15:35:00",
          "delay": -13,
          "destination": "MDW",
          "distance": 611,
          "origin": "BWI"
         },
         {
          "date": "2001-03-29T14:50:00",
          "delay": -1,
          "destination": "OKC",
          "distance": 313,
          "origin": "MCI"
         },
         {
          "date": "2001-03-24T18:40:00",
          "delay": -4,
          "destination": "BWI",
          "distance": 888,
          "origin": "JAN"
         },
         {
          "date": "2001-03-31T14:52:00",
          "delay": 8,
          "destination": "TPA",
          "distance": 1034,
          "origin": "ISP"
         },
         {
          "date": "2001-03-24T17:05:00",
          "delay": -8,
          "destination": "PDX",
          "distance": 543,
          "origin": "OAK"
         },
         {
          "date": "2001-03-05T14:15:00",
          "delay": 40,
          "destination": "SJC",
          "distance": 417,
          "origin": "SAN"
         },
         {
          "date": "2001-03-22T22:01:00",
          "delay": 31,
          "destination": "PHX",
          "distance": 325,
          "origin": "ONT"
         },
         {
          "date": "2001-03-27T07:50:00",
          "delay": -8,
          "destination": "TPA",
          "distance": 174,
          "origin": "PBI"
         },
         {
          "date": "2001-03-01T07:05:00",
          "delay": -7,
          "destination": "ABQ",
          "distance": 677,
          "origin": "LAX"
         },
         {
          "date": "2001-03-11T08:00:00",
          "delay": -7,
          "destination": "SNA",
          "distance": 342,
          "origin": "SJC"
         },
         {
          "date": "2001-01-19T20:35:00",
          "delay": -8,
          "destination": "PHX",
          "distance": 256,
          "origin": "LAS"
         },
         {
          "date": "2001-01-17T17:45:00",
          "delay": 2,
          "destination": "TPA",
          "distance": 197,
          "origin": "FLL"
         },
         {
          "date": "2001-02-03T18:50:00",
          "delay": -4,
          "destination": "BWI",
          "distance": 283,
          "origin": "BDL"
         },
         {
          "date": "2001-03-14T15:15:00",
          "delay": -7,
          "destination": "SJC",
          "distance": 386,
          "origin": "LAS"
         },
         {
          "date": "2001-03-09T13:38:00",
          "delay": 0,
          "destination": "HOU",
          "distance": 187,
          "origin": "CRP"
         },
         {
          "date": "2001-01-15T21:00:00",
          "delay": 67,
          "destination": "HOU",
          "distance": 239,
          "origin": "DAL"
         },
         {
          "date": "2001-01-03T20:52:00",
          "delay": 18,
          "destination": "DAL",
          "distance": 580,
          "origin": "ABQ"
         },
         {
          "date": "2001-01-28T15:50:00",
          "delay": 5,
          "destination": "HOU",
          "distance": 687,
          "origin": "STL"
         },
         {
          "date": "2001-02-11T20:00:00",
          "delay": -9,
          "destination": "MCI",
          "distance": 718,
          "origin": "ABQ"
         },
         {
          "date": "2001-01-21T13:17:00",
          "delay": 4,
          "destination": "PHX",
          "distance": 370,
          "origin": "LAX"
         },
         {
          "date": "2001-01-31T16:30:00",
          "delay": -15,
          "destination": "BNA",
          "distance": 756,
          "origin": "AUS"
         },
         {
          "date": "2001-01-06T13:29:00",
          "delay": 9,
          "destination": "JAX",
          "distance": 318,
          "origin": "FLL"
         },
         {
          "date": "2001-03-18T10:20:00",
          "delay": 9,
          "destination": "SAT",
          "distance": 1040,
          "origin": "MCO"
         },
         {
          "date": "2001-03-02T13:40:00",
          "delay": -5,
          "destination": "DAL",
          "distance": 293,
          "origin": "LBB"
         },
         {
          "date": "2001-01-04T08:29:00",
          "delay": 7,
          "destination": "PHX",
          "distance": 1262,
          "origin": "STL"
         },
         {
          "date": "2001-01-17T08:00:00",
          "delay": 0,
          "destination": "OMA",
          "distance": 1037,
          "origin": "PHX"
         },
         {
          "date": "2001-02-25T21:55:00",
          "delay": 97,
          "destination": "LAX",
          "distance": 337,
          "origin": "OAK"
         },
         {
          "date": "2001-03-31T10:40:00",
          "delay": -9,
          "destination": "PVD",
          "distance": 108,
          "origin": "ISP"
         },
         {
          "date": "2001-03-14T18:10:00",
          "delay": 2,
          "destination": "ALB",
          "distance": 288,
          "origin": "BWI"
         },
         {
          "date": "2001-01-05T07:25:00",
          "delay": -3,
          "destination": "BWI",
          "distance": 281,
          "origin": "BUF"
         },
         {
          "date": "2001-01-09T08:15:00",
          "delay": 0,
          "destination": "ABQ",
          "distance": 677,
          "origin": "LAX"
         },
         {
          "date": "2001-03-02T14:40:00",
          "delay": 6,
          "destination": "MDW",
          "distance": 307,
          "origin": "CLE"
         },
         {
          "date": "2001-03-28T20:27:00",
          "delay": 4,
          "destination": "SEA",
          "distance": 399,
          "origin": "BOI"
         },
         {
          "date": "2001-01-01T12:40:00",
          "delay": 10,
          "destination": "SFO",
          "distance": 447,
          "origin": "SAN"
         },
         {
          "date": "2001-01-06T07:00:00",
          "delay": -13,
          "destination": "LAX",
          "distance": 337,
          "origin": "OAK"
         },
         {
          "date": "2001-03-07T11:40:00",
          "delay": -22,
          "destination": "LAX",
          "distance": 677,
          "origin": "ABQ"
         },
         {
          "date": "2001-03-25T08:05:00",
          "delay": 0,
          "destination": "MCO",
          "distance": 178,
          "origin": "FLL"
         },
         {
          "date": "2001-01-10T14:35:00",
          "delay": -10,
          "destination": "TUL",
          "distance": 351,
          "origin": "STL"
         },
         {
          "date": "2001-02-07T16:10:00",
          "delay": 30,
          "destination": "BWI",
          "distance": 588,
          "origin": "BNA"
         },
         {
          "date": "2001-02-16T11:30:00",
          "delay": 13,
          "destination": "LAS",
          "distance": 197,
          "origin": "ONT"
         },
         {
          "date": "2001-03-14T19:45:00",
          "delay": -6,
          "destination": "TUL",
          "distance": 351,
          "origin": "STL"
         },
         {
          "date": "2001-02-10T11:05:00",
          "delay": 8,
          "destination": "AUS",
          "distance": 1342,
          "origin": "BWI"
         },
         {
          "date": "2001-01-23T11:10:00",
          "delay": -7,
          "destination": "SMF",
          "distance": 358,
          "origin": "BUR"
         },
         {
          "date": "2001-01-23T16:12:00",
          "delay": 24,
          "destination": "SNA",
          "distance": 371,
          "origin": "OAK"
         },
         {
          "date": "2001-03-16T15:10:00",
          "delay": 30,
          "destination": "SDF",
          "distance": 254,
          "origin": "STL"
         },
         {
          "date": "2001-02-28T13:00:00",
          "delay": 52,
          "destination": "ELP",
          "distance": 347,
          "origin": "PHX"
         },
         {
          "date": "2001-03-30T11:45:00",
          "delay": -5,
          "destination": "MAF",
          "distance": 319,
          "origin": "DAL"
         },
         {
          "date": "2001-01-10T17:45:00",
          "delay": 62,
          "destination": "SJC",
          "distance": 308,
          "origin": "LAX"
         },
         {
          "date": "2001-02-13T15:50:00",
          "delay": 0,
          "destination": "LAS",
          "distance": 236,
          "origin": "LAX"
         },
         {
          "date": "2001-03-28T19:00:00",
          "delay": 7,
          "destination": "SAT",
          "distance": 192,
          "origin": "HOU"
         },
         {
          "date": "2001-02-02T09:05:00",
          "delay": -8,
          "destination": "DAL",
          "distance": 296,
          "origin": "LIT"
         },
         {
          "date": "2001-02-16T17:49:00",
          "delay": 10,
          "destination": "PVD",
          "distance": 842,
          "origin": "MDW"
         },
         {
          "date": "2001-03-21T21:50:00",
          "delay": -3,
          "destination": "STL",
          "distance": 687,
          "origin": "HOU"
         },
         {
          "date": "2001-03-22T08:25:00",
          "delay": -2,
          "destination": "RNO",
          "distance": 335,
          "origin": "BOI"
         },
         {
          "date": "2001-01-11T10:15:00",
          "delay": -8,
          "destination": "PHX",
          "distance": 1037,
          "origin": "OMA"
         },
         {
          "date": "2001-02-07T10:46:00",
          "delay": 16,
          "destination": "PDX",
          "distance": 543,
          "origin": "OAK"
         },
         {
          "date": "2001-03-06T10:10:00",
          "delay": -1,
          "destination": "SNA",
          "distance": 342,
          "origin": "SJC"
         },
         {
          "date": "2001-03-17T15:40:00",
          "delay": -5,
          "destination": "RDU",
          "distance": 534,
          "origin": "MCO"
         },
         {
          "date": "2001-03-04T10:15:00",
          "delay": -1,
          "destination": "STL",
          "distance": 251,
          "origin": "MDW"
         },
         {
          "date": "2001-01-18T20:20:00",
          "delay": 2,
          "destination": "HOU",
          "distance": 187,
          "origin": "CRP"
         },
         {
          "date": "2001-02-06T21:05:00",
          "delay": -10,
          "destination": "IND",
          "distance": 451,
          "origin": "MCI"
         },
         {
          "date": "2001-02-18T20:29:00",
          "delay": 3,
          "destination": "PHX",
          "distance": 304,
          "origin": "SAN"
         },
         {
          "date": "2001-03-28T12:20:00",
          "delay": -10,
          "destination": "RNO",
          "distance": 345,
          "origin": "LAS"
         },
         {
          "date": "2001-01-13T16:43:00",
          "delay": 17,
          "destination": "LAX",
          "distance": 1797,
          "origin": "BNA"
         },
         {
          "date": "2001-01-14T09:23:00",
          "delay": 11,
          "destination": "MDW",
          "distance": 395,
          "origin": "BNA"
         },
         {
          "date": "2001-03-18T13:45:00",
          "delay": -15,
          "destination": "LAS",
          "distance": 1140,
          "origin": "MCI"
         },
         {
          "date": "2001-02-27T12:45:00",
          "delay": -3,
          "destination": "BUR",
          "distance": 358,
          "origin": "SMF"
         },
         {
          "date": "2001-02-11T12:20:00",
          "delay": 25,
          "destination": "HOU",
          "distance": 848,
          "origin": "MCO"
         },
         {
          "date": "2001-02-28T21:03:00",
          "delay": 117,
          "destination": "RDU",
          "distance": 443,
          "origin": "BNA"
         },
         {
          "date": "2001-02-02T10:04:00",
          "delay": -1,
          "destination": "TUS",
          "distance": 365,
          "origin": "LAS"
         },
         {
          "date": "2001-02-04T10:40:00",
          "delay": 14,
          "destination": "SEA",
          "distance": 1180,
          "origin": "ABQ"
         },
         {
          "date": "2001-02-27T16:05:00",
          "delay": 0,
          "destination": "LBB",
          "distance": 341,
          "origin": "AUS"
         },
         {
          "date": "2001-03-21T22:00:00",
          "delay": -5,
          "destination": "LAS",
          "distance": 1235,
          "origin": "HOU"
         },
         {
          "date": "2001-02-11T12:55:00",
          "delay": 42,
          "destination": "PHX",
          "distance": 256,
          "origin": "LAS"
         },
         {
          "date": "2001-03-22T17:05:00",
          "delay": -25,
          "destination": "STL",
          "distance": 1156,
          "origin": "SLC"
         },
         {
          "date": "2001-02-02T06:30:00",
          "delay": -7,
          "destination": "OAK",
          "distance": 337,
          "origin": "LAX"
         },
         {
          "date": "2001-03-01T10:25:00",
          "delay": 5,
          "destination": "MCI",
          "distance": 405,
          "origin": "MDW"
         },
         {
          "date": "2001-03-07T06:05:00",
          "delay": -6,
          "destination": "SAN",
          "distance": 258,
          "origin": "LAS"
         },
         {
          "date": "2001-02-21T19:15:00",
          "delay": 0,
          "destination": "MCO",
          "distance": 178,
          "origin": "FLL"
         },
         {
          "date": "2001-03-07T15:09:00",
          "delay": 46,
          "destination": "OAK",
          "distance": 646,
          "origin": "PHX"
         },
         {
          "date": "2001-02-28T19:10:00",
          "delay": 90,
          "destination": "ONT",
          "distance": 325,
          "origin": "PHX"
         },
         {
          "date": "2001-03-05T16:30:00",
          "delay": -2,
          "destination": "MCO",
          "distance": 178,
          "origin": "FLL"
         },
         {
          "date": "2001-03-22T12:35:00",
          "delay": 0,
          "destination": "SDF",
          "distance": 323,
          "origin": "BHM"
         },
         {
          "date": "2001-02-11T17:05:00",
          "delay": 5,
          "destination": "MDW",
          "distance": 251,
          "origin": "STL"
         },
         {
          "date": "2001-01-15T08:20:00",
          "delay": 4,
          "destination": "ELP",
          "distance": 562,
          "origin": "DAL"
         },
         {
          "date": "2001-02-12T19:25:00",
          "delay": 0,
          "destination": "PHX",
          "distance": 325,
          "origin": "ONT"
         },
         {
          "date": "2001-03-06T07:05:00",
          "delay": 0,
          "destination": "SLC",
          "distance": 507,
          "origin": "PHX"
         },
         {
          "date": "2001-03-05T19:45:00",
          "delay": -7,
          "destination": "BWI",
          "distance": 314,
          "origin": "CLE"
         },
         {
          "date": "2001-02-02T07:35:00",
          "delay": -8,
          "destination": "DTW",
          "distance": 229,
          "origin": "MDW"
         },
         {
          "date": "2001-03-04T16:37:00",
          "delay": 30,
          "destination": "MDW",
          "distance": 229,
          "origin": "DTW"
         },
         {
          "date": "2001-02-11T12:25:00",
          "delay": 0,
          "destination": "LAX",
          "distance": 714,
          "origin": "ELP"
         },
         {
          "date": "2001-03-24T10:40:00",
          "delay": 13,
          "destination": "RNO",
          "distance": 188,
          "origin": "SJC"
         },
         {
          "date": "2001-03-19T08:25:00",
          "delay": -15,
          "destination": "MDW",
          "distance": 989,
          "origin": "MCO"
         },
         {
          "date": "2001-02-28T09:30:00",
          "delay": -8,
          "destination": "CLE",
          "distance": 307,
          "origin": "MDW"
         },
         {
          "date": "2001-03-24T17:23:00",
          "delay": 62,
          "destination": "DAL",
          "distance": 239,
          "origin": "HOU"
         },
         {
          "date": "2001-01-30T11:50:00",
          "delay": -4,
          "destination": "ABQ",
          "distance": 677,
          "origin": "LAX"
         },
         {
          "date": "2001-03-12T17:25:00",
          "delay": -3,
          "destination": "BHM",
          "distance": 570,
          "origin": "HOU"
         },
         {
          "date": "2001-01-11T22:02:00",
          "delay": 30,
          "destination": "HOU",
          "distance": 192,
          "origin": "SAT"
         },
         {
          "date": "2001-03-03T18:50:00",
          "delay": -5,
          "destination": "MCO",
          "distance": 142,
          "origin": "PBI"
         },
         {
          "date": "2001-02-16T08:08:00",
          "delay": 23,
          "destination": "HRL",
          "distance": 276,
          "origin": "HOU"
         },
         {
          "date": "2001-01-11T18:15:00",
          "delay": 7,
          "destination": "TUS",
          "distance": 321,
          "origin": "ABQ"
         },
         {
          "date": "2001-03-26T06:40:00",
          "delay": -7,
          "destination": "ELP",
          "distance": 496,
          "origin": "SAT"
         },
         {
          "date": "2001-01-03T09:22:00",
          "delay": 11,
          "destination": "ABQ",
          "distance": 759,
          "origin": "HOU"
         },
         {
          "date": "2001-02-19T09:15:00",
          "delay": 0,
          "destination": "TPA",
          "distance": 197,
          "origin": "FLL"
         },
         {
          "date": "2001-01-03T18:40:00",
          "delay": -3,
          "destination": "PHX",
          "distance": 651,
          "origin": "SFO"
         },
         {
          "date": "2001-02-12T18:05:00",
          "delay": -2,
          "destination": "BUR",
          "distance": 325,
          "origin": "OAK"
         },
         {
          "date": "2001-03-03T18:40:00",
          "delay": 34,
          "destination": "OAK",
          "distance": 325,
          "origin": "BUR"
         },
         {
          "date": "2001-01-04T22:00:00",
          "delay": -10,
          "destination": "OAK",
          "distance": 337,
          "origin": "LAX"
         },
         {
          "date": "2001-01-10T20:10:00",
          "delay": 0,
          "destination": "PVD",
          "distance": 328,
          "origin": "BWI"
         },
         {
          "date": "2001-03-28T16:04:00",
          "delay": 15,
          "destination": "PHX",
          "distance": 1009,
          "origin": "PDX"
         },
         {
          "date": "2001-02-06T20:29:00",
          "delay": 0,
          "destination": "SEA",
          "distance": 399,
          "origin": "BOI"
         },
         {
          "date": "2001-03-07T16:20:00",
          "delay": -15,
          "destination": "LAS",
          "distance": 1624,
          "origin": "SDF"
         },
         {
          "date": "2001-03-01T11:30:00",
          "delay": 0,
          "destination": "AUS",
          "distance": 148,
          "origin": "HOU"
         },
         {
          "date": "2001-03-13T17:57:00",
          "delay": 102,
          "destination": "FLL",
          "distance": 178,
          "origin": "MCO"
         },
         {
          "date": "2001-02-08T07:00:00",
          "delay": -7,
          "destination": "AUS",
          "distance": 148,
          "origin": "HOU"
         },
         {
          "date": "2001-02-01T12:15:00",
          "delay": -5,
          "destination": "SMF",
          "distance": 397,
          "origin": "LAS"
         },
         {
          "date": "2001-01-26T18:30:00",
          "delay": 5,
          "destination": "HOU",
          "distance": 670,
          "origin": "BNA"
         },
         {
          "date": "2001-02-21T06:30:00",
          "delay": -4,
          "destination": "HOU",
          "distance": 303,
          "origin": "MSY"
         },
         {
          "date": "2001-03-28T12:40:00",
          "delay": -3,
          "destination": "BNA",
          "distance": 395,
          "origin": "MDW"
         },
         {
          "date": "2001-01-10T09:30:00",
          "delay": -3,
          "destination": "ABQ",
          "distance": 328,
          "origin": "PHX"
         },
         {
          "date": "2001-03-07T16:30:00",
          "delay": -10,
          "destination": "LAX",
          "distance": 1797,
          "origin": "BNA"
         },
         {
          "date": "2001-03-19T13:04:00",
          "delay": 2,
          "destination": "HOU",
          "distance": 239,
          "origin": "DAL"
         },
         {
          "date": "2001-03-23T08:38:00",
          "delay": 7,
          "destination": "OMA",
          "distance": 423,
          "origin": "MDW"
         },
         {
          "date": "2001-03-01T06:45:00",
          "delay": 10,
          "destination": "RNO",
          "distance": 390,
          "origin": "LAX"
         },
         {
          "date": "2001-02-27T10:06:00",
          "delay": 6,
          "destination": "SLC",
          "distance": 590,
          "origin": "LAX"
         },
         {
          "date": "2001-01-16T17:30:00",
          "delay": 0,
          "destination": "MDW",
          "distance": 842,
          "origin": "PVD"
         },
         {
          "date": "2001-01-24T20:00:00",
          "delay": 2,
          "destination": "SMF",
          "distance": 479,
          "origin": "PDX"
         },
         {
          "date": "2001-01-29T08:00:00",
          "delay": 10,
          "destination": "HOU",
          "distance": 239,
          "origin": "DAL"
         },
         {
          "date": "2001-02-12T20:32:00",
          "delay": 34,
          "destination": "OAK",
          "distance": 337,
          "origin": "LAX"
         },
         {
          "date": "2001-03-31T15:50:00",
          "delay": 0,
          "destination": "RNO",
          "distance": 1546,
          "origin": "HOU"
         },
         {
          "date": "2001-01-23T08:00:00",
          "delay": -10,
          "destination": "SAN",
          "distance": 304,
          "origin": "PHX"
         },
         {
          "date": "2001-02-10T15:15:00",
          "delay": 11,
          "destination": "RNO",
          "distance": 188,
          "origin": "SJC"
         },
         {
          "date": "2001-03-23T22:20:00",
          "delay": 15,
          "destination": "OAK",
          "distance": 361,
          "origin": "ONT"
         },
         {
          "date": "2001-03-29T14:48:00",
          "delay": 11,
          "destination": "PHX",
          "distance": 304,
          "origin": "SAN"
         },
         {
          "date": "2001-02-28T16:25:00",
          "delay": -2,
          "destination": "MDW",
          "distance": 284,
          "origin": "CMH"
         },
         {
          "date": "2001-02-01T10:05:00",
          "delay": -20,
          "destination": "LAX",
          "distance": 677,
          "origin": "ABQ"
         },
         {
          "date": "2001-01-23T14:05:00",
          "delay": -11,
          "destination": "STL",
          "distance": 254,
          "origin": "SDF"
         },
         {
          "date": "2001-03-27T19:14:00",
          "delay": 12,
          "destination": "HOU",
          "distance": 441,
          "origin": "MAF"
         },
         {
          "date": "2001-02-19T17:07:00",
          "delay": 7,
          "destination": "OAK",
          "distance": 543,
          "origin": "PDX"
         },
         {
          "date": "2001-03-09T18:14:00",
          "delay": 32,
          "destination": "MDW",
          "distance": 1521,
          "origin": "LAS"
         },
         {
          "date": "2001-03-03T06:55:00",
          "delay": -10,
          "destination": "BNA",
          "distance": 1797,
          "origin": "LAX"
         },
         {
          "date": "2001-02-21T11:40:00",
          "delay": -5,
          "destination": "DAL",
          "distance": 237,
          "origin": "TUL"
         },
         {
          "date": "2001-03-28T19:10:00",
          "delay": -2,
          "destination": "OAK",
          "distance": 371,
          "origin": "SNA"
         },
         {
          "date": "2001-03-15T17:49:00",
          "delay": 14,
          "destination": "SJC",
          "distance": 342,
          "origin": "SNA"
         },
         {
          "date": "2001-02-17T06:55:00",
          "delay": 3,
          "destination": "SNA",
          "distance": 342,
          "origin": "SJC"
         },
         {
          "date": "2001-01-01T13:20:00",
          "delay": 9,
          "destination": "BWI",
          "distance": 588,
          "origin": "BNA"
         },
         {
          "date": "2001-02-27T08:00:00",
          "delay": 0,
          "destination": "SMF",
          "distance": 389,
          "origin": "ONT"
         },
         {
          "date": "2001-03-15T11:53:00",
          "delay": 14,
          "destination": "PHX",
          "distance": 304,
          "origin": "SAN"
         },
         {
          "date": "2001-03-26T18:33:00",
          "delay": 10,
          "destination": "ONT",
          "distance": 325,
          "origin": "PHX"
         },
         {
          "date": "2001-02-28T17:00:00",
          "delay": 47,
          "destination": "LBB",
          "distance": 293,
          "origin": "DAL"
         },
         {
          "date": "2001-02-02T17:30:00",
          "delay": 2,
          "destination": "MCO",
          "distance": 178,
          "origin": "FLL"
         },
         {
          "date": "2001-03-16T08:41:00",
          "delay": -1,
          "destination": "BUR",
          "distance": 325,
          "origin": "OAK"
         },
         {
          "date": "2001-03-25T12:20:00",
          "delay": -2,
          "destination": "LBB",
          "distance": 293,
          "origin": "DAL"
         },
         {
          "date": "2001-01-29T15:28:00",
          "delay": 43,
          "destination": "MDW",
          "distance": 307,
          "origin": "CLE"
         },
         {
          "date": "2001-03-04T18:45:00",
          "delay": 40,
          "destination": "ELP",
          "distance": 347,
          "origin": "PHX"
         },
         {
          "date": "2001-02-16T20:20:00",
          "delay": 57,
          "destination": "MCO",
          "distance": 616,
          "origin": "BNA"
         },
         {
          "date": "2001-01-29T22:10:00",
          "delay": 31,
          "destination": "BOI",
          "distance": 291,
          "origin": "SLC"
         },
         {
          "date": "2001-02-24T14:20:00",
          "delay": -5,
          "destination": "DAL",
          "distance": 580,
          "origin": "ABQ"
         },
         {
          "date": "2001-01-27T16:35:00",
          "delay": 6,
          "destination": "BNA",
          "distance": 670,
          "origin": "HOU"
         },
         {
          "date": "2001-03-26T16:49:00",
          "delay": 4,
          "destination": "MCI",
          "distance": 405,
          "origin": "MDW"
         },
         {
          "date": "2001-01-04T08:00:00",
          "delay": -11,
          "destination": "AUS",
          "distance": 148,
          "origin": "HOU"
         },
         {
          "date": "2001-03-10T12:37:00",
          "delay": 34,
          "destination": "HOU",
          "distance": 239,
          "origin": "DAL"
         },
         {
          "date": "2001-01-20T15:21:00",
          "delay": 16,
          "destination": "FLL",
          "distance": 178,
          "origin": "MCO"
         },
         {
          "date": "2001-02-01T20:40:00",
          "delay": -5,
          "destination": "ISP",
          "distance": 108,
          "origin": "PVD"
         },
         {
          "date": "2001-03-05T12:53:00",
          "delay": 13,
          "destination": "SAN",
          "distance": 446,
          "origin": "OAK"
         },
         {
          "date": "2001-01-18T09:10:00",
          "delay": -24,
          "destination": "SAN",
          "distance": 304,
          "origin": "PHX"
         },
         {
          "date": "2001-01-19T14:35:00",
          "delay": 0,
          "destination": "BWI",
          "distance": 682,
          "origin": "BHM"
         },
         {
          "date": "2001-01-30T15:45:00",
          "delay": -12,
          "destination": "BWI",
          "distance": 495,
          "origin": "SDF"
         },
         {
          "date": "2001-01-07T15:35:00",
          "delay": 5,
          "destination": "AUS",
          "distance": 993,
          "origin": "MCO"
         },
         {
          "date": "2001-02-09T21:42:00",
          "delay": 30,
          "destination": "OAK",
          "distance": 371,
          "origin": "SNA"
         },
         {
          "date": "2001-02-04T10:39:00",
          "delay": -4,
          "destination": "PHX",
          "distance": 325,
          "origin": "ONT"
         },
         {
          "date": "2001-03-06T08:32:00",
          "delay": -8,
          "destination": "SJC",
          "distance": 386,
          "origin": "LAS"
         },
         {
          "date": "2001-01-10T12:01:00",
          "delay": 18,
          "destination": "RDU",
          "distance": 443,
          "origin": "BNA"
         },
         {
          "date": "2001-02-20T11:55:00",
          "delay": -8,
          "destination": "FLL",
          "distance": 197,
          "origin": "TPA"
         },
         {
          "date": "2001-01-07T18:39:00",
          "delay": 27,
          "destination": "SJC",
          "distance": 417,
          "origin": "SAN"
         },
         {
          "date": "2001-01-01T15:00:00",
          "delay": -5,
          "destination": "CMH",
          "distance": 410,
          "origin": "STL"
         },
         {
          "date": "2001-02-09T19:35:00",
          "delay": 30,
          "destination": "BUR",
          "distance": 223,
          "origin": "LAS"
         },
         {
          "date": "2001-01-06T13:31:00",
          "delay": 6,
          "destination": "BOI",
          "distance": 344,
          "origin": "PDX"
         },
         {
          "date": "2001-02-01T20:55:00",
          "delay": -3,
          "destination": "DAL",
          "distance": 248,
          "origin": "SAT"
         },
         {
          "date": "2001-02-10T11:35:00",
          "delay": -4,
          "destination": "STL",
          "distance": 934,
          "origin": "ABQ"
         },
         {
          "date": "2001-02-27T08:00:00",
          "delay": 9,
          "destination": "STL",
          "distance": 251,
          "origin": "MDW"
         },
         {
          "date": "2001-03-28T07:45:00",
          "delay": 0,
          "destination": "ONT",
          "distance": 333,
          "origin": "SJC"
         },
         {
          "date": "2001-02-16T21:38:00",
          "delay": 4,
          "destination": "LAS",
          "distance": 1140,
          "origin": "MCI"
         },
         {
          "date": "2001-03-12T07:35:00",
          "delay": -11,
          "destination": "SAT",
          "distance": 843,
          "origin": "PHX"
         },
         {
          "date": "2001-02-25T19:35:00",
          "delay": -4,
          "destination": "MDW",
          "distance": 937,
          "origin": "HOU"
         },
         {
          "date": "2001-03-17T19:05:00",
          "delay": -8,
          "destination": "BWI",
          "distance": 663,
          "origin": "JAX"
         },
         {
          "date": "2001-03-07T19:56:00",
          "delay": 33,
          "destination": "STL",
          "distance": 237,
          "origin": "MCI"
         },
         {
          "date": "2001-03-28T09:27:00",
          "delay": 13,
          "destination": "PVD",
          "distance": 1073,
          "origin": "MCO"
         },
         {
          "date": "2001-01-29T12:15:00",
          "delay": -4,
          "destination": "BNA",
          "distance": 803,
          "origin": "ISP"
         },
         {
          "date": "2001-02-15T11:55:00",
          "delay": -4,
          "destination": "SEA",
          "distance": 605,
          "origin": "SMF"
         },
         {
          "date": "2001-02-12T11:40:00",
          "delay": 5,
          "destination": "MDW",
          "distance": 251,
          "origin": "STL"
         },
         {
          "date": "2001-01-01T15:38:00",
          "delay": 22,
          "destination": "SAN",
          "distance": 446,
          "origin": "OAK"
         },
         {
          "date": "2001-01-13T11:30:00",
          "delay": -6,
          "destination": "AUS",
          "distance": 148,
          "origin": "HOU"
         },
         {
          "date": "2001-01-05T17:35:00",
          "delay": 12,
          "destination": "PHX",
          "distance": 647,
          "origin": "SMF"
         },
         {
          "date": "2001-01-20T12:45:00",
          "delay": -15,
          "destination": "MSY",
          "distance": 1301,
          "origin": "PHX"
         },
         {
          "date": "2001-01-20T19:10:00",
          "delay": -4,
          "destination": "MDW",
          "distance": 162,
          "origin": "IND"
         },
         {
          "date": "2001-01-11T16:00:00",
          "delay": -5,
          "destination": "DAL",
          "distance": 248,
          "origin": "SAT"
         },
         {
          "date": "2001-01-20T16:55:00",
          "delay": 0,
          "destination": "MSY",
          "distance": 321,
          "origin": "BHM"
         },
         {
          "date": "2001-02-14T06:25:00",
          "delay": -13,
          "destination": "SFO",
          "distance": 447,
          "origin": "SAN"
         },
         {
          "date": "2001-02-26T09:40:00",
          "delay": 5,
          "destination": "OAK",
          "distance": 325,
          "origin": "BUR"
         },
         {
          "date": "2001-02-27T15:50:00",
          "delay": -18,
          "destination": "OAK",
          "distance": 543,
          "origin": "PDX"
         },
         {
          "date": "2001-02-26T22:00:00",
          "delay": 6,
          "destination": "OKC",
          "distance": 313,
          "origin": "MCI"
         },
         {
          "date": "2001-01-29T18:35:00",
          "delay": 3,
          "destination": "ALB",
          "distance": 1073,
          "origin": "MCO"
         },
         {
          "date": "2001-03-05T11:15:00",
          "delay": -8,
          "destination": "ONT",
          "distance": 197,
          "origin": "LAS"
         },
         {
          "date": "2001-02-05T12:10:00",
          "delay": 19,
          "destination": "PHX",
          "distance": 325,
          "origin": "ONT"
         },
         {
          "date": "2001-02-20T17:40:00",
          "delay": 3,
          "destination": "SJC",
          "distance": 296,
          "origin": "BUR"
         },
         {
          "date": "2001-01-24T13:35:00",
          "delay": -4,
          "destination": "HOU",
          "distance": 187,
          "origin": "CRP"
         },
         {
          "date": "2001-02-17T07:30:00",
          "delay": -8,
          "destination": "RDU",
          "distance": 443,
          "origin": "BNA"
         },
         {
          "date": "2001-03-01T10:50:00",
          "delay": -9,
          "destination": "SJC",
          "distance": 342,
          "origin": "SNA"
         },
         {
          "date": "2001-01-26T15:30:00",
          "delay": 93,
          "destination": "SJC",
          "distance": 308,
          "origin": "LAX"
         },
         {
          "date": "2001-02-09T17:35:00",
          "delay": 29,
          "destination": "HOU",
          "distance": 677,
          "origin": "ELP"
         },
         {
          "date": "2001-02-15T17:25:00",
          "delay": -12,
          "destination": "MCI",
          "distance": 313,
          "origin": "OKC"
         },
         {
          "date": "2001-01-28T17:40:00",
          "delay": -7,
          "destination": "FLL",
          "distance": 197,
          "origin": "TPA"
         },
         {
          "date": "2001-01-23T11:30:00",
          "delay": -8,
          "destination": "FLL",
          "distance": 318,
          "origin": "JAX"
         },
         {
          "date": "2001-02-24T14:48:00",
          "delay": 28,
          "destination": "TUL",
          "distance": 223,
          "origin": "MCI"
         },
         {
          "date": "2001-02-08T11:55:00",
          "delay": -7,
          "destination": "STL",
          "distance": 296,
          "origin": "LIT"
         },
         {
          "date": "2001-01-29T15:55:00",
          "delay": -9,
          "destination": "BNA",
          "distance": 616,
          "origin": "MCO"
         },
         {
          "date": "2001-02-27T20:14:00",
          "delay": 58,
          "destination": "MDW",
          "distance": 251,
          "origin": "STL"
         },
         {
          "date": "2001-01-20T10:41:00",
          "delay": -1,
          "destination": "DAL",
          "distance": 237,
          "origin": "TUL"
         },
         {
          "date": "2001-01-24T07:15:00",
          "delay": 10,
          "destination": "LAS",
          "distance": 386,
          "origin": "SJC"
         },
         {
          "date": "2001-03-10T10:55:00",
          "delay": -11,
          "destination": "BUR",
          "distance": 369,
          "origin": "PHX"
         },
         {
          "date": "2001-03-16T13:35:00",
          "delay": -3,
          "destination": "MAF",
          "distance": 319,
          "origin": "DAL"
         },
         {
          "date": "2001-01-13T08:00:00",
          "delay": -10,
          "destination": "SAT",
          "distance": 1069,
          "origin": "LAS"
         },
         {
          "date": "2001-01-02T20:30:00",
          "delay": 23,
          "destination": "DTW",
          "distance": 229,
          "origin": "MDW"
         },
         {
          "date": "2001-01-04T10:30:00",
          "delay": -1,
          "destination": "BUF",
          "distance": 281,
          "origin": "BWI"
         },
         {
          "date": "2001-02-01T13:25:00",
          "delay": 0,
          "destination": "SJC",
          "distance": 342,
          "origin": "SNA"
         },
         {
          "date": "2001-03-06T08:35:00",
          "delay": 0,
          "destination": "SMF",
          "distance": 480,
          "origin": "SAN"
         },
         {
          "date": "2001-03-19T08:41:00",
          "delay": -2,
          "destination": "BUR",
          "distance": 325,
          "origin": "OAK"
         },
         {
          "date": "2001-03-12T17:30:00",
          "delay": 13,
          "destination": "DAL",
          "distance": 239,
          "origin": "HOU"
         },
         {
          "date": "2001-01-21T19:15:00",
          "delay": 13,
          "destination": "LAS",
          "distance": 345,
          "origin": "RNO"
         },
         {
          "date": "2001-01-20T14:55:00",
          "delay": 2,
          "destination": "MDW",
          "distance": 405,
          "origin": "MCI"
         },
         {
          "date": "2001-03-27T18:37:00",
          "delay": 5,
          "destination": "HRL",
          "distance": 233,
          "origin": "SAT"
         },
         {
          "date": "2001-03-29T16:25:00",
          "delay": 2,
          "destination": "ONT",
          "distance": 389,
          "origin": "SMF"
         },
         {
          "date": "2001-03-12T17:38:00",
          "delay": 7,
          "destination": "ABQ",
          "distance": 759,
          "origin": "HOU"
         },
         {
          "date": "2001-03-07T17:46:00",
          "delay": 30,
          "destination": "CRP",
          "distance": 187,
          "origin": "HOU"
         },
         {
          "date": "2001-01-21T17:04:00",
          "delay": 94,
          "destination": "RDU",
          "distance": 255,
          "origin": "BWI"
         },
         {
          "date": "2001-02-04T16:20:00",
          "delay": 0,
          "destination": "LAX",
          "distance": 236,
          "origin": "LAS"
         },
         {
          "date": "2001-01-26T19:08:00",
          "delay": 4,
          "destination": "SAT",
          "distance": 192,
          "origin": "HOU"
         },
         {
          "date": "2001-02-21T22:00:00",
          "delay": 0,
          "destination": "LBB",
          "distance": 293,
          "origin": "DAL"
         },
         {
          "date": "2001-03-24T14:45:00",
          "delay": -15,
          "destination": "MCO",
          "distance": 1073,
          "origin": "ALB"
         },
         {
          "date": "2001-03-12T14:00:00",
          "delay": 0,
          "destination": "HOU",
          "distance": 239,
          "origin": "DAL"
         },
         {
          "date": "2001-01-31T17:35:00",
          "delay": 11,
          "destination": "PHX",
          "distance": 370,
          "origin": "LAX"
         },
         {
          "date": "2001-02-12T08:45:00",
          "delay": 2,
          "destination": "MCI",
          "distance": 313,
          "origin": "OKC"
         },
         {
          "date": "2001-01-29T13:50:00",
          "delay": -7,
          "destination": "LAS",
          "distance": 1140,
          "origin": "MCI"
         },
         {
          "date": "2001-02-22T18:45:00",
          "delay": -8,
          "destination": "MCO",
          "distance": 1073,
          "origin": "PVD"
         },
         {
          "date": "2001-03-22T09:35:00",
          "delay": -3,
          "destination": "PHX",
          "distance": 647,
          "origin": "SMF"
         },
         {
          "date": "2001-01-24T07:25:00",
          "delay": 0,
          "destination": "MCI",
          "distance": 1489,
          "origin": "OAK"
         },
         {
          "date": "2001-01-06T13:11:00",
          "delay": 36,
          "destination": "DAL",
          "distance": 239,
          "origin": "HOU"
         },
         {
          "date": "2001-02-28T19:06:00",
          "delay": -12,
          "destination": "PDX",
          "distance": 1481,
          "origin": "MCI"
         },
         {
          "date": "2001-01-22T08:28:00",
          "delay": -10,
          "destination": "SJC",
          "distance": 621,
          "origin": "PHX"
         },
         {
          "date": "2001-02-07T20:49:00",
          "delay": 46,
          "destination": "PBI",
          "distance": 142,
          "origin": "MCO"
         },
         {
          "date": "2001-01-29T10:25:00",
          "delay": 40,
          "destination": "SEA",
          "distance": 671,
          "origin": "OAK"
         },
         {
          "date": "2001-03-23T15:56:00",
          "delay": 12,
          "destination": "BWI",
          "distance": 328,
          "origin": "PVD"
         },
         {
          "date": "2001-03-03T09:45:00",
          "delay": -5,
          "destination": "MSY",
          "distance": 303,
          "origin": "HOU"
         },
         {
          "date": "2001-03-09T11:00:00",
          "delay": -22,
          "destination": "PHX",
          "distance": 1912,
          "origin": "BUF"
         },
         {
          "date": "2001-03-26T11:32:00",
          "delay": -2,
          "destination": "BNA",
          "distance": 1797,
          "origin": "LAX"
         },
         {
          "date": "2001-01-16T10:10:00",
          "delay": 0,
          "destination": "LAS",
          "distance": 386,
          "origin": "SJC"
         },
         {
          "date": "2001-03-01T13:42:00",
          "delay": 22,
          "destination": "TUS",
          "distance": 367,
          "origin": "SAN"
         },
         {
          "date": "2001-02-15T06:30:00",
          "delay": -5,
          "destination": "SAT",
          "distance": 192,
          "origin": "HOU"
         },
         {
          "date": "2001-02-13T20:08:00",
          "delay": 78,
          "destination": "LAX",
          "distance": 1814,
          "origin": "IND"
         },
         {
          "date": "2001-02-08T16:30:00",
          "delay": 4,
          "destination": "PDX",
          "distance": 344,
          "origin": "BOI"
         },
         {
          "date": "2001-03-25T18:03:00",
          "delay": 66,
          "destination": "SAN",
          "distance": 446,
          "origin": "OAK"
         },
         {
          "date": "2001-03-05T07:45:00",
          "delay": -1,
          "destination": "LBB",
          "distance": 293,
          "origin": "DAL"
         },
         {
          "date": "2001-03-31T08:40:00",
          "delay": -12,
          "destination": "MHT",
          "distance": 377,
          "origin": "BWI"
         },
         {
          "date": "2001-03-04T08:35:00",
          "delay": 5,
          "destination": "PHX",
          "distance": 646,
          "origin": "OAK"
         },
         {
          "date": "2001-01-26T18:15:00",
          "delay": 29,
          "destination": "BUR",
          "distance": 358,
          "origin": "SMF"
         },
         {
          "date": "2001-02-11T15:55:00",
          "delay": 4,
          "destination": "DAL",
          "distance": 189,
          "origin": "AUS"
         },
         {
          "date": "2001-01-29T16:05:00",
          "delay": 7,
          "destination": "MDW",
          "distance": 765,
          "origin": "ISP"
         },
         {
          "date": "2001-03-26T10:35:00",
          "delay": 0,
          "destination": "PHX",
          "distance": 304,
          "origin": "SAN"
         },
         {
          "date": "2001-01-18T17:22:00",
          "delay": 17,
          "destination": "SMF",
          "distance": 480,
          "origin": "SAN"
         },
         {
          "date": "2001-02-20T08:00:00",
          "delay": -3,
          "destination": "ABQ",
          "distance": 289,
          "origin": "LBB"
         },
         {
          "date": "2001-03-19T19:40:00",
          "delay": 0,
          "destination": "MDW",
          "distance": 937,
          "origin": "HOU"
         },
         {
          "date": "2001-01-19T21:47:00",
          "delay": 2,
          "destination": "LAS",
          "distance": 256,
          "origin": "PHX"
         },
         {
          "date": "2001-02-14T15:45:00",
          "delay": -10,
          "destination": "IAH",
          "distance": 217,
          "origin": "DAL"
         },
         {
          "date": "2001-03-02T20:30:00",
          "delay": 3,
          "destination": "HOU",
          "distance": 239,
          "origin": "DAL"
         },
         {
          "date": "2001-02-12T06:20:00",
          "delay": -6,
          "destination": "BWI",
          "distance": 283,
          "origin": "BDL"
         },
         {
          "date": "2001-01-02T16:18:00",
          "delay": 30,
          "destination": "PHX",
          "distance": 256,
          "origin": "LAS"
         },
         {
          "date": "2001-02-05T06:20:00",
          "delay": -3,
          "destination": "BWI",
          "distance": 283,
          "origin": "BDL"
         }
        ]
       },
       "layer": [
        {
         "encoding": {
          "tooltip": [
           {
            "field": "origin",
            "type": "nominal"
           },
           {
            "aggregate": "mean",
            "field": "delay",
            "type": "quantitative"
           },
           {
            "aggregate": "count",
            "field": "delay",
            "type": "quantitative"
           }
          ],
          "x": {
           "field": "origin",
           "sort": {
            "field": "delay",
            "op": "mean"
           },
           "title": "Vliegveld",
           "type": "nominal"
          },
          "y": {
           "aggregate": "mean",
           "field": "delay",
           "title": "Gemiddelde vergraging (min)",
           "type": "quantitative"
          }
         },
         "mark": {
          "color": "black",
          "filled": true,
          "type": "point"
         },
         "title": "Vertraging van vluchten vanuit Amerikaanse vliegvelden."
        },
        {
         "encoding": {
          "tooltip": [
           {
            "field": "origin",
            "type": "nominal"
           },
           {
            "aggregate": "mean",
            "field": "delay",
            "type": "quantitative"
           },
           {
            "aggregate": "count",
            "field": "delay",
            "type": "quantitative"
           }
          ],
          "x": {
           "field": "origin",
           "sort": {
            "field": "delay",
            "op": "mean"
           },
           "title": "Vliegveld",
           "type": "nominal"
          },
          "y": {
           "aggregate": "ci0",
           "field": "delay",
           "type": "quantitative"
          },
          "y2": {
           "aggregate": "ci1",
           "field": "delay"
          }
         },
         "mark": "rule",
         "title": "Vertraging van vluchten vanuit Amerikaanse vliegvelden."
        },
        {
         "encoding": {
          "text": {
           "aggregate": "count",
           "field": "delay",
           "type": "quantitative"
          },
          "tooltip": [
           {
            "field": "origin",
            "type": "nominal"
           },
           {
            "aggregate": "mean",
            "field": "delay",
            "type": "quantitative"
           },
           {
            "aggregate": "count",
            "field": "delay",
            "type": "quantitative"
           }
          ],
          "x": {
           "field": "origin",
           "sort": {
            "field": "delay",
            "op": "mean"
           },
           "title": "Vliegveld",
           "type": "nominal"
          },
          "y": {
           "aggregate": "mean",
           "field": "delay",
           "title": "Gemiddelde vergraging (min)",
           "type": "quantitative"
          }
         },
         "mark": {
          "align": "left",
          "baseline": "middle",
          "dx": 5,
          "dy": -5,
          "fontSize": 10,
          "type": "text"
         },
         "title": "Vertraging van vluchten vanuit Amerikaanse vliegvelden."
        }
       ]
      },
      "image/png": "[encoded data removed]",
      "text/plain": [
       "<VegaLite 4 object>\n",
       "\n",
       "If you see this message, it means the renderer has not been properly enabled\n",
       "for the frontend that you are using. For more information, see\n",
       "https://altair-viz.github.io/user_guide/troubleshooting.html\n"
      ]
     },
     "execution_count": 8,
     "metadata": {},
     "output_type": "execute_result"
    }
   ],
   "source": [
    "df = data.flights_2k()\n",
    "\n",
    "base = (\n",
    "    alt\n",
    "    .Chart(\n",
    "        df, \n",
    "        title=\"Vertraging van vluchten vanuit Amerikaanse vliegvelden.\",\n",
    "    )\n",
    "    .encode(\n",
    "        x=alt.X(\n",
    "            \"origin\",\n",
    "            sort=alt.EncodingSortField(\"delay\", op=\"mean\"),\n",
    "            title=\"Vliegveld\"\n",
    "        ),\n",
    "        y=alt.Y(\"mean(delay)\", title=\"Gemiddelde vergraging (min)\"),\n",
    "        tooltip=[\"origin\",\"mean(delay)\",\"count(delay)\"]\n",
    "    )\n",
    ")\n",
    "\n",
    "points = (\n",
    "    base\n",
    "    .mark_point(color=\"black\", filled=True)\n",
    ")\n",
    "\n",
    "\n",
    "error_bars = (\n",
    "    base\n",
    "    # Altair heeft veel ingebouwde aggragatie functies, waaronder bootstrapped 95% confidence intervals\n",
    "    # https://altair-viz.github.io/user_guide/encoding.html#binning-and-aggregation\n",
    "    .encode(y=\"ci0(delay)\", y2=\"ci1(delay)\")\n",
    "    .mark_rule()\n",
    ")\n",
    "\n",
    "annotation = (\n",
    "    base\n",
    "    .mark_text(\n",
    "        align='left',\n",
    "        baseline='middle',\n",
    "        fontSize=10,\n",
    "        dx=5,\n",
    "        dy=-5\n",
    "    )\n",
    "    .encode(text='count(delay)')\n",
    ")\n",
    "\n",
    "points + error_bars + annotation"
   ]
  },
  {
   "cell_type": "markdown",
   "id": "2ce99a44-cd0d-4042-974c-1163acb5af4f",
   "metadata": {},
   "source": [
    "# One python plot library to rule them all?\n",
    "- Javascript backend, specifiek Vega-Lite. Interactief maar toegang tot Vega-Lite nodig om plots te genereren of op te slaan. Jupyter komt met Vega-Lite geinstalleerd, maar andere IDE's wellicht niet. Ook heeft Altair save to png javascript dependencies die we - nog - niet op de workbench kunnen installeren. \n",
    "- Altair geeft json door aan Vega-Lite, data is dus opgeslagen in notebook. Dus kan heel groot notebook worden (MaxRowsError).\n",
    "- Altair genereerd en valideert json file. Kan zijn dat json file valide is, maar toch niet het juiste figuur genereerd. Dan zal je in browser console moeten kijken of er een warning is."
   ]
  },
  {
   "cell_type": "code",
   "execution_count": null,
   "id": "a45c73e6-e1f5-4330-9041-9af994e6102c",
   "metadata": {},
   "outputs": [],
   "source": []
  }
 ],
 "metadata": {
  "kernelspec": {
   "display_name": "Python 3 (ipykernel)",
   "language": "python",
   "name": "python3"
  },
  "language_info": {
   "codemirror_mode": {
    "name": "ipython",
    "version": 3
   },
   "file_extension": ".py",
   "mimetype": "text/x-python",
   "name": "python",
   "nbconvert_exporter": "python",
   "pygments_lexer": "ipython3",
   "version": "3.9.12"
  }
 },
 "nbformat": 4,
 "nbformat_minor": 5
}
